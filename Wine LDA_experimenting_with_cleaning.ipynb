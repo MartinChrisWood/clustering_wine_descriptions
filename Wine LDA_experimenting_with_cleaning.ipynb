{
 "cells": [
  {
   "cell_type": "markdown",
   "metadata": {},
   "source": [
    "# Creating an LDA model of wine descriptions,\n",
    "# how many are there \"really\"?\n",
    "\n",
    "Sure, there's 130,000 reviews of wines from around the world expounding their diverse tastes and characters, but how many \"really\" exist?  How many supergroups of wines that are essentially similar can be identified, and what's a representative example of each?  As someone who likes both red AND white wines (let's be honest; rose's just half and half) I feel uniquely qualified to answer this.  Let's perform a gid search of a large number of LDA models and find that with the best coherence & perplexity scores!  And then we'll visualise the countries of origin and the keywords that most characterise the qualities of these supergroups."
   ]
  },
  {
   "cell_type": "code",
   "execution_count": 1,
   "metadata": {},
   "outputs": [],
   "source": [
    "import gensim\n",
    "import re\n",
    "import random\n",
    "import pyLDAvis\n",
    "\n",
    "import numpy as np\n",
    "import pandas as pd\n",
    "import seaborn as sns\n",
    "import pyLDAvis.gensim as gensimvis\n",
    "\n",
    "from gensim.models.ldamulticore import LdaModel\n",
    "\n",
    "from gensim.models.coherencemodel import CoherenceModel\n",
    "from gensim.utils import simple_preprocess\n",
    "from nltk.stem import SnowballStemmer\n",
    "from gensim.parsing.preprocessing import STOPWORDS\n",
    "from sklearn.model_selection import train_test_split\n",
    "\n",
    "from nltk.stem.porter import *\n",
    "\n",
    "# Define which stemmer to use in the pipeline later\n",
    "stemmer = PorterStemmer()\n",
    "\n",
    "%matplotlib inline"
   ]
  },
  {
   "cell_type": "code",
   "execution_count": 2,
   "metadata": {},
   "outputs": [],
   "source": [
    "wine_df = pd.read_csv(\"./data/wine-reviews/winemag-data-130k-v2.csv\")\n",
    "wine_df['desc_len'] = wine_df['description'].apply(len)"
   ]
  },
  {
   "cell_type": "markdown",
   "metadata": {},
   "source": [
    "## 1.  Data exploration (I'm not doing much!)"
   ]
  },
  {
   "cell_type": "code",
   "execution_count": 3,
   "metadata": {},
   "outputs": [
    {
     "data": {
      "text/plain": [
       "129971"
      ]
     },
     "execution_count": 3,
     "metadata": {},
     "output_type": "execute_result"
    }
   ],
   "source": [
    "len(wine_df)"
   ]
  },
  {
   "cell_type": "code",
   "execution_count": 4,
   "metadata": {},
   "outputs": [
    {
     "data": {
      "text/plain": [
       "119955"
      ]
     },
     "execution_count": 4,
     "metadata": {},
     "output_type": "execute_result"
    }
   ],
   "source": [
    "len(pd.unique(wine_df['description']))"
   ]
  },
  {
   "cell_type": "code",
   "execution_count": 5,
   "metadata": {},
   "outputs": [
    {
     "data": {
      "text/plain": [
       "119955"
      ]
     },
     "execution_count": 5,
     "metadata": {},
     "output_type": "execute_result"
    }
   ],
   "source": [
    "# There are duplicate descriptions, so we're dropping them\n",
    "wine_df = wine_df.drop_duplicates(subset='description')\n",
    "len(wine_df)"
   ]
  },
  {
   "cell_type": "code",
   "execution_count": 6,
   "metadata": {},
   "outputs": [
    {
     "data": {
      "text/plain": [
       "['Unnamed: 0',\n",
       " 'country',\n",
       " 'description',\n",
       " 'designation',\n",
       " 'points',\n",
       " 'price',\n",
       " 'province',\n",
       " 'region_1',\n",
       " 'region_2',\n",
       " 'taster_name',\n",
       " 'taster_twitter_handle',\n",
       " 'title',\n",
       " 'variety',\n",
       " 'winery',\n",
       " 'desc_len']"
      ]
     },
     "execution_count": 6,
     "metadata": {},
     "output_type": "execute_result"
    }
   ],
   "source": [
    "list(wine_df)"
   ]
  },
  {
   "cell_type": "code",
   "execution_count": 7,
   "metadata": {},
   "outputs": [
    {
     "data": {
      "text/html": [
       "<div>\n",
       "<style scoped>\n",
       "    .dataframe tbody tr th:only-of-type {\n",
       "        vertical-align: middle;\n",
       "    }\n",
       "\n",
       "    .dataframe tbody tr th {\n",
       "        vertical-align: top;\n",
       "    }\n",
       "\n",
       "    .dataframe thead th {\n",
       "        text-align: right;\n",
       "    }\n",
       "</style>\n",
       "<table border=\"1\" class=\"dataframe\">\n",
       "  <thead>\n",
       "    <tr style=\"text-align: right;\">\n",
       "      <th></th>\n",
       "      <th>Unnamed: 0</th>\n",
       "      <th>points</th>\n",
       "      <th>price</th>\n",
       "      <th>desc_len</th>\n",
       "    </tr>\n",
       "  </thead>\n",
       "  <tbody>\n",
       "    <tr>\n",
       "      <th>count</th>\n",
       "      <td>119955.000000</td>\n",
       "      <td>119955.000000</td>\n",
       "      <td>111567.000000</td>\n",
       "      <td>119955.000000</td>\n",
       "    </tr>\n",
       "    <tr>\n",
       "      <th>mean</th>\n",
       "      <td>63211.429986</td>\n",
       "      <td>88.442291</td>\n",
       "      <td>35.620542</td>\n",
       "      <td>242.815939</td>\n",
       "    </tr>\n",
       "    <tr>\n",
       "      <th>std</th>\n",
       "      <td>37506.055996</td>\n",
       "      <td>3.093029</td>\n",
       "      <td>42.107158</td>\n",
       "      <td>67.146799</td>\n",
       "    </tr>\n",
       "    <tr>\n",
       "      <th>min</th>\n",
       "      <td>0.000000</td>\n",
       "      <td>80.000000</td>\n",
       "      <td>4.000000</td>\n",
       "      <td>20.000000</td>\n",
       "    </tr>\n",
       "    <tr>\n",
       "      <th>25%</th>\n",
       "      <td>30498.500000</td>\n",
       "      <td>86.000000</td>\n",
       "      <td>17.000000</td>\n",
       "      <td>197.000000</td>\n",
       "    </tr>\n",
       "    <tr>\n",
       "      <th>50%</th>\n",
       "      <td>62404.000000</td>\n",
       "      <td>88.000000</td>\n",
       "      <td>25.000000</td>\n",
       "      <td>237.000000</td>\n",
       "    </tr>\n",
       "    <tr>\n",
       "      <th>75%</th>\n",
       "      <td>95386.500000</td>\n",
       "      <td>91.000000</td>\n",
       "      <td>42.000000</td>\n",
       "      <td>283.000000</td>\n",
       "    </tr>\n",
       "    <tr>\n",
       "      <th>max</th>\n",
       "      <td>129970.000000</td>\n",
       "      <td>100.000000</td>\n",
       "      <td>3300.000000</td>\n",
       "      <td>829.000000</td>\n",
       "    </tr>\n",
       "  </tbody>\n",
       "</table>\n",
       "</div>"
      ],
      "text/plain": [
       "          Unnamed: 0         points          price       desc_len\n",
       "count  119955.000000  119955.000000  111567.000000  119955.000000\n",
       "mean    63211.429986      88.442291      35.620542     242.815939\n",
       "std     37506.055996       3.093029      42.107158      67.146799\n",
       "min         0.000000      80.000000       4.000000      20.000000\n",
       "25%     30498.500000      86.000000      17.000000     197.000000\n",
       "50%     62404.000000      88.000000      25.000000     237.000000\n",
       "75%     95386.500000      91.000000      42.000000     283.000000\n",
       "max    129970.000000     100.000000    3300.000000     829.000000"
      ]
     },
     "execution_count": 7,
     "metadata": {},
     "output_type": "execute_result"
    }
   ],
   "source": [
    "wine_df.describe()"
   ]
  },
  {
   "cell_type": "code",
   "execution_count": 8,
   "metadata": {},
   "outputs": [
    {
     "data": {
      "text/html": [
       "<div>\n",
       "<style scoped>\n",
       "    .dataframe tbody tr th:only-of-type {\n",
       "        vertical-align: middle;\n",
       "    }\n",
       "\n",
       "    .dataframe tbody tr th {\n",
       "        vertical-align: top;\n",
       "    }\n",
       "\n",
       "    .dataframe thead th {\n",
       "        text-align: right;\n",
       "    }\n",
       "</style>\n",
       "<table border=\"1\" class=\"dataframe\">\n",
       "  <thead>\n",
       "    <tr style=\"text-align: right;\">\n",
       "      <th></th>\n",
       "      <th>description</th>\n",
       "      <th>country</th>\n",
       "      <th>taster_name</th>\n",
       "      <th>desc_len</th>\n",
       "    </tr>\n",
       "  </thead>\n",
       "  <tbody>\n",
       "    <tr>\n",
       "      <th>0</th>\n",
       "      <td>Aromas include tropical fruit, broom, brimston...</td>\n",
       "      <td>Italy</td>\n",
       "      <td>Kerin O’Keefe</td>\n",
       "      <td>172</td>\n",
       "    </tr>\n",
       "    <tr>\n",
       "      <th>1</th>\n",
       "      <td>This is ripe and fruity, a wine that is smooth...</td>\n",
       "      <td>Portugal</td>\n",
       "      <td>Roger Voss</td>\n",
       "      <td>227</td>\n",
       "    </tr>\n",
       "    <tr>\n",
       "      <th>2</th>\n",
       "      <td>Tart and snappy, the flavors of lime flesh and...</td>\n",
       "      <td>US</td>\n",
       "      <td>Paul Gregutt</td>\n",
       "      <td>186</td>\n",
       "    </tr>\n",
       "    <tr>\n",
       "      <th>3</th>\n",
       "      <td>Pineapple rind, lemon pith and orange blossom ...</td>\n",
       "      <td>US</td>\n",
       "      <td>Alexander Peartree</td>\n",
       "      <td>199</td>\n",
       "    </tr>\n",
       "    <tr>\n",
       "      <th>4</th>\n",
       "      <td>Much like the regular bottling from 2012, this...</td>\n",
       "      <td>US</td>\n",
       "      <td>Paul Gregutt</td>\n",
       "      <td>249</td>\n",
       "    </tr>\n",
       "  </tbody>\n",
       "</table>\n",
       "</div>"
      ],
      "text/plain": [
       "                                         description   country  \\\n",
       "0  Aromas include tropical fruit, broom, brimston...     Italy   \n",
       "1  This is ripe and fruity, a wine that is smooth...  Portugal   \n",
       "2  Tart and snappy, the flavors of lime flesh and...        US   \n",
       "3  Pineapple rind, lemon pith and orange blossom ...        US   \n",
       "4  Much like the regular bottling from 2012, this...        US   \n",
       "\n",
       "          taster_name  desc_len  \n",
       "0       Kerin O’Keefe       172  \n",
       "1          Roger Voss       227  \n",
       "2        Paul Gregutt       186  \n",
       "3  Alexander Peartree       199  \n",
       "4        Paul Gregutt       249  "
      ]
     },
     "execution_count": 8,
     "metadata": {},
     "output_type": "execute_result"
    }
   ],
   "source": [
    "wine_df[[\"description\", \"country\", \"taster_name\", \"desc_len\"]].head()"
   ]
  },
  {
   "cell_type": "markdown",
   "metadata": {},
   "source": [
    "# 2.  Data Preparation"
   ]
  },
  {
   "cell_type": "code",
   "execution_count": 9,
   "metadata": {},
   "outputs": [],
   "source": [
    "# A quick utility function to pre-process the text\n",
    "def preprocess_desc(description):\n",
    "    return( [stemmer.stem(token) for token in simple_preprocess(str(description)) if token not in STOPWORDS] )"
   ]
  },
  {
   "cell_type": "code",
   "execution_count": 10,
   "metadata": {},
   "outputs": [],
   "source": [
    "# NB;  This step could be improved through first filtering to words that are pronouns.\n",
    "wine_df['tokens'] = wine_df['description'].apply(preprocess_desc)"
   ]
  },
  {
   "cell_type": "code",
   "execution_count": 11,
   "metadata": {},
   "outputs": [
    {
     "data": {
      "text/html": [
       "<div>\n",
       "<style scoped>\n",
       "    .dataframe tbody tr th:only-of-type {\n",
       "        vertical-align: middle;\n",
       "    }\n",
       "\n",
       "    .dataframe tbody tr th {\n",
       "        vertical-align: top;\n",
       "    }\n",
       "\n",
       "    .dataframe thead th {\n",
       "        text-align: right;\n",
       "    }\n",
       "</style>\n",
       "<table border=\"1\" class=\"dataframe\">\n",
       "  <thead>\n",
       "    <tr style=\"text-align: right;\">\n",
       "      <th></th>\n",
       "      <th>description</th>\n",
       "      <th>country</th>\n",
       "      <th>taster_name</th>\n",
       "      <th>desc_len</th>\n",
       "      <th>tokens</th>\n",
       "    </tr>\n",
       "  </thead>\n",
       "  <tbody>\n",
       "    <tr>\n",
       "      <th>0</th>\n",
       "      <td>Aromas include tropical fruit, broom, brimston...</td>\n",
       "      <td>Italy</td>\n",
       "      <td>Kerin O’Keefe</td>\n",
       "      <td>172</td>\n",
       "      <td>[aroma, includ, tropic, fruit, broom, brimston...</td>\n",
       "    </tr>\n",
       "    <tr>\n",
       "      <th>1</th>\n",
       "      <td>This is ripe and fruity, a wine that is smooth...</td>\n",
       "      <td>Portugal</td>\n",
       "      <td>Roger Voss</td>\n",
       "      <td>227</td>\n",
       "      <td>[ripe, fruiti, wine, smooth, structur, firm, t...</td>\n",
       "    </tr>\n",
       "    <tr>\n",
       "      <th>2</th>\n",
       "      <td>Tart and snappy, the flavors of lime flesh and...</td>\n",
       "      <td>US</td>\n",
       "      <td>Paul Gregutt</td>\n",
       "      <td>186</td>\n",
       "      <td>[tart, snappi, flavor, lime, flesh, rind, domi...</td>\n",
       "    </tr>\n",
       "    <tr>\n",
       "      <th>3</th>\n",
       "      <td>Pineapple rind, lemon pith and orange blossom ...</td>\n",
       "      <td>US</td>\n",
       "      <td>Alexander Peartree</td>\n",
       "      <td>199</td>\n",
       "      <td>[pineappl, rind, lemon, pith, orang, blossom, ...</td>\n",
       "    </tr>\n",
       "    <tr>\n",
       "      <th>4</th>\n",
       "      <td>Much like the regular bottling from 2012, this...</td>\n",
       "      <td>US</td>\n",
       "      <td>Paul Gregutt</td>\n",
       "      <td>249</td>\n",
       "      <td>[like, regular, bottl, come, rough, tannic, ru...</td>\n",
       "    </tr>\n",
       "  </tbody>\n",
       "</table>\n",
       "</div>"
      ],
      "text/plain": [
       "                                         description   country  \\\n",
       "0  Aromas include tropical fruit, broom, brimston...     Italy   \n",
       "1  This is ripe and fruity, a wine that is smooth...  Portugal   \n",
       "2  Tart and snappy, the flavors of lime flesh and...        US   \n",
       "3  Pineapple rind, lemon pith and orange blossom ...        US   \n",
       "4  Much like the regular bottling from 2012, this...        US   \n",
       "\n",
       "          taster_name  desc_len  \\\n",
       "0       Kerin O’Keefe       172   \n",
       "1          Roger Voss       227   \n",
       "2        Paul Gregutt       186   \n",
       "3  Alexander Peartree       199   \n",
       "4        Paul Gregutt       249   \n",
       "\n",
       "                                              tokens  \n",
       "0  [aroma, includ, tropic, fruit, broom, brimston...  \n",
       "1  [ripe, fruiti, wine, smooth, structur, firm, t...  \n",
       "2  [tart, snappi, flavor, lime, flesh, rind, domi...  \n",
       "3  [pineappl, rind, lemon, pith, orang, blossom, ...  \n",
       "4  [like, regular, bottl, come, rough, tannic, ru...  "
      ]
     },
     "execution_count": 11,
     "metadata": {},
     "output_type": "execute_result"
    }
   ],
   "source": [
    "wine_df[[\"description\", \"country\", \"taster_name\", \"desc_len\", \"tokens\"]].head()"
   ]
  },
  {
   "cell_type": "markdown",
   "metadata": {},
   "source": [
    "## 3. Create TF-IDF representation"
   ]
  },
  {
   "cell_type": "code",
   "execution_count": 12,
   "metadata": {},
   "outputs": [],
   "source": [
    "# Create the vocabulary record\n",
    "dictionary = gensim.corpora.Dictionary(wine_df['tokens'])"
   ]
  },
  {
   "cell_type": "code",
   "execution_count": 13,
   "metadata": {},
   "outputs": [],
   "source": [
    "# Remove extreme values (words that are too rare, too common)\n",
    "dictionary.filter_extremes(no_below=5, no_above=0.5, keep_n=100000)"
   ]
  },
  {
   "cell_type": "code",
   "execution_count": 14,
   "metadata": {},
   "outputs": [],
   "source": [
    "# Create a BOW model\n",
    "bow_corpus = [dictionary.doc2bow(doc) for doc in wine_df['tokens']]"
   ]
  },
  {
   "cell_type": "code",
   "execution_count": 15,
   "metadata": {},
   "outputs": [],
   "source": [
    "# From that create the TF-IDF model\n",
    "tfidf = gensim.models.TfidfModel(bow_corpus)\n",
    "wine_df['corpus_tfidf'] = tfidf[bow_corpus]"
   ]
  },
  {
   "cell_type": "code",
   "execution_count": 16,
   "metadata": {},
   "outputs": [
    {
     "data": {
      "text/plain": [
       "0    [(0, 0.0714296427652335), (1, 0.18833774970920...\n",
       "1    [(0, 0.09114195243321198), (10, 0.063537146387...\n",
       "2    [(0, 0.07027358730085778), (33, 0.131788133771...\n",
       "3    [(3, 0.06098283869088092), (16, 0.064735606219...\n",
       "4    [(65, 0.12932848024109073), (66, 0.22354915104...\n",
       "Name: corpus_tfidf, dtype: object"
      ]
     },
     "execution_count": 16,
     "metadata": {},
     "output_type": "execute_result"
    }
   ],
   "source": [
    "wine_df['corpus_tfidf'].head()"
   ]
  },
  {
   "cell_type": "markdown",
   "metadata": {},
   "source": [
    "## 4.  Create LDA models (try a few!)\n",
    "Train-test split only, because I'm not iteratively improving anything here (it's for coursework dammit, no one cares!)"
   ]
  },
  {
   "cell_type": "code",
   "execution_count": 17,
   "metadata": {},
   "outputs": [],
   "source": [
    "random.seed(7)\n",
    "trainset, testset = train_test_split(wine_df, test_size=0.15)"
   ]
  },
  {
   "cell_type": "code",
   "execution_count": 18,
   "metadata": {
    "scrolled": true
   },
   "outputs": [
    {
     "name": "stdout",
     "output_type": "stream",
     "text": [
      "tried 3 topics perplexity = -8.108477832784999 coherence = -1.9913738404379915\n",
      "tried 4 topics perplexity = -8.321668485256676 coherence = -2.073457940042304\n",
      "tried 5 topics perplexity = -8.491438428634032 coherence = -2.093669073764229\n",
      "tried 6 topics perplexity = -8.667081068196667 coherence = -2.417918194515604\n",
      "tried 7 topics perplexity = -8.799032388438205 coherence = -2.0669142281011643\n",
      "tried 8 topics perplexity = -8.931493133553642 coherence = -2.061258735919996\n",
      "tried 9 topics perplexity = -9.000474538101894 coherence = -7.858110623329277\n",
      "tried 10 topics perplexity = -9.207549730726551 coherence = -6.071534049319699\n",
      "tried 11 topics perplexity = -9.41901943626096 coherence = -6.3839109257822875\n",
      "tried 12 topics perplexity = -9.681384431653408 coherence = -9.574446175328864\n",
      "tried 13 topics perplexity = -9.956510340117955 coherence = -7.676728985428058\n",
      "tried 14 topics perplexity = -10.103046826563855 coherence = -6.146721539970917\n",
      "tried 15 topics perplexity = -10.244636554466746 coherence = -6.817448466261066\n",
      "tried 16 topics perplexity = -10.382851300091069 coherence = -6.992589177128954\n",
      "tried 17 topics perplexity = -10.53655991451321 coherence = -5.933403215841363\n",
      "tried 18 topics perplexity = -10.617581714054573 coherence = -8.237503633137669\n",
      "tried 19 topics perplexity = -10.74312322108046 coherence = -9.911515256260367\n",
      "tried 20 topics perplexity = -10.908951195447456 coherence = -7.409571714050659\n",
      "tried 21 topics perplexity = -11.035301182800099 coherence = -8.011343135524328\n",
      "tried 22 topics perplexity = -11.156071652786874 coherence = -8.678189913071082\n",
      "tried 23 topics perplexity = -11.272698100980193 coherence = -9.751229402272273\n",
      "tried 24 topics perplexity = -11.380393795594918 coherence = -9.764100089066988\n",
      "tried 25 topics perplexity = -11.532761662277688 coherence = -8.795918723270049\n",
      "tried 26 topics perplexity = -11.648002190959366 coherence = -8.13158546804073\n",
      "tried 27 topics perplexity = -11.780881253447847 coherence = -9.260100045462599\n",
      "tried 28 topics perplexity = -11.886656240736903 coherence = -8.66657826895407\n",
      "tried 29 topics perplexity = -11.987094358033206 coherence = -9.334581348167664\n",
      "tried 30 topics perplexity = -12.139825690006235 coherence = -9.538863947835242\n",
      "tried 31 topics perplexity = -12.202150005416012 coherence = -10.952574283226529\n",
      "tried 32 topics perplexity = -12.334992149792095 coherence = -9.807169341554758\n",
      "tried 33 topics perplexity = -12.469595279142117 coherence = -9.485043654662787\n",
      "tried 34 topics perplexity = -12.589629217910048 coherence = -10.131232704269479\n",
      "tried 35 topics perplexity = -12.69743347092999 coherence = -10.064694201956176\n",
      "tried 36 topics perplexity = -12.803729522442772 coherence = -10.743036748356971\n",
      "tried 37 topics perplexity = -12.960579922350096 coherence = -10.525501935203257\n",
      "tried 38 topics perplexity = -13.031929064394806 coherence = -10.248214815576787\n",
      "tried 39 topics perplexity = -13.198205797240805 coherence = -10.136256209294205\n",
      "tried 40 topics perplexity = -13.300346156596945 coherence = -10.095401527096863\n",
      "tried 41 topics perplexity = -13.407207141817246 coherence = -10.048578091688823\n",
      "tried 42 topics perplexity = -13.516103407114658 coherence = -10.46323708445843\n",
      "tried 43 topics perplexity = -13.681755595540306 coherence = -11.506375125788226\n",
      "tried 44 topics perplexity = -13.783044229319415 coherence = -11.293921614762727\n",
      "tried 45 topics perplexity = -13.890839883751607 coherence = -11.169477443248384\n",
      "tried 46 topics perplexity = -14.053382458751168 coherence = -10.973426410023658\n",
      "tried 47 topics perplexity = -14.19884879345477 coherence = -11.150918598860137\n",
      "tried 48 topics perplexity = -14.35496423948773 coherence = -11.43826004995924\n",
      "tried 49 topics perplexity = -14.458094058806747 coherence = -11.45195681842923\n",
      "tried 50 topics perplexity = -14.719247085693404 coherence = -11.2401608751016\n",
      "tried 51 topics perplexity = -14.97102520270065 coherence = -11.400915268614995\n",
      "tried 52 topics perplexity = -15.155891447051085 coherence = -11.323348978786045\n",
      "tried 53 topics perplexity = -15.376966194626677 coherence = -11.240495157367171\n",
      "tried 54 topics perplexity = -15.74306284620158 coherence = -11.552304545329056\n",
      "tried 55 topics perplexity = -16.18403323385911 coherence = -11.696183206877272\n",
      "tried 56 topics perplexity = -16.361432571632587 coherence = -11.030453964293956\n",
      "tried 57 topics perplexity = -16.80309527023606 coherence = -11.658053842196939\n",
      "tried 58 topics perplexity = -17.324045320696335 coherence = -11.365729580364905\n",
      "tried 59 topics perplexity = -17.893626196682643 coherence = -11.097156737175014\n",
      "tried 60 topics perplexity = -18.917646174318186 coherence = -10.27438016864659\n",
      "tried 61 topics perplexity = -19.204105352083577 coherence = -10.475370132819197\n",
      "tried 62 topics perplexity = -19.865320812798902 coherence = -10.103198213855073\n",
      "tried 63 topics perplexity = -21.33255808188388 coherence = -9.439451752947376\n",
      "tried 64 topics perplexity = -22.716278939394268 coherence = -8.618561546953508\n",
      "tried 65 topics perplexity = -23.771555191488947 coherence = -8.605775964856164\n",
      "tried 66 topics perplexity = -24.527126511289477 coherence = -7.866571111604111\n",
      "tried 67 topics perplexity = -27.125898808905358 coherence = -6.927024125346319\n",
      "tried 68 topics perplexity = -27.8508669149452 coherence = -6.914128230298339\n",
      "tried 69 topics perplexity = -30.332224365575826 coherence = -6.651124531963491\n",
      "tried 70 topics perplexity = -31.63553804839629 coherence = -7.3359130846805165\n",
      "tried 71 topics perplexity = -33.60762995800009 coherence = -7.11613106422777\n",
      "tried 72 topics perplexity = -37.42625532361837 coherence = -8.442071467548534\n",
      "tried 73 topics perplexity = -38.392270216188074 coherence = -8.605207371054851\n",
      "tried 74 topics perplexity = -42.697800307708256 coherence = -9.482829637585029\n",
      "tried 75 topics perplexity = -44.281637661113926 coherence = -9.759181302051386\n",
      "tried 76 topics perplexity = -44.24680869748669 coherence = -10.41705047432937\n",
      "tried 77 topics perplexity = -57.13088552661621 coherence = -12.370275492562996\n",
      "tried 78 topics perplexity = -61.27283558024508 coherence = -12.248027056083021\n",
      "tried 79 topics perplexity = -59.70183967105503 coherence = -12.312889174424178\n",
      "tried 80 topics perplexity = -64.96367185767475 coherence = -12.942911815044454\n",
      "tried 81 topics perplexity = -91.11412470807241 coherence = -14.07012124135831\n",
      "tried 82 topics perplexity = -68.75113515936513 coherence = -13.233969093048774\n",
      "tried 83 topics perplexity = -77.86713847454949 coherence = -13.686980641306864\n",
      "tried 84 topics perplexity = -86.28447052893289 coherence = -13.941009184945973\n",
      "tried 85 topics perplexity = -170.6751708984344 coherence = -14.341240217410958\n",
      "tried 86 topics perplexity = -94.76295983869592 coherence = -14.078602746302675\n",
      "tried 87 topics perplexity = -113.80014313317216 coherence = -14.21536487272963\n",
      "tried 88 topics perplexity = -176.60685729980258 coherence = -14.341240217410954\n",
      "tried 89 topics perplexity = -178.58474731445096 coherence = -14.341240217410954\n",
      "tried 90 topics perplexity = -114.52168573679526 coherence = -14.215728822913206\n",
      "tried 91 topics perplexity = -106.9746836916219 coherence = -14.212449936781585\n",
      "tried 92 topics perplexity = -184.51943969726264 coherence = -14.341240217410958\n",
      "tried 93 topics perplexity = -186.4980773925764 coherence = -14.341240217410958\n",
      "tried 94 topics perplexity = -188.4769744873021 coherence = -14.34124021741096\n",
      "tried 95 topics perplexity = -190.4561309814434 coherence = -14.34124021741096\n",
      "tried 96 topics perplexity = -192.43547058105034 coherence = -14.341240217410954\n",
      "tried 97 topics perplexity = -194.41510009765398 coherence = -14.341240217410954\n",
      "tried 98 topics perplexity = -196.39476013183258 coherence = -14.341240217410956\n",
      "tried 99 topics perplexity = -198.37483215331685 coherence = -14.341240217410956\n",
      "tried 100 topics perplexity = -200.35498046874812 coherence = -14.341240217410958\n"
     ]
    }
   ],
   "source": [
    "# Loop through a number of different topic model sizes\n",
    "\n",
    "results = pd.DataFrame()\n",
    "\n",
    "for num_topics in range(3, 101):\n",
    "\n",
    "    # Fit the lda model, with 10 topics\n",
    "    lda_model_tfidf = LdaModel(trainset['corpus_tfidf'],\n",
    "                               num_topics=num_topics,\n",
    "                               id2word=dictionary,\n",
    "                               passes=2)\n",
    "    \n",
    "    # Get the perplexity\n",
    "    perplexity = lda_model_tfidf.log_perplexity(testset['corpus_tfidf'])\n",
    "    \n",
    "    # Get the coherence\n",
    "    cm = CoherenceModel(model=lda_model_tfidf, corpus=testset['corpus_tfidf'], coherence='u_mass')\n",
    "    coherence = cm.get_coherence()\n",
    "    \n",
    "    # record\n",
    "    results = results.append({\"topics\":num_topics, \"perplexity\":perplexity, \"coherence\":coherence}, ignore_index=True)\n",
    "    \n",
    "    # Report for my convenience\n",
    "    print(\"tried {} topics\".format(num_topics), \"perplexity = {}\".format(perplexity), \"coherence = {}\".format(coherence))\n",
    "\n",
    "results.to_csv(\"tested_lda_stats_clean.csv\")    "
   ]
  },
  {
   "cell_type": "code",
   "execution_count": 19,
   "metadata": {
    "scrolled": true
   },
   "outputs": [
    {
     "data": {
      "text/plain": [
       "<matplotlib.axes._subplots.AxesSubplot at 0x7efd1cfd4c88>"
      ]
     },
     "execution_count": 19,
     "metadata": {},
     "output_type": "execute_result"
    },
    {
     "data": {
      "image/png": "[encoded data removed]",
      "text/plain": [
       "<Figure size 432x288 with 1 Axes>"
      ]
     },
     "metadata": {},
     "output_type": "display_data"
    }
   ],
   "source": [
    "# plot the results\n",
    "sns.scatterplot(x=\"topics\", y=\"perplexity\", color=\"blue\", data=results)"
   ]
  },
  {
   "cell_type": "code",
   "execution_count": 20,
   "metadata": {},
   "outputs": [
    {
     "data": {
      "text/plain": [
       "<matplotlib.axes._subplots.AxesSubplot at 0x7efd38793d30>"
      ]
     },
     "execution_count": 20,
     "metadata": {},
     "output_type": "execute_result"
    },
    {
     "data": {
      "image/png": "[encoded data removed]",
      "text/plain": [
       "<Figure size 432x288 with 1 Axes>"
      ]
     },
     "metadata": {},
     "output_type": "display_data"
    }
   ],
   "source": [
    "# plot the results\n",
    "sns.scatterplot(x=\"topics\", y=\"coherence\", color=\"red\", data=results)"
   ]
  },
  {
   "cell_type": "markdown",
   "metadata": {},
   "source": [
    "## 5.  Create the \"Best\" Model!\n",
    "\n",
    "So what's the \"best\" model according to my two somewhat-arbitrary metrics?  First off it's worth noting that the metrics follow a consistent downward trend.  We are looking for a low perplexity score and a high coherence score.  Our other constraint is that I, personally, don't believe there can be more than 15 \"true\" varieties of wines!\n",
    "\n",
    "This last constraint is both a cheat that undermines the entire idea, and absolutely neccessary.  Unless you've got a very weirdly well-divided, well fleshed-out dataset of fairly long documents there's not going to be a \"true\" underlying topic model.  There'll be overlap in topic, and worse the topics can be fractal in nature, sub-dividing and making it difficult to know where to call it quits.\n",
    "\n",
    "Within this constraint, models with 9, 10, 11 or 12 topics display a consistently good coherence score suggesting a some persistence in discovered topics.  Over this range we also see something of a step-change in perplexity, implying a qualitative improvement over having smaller numbers of topics.\n",
    "\n",
    "I choose 11 topics - the value comes on the down-side of that possible step-change in perplexity, and has a locally better coherence score."
   ]
  },
  {
   "cell_type": "code",
   "execution_count": 18,
   "metadata": {},
   "outputs": [
    {
     "name": "stdout",
     "output_type": "stream",
     "text": [
      "perplexity = -8.564795629879168 coherence = -3.4296266506309374\n"
     ]
    }
   ],
   "source": [
    "random.seed(10)\n",
    "\n",
    "# Fit the final lda model to all data\n",
    "lda_model_tfidf = LdaModel(wine_df['corpus_tfidf'],\n",
    "                           num_topics=14,\n",
    "                           id2word=dictionary,\n",
    "                           passes=2)\n",
    "\n",
    "# Get the perplexity, out of curiosity\n",
    "perplexity = lda_model_tfidf.log_perplexity(wine_df['corpus_tfidf'])\n",
    "    \n",
    "# Get the coherence, out of curiosity\n",
    "cm = CoherenceModel(model=lda_model_tfidf, corpus=wine_df['corpus_tfidf'], coherence='u_mass')\n",
    "coherence = cm.get_coherence()\n",
    "\n",
    "print(\"perplexity = {}\".format(perplexity), \"coherence = {}\".format(coherence))"
   ]
  },
  {
   "cell_type": "code",
   "execution_count": 19,
   "metadata": {},
   "outputs": [
    {
     "name": "stdout",
     "output_type": "stream",
     "text": [
      "Topic: 0 Word: 0.011*\"sweet\" + 0.010*\"cherri\" + 0.010*\"pinot\" + 0.009*\"oak\" + 0.008*\"blackberri\" + 0.008*\"raspberri\" + 0.008*\"good\" + 0.007*\"noir\" + 0.007*\"dri\" + 0.007*\"currant\"\n",
      "Topic: 1 Word: 0.009*\"wait\" + 0.008*\"vineyard\" + 0.008*\"screwcap\" + 0.006*\"abund\" + 0.006*\"popular\" + 0.006*\"evid\" + 0.006*\"crème\" + 0.006*\"site\" + 0.006*\"waxi\" + 0.006*\"river\"\n",
      "Topic: 2 Word: 0.011*\"cabernet\" + 0.009*\"black\" + 0.008*\"cherri\" + 0.007*\"finish\" + 0.007*\"blackberri\" + 0.007*\"tannin\" + 0.007*\"blend\" + 0.007*\"spice\" + 0.007*\"chocol\" + 0.007*\"dark\"\n",
      "Topic: 3 Word: 0.020*\"age\" + 0.018*\"structur\" + 0.016*\"tannin\" + 0.016*\"wood\" + 0.015*\"fruit\" + 0.014*\"rich\" + 0.014*\"ripe\" + 0.013*\"drink\" + 0.012*\"firm\" + 0.011*\"dens\"\n",
      "Topic: 4 Word: 0.013*\"appl\" + 0.011*\"peach\" + 0.011*\"lemon\" + 0.011*\"citru\" + 0.010*\"white\" + 0.010*\"pear\" + 0.009*\"lime\" + 0.008*\"finish\" + 0.008*\"fresh\" + 0.008*\"palat\"\n",
      "Topic: 5 Word: 0.016*\"crisp\" + 0.016*\"fruiti\" + 0.014*\"acid\" + 0.014*\"drink\" + 0.013*\"textur\" + 0.012*\"readi\" + 0.012*\"charact\" + 0.011*\"attract\" + 0.011*\"fresh\" + 0.010*\"ripe\"\n",
      "Topic: 6 Word: 0.010*\"color\" + 0.009*\"pale\" + 0.008*\"tightli\" + 0.007*\"pair\" + 0.006*\"wound\" + 0.006*\"barbera\" + 0.006*\"chees\" + 0.006*\"itali\" + 0.006*\"pink\" + 0.006*\"harsh\"\n",
      "Topic: 7 Word: 0.016*\"feel\" + 0.016*\"herbal\" + 0.015*\"berri\" + 0.013*\"finish\" + 0.013*\"plum\" + 0.012*\"aroma\" + 0.009*\"tast\" + 0.009*\"smell\" + 0.008*\"oaki\" + 0.007*\"palat\"\n",
      "Topic: 8 Word: 0.015*\"alongsid\" + 0.013*\"palat\" + 0.012*\"cherri\" + 0.012*\"black\" + 0.012*\"tannin\" + 0.012*\"aroma\" + 0.011*\"offer\" + 0.010*\"berri\" + 0.010*\"open\" + 0.009*\"pepper\"\n",
      "Topic: 9 Word: 0.007*\"nose\" + 0.007*\"bottl\" + 0.007*\"black\" + 0.006*\"vineyard\" + 0.006*\"cherri\" + 0.005*\"palat\" + 0.005*\"red\" + 0.005*\"cranberri\" + 0.005*\"pepper\" + 0.005*\"syrah\"\n"
     ]
    }
   ],
   "source": [
    "# Let's take a quick look at the topics picked out\n",
    "for idx, topic in lda_model_tfidf.print_topics(-1):\n",
    "    print('Topic: {} Word: {}'.format(idx, topic))"
   ]
  },
  {
   "cell_type": "markdown",
   "metadata": {},
   "source": [
    "### So how did we do?\n",
    "Well;  looking at the words involved there are some valid-looking clusters there with some very apparently citrusy wines separated from aged, oakey wines!  This is a success!  There's a sweet wine cluster too with cherries, blackberries, \"soft\" and \"sweet\" flavours mentioned.  There's also annoyingly a weird topic that may have more to do with ancilliary descriptions of how wines are constructed - topic 1, describing stainless steel apperatus, and words like \"vineyard\" and \"ferment\".\n",
    "\n",
    "An obvious solution;  Simply ignore that topic during processing/assignment to clusters/visualisation!  Topic 0 may also be ancilliary details, mentioning \"cover\", \"salmon\", \"rest\" and \"extra\" - words that imply a link to serving suggestions.\n",
    "\n",
    "This is ultimately a useful lesson in the divergence of the latent topics of the corpus (on wine TASTING) from the topics we were seeking (on wine FLAVOUR).  A really useful way to examine the fit of what we've created is to utilise pyLDAvis, which uses PCA to do exactly what it says on the tin!\n",
    "\n",
    "And as it happens it supports the earlier conclusion;  in the first two principal components (and ignoring the part where it mucked up the topic indexes) the topics related to fermentation and serving suggestions appear well separated from the topics related to flavour.  Additionally, topic 9 is out of the way too, it talks of \"nose\", \"gravel\", and then a list of herbs that frankly sound like they'd go well with beef.  This decision, that these three topics are not like the rest and not relevant to our aims, is bourne out by the proportion of the corpus assigned to them.  Each of the three rogue topics contains 2-5 % of documents (roughly eyeballed), whereas the \"valid\" topics contain closer to 10 % each typically.\n",
    "\n",
    "### Final Conclusion\n",
    "The best-fit (low topic number) model has 11 topics.  Of those, three topics (index 0, 1 and 9) appear to be invalid, representing aspects of the descriptions less relevant to flavour.  This leaves 8 \"valid\" topics to be presented."
   ]
  },
  {
   "cell_type": "code",
   "execution_count": 20,
   "metadata": {},
   "outputs": [
    {
     "name": "stderr",
     "output_type": "stream",
     "text": [
      "/home/ozzy/.local/lib/python3.6/site-packages/pyLDAvis/_prepare.py:257: FutureWarning: Sorting because non-concatenation axis is not aligned. A future version\n",
      "of pandas will change to not sort by default.\n",
      "\n",
      "To accept the future behavior, pass 'sort=False'.\n",
      "\n",
      "To retain the current behavior and silence the warning, pass 'sort=True'.\n",
      "\n",
      "  return pd.concat([default_term_info] + list(topic_dfs))\n"
     ]
    }
   ],
   "source": [
    "vis_data = gensimvis.prepare(lda_model_tfidf, wine_df['corpus_tfidf'], dictionary)"
   ]
  },
  {
   "cell_type": "code",
   "execution_count": 21,
   "metadata": {},
   "outputs": [
    {
     "data": {
      "text/html": [
       "\n",
       "<link rel=\"stylesheet\" type=\"text/css\" href=\"https://cdn.rawgit.com/bmabey/pyLDAvis/files/ldavis.v1.0.0.css\">\n",
       "\n",
       "\n",
       "<div id=\"ldavis_el27041397807968555446509344730\"></div>\n",
       "<script type=\"text/javascript\">\n",
       "\n",
       "var ldavis_el27041397807968555446509344730_data = {\"mdsDat\": {\"x\": [-0.07521448376074782, -0.0761794569368642, -0.0016805386044794627, -0.05025043074432652, -0.08533331798478914, -0.03631085142229647, -0.11420647863621704, -0.0783945401978051, 0.11255213961885603, 0.40501795866866974], \"y\": [0.0346860835803585, -0.034249578099936326, -0.049158823400676885, 0.23266264860013755, 0.19446367061852213, 0.018457430613962777, -0.10675755207062061, -0.18770237745538415, -0.14853087386365485, 0.04612937147729202], \"topics\": [1, 2, 3, 4, 5, 6, 7, 8, 9, 10], \"cluster\": [1, 1, 1, 1, 1, 1, 1, 1, 1, 1], \"Freq\": [17.85879898071289, 16.792695999145508, 10.507570266723633, 9.789725303649902, 9.760473251342773, 9.474292755126953, 9.042481422424316, 6.85324764251709, 5.056981563568115, 4.863734245300293]}, \"tinfo\": {\"Category\": [\"Default\", \"Default\", \"Default\", \"Default\", \"Default\", \"Default\", \"Default\", \"Default\", \"Default\", \"Default\", \"Default\", \"Default\", \"Default\", \"Default\", \"Default\", \"Default\", \"Default\", \"Default\", \"Default\", \"Default\", \"Default\", \"Default\", \"Default\", \"Default\", \"Default\", \"Default\", \"Default\", \"Default\", \"Default\", \"Default\", \"Topic1\", \"Topic1\", \"Topic1\", \"Topic1\", \"Topic1\", \"Topic1\", \"Topic1\", \"Topic1\", \"Topic1\", \"Topic1\", \"Topic1\", \"Topic1\", \"Topic1\", \"Topic1\", \"Topic1\", \"Topic1\", \"Topic1\", \"Topic1\", \"Topic1\", \"Topic1\", \"Topic1\", \"Topic1\", \"Topic1\", \"Topic1\", \"Topic1\", \"Topic1\", \"Topic1\", \"Topic1\", \"Topic1\", \"Topic1\", \"Topic1\", \"Topic1\", \"Topic1\", \"Topic1\", \"Topic1\", \"Topic1\", \"Topic1\", \"Topic1\", \"Topic1\", \"Topic1\", \"Topic1\", \"Topic1\", \"Topic1\", \"Topic1\", \"Topic1\", \"Topic1\", \"Topic1\", \"Topic1\", \"Topic1\", \"Topic1\", \"Topic1\", \"Topic1\", \"Topic1\", \"Topic1\", \"Topic1\", \"Topic1\", \"Topic1\", \"Topic1\", \"Topic1\", \"Topic1\", \"Topic1\", \"Topic1\", \"Topic1\", \"Topic1\", \"Topic1\", \"Topic1\", \"Topic1\", \"Topic1\", \"Topic1\", \"Topic1\", \"Topic1\", \"Topic2\", \"Topic2\", \"Topic2\", \"Topic2\", \"Topic2\", \"Topic2\", \"Topic2\", \"Topic2\", \"Topic2\", \"Topic2\", \"Topic2\", \"Topic2\", \"Topic2\", \"Topic2\", \"Topic2\", \"Topic2\", \"Topic2\", \"Topic2\", \"Topic2\", \"Topic2\", \"Topic2\", \"Topic2\", \"Topic2\", \"Topic2\", \"Topic2\", \"Topic2\", \"Topic2\", \"Topic2\", \"Topic2\", \"Topic2\", \"Topic2\", \"Topic2\", \"Topic2\", \"Topic2\", \"Topic2\", \"Topic2\", \"Topic2\", \"Topic2\", \"Topic2\", \"Topic2\", \"Topic2\", \"Topic2\", \"Topic2\", \"Topic2\", \"Topic2\", \"Topic2\", \"Topic2\", \"Topic2\", \"Topic2\", \"Topic2\", \"Topic2\", \"Topic2\", \"Topic2\", \"Topic2\", \"Topic2\", \"Topic2\", \"Topic2\", \"Topic2\", \"Topic2\", \"Topic2\", \"Topic2\", \"Topic2\", \"Topic2\", \"Topic2\", \"Topic2\", \"Topic2\", \"Topic2\", \"Topic2\", \"Topic2\", \"Topic2\", \"Topic2\", \"Topic2\", \"Topic2\", \"Topic2\", \"Topic2\", \"Topic2\", \"Topic2\", \"Topic2\", \"Topic3\", \"Topic3\", \"Topic3\", \"Topic3\", \"Topic3\", \"Topic3\", \"Topic3\", \"Topic3\", \"Topic3\", \"Topic3\", \"Topic3\", \"Topic3\", \"Topic3\", \"Topic3\", \"Topic3\", \"Topic3\", \"Topic3\", \"Topic3\", \"Topic3\", \"Topic3\", \"Topic3\", \"Topic3\", \"Topic3\", \"Topic3\", \"Topic3\", \"Topic3\", \"Topic3\", \"Topic3\", \"Topic3\", \"Topic3\", \"Topic3\", \"Topic3\", \"Topic3\", \"Topic3\", \"Topic3\", \"Topic3\", \"Topic3\", \"Topic3\", \"Topic3\", \"Topic3\", \"Topic3\", \"Topic3\", \"Topic3\", \"Topic3\", \"Topic3\", \"Topic3\", \"Topic3\", \"Topic3\", \"Topic3\", \"Topic3\", \"Topic3\", \"Topic3\", \"Topic3\", \"Topic3\", \"Topic3\", \"Topic3\", \"Topic3\", \"Topic3\", \"Topic3\", \"Topic3\", \"Topic3\", \"Topic3\", \"Topic3\", \"Topic3\", \"Topic3\", \"Topic3\", \"Topic3\", \"Topic3\", \"Topic3\", \"Topic3\", \"Topic3\", \"Topic3\", \"Topic3\", \"Topic3\", \"Topic3\", \"Topic3\", \"Topic3\", \"Topic4\", \"Topic4\", \"Topic4\", \"Topic4\", \"Topic4\", \"Topic4\", \"Topic4\", \"Topic4\", \"Topic4\", \"Topic4\", \"Topic4\", \"Topic4\", \"Topic4\", \"Topic4\", \"Topic4\", \"Topic4\", \"Topic4\", \"Topic4\", \"Topic4\", \"Topic4\", \"Topic4\", \"Topic4\", \"Topic4\", \"Topic4\", \"Topic4\", \"Topic4\", \"Topic4\", \"Topic4\", \"Topic4\", \"Topic4\", \"Topic4\", \"Topic4\", \"Topic4\", \"Topic4\", \"Topic4\", \"Topic4\", \"Topic4\", \"Topic4\", \"Topic4\", \"Topic4\", \"Topic4\", \"Topic4\", \"Topic4\", \"Topic4\", \"Topic4\", \"Topic4\", \"Topic4\", \"Topic4\", \"Topic4\", \"Topic4\", \"Topic4\", \"Topic4\", \"Topic4\", \"Topic4\", \"Topic4\", \"Topic4\", \"Topic4\", \"Topic4\", \"Topic4\", \"Topic4\", \"Topic4\", \"Topic4\", \"Topic4\", \"Topic4\", \"Topic4\", \"Topic4\", \"Topic4\", \"Topic4\", \"Topic4\", \"Topic4\", \"Topic4\", \"Topic5\", \"Topic5\", \"Topic5\", \"Topic5\", \"Topic5\", \"Topic5\", \"Topic5\", \"Topic5\", \"Topic5\", \"Topic5\", \"Topic5\", \"Topic5\", \"Topic5\", \"Topic5\", \"Topic5\", \"Topic5\", \"Topic5\", \"Topic5\", \"Topic5\", \"Topic5\", \"Topic5\", \"Topic5\", \"Topic5\", \"Topic5\", \"Topic5\", \"Topic5\", \"Topic5\", \"Topic5\", \"Topic5\", \"Topic5\", \"Topic5\", \"Topic5\", \"Topic5\", \"Topic5\", \"Topic5\", \"Topic5\", \"Topic5\", \"Topic5\", \"Topic5\", \"Topic5\", \"Topic5\", \"Topic5\", \"Topic5\", \"Topic5\", \"Topic5\", \"Topic5\", \"Topic5\", \"Topic5\", \"Topic5\", \"Topic5\", \"Topic5\", \"Topic5\", \"Topic5\", \"Topic5\", \"Topic5\", \"Topic5\", \"Topic5\", \"Topic5\", \"Topic5\", \"Topic5\", \"Topic5\", \"Topic5\", \"Topic5\", \"Topic5\", \"Topic5\", \"Topic5\", \"Topic5\", \"Topic5\", \"Topic6\", \"Topic6\", \"Topic6\", \"Topic6\", \"Topic6\", \"Topic6\", \"Topic6\", \"Topic6\", \"Topic6\", \"Topic6\", \"Topic6\", \"Topic6\", \"Topic6\", \"Topic6\", \"Topic6\", \"Topic6\", \"Topic6\", \"Topic6\", \"Topic6\", \"Topic6\", \"Topic6\", \"Topic6\", \"Topic6\", \"Topic6\", \"Topic6\", \"Topic6\", \"Topic6\", \"Topic6\", \"Topic6\", \"Topic6\", \"Topic6\", \"Topic6\", \"Topic6\", \"Topic6\", \"Topic6\", \"Topic6\", \"Topic6\", \"Topic6\", \"Topic6\", \"Topic6\", \"Topic6\", \"Topic6\", \"Topic6\", \"Topic6\", \"Topic6\", \"Topic6\", \"Topic6\", \"Topic6\", \"Topic6\", \"Topic6\", \"Topic6\", \"Topic6\", \"Topic6\", \"Topic6\", \"Topic6\", \"Topic6\", \"Topic6\", \"Topic6\", \"Topic6\", \"Topic6\", \"Topic6\", \"Topic6\", \"Topic6\", \"Topic6\", \"Topic6\", \"Topic6\", \"Topic6\", \"Topic6\", \"Topic6\", \"Topic6\", \"Topic6\", \"Topic6\", \"Topic6\", \"Topic6\", \"Topic6\", \"Topic6\", \"Topic6\", \"Topic7\", \"Topic7\", \"Topic7\", \"Topic7\", \"Topic7\", \"Topic7\", \"Topic7\", \"Topic7\", \"Topic7\", \"Topic7\", \"Topic7\", \"Topic7\", \"Topic7\", \"Topic7\", \"Topic7\", \"Topic7\", \"Topic7\", \"Topic7\", \"Topic7\", \"Topic7\", \"Topic7\", \"Topic7\", \"Topic7\", \"Topic7\", \"Topic7\", \"Topic7\", \"Topic7\", \"Topic7\", \"Topic7\", \"Topic7\", \"Topic7\", \"Topic7\", \"Topic7\", \"Topic7\", \"Topic7\", \"Topic7\", \"Topic7\", \"Topic7\", \"Topic7\", \"Topic7\", \"Topic7\", \"Topic7\", \"Topic7\", \"Topic7\", \"Topic7\", \"Topic7\", \"Topic7\", \"Topic7\", \"Topic7\", \"Topic7\", \"Topic7\", \"Topic7\", \"Topic7\", \"Topic7\", \"Topic7\", \"Topic7\", \"Topic7\", \"Topic7\", \"Topic7\", \"Topic7\", \"Topic7\", \"Topic7\", \"Topic7\", \"Topic7\", \"Topic7\", \"Topic7\", \"Topic7\", \"Topic7\", \"Topic7\", \"Topic7\", \"Topic7\", \"Topic7\", \"Topic7\", \"Topic7\", \"Topic7\", \"Topic7\", \"Topic8\", \"Topic8\", \"Topic8\", \"Topic8\", \"Topic8\", \"Topic8\", \"Topic8\", \"Topic8\", \"Topic8\", \"Topic8\", \"Topic8\", \"Topic8\", \"Topic8\", \"Topic8\", \"Topic8\", \"Topic8\", \"Topic8\", \"Topic8\", \"Topic8\", \"Topic8\", \"Topic8\", \"Topic8\", \"Topic8\", \"Topic8\", \"Topic8\", \"Topic8\", \"Topic8\", \"Topic8\", \"Topic8\", \"Topic8\", \"Topic8\", \"Topic8\", \"Topic8\", \"Topic8\", \"Topic8\", \"Topic8\", \"Topic8\", \"Topic8\", \"Topic8\", \"Topic8\", \"Topic8\", \"Topic8\", \"Topic8\", \"Topic8\", \"Topic8\", \"Topic8\", \"Topic8\", \"Topic8\", \"Topic8\", \"Topic8\", \"Topic8\", \"Topic8\", \"Topic8\", \"Topic8\", \"Topic8\", \"Topic8\", \"Topic8\", \"Topic8\", \"Topic8\", \"Topic8\", \"Topic8\", \"Topic8\", \"Topic8\", \"Topic8\", \"Topic8\", \"Topic8\", \"Topic8\", \"Topic9\", \"Topic9\", \"Topic9\", \"Topic9\", \"Topic9\", \"Topic9\", \"Topic9\", \"Topic9\", \"Topic9\", \"Topic9\", \"Topic9\", \"Topic9\", \"Topic9\", \"Topic9\", \"Topic9\", \"Topic9\", \"Topic9\", \"Topic9\", \"Topic9\", \"Topic9\", \"Topic9\", \"Topic9\", \"Topic9\", \"Topic9\", \"Topic9\", \"Topic9\", \"Topic9\", \"Topic9\", \"Topic9\", \"Topic9\", \"Topic9\", \"Topic9\", \"Topic9\", \"Topic9\", \"Topic9\", \"Topic9\", \"Topic9\", \"Topic9\", \"Topic9\", \"Topic9\", \"Topic9\", \"Topic9\", \"Topic9\", \"Topic9\", \"Topic9\", \"Topic9\", \"Topic9\", \"Topic9\", \"Topic9\", \"Topic9\", \"Topic9\", \"Topic9\", \"Topic9\", \"Topic9\", \"Topic9\", \"Topic9\", \"Topic9\", \"Topic9\", \"Topic9\", \"Topic9\", \"Topic10\", \"Topic10\", \"Topic10\", \"Topic10\", \"Topic10\", \"Topic10\", \"Topic10\", \"Topic10\", \"Topic10\", \"Topic10\", \"Topic10\", \"Topic10\", \"Topic10\", \"Topic10\", \"Topic10\", \"Topic10\", \"Topic10\", \"Topic10\", \"Topic10\", \"Topic10\", \"Topic10\", \"Topic10\", \"Topic10\", \"Topic10\", \"Topic10\", \"Topic10\", \"Topic10\", \"Topic10\", \"Topic10\", \"Topic10\", \"Topic10\", \"Topic10\", \"Topic10\", \"Topic10\", \"Topic10\", \"Topic10\", \"Topic10\", \"Topic10\", \"Topic10\", \"Topic10\", \"Topic10\", \"Topic10\", \"Topic10\", \"Topic10\", \"Topic10\", \"Topic10\", \"Topic10\", \"Topic10\", \"Topic10\", \"Topic10\"], \"Freq\": [1791.0, 818.0, 1611.0, 1658.0, 2425.0, 1226.0, 1699.0, 1716.0, 985.0, 2420.0, 1253.0, 1990.0, 1311.0, 1196.0, 985.0, 2344.0, 1395.0, 1132.0, 1150.0, 2212.0, 2546.0, 2140.0, 1770.0, 909.0, 858.0, 2401.0, 1374.0, 660.0, 1859.0, 2415.0, 260.7615966796875, 191.74630737304688, 171.57064819335938, 166.49050903320312, 161.4719696044922, 156.6515655517578, 151.012939453125, 147.3350372314453, 146.3666229248047, 141.89569091796875, 139.20700073242188, 137.116455078125, 130.35787963867188, 127.16629791259766, 123.322509765625, 105.71124267578125, 101.7408676147461, 97.90657043457031, 94.15777587890625, 95.49571228027344, 92.63182830810547, 89.12582397460938, 80.42742919921875, 312.9253845214844, 76.76361083984375, 75.1712646484375, 73.28106689453125, 72.53953552246094, 72.20008850097656, 71.89845275878906, 400.8589172363281, 219.27581787109375, 769.7719116210938, 389.70721435546875, 597.0581665039062, 985.1349487304688, 351.46942138671875, 207.09873962402344, 524.22607421875, 942.527587890625, 154.6814727783203, 644.2977294921875, 877.3148193359375, 1158.95751953125, 529.0853881835938, 269.27081298828125, 937.2210083007812, 494.8882751464844, 527.7037353515625, 881.611572265625, 502.42193603515625, 462.0478820800781, 545.1297607421875, 450.7005920410156, 367.8537902832031, 522.8848876953125, 416.71954345703125, 323.9619140625, 569.8391723632812, 566.0121459960938, 705.021728515625, 724.3327026367188, 670.140869140625, 690.0848999023438, 587.3571166992188, 535.1190185546875, 628.4571533203125, 533.4946899414062, 567.6891479492188, 527.5179443359375, 478.0413513183594, 151.64842224121094, 145.70782470703125, 111.56781768798828, 100.02592468261719, 93.3679428100586, 92.10896301269531, 86.73933410644531, 80.85169982910156, 80.17607116699219, 71.99683380126953, 67.40484619140625, 66.02054595947266, 64.69398498535156, 62.2442741394043, 61.977359771728516, 61.43532180786133, 59.803131103515625, 58.463069915771484, 54.99864959716797, 53.68490219116211, 52.46775817871094, 51.068058013916016, 50.889278411865234, 50.80989074707031, 50.47819137573242, 50.20884704589844, 50.06287384033203, 49.99842071533203, 49.69852828979492, 49.57752227783203, 116.7799072265625, 315.1579284667969, 133.82672119140625, 420.4237976074219, 157.62310791015625, 95.39190673828125, 94.434814453125, 117.99425506591797, 908.1233520507812, 364.5311584472656, 157.0879669189453, 80.2957763671875, 259.2590637207031, 214.65570068359375, 200.26441955566406, 554.9636840820312, 449.9727783203125, 231.78919982910156, 309.0617980957031, 583.673583984375, 534.9642944335938, 177.25796508789062, 369.9417419433594, 220.84927368164062, 597.4520874023438, 572.0294799804688, 605.5009155273438, 778.3803100585938, 292.85601806640625, 364.84991455078125, 705.08251953125, 539.007568359375, 569.1041259765625, 319.6097412109375, 470.828857421875, 588.2697143554688, 605.86669921875, 597.7913818359375, 506.2181701660156, 340.4654235839844, 521.5934448242188, 419.5928039550781, 520.5900268554688, 539.3291015625, 419.14947509765625, 375.61895751953125, 353.8520202636719, 353.0384521484375, 130.0888671875, 121.46080780029297, 114.80496978759766, 112.93386840820312, 99.99446868896484, 96.44153594970703, 95.114013671875, 85.88262939453125, 85.07661437988281, 84.86627197265625, 81.1536636352539, 79.20581817626953, 78.49996185302734, 78.17401123046875, 77.30191802978516, 77.00540161132812, 72.57977294921875, 68.30821990966797, 66.64398193359375, 64.52226257324219, 63.81742858886719, 63.52854537963867, 63.3588752746582, 63.3023567199707, 61.5071907043457, 61.281898498535156, 59.61707305908203, 59.49401092529297, 57.973388671875, 57.38581085205078, 109.31587982177734, 102.96800994873047, 132.6152801513672, 178.26930236816406, 88.82869720458984, 156.7296905517578, 115.79024505615234, 114.17249298095703, 110.20601654052734, 142.37640380859375, 101.6318359375, 164.0820770263672, 86.93144989013672, 179.48538208007812, 164.52957153320312, 183.04336547851562, 220.49891662597656, 355.04888916015625, 153.83079528808594, 336.2691345214844, 248.26759338378906, 147.8540496826172, 362.4716491699219, 169.40231323242188, 127.56452941894531, 241.24160766601562, 349.2509460449219, 146.89739990234375, 314.5696105957031, 214.30958557128906, 241.61114501953125, 234.01913452148438, 251.7152099609375, 249.77012634277344, 199.1944580078125, 171.8949432373047, 214.6029052734375, 200.9794921875, 199.2150421142578, 170.5452117919922, 189.5363311767578, 194.24525451660156, 185.8831787109375, 197.6367950439453, 190.3762664794922, 170.71368408203125, 169.76425170898438, 169.89894104003906, 144.26211547851562, 129.5826873779297, 123.80252075195312, 122.02476501464844, 105.61300659179688, 94.62689208984375, 93.2465591430664, 87.37923431396484, 79.63221740722656, 78.08199310302734, 77.02161407470703, 76.3437271118164, 71.25481414794922, 68.43351745605469, 69.02416229248047, 63.85907745361328, 63.30585479736328, 62.98948287963867, 62.834930419921875, 62.31287384033203, 62.271080017089844, 60.405052185058594, 59.862396240234375, 59.037105560302734, 58.50529098510742, 56.037227630615234, 54.10542297363281, 53.8571891784668, 53.171905517578125, 105.50443267822266, 110.63095092773438, 176.129150390625, 78.73026275634766, 110.69413757324219, 451.7289123535156, 221.20350646972656, 599.5029296875, 560.2067260742188, 796.6790161132812, 763.1760864257812, 118.9878158569336, 570.263671875, 131.77537536621094, 158.84361267089844, 237.383544921875, 623.105712890625, 693.8504028320312, 676.782470703125, 284.17138671875, 462.2270202636719, 518.5601806640625, 472.0606994628906, 281.3971252441406, 293.2451477050781, 379.4656982421875, 397.46893310546875, 510.01470947265625, 294.3053283691406, 295.27001953125, 314.2132263183594, 328.6181640625, 367.6283874511719, 292.0099182128906, 392.4774169921875, 472.63916015625, 349.1409912109375, 372.7483825683594, 405.86181640625, 358.7823791503906, 313.76348876953125, 173.26893615722656, 153.40542602539062, 130.845458984375, 119.19548034667969, 116.46531677246094, 93.11491394042969, 78.88880157470703, 75.44745635986328, 75.07225799560547, 70.64417266845703, 70.35506439208984, 65.79042053222656, 62.86724853515625, 62.1992301940918, 61.50584411621094, 58.096473693847656, 56.306365966796875, 55.773624420166016, 55.18286895751953, 54.80729675292969, 54.248390197753906, 54.04430389404297, 53.57487869262695, 53.57261276245117, 52.313087463378906, 52.254398345947266, 52.04533004760742, 51.415164947509766, 51.0765495300293, 50.484703063964844, 152.45144653320312, 307.4121398925781, 214.44215393066406, 775.9129028320312, 88.463134765625, 959.2787475585938, 888.0565185546875, 542.1234130859375, 77.72435760498047, 398.2613220214844, 368.06317138671875, 592.1591186523438, 349.140869140625, 413.560302734375, 524.7000732421875, 513.0155029296875, 777.2968139648438, 267.4982604980469, 694.6581420898438, 209.36293029785156, 461.99462890625, 145.643310546875, 472.99053955078125, 672.793701171875, 720.9235229492188, 317.1915588378906, 295.48382568359375, 619.3897094726562, 465.5052490234375, 520.0916748046875, 359.65106201171875, 511.16717529296875, 349.6788330078125, 362.0155029296875, 376.21258544921875, 363.8515319824219, 361.27569580078125, 298.1457824707031, 124.91690826416016, 103.98695373535156, 94.2095947265625, 88.68585205078125, 84.76082611083984, 80.65782165527344, 79.9743881225586, 78.7794189453125, 76.1307144165039, 75.580322265625, 72.0154800415039, 71.10382080078125, 69.08092498779297, 66.86124420166016, 66.82339477539062, 63.87186050415039, 62.75442886352539, 61.27341079711914, 61.21017837524414, 60.593441009521484, 60.272605895996094, 59.77535629272461, 59.50461196899414, 57.21119689941406, 56.91915512084961, 56.61079025268555, 56.4570198059082, 55.95437240600586, 54.71678924560547, 53.56232452392578, 163.26792907714844, 205.50889587402344, 108.34256744384766, 117.4630126953125, 73.1936264038086, 122.14411926269531, 160.40914916992188, 172.51918029785156, 85.80477142333984, 134.88699340820312, 117.15641784667969, 191.19520568847656, 309.841064453125, 353.8368835449219, 480.86456298828125, 317.7533264160156, 82.28462982177734, 135.7089080810547, 326.8846740722656, 322.5765686035156, 234.8770294189453, 191.87469482421875, 510.73675537109375, 146.0814666748047, 252.5019073486328, 306.8493347167969, 223.22483825683594, 365.481689453125, 427.82928466796875, 379.11810302734375, 490.5404357910156, 348.3879699707031, 385.1954650878906, 316.76300048828125, 321.1040954589844, 350.2734069824219, 206.29598999023438, 326.5263366699219, 247.07354736328125, 252.78651428222656, 283.6140441894531, 214.3775634765625, 237.20254516601562, 226.2347869873047, 214.03973388671875, 211.11085510253906, 208.3245086669922, 304.914306640625, 238.709228515625, 158.38375854492188, 148.81082153320312, 145.8838348388672, 145.8553466796875, 104.35346221923828, 103.01305389404297, 95.859130859375, 93.27438354492188, 89.89663696289062, 86.99888610839844, 85.09098815917969, 84.96883392333984, 74.76968383789062, 73.07061767578125, 67.32701873779297, 65.3973388671875, 65.02616119384766, 64.83189392089844, 64.31122589111328, 59.3832893371582, 58.511070251464844, 57.41951370239258, 57.07356643676758, 54.21590042114258, 53.98350143432617, 53.827693939208984, 53.14427947998047, 50.65297317504883, 168.64627075195312, 684.4956665039062, 115.08775329589844, 105.4357681274414, 295.5499267578125, 190.1256866455078, 112.70636749267578, 406.3909606933594, 202.37716674804688, 202.88986206054688, 271.763427734375, 327.1700744628906, 134.75572204589844, 159.43313598632812, 237.56394958496094, 179.09913635253906, 379.2952575683594, 369.3963623046875, 156.0613555908203, 448.1655578613281, 244.92051696777344, 335.6874694824219, 305.4744567871094, 371.0707092285156, 279.3236999511719, 366.2005310058594, 504.7882995605469, 591.0701904296875, 417.5359802246094, 563.5180053710938, 557.9465942382812, 556.38916015625, 541.01953125, 472.6665344238281, 250.73069763183594, 358.7112731933594, 262.78265380859375, 398.7599792480469, 387.7819519042969, 323.40667724609375, 277.81219482421875, 330.6316223144531, 284.90692138671875, 293.1304626464844, 303.59454345703125, 278.287841796875, 174.0768280029297, 128.67092895507812, 113.97514343261719, 106.70785522460938, 103.27938842773438, 102.5957260131836, 102.3223876953125, 98.47343444824219, 95.29850769042969, 91.8438720703125, 88.13585662841797, 87.18897247314453, 85.27310180664062, 82.77854919433594, 82.65731811523438, 81.34396362304688, 80.58138275146484, 78.88883209228516, 76.6500015258789, 76.0414810180664, 75.60090637207031, 75.18919372558594, 75.18360900878906, 70.90563201904297, 66.92615509033203, 66.70040893554688, 65.57219696044922, 65.34136962890625, 63.202720642089844, 61.209442138671875, 251.80581665039062, 173.94439697265625, 213.56883239746094, 211.6171875, 206.23793029785156, 535.5430297851562, 323.0229797363281, 219.68777465820312, 550.79150390625, 151.80487060546875, 178.29896545410156, 168.3510284423828, 207.16737365722656, 191.04551696777344, 265.3987731933594, 226.45423889160156, 151.5456085205078, 505.8968811035156, 144.0034637451172, 451.0623779296875, 324.4938049316406, 226.43104553222656, 178.16307067871094, 453.0321350097656, 217.38507080078125, 395.3058776855469, 237.9691925048828, 161.2678680419922, 246.5526580810547, 212.43991088867188, 253.21124267578125, 241.8450164794922, 208.5767364501953, 212.65048217773438, 189.09642028808594, 180.116455078125, 179.7329559326172, 143.88815307617188, 138.1227569580078, 107.81287384033203, 100.50812530517578, 99.291748046875, 99.10991668701172, 97.23137664794922, 96.95381164550781, 95.59605407714844, 94.62381744384766, 93.23294067382812, 91.69922637939453, 90.29027557373047, 82.27507019042969, 78.7511978149414, 95.2822494506836, 73.70037841796875, 73.6218032836914, 73.23115539550781, 70.21598815917969, 69.08069610595703, 65.86470031738281, 65.16966247558594, 65.02649688720703, 60.47861099243164, 59.46743392944336, 58.622772216796875, 58.54443359375, 55.362369537353516, 54.85053634643555, 155.78746032714844, 125.8956527709961, 236.049560546875, 132.45034790039062, 83.0072021484375, 107.72196197509766, 131.69021606445312, 110.50340270996094, 153.13241577148438, 100.38092041015625, 163.5361328125, 107.18982696533203, 107.26826477050781, 154.1471405029297, 213.17727661132812, 110.62930297851562, 115.82178497314453, 241.71640014648438, 172.7659454345703, 117.51107025146484, 147.54417419433594, 113.36536407470703, 115.89156341552734, 118.041015625, 104.88195037841797, 121.64201354980469, 117.91710662841797, 121.83915710449219, 104.45853424072266, 113.56490325927734, 147.53326416015625, 123.34146881103516, 122.00260925292969, 121.08853149414062, 121.02611541748047, 114.36748504638672, 105.3006591796875, 104.85307312011719, 103.13526153564453, 99.6844482421875, 97.89823913574219, 91.85193634033203, 85.6027603149414, 85.2375259399414, 84.14360809326172, 83.33381652832031, 81.56736755371094, 79.69771575927734, 79.43538665771484, 76.57960510253906, 76.46977996826172, 108.61007690429688, 74.05023956298828, 72.6600341796875, 72.04427337646484, 70.51573944091797, 69.84558868408203, 69.5537338256836, 68.58710479736328, 66.53128814697266, 224.8414306640625, 133.8453826904297, 117.30884552001953, 140.19602966308594, 95.17330932617188, 106.54341888427734, 140.7854461669922, 150.6230926513672, 144.30723571777344, 139.0365753173828, 186.39610290527344, 136.6160430908203, 140.61293029785156, 117.11373138427734, 111.19702911376953, 98.64952850341797, 104.81401062011719, 189.4125518798828, 110.13902282714844, 105.83971405029297], \"Term\": [\"age\", \"alongsid\", \"appl\", \"fruiti\", \"tannin\", \"wood\", \"structur\", \"crisp\", \"herbal\", \"black\", \"feel\", \"berri\", \"charact\", \"lemon\", \"readi\", \"aroma\", \"citru\", \"peach\", \"pear\", \"palat\", \"drink\", \"rich\", \"plum\", \"attract\", \"lime\", \"cherri\", \"firm\", \"aftertast\", \"textur\", \"ripe\", \"honeysuckl\", \"steel\", \"pith\", \"stainless\", \"passion\", \"papaya\", \"pithi\", \"sparkler\", \"citric\", \"honeydew\", \"grigio\", \"nervi\", \"jasmin\", \"hay\", \"meyer\", \"roussann\", \"seafood\", \"refreshingli\", \"streamlin\", \"lip\", \"lemongrass\", \"prosecco\", \"petrol\", \"nectarin\", \"peachi\", \"leesi\", \"pit\", \"cocktail\", \"acacia\", \"zingi\", \"riesl\", \"golden\", \"lime\", \"tangerin\", \"melon\", \"peach\", \"blossom\", \"banana\", \"stone\", \"lemon\", \"oili\", \"honey\", \"pear\", \"appl\", \"grapefruit\", \"mango\", \"citru\", \"tropic\", \"pineappl\", \"white\", \"chardonnay\", \"apricot\", \"clean\", \"yellow\", \"blanc\", \"orang\", \"refresh\", \"zesti\", \"green\", \"miner\", \"fresh\", \"finish\", \"note\", \"palat\", \"crisp\", \"nose\", \"acid\", \"sweet\", \"aroma\", \"dri\", \"light\", \"chocolati\", \"shiraz\", \"mouthfil\", \"quick\", \"carmen\\u00e8r\", \"knit\", \"woodspic\", \"appar\", \"announc\", \"hollow\", \"tarri\", \"bark\", \"certain\", \"obvious\", \"woven\", \"morello\", \"hickori\", \"blacken\", \"grate\", \"chile\", \"common\", \"weav\", \"wall\", \"foxi\", \"bigger\", \"fanci\", \"tarragon\", \"hedonist\", \"glide\", \"flush\", \"satur\", \"verdot\", \"sensat\", \"franc\", \"steak\", \"mapl\", \"muscular\", \"unfold\", \"cabernet\", \"petit\", \"medicin\", \"sturdi\", \"oliv\", \"plush\", \"ground\", \"merlot\", \"cassi\", \"char\", \"malbec\", \"chocol\", \"sauvignon\", \"meati\", \"coffe\", \"cocoa\", \"blend\", \"dark\", \"blackberri\", \"black\", \"meat\", \"syrah\", \"cherri\", \"bodi\", \"oak\", \"smoke\", \"herb\", \"spice\", \"finish\", \"tannin\", \"plum\", \"tobacco\", \"note\", \"vanilla\", \"aroma\", \"fruit\", \"red\", \"berri\", \"palat\", \"ripe\", \"enhanc\", \"dull\", \"saint\", \"bay\", \"stemmi\", \"elderberri\", \"shave\", \"sagebrush\", \"fore\", \"percentag\", \"impart\", \"terrif\", \"sprightli\", \"tannat\", \"exquisit\", \"cinsault\", \"hibiscu\", \"verd\", \"vinho\", \"histor\", \"garrigu\", \"phenol\", \"lake\", \"lightest\", \"junip\", \"smaller\", \"incens\", \"vibranc\", \"kirsch\", \"trail\", \"cardamom\", \"squeez\", \"cigar\", \"strongli\", \"creek\", \"pencil\", \"block\", \"oregano\", \"box\", \"lavend\", \"counti\", \"thyme\", \"santa\", \"winemak\", \"mourv\\u00e8dr\", \"pomegran\", \"grenach\", \"bottl\", \"beef\", \"vineyard\", \"cranberri\", \"purpl\", \"nose\", \"sip\", \"meet\", \"syrah\", \"black\", \"appel\", \"cherri\", \"strawberri\", \"pepper\", \"show\", \"palat\", \"red\", \"tart\", \"blueberri\", \"blend\", \"raspberri\", \"dark\", \"smoke\", \"plum\", \"dri\", \"light\", \"fruit\", \"spice\", \"herb\", \"complex\", \"gri\", \"champagn\", \"scorch\", \"shot\", \"guava\", \"botryti\", \"restraint\", \"terroir\", \"garnet\", \"c\\u00f4te\", \"crunchi\", \"chenin\", \"burger\", \"sound\", \"surfac\", \"bristl\", \"muscat\", \"beaujolai\", \"serious\", \"cluster\", \"previou\", \"strang\", \"familiar\", \"ye\", \"famou\", \"role\", \"barbaresco\", \"nonvintag\", \"porti\", \"briskli\", \"underneath\", \"crispli\", \"cru\", \"jelli\", \"grand\", \"aftertast\", \"steeli\", \"readi\", \"attract\", \"crisp\", \"fruiti\", \"swath\", \"charact\", \"consider\", \"herbac\", \"month\", \"textur\", \"acid\", \"drink\", \"tangi\", \"light\", \"fresh\", \"soft\", \"perfum\", \"live\", \"miner\", \"bright\", \"ripe\", \"tight\", \"edg\", \"delici\", \"round\", \"citru\", \"give\", \"age\", \"fruit\", \"touch\", \"appl\", \"rich\", \"red\", \"balanc\", \"drunk\", \"sampl\", \"touriga\", \"nacion\", \"major\", \"mask\", \"provenc\", \"lightweight\", \"alicant\", \"flabbi\", \"moscato\", \"rosso\", \"sizabl\", \"aglianico\", \"damson\", \"th\", \"bouschet\", \"buoyant\", \"fresher\", \"overtli\", \"domain\", \"inspir\", \"overt\", \"muski\", \"foundat\", \"montalcino\", \"montepulciano\", \"beefi\", \"limeston\", \"centuri\", \"futur\", \"potenti\", \"final\", \"wood\", \"own\", \"age\", \"structur\", \"dens\", \"have\", \"need\", \"develop\", \"firm\", \"solid\", \"power\", \"year\", \"concentr\", \"tannin\", \"pack\", \"rich\", \"soften\", \"charact\", \"stage\", \"juici\", \"ripe\", \"fruit\", \"young\", \"domin\", \"drink\", \"fruiti\", \"black\", \"fine\", \"acid\", \"currant\", \"dark\", \"balanc\", \"textur\", \"red\", \"show\", \"briari\", \"popcorn\", \"current\", \"crowd\", \"sweetli\", \"unctuou\", \"proper\", \"bland\", \"seemingli\", \"sever\", \"scour\", \"solidli\", \"corn\", \"shellfish\", \"likeabl\", \"awkward\", \"volum\", \"resembl\", \"stuff\", \"unbalanc\", \"thread\", \"cedari\", \"chianti\", \"bargain\", \"flamboy\", \"calm\", \"evok\", \"fizz\", \"overdon\", \"interpret\", \"barbecu\", \"sugari\", \"chard\", \"sheer\", \"pizza\", \"enorm\", \"zin\", \"everyday\", \"obviou\", \"modern\", \"dimension\", \"zinfandel\", \"jam\", \"noir\", \"pinot\", \"alcohol\", \"classi\", \"decant\", \"littl\", \"cola\", \"price\", \"pie\", \"sweet\", \"sandalwood\", \"silki\", \"simpl\", \"butter\", \"good\", \"oak\", \"raspberri\", \"cherri\", \"currant\", \"blackberri\", \"like\", \"soft\", \"dri\", \"lot\", \"rich\", \"tast\", \"year\", \"drink\", \"nice\", \"show\", \"ripe\", \"vanilla\", \"complex\", \"tannin\", \"underbrush\", \"dole\", \"framework\", \"orchard\", \"till\", \"rest\", \"hous\", \"state\", \"woodland\", \"gravel\", \"fleet\", \"iri\", \"compost\", \"avola\", \"echo\", \"invigor\", \"sweati\", \"funk\", \"cheer\", \"fieri\", \"bartlett\", \"deeper\", \"bubblegum\", \"sooner\", \"jump\", \"abras\", \"jalape\\u00f1o\", \"darkli\", \"monastrel\", \"jumpi\", \"mediterranean\", \"alongsid\", \"nero\", \"choppi\", \"grain\", \"chop\", \"graini\", \"whiff\", \"balsam\", \"menthol\", \"blue\", \"espresso\", \"truffl\", \"assert\", \"soon\", \"press\", \"deliv\", \"clove\", \"floor\", \"open\", \"sangioves\", \"wild\", \"crush\", \"leather\", \"violet\", \"licoric\", \"offer\", \"palat\", \"pepper\", \"cherri\", \"black\", \"tannin\", \"aroma\", \"berri\", \"anis\", \"herb\", \"glass\", \"red\", \"spice\", \"firm\", \"flower\", \"note\", \"lead\", \"raspberri\", \"drink\", \"hint\", \"resini\", \"raisini\", \"reduc\", \"rioja\", \"spirit\", \"carob\", \"sauci\", \"wateri\", \"cantaloup\", \"dramat\", \"sawdust\", \"stewi\", \"grapi\", \"rooti\", \"cooler\", \"weedi\", \"hide\", \"wiri\", \"graham\", \"slightest\", \"blocki\", \"drier\", \"cheesi\", \"pulpi\", \"float\", \"hefti\", \"lilac\", \"biodynam\", \"cement\", \"win\", \"rubberi\", \"grabbi\", \"minti\", \"woodi\", \"stalki\", \"herbal\", \"smell\", \"raw\", \"feel\", \"rough\", \"overrip\", \"flat\", \"tomato\", \"chunki\", \"oaki\", \"raisin\", \"burnt\", \"berri\", \"tempranillo\", \"plum\", \"tast\", \"hard\", \"mild\", \"finish\", \"heavi\", \"aroma\", \"earthi\", \"hot\", \"green\", \"bit\", \"palat\", \"oak\", \"tannic\", \"note\", \"bake\", \"bitter\", \"nose\", \"harsh\", \"watermelon\", \"seamless\", \"walla\", \"persimmon\", \"unwind\", \"steadi\", \"expans\", \"ager\", \"wash\", \"lusti\", \"marzipan\", \"cleans\", \"preced\", \"blush\", \"spanish\", \"seed\", \"thick\", \"eye\", \"mixtur\", \"fast\", \"oyster\", \"mirabel\", \"dolcetto\", \"signific\", \"earthier\", \"retic\", \"tuscan\", \"piquant\", \"spread\", \"barbera\", \"salad\", \"pale\", \"barnyard\", \"spritzi\", \"garnacha\", \"barolo\", \"moist\", \"itali\", \"fish\", \"wound\", \"heft\", \"port\", \"chees\", \"tightli\", \"limit\", \"fare\", \"color\", \"pair\", \"bread\", \"pink\", \"tabl\", \"appear\", \"natur\", \"character\", \"ros\\u00e9\", \"express\", \"strawberri\", \"root\", \"bright\", \"popular\", \"call\", \"chalk\", \"notic\", \"gew\\u00fcrztramin\", \"notion\", \"sing\", \"br\\u00fbl\\u00e9e\", \"seven\", \"russian\", \"hallmark\", \"warmer\", \"hue\", \"pour\", \"tempt\", \"lurk\", \"chabli\", \"copper\", \"elabor\", \"tawni\", \"meringu\", \"slope\", \"amidst\", \"undeni\", \"counterpoint\", \"foam\", \"pictur\", \"steep\", \"teas\", \"prime\", \"wait\", \"clone\", \"sunni\", \"waxi\", \"quaffabl\", \"superb\", \"cr\\u00e8me\", \"abund\", \"evid\", \"river\", \"screwcap\", \"lee\", \"site\", \"massiv\", \"possibl\", \"la\", \"liqueur\", \"vineyard\", \"take\", \"rind\"], \"Total\": [1791.0, 818.0, 1611.0, 1658.0, 2425.0, 1226.0, 1699.0, 1716.0, 985.0, 2420.0, 1253.0, 1990.0, 1311.0, 1196.0, 985.0, 2344.0, 1395.0, 1132.0, 1150.0, 2212.0, 2546.0, 2140.0, 1770.0, 909.0, 858.0, 2401.0, 1374.0, 660.0, 1859.0, 2415.0, 261.72833251953125, 192.7137451171875, 172.5371856689453, 167.45709228515625, 162.4385528564453, 157.61817932128906, 151.97947692871094, 148.3032684326172, 147.33349609375, 142.8622283935547, 140.17355346679688, 138.08343505859375, 131.32443237304688, 128.1330108642578, 124.28929138183594, 106.67790985107422, 102.70751953125, 98.8735122680664, 95.12464141845703, 96.48468780517578, 93.59838104248047, 90.0923843383789, 81.39397430419922, 316.86468505859375, 77.73018646240234, 76.1378402709961, 74.24852752685547, 73.50616455078125, 73.16661834716797, 72.86521911621094, 420.5504150390625, 228.80007934570312, 858.5197143554688, 422.6672668457031, 661.721923828125, 1132.839111328125, 389.8254699707031, 224.8592071533203, 627.1104736328125, 1196.0367431640625, 164.19374084472656, 810.1165161132812, 1150.0120849609375, 1611.249755859375, 663.7222900390625, 311.55517578125, 1395.7640380859375, 657.2918090820312, 732.6336669921875, 1441.9693603515625, 796.8521728515625, 710.7654418945312, 893.5140380859375, 691.3840942382812, 538.9197998046875, 906.7516479492188, 690.04296875, 485.2246398925781, 1293.79345703125, 1350.2625732421875, 2041.0828857421875, 2302.60791015625, 2061.2255859375, 2212.03369140625, 1716.31005859375, 1511.7520751953125, 2593.46630859375, 1820.676025390625, 2344.546142578125, 2213.657470703125, 1638.6319580078125, 152.6163330078125, 146.6756591796875, 112.53579711914062, 100.99388885498047, 94.33676147460938, 93.08689880371094, 87.70726013183594, 81.81987762451172, 81.15470886230469, 72.9649429321289, 68.37309265136719, 66.98849487304688, 65.6623306274414, 63.212371826171875, 62.945465087890625, 62.403846740722656, 60.77096176147461, 59.43100357055664, 55.966827392578125, 54.653114318847656, 53.435970306396484, 52.03600311279297, 51.85733413696289, 51.778018951416016, 51.44617462158203, 51.17685317993164, 51.031105041503906, 50.96649932861328, 50.666343688964844, 50.54545593261719, 120.50674438476562, 348.76611328125, 150.30984497070312, 535.2650756835938, 180.221435546875, 104.0119400024414, 102.97402954101562, 132.83499145507812, 1386.383056640625, 513.4993286132812, 192.2833251953125, 87.81096649169922, 355.1213073730469, 284.7420654296875, 264.87567138671875, 918.8109741210938, 728.2203369140625, 325.0539855957031, 472.53765869140625, 1100.35302734375, 1055.8060302734375, 247.9188995361328, 687.6802368164062, 343.67181396484375, 1535.08251953125, 1488.40673828125, 1636.0687255859375, 2420.991943359375, 548.170654296875, 812.2198486328125, 2401.5771484375, 1597.3480224609375, 1812.2198486328125, 675.1744384765625, 1348.5521240234375, 2110.519287109375, 2302.60791015625, 2425.684814453125, 1770.2449951171875, 804.2146606445312, 2061.2255859375, 1376.1610107421875, 2344.546142578125, 2815.717529296875, 2201.511474609375, 1990.7200927734375, 2212.03369140625, 2415.381591796875, 131.0524139404297, 122.42101287841797, 115.76549530029297, 113.89398956298828, 100.95474243164062, 97.40162658691406, 96.07425689697266, 86.84264373779297, 86.03689575195312, 85.82646942138672, 82.11398315429688, 80.16617584228516, 79.46018981933594, 79.13430786132812, 78.2623062133789, 77.96546173095703, 73.53981018066406, 69.26830291748047, 67.60406494140625, 65.4823989868164, 64.77749633789062, 64.48882293701172, 64.31918334960938, 64.26251220703125, 62.4686393737793, 62.24208450317383, 60.57725143432617, 60.4542350769043, 58.93358612060547, 58.34600830078125, 111.45758056640625, 106.95187377929688, 139.4063720703125, 192.80380249023438, 96.75823211669922, 193.40182495117188, 135.78720092773438, 134.06643676757812, 128.5600128173828, 183.9142303466797, 118.55083465576172, 230.307861328125, 96.83466339111328, 269.3109436035156, 241.0572967529297, 290.5127868652344, 405.8282165527344, 911.7183227539062, 248.48512268066406, 1035.6983642578125, 616.0888671875, 247.26287841796875, 1511.7520751953125, 353.6234436035156, 200.26651000976562, 812.2198486328125, 2420.991943359375, 284.3663024902344, 2401.5771484375, 863.06884765625, 1295.6083984375, 1688.0125732421875, 2212.03369140625, 2201.511474609375, 983.5140991210938, 601.70947265625, 1535.08251953125, 1450.7637939453125, 1488.40673828125, 675.1744384765625, 1770.2449951171875, 2213.657470703125, 1638.6319580078125, 2815.717529296875, 2110.519287109375, 1348.5521240234375, 1131.27587890625, 170.8568115234375, 145.21981811523438, 130.54139709472656, 124.76044464111328, 122.98262786865234, 106.57062530517578, 95.58485412597656, 94.20442962646484, 88.33729553222656, 80.58982849121094, 79.03987884521484, 77.97981262207031, 77.30155944824219, 72.21269226074219, 69.39134216308594, 69.99331665039062, 64.81684112548828, 64.26345825195312, 63.947383880615234, 63.792850494384766, 63.27079772949219, 63.22909164428711, 61.363182067871094, 60.8203125, 59.99507522583008, 59.46311950683594, 56.99517822265625, 55.06316375732422, 54.814945220947266, 54.12965393066406, 110.76628875732422, 117.49642944335938, 199.2607879638672, 83.11063385009766, 124.17442321777344, 660.392822265625, 289.6468811035156, 985.4550170898438, 909.5852661132812, 1716.31005859375, 1658.28466796875, 150.26458740234375, 1311.0023193359375, 177.506591796875, 234.66030883789062, 438.67169189453125, 1859.769287109375, 2593.46630859375, 2546.148681640625, 660.4751586914062, 1638.6319580078125, 2041.0828857421875, 1769.27001953125, 726.4465942382812, 787.8978271484375, 1350.2625732421875, 1479.0904541015625, 2415.381591796875, 836.9544677734375, 844.7982788085938, 962.196044921875, 1086.06298828125, 1395.7640380859375, 883.5928344726562, 1791.2391357421875, 2815.717529296875, 1356.6048583984375, 1611.249755859375, 2140.970703125, 2201.511474609375, 1664.907470703125, 174.22882080078125, 154.36512756347656, 131.80514526367188, 120.15516662597656, 117.4255142211914, 94.0748062133789, 79.84881591796875, 76.40736389160156, 76.03206634521484, 71.60426330566406, 71.3150634765625, 66.7503890991211, 63.82722854614258, 63.15953826904297, 62.46554946899414, 59.056270599365234, 57.26607131958008, 56.7337646484375, 56.142704010009766, 55.76728439331055, 55.208152770996094, 55.00434112548828, 54.53497314453125, 54.532684326171875, 53.273128509521484, 53.214359283447266, 53.00522994995117, 52.37508773803711, 52.03678894042969, 51.444454193115234, 163.48780822753906, 380.0909729003906, 261.1434326171875, 1226.9833984375, 99.16268920898438, 1791.2391357421875, 1699.510498046875, 962.5738525390625, 86.93496704101562, 710.5949096679688, 656.9873046875, 1374.87353515625, 700.5609130859375, 888.9203491210938, 1336.2669677734375, 1297.126220703125, 2425.684814453125, 525.5603637695312, 2140.970703125, 369.234375, 1311.0023193359375, 218.4889678955078, 1379.869384765625, 2415.381591796875, 2815.717529296875, 776.8892822265625, 704.5112915039062, 2546.148681640625, 1658.28466796875, 2420.991943359375, 1195.9237060546875, 2593.46630859375, 1275.9404296875, 1488.40673828125, 1664.907470703125, 1859.769287109375, 2201.511474609375, 1688.0125732421875, 126.04596710205078, 104.9457778930664, 95.16864776611328, 89.64461517333984, 85.71968078613281, 81.61675262451172, 80.93327331542969, 79.73827362060547, 77.0894775390625, 76.53919982910156, 72.97438049316406, 72.06275939941406, 70.0398178100586, 67.820068359375, 67.78211975097656, 64.83060455322266, 63.71324157714844, 62.23218536376953, 62.16907501220703, 61.552127838134766, 61.2315673828125, 60.73427963256836, 60.463382720947266, 58.17003631591797, 57.87787628173828, 57.56963348388672, 57.416053771972656, 56.91349411010742, 55.67560958862305, 54.521236419677734, 170.61672973632812, 225.8500518798828, 114.59233093261719, 126.02366638183594, 75.97260284423828, 134.90853881835938, 192.49119567871094, 211.659423828125, 93.6481704711914, 163.0343780517578, 137.3926544189453, 256.4818420410156, 532.6515502929688, 655.532470703125, 1048.03662109375, 636.681884765625, 92.2535171508789, 195.85653686523438, 742.1521606445312, 735.037841796875, 497.0058898925781, 357.4281921386719, 1820.676025390625, 230.5292510986328, 612.8480834960938, 875.6246337890625, 505.3645935058594, 1312.572998046875, 1812.2198486328125, 1450.7637939453125, 2401.5771484375, 1275.9404296875, 1636.0687255859375, 1192.168701171875, 1769.27001953125, 2213.657470703125, 584.6144409179688, 2140.970703125, 1052.05712890625, 1336.2669677734375, 2546.148681640625, 775.2658081054688, 1688.0125732421875, 2415.381591796875, 1376.1610107421875, 1131.27587890625, 2425.684814453125, 305.8713684082031, 239.6654815673828, 159.34007263183594, 149.76710510253906, 146.84010314941406, 146.81214904785156, 105.31014251708984, 103.96988677978516, 96.81533813476562, 94.23114013671875, 90.8529052734375, 87.95509338378906, 86.04755401611328, 85.92507934570312, 75.7264175415039, 74.06302642822266, 68.28364562988281, 66.35398864746094, 65.98352813720703, 65.78846740722656, 65.26753234863281, 60.33987808227539, 59.46761703491211, 58.37579345703125, 58.02991485595703, 55.17246627807617, 54.93994903564453, 54.78422927856445, 54.100914001464844, 51.60960006713867, 179.17227172851562, 818.6389770507812, 123.02030944824219, 112.89048767089844, 381.07000732421875, 232.06793212890625, 127.72636413574219, 580.8935546875, 259.3022766113281, 264.37896728515625, 386.47412109375, 493.82421875, 165.3003387451172, 212.05628967285156, 360.6924133300781, 249.59718322753906, 722.9755249023438, 699.81787109375, 215.30226135253906, 1092.166748046875, 431.9921569824219, 710.0911865234375, 616.5790405273438, 854.3792724609375, 555.05859375, 881.6357421875, 1614.027587890625, 2212.03369140625, 1295.6083984375, 2401.5771484375, 2420.991943359375, 2425.684814453125, 2344.546142578125, 1990.7200927734375, 508.4117431640625, 1348.5521240234375, 600.4109497070312, 2201.511474609375, 2110.519287109375, 1374.87353515625, 777.7280883789062, 2061.2255859375, 953.0347900390625, 1450.7637939453125, 2546.148681640625, 1356.172607421875, 175.02557373046875, 129.61968994140625, 114.92402648925781, 107.65665435791016, 104.22840118408203, 103.54470825195312, 103.27111053466797, 99.42233276367188, 96.24751281738281, 92.79325866699219, 89.08466339111328, 88.13770294189453, 86.22184753417969, 83.72730255126953, 83.60670471191406, 82.29271697998047, 81.53031158447266, 79.8375473022461, 77.59881591796875, 76.990478515625, 76.5496597290039, 76.13817596435547, 76.13329315185547, 71.85453796386719, 67.87527465820312, 67.6615219116211, 66.52147674560547, 66.29060363769531, 64.15164184570312, 62.158416748046875, 261.26715087890625, 179.72740173339844, 255.10552978515625, 270.6495666503906, 273.5858154296875, 985.6151733398438, 524.7841796875, 325.9581604003906, 1253.4481201171875, 209.89495849609375, 268.8121337890625, 247.4385223388672, 338.7109680175781, 309.1533508300781, 566.0322265625, 459.4124450683594, 237.3543701171875, 1990.7200927734375, 218.11563110351562, 1770.2449951171875, 1052.05712890625, 538.9419555664062, 336.41229248046875, 2302.60791015625, 530.2465209960938, 2344.546142578125, 811.2706909179688, 310.4659118652344, 1293.79345703125, 884.26611328125, 2212.03369140625, 1812.2198486328125, 985.5896606445312, 2061.2255859375, 897.7369995117188, 764.4228515625, 1511.7520751953125, 144.82150268554688, 139.0560760498047, 108.7464370727539, 101.44141387939453, 100.22522735595703, 100.04341888427734, 98.16487884521484, 97.88726043701172, 96.52955627441406, 95.55718994140625, 94.16642761230469, 92.63272857666016, 91.2236328125, 83.20849609375, 79.68451690673828, 96.42107391357422, 74.63385009765625, 74.55519104003906, 74.16455078125, 71.14936065673828, 70.01408386230469, 66.79891204833984, 66.10320281982422, 65.95980072021484, 61.41197967529297, 60.40079879760742, 59.55612564086914, 59.477745056152344, 56.295772552490234, 55.78390121459961, 166.08013916015625, 134.1031494140625, 265.25897216796875, 143.3155517578125, 86.7222671508789, 117.8302001953125, 149.1827850341797, 124.23241424560547, 192.69818115234375, 114.80330657958984, 226.89527893066406, 129.08798217773438, 130.65121459960938, 226.17835998535156, 386.7467346191406, 145.71859741210938, 166.67430114746094, 882.653076171875, 537.0000610351562, 189.12521362304688, 381.94329833984375, 180.69155883789062, 248.10693359375, 344.5932312011719, 162.9654998779297, 470.29144287109375, 514.0994262695312, 863.06884765625, 171.58180236816406, 1479.0904541015625, 148.4640350341797, 124.27227020263672, 122.9361343383789, 122.01939392089844, 121.95681762695312, 115.29824829101562, 106.2314453125, 105.78370666503906, 104.06600952148438, 100.61510467529297, 98.82901000976562, 92.7828369140625, 86.53350830078125, 86.16846466064453, 85.07447814941406, 84.26458740234375, 82.49807739257812, 80.62843322753906, 80.36619567871094, 77.51032257080078, 77.40049743652344, 109.93878173828125, 74.98096466064453, 73.59076690673828, 72.97502899169922, 71.44679260253906, 70.77630615234375, 70.4845199584961, 69.5177993774414, 67.46209716796875, 236.018310546875, 138.86387634277344, 123.8221206665039, 151.19473266601562, 99.93743896484375, 113.92851257324219, 159.56512451171875, 194.01419067382812, 185.13832092285156, 181.79403686523438, 310.5071716308594, 205.31509399414062, 236.623046875, 169.26898193359375, 154.56283569335938, 124.91777801513672, 153.57244873046875, 1035.6983642578125, 219.6130828857422, 275.5289001464844], \"loglift\": [30.0, 29.0, 28.0, 27.0, 26.0, 25.0, 24.0, 23.0, 22.0, 21.0, 20.0, 19.0, 18.0, 17.0, 16.0, 15.0, 14.0, 13.0, 12.0, 11.0, 10.0, 9.0, 8.0, 7.0, 6.0, 5.0, 4.0, 3.0, 2.0, 1.0, 1.718999981880188, 1.7175999879837036, 1.7171000242233276, 1.7168999910354614, 1.7166999578475952, 1.7165000438690186, 1.7163000106811523, 1.7160999774932861, 1.7160999774932861, 1.71589994430542, 1.7158000469207764, 1.7156000137329102, 1.7152999639511108, 1.7151000499725342, 1.714900016784668, 1.7136000394821167, 1.7131999731063843, 1.7128000259399414, 1.712499976158142, 1.712399959564209, 1.7122999429702759, 1.711899995803833, 1.7107000350952148, 1.7101999521255493, 1.7101999521255493, 1.7099000215530396, 1.7095999717712402, 1.7094000577926636, 1.7094000577926636, 1.7093000411987305, 1.6747000217437744, 1.6801999807357788, 1.6136000156402588, 1.6414999961853027, 1.6197999715805054, 1.5829999446868896, 1.6190999746322632, 1.6404000520706177, 1.5434999465942383, 1.4845000505447388, 1.6629999876022339, 1.4937000274658203, 1.4520000219345093, 1.3932000398635864, 1.496000051498413, 1.576799988746643, 1.3243999481201172, 1.4388999938964844, 1.3946000337600708, 1.2307000160217285, 1.2613999843597412, 1.2920000553131104, 1.2285000085830688, 1.294800043106079, 1.3408000469207764, 1.1721999645233154, 1.2182999849319458, 1.3186999559402466, 0.9027000069618225, 0.8532000184059143, 0.6596999764442444, 0.566100001335144, 0.5990999937057495, 0.5577999949455261, 0.6503999829292297, 0.6840999722480774, 0.3052000105381012, 0.4952000081539154, 0.3043999969959259, 0.28850001096725464, 0.49079999327659607, 1.777899980545044, 1.7776000499725342, 1.7755999565124512, 1.7746000289916992, 1.773900032043457, 1.7736999988555908, 1.7731000185012817, 1.7723000049591064, 1.7720999717712402, 1.770900011062622, 1.7699999809265137, 1.769700050354004, 1.7694000005722046, 1.7688000202178955, 1.7687000036239624, 1.7685999870300293, 1.7682000398635864, 1.767799973487854, 1.766800045967102, 1.7663999795913696, 1.7659000158309937, 1.7654000520706177, 1.7654000520706177, 1.7654000520706177, 1.7652000188827515, 1.7651000022888184, 1.7651000022888184, 1.7649999856948853, 1.7648999691009521, 1.7648999691009521, 1.7527999877929688, 1.6828999519348145, 1.6680999994277954, 1.5427000522613525, 1.6502000093460083, 1.697700023651123, 1.697700023651123, 1.6657999753952026, 1.361199975013733, 1.44159996509552, 1.5821000337600708, 1.6948000192642212, 1.469599962234497, 1.5017000436782837, 1.5046000480651855, 1.2799999713897705, 1.3028000593185425, 1.4460999965667725, 1.3595999479293823, 1.1502000093460083, 1.1044000387191772, 1.448699951171875, 1.164199948310852, 1.3420000076293945, 0.8406000137329102, 0.828000009059906, 0.7901999950408936, 0.6495000123977661, 1.1572999954223633, 0.9839000105857849, 0.5587000250816345, 0.6978999972343445, 0.6259999871253967, 1.0363999605178833, 0.7318999767303467, 0.5066999793052673, 0.44909998774528503, 0.38359999656677246, 0.5322999954223633, 0.9247000217437744, 0.4101000130176544, 0.5964999794960022, 0.2793000042438507, 0.1316000074148178, 0.12559999525547028, 0.11649999767541885, -0.04859999939799309, -0.1387999951839447, 2.245699882507324, 2.2451999187469482, 2.2446999549865723, 2.2446000576019287, 2.243499994277954, 2.2432000637054443, 2.243000030517578, 2.242000102996826, 2.2418999671936035, 2.24180006980896, 2.241300106048584, 2.240999937057495, 2.2409000396728516, 2.2409000396728516, 2.2407000064849854, 2.2407000064849854, 2.2399001121520996, 2.2390999794006348, 2.238800048828125, 2.238300085067749, 2.238100051879883, 2.238100051879883, 2.23799991607666, 2.23799991607666, 2.237600088119507, 2.237499952316284, 2.2370998859405518, 2.2370998859405518, 2.236599922180176, 2.2365000247955322, 2.2337000370025635, 2.215100049972534, 2.2030999660491943, 2.1747000217437744, 2.16759991645813, 2.042799949645996, 2.0938000679016113, 2.092400074005127, 2.0989999771118164, 1.9970999956130981, 2.099100112915039, 1.9140000343322754, 2.14520001411438, 1.8473000526428223, 1.8710999488830566, 1.791100025177002, 1.6430000066757202, 1.309999942779541, 1.7734999656677246, 1.1282000541687012, 1.3442000150680542, 1.738800048828125, 0.824999988079071, 1.5170999765396118, 1.8020000457763672, 1.0391000509262085, 0.31690001487731934, 1.5924999713897705, 0.22040000557899475, 0.8600000143051147, 0.5737000107765198, 0.27720001339912415, 0.07970000058412552, 0.07670000195503235, 0.6561999917030334, 1.0002000331878662, 0.2854999899864197, 0.27639999985694885, 0.24199999868869781, 0.8770999908447266, 0.018799999728798866, -0.18019999563694, 0.07660000026226044, -0.4034999907016754, -0.1526000052690506, 0.18629999458789825, 0.3564000129699707, 2.31820011138916, 2.317199945449829, 2.316499948501587, 2.3160998821258545, 2.315999984741211, 2.3148000240325928, 2.313800096511841, 2.3136000633239746, 2.3129000663757324, 2.3118999004364014, 2.3115999698638916, 2.311500072479248, 2.3113999366760254, 2.310499906539917, 2.3099000453948975, 2.3099000453948975, 2.309000015258789, 2.308799982070923, 2.3087000846862793, 2.3087000846862793, 2.3085999488830566, 2.3085999488830566, 2.3080999851226807, 2.308000087738037, 2.3076999187469482, 2.3076000213623047, 2.3069000244140625, 2.306299924850464, 2.3062000274658203, 2.305999994277954, 2.2751998901367188, 2.2636001110076904, 2.2004001140594482, 2.269700050354004, 2.208899974822998, 1.944100022315979, 2.05430006980896, 1.826799988746643, 1.8392000198364258, 1.556399941444397, 1.5477999448776245, 2.0905001163482666, 1.4914000034332275, 2.025899887084961, 1.9335999488830566, 1.7098000049591064, 1.230299949645996, 1.0053000450134277, 0.9987999796867371, 1.4804999828338623, 1.0583000183105469, 0.9537000060081482, 1.0025999546051025, 1.3753999471664429, 1.3355000019073486, 1.0544999837875366, 1.0097999572753906, 0.7687000036239624, 1.2786999940872192, 1.2726000547409058, 1.204699993133545, 1.1283999681472778, 0.9897000193595886, 1.216599941253662, 0.8057000041007996, 0.5392000079154968, 0.9666000008583069, 0.8600000143051147, 0.6607999801635742, 0.5097000002861023, 0.6549999713897705, 2.3213000297546387, 2.3206000328063965, 2.319499969482422, 2.3187999725341797, 2.3185999393463135, 2.3166000843048096, 2.31469988822937, 2.314199924468994, 2.3141000270843506, 2.3132998943328857, 2.3132998943328857, 2.312299966812134, 2.3117001056671143, 2.311500072479248, 2.311300039291382, 2.3104000091552734, 2.3099000453948975, 2.309799909591675, 2.3096001148223877, 2.309499979019165, 2.309299945831299, 2.3092000484466553, 2.3090999126434326, 2.3090999126434326, 2.3085999488830566, 2.3085999488830566, 2.3085999488830566, 2.308300018310547, 2.308199882507324, 2.308000087738037, 2.2569000720977783, 2.1145999431610107, 2.1298000812530518, 1.8686000108718872, 2.2126998901367188, 1.702299952507019, 1.6778000593185425, 1.7526999711990356, 2.2147998809814453, 1.7477999925613403, 1.7474000453948975, 1.4845000505447388, 1.6303999423980713, 1.5615999698638916, 1.3919999599456787, 1.3991999626159668, 1.1887999773025513, 1.6514999866485596, 1.201200008392334, 1.7595000267028809, 1.2838000059127808, 1.9213000535964966, 1.2561999559402466, 1.048699975013733, 0.9643999934196472, 1.430999994277954, 1.457900047302246, 0.9132000207901001, 1.056399941444397, 0.7889000177383423, 1.1253000497817993, 0.7027999758720398, 1.0324000120162964, 0.913100004196167, 0.8395000100135803, 0.6953999996185303, 0.519599974155426, 0.5931000113487244, 2.347599983215332, 2.347399950027466, 2.3464999198913574, 2.3457999229431152, 2.3452999591827393, 2.3447999954223633, 2.3447000980377197, 2.3445000648498535, 2.344099998474121, 2.3440001010894775, 2.343400001525879, 2.3431999683380127, 2.3427999019622803, 2.3422999382019043, 2.3422999382019043, 2.3417000770568848, 2.341399908065796, 2.341099977493286, 2.3410000801086426, 2.34089994430542, 2.3408000469207764, 2.3406999111175537, 2.34060001373291, 2.3399999141693115, 2.339900016784668, 2.3397998809814453, 2.3396999835968018, 2.339600086212158, 2.339200019836426, 2.3387999534606934, 2.3125998973846436, 2.262200117111206, 2.30049991607666, 2.2862000465393066, 2.3192999362945557, 2.257200002670288, 2.174299955368042, 2.152100086212158, 2.2690999507904053, 2.167099952697754, 2.1972999572753906, 2.0627999305725098, 1.8148000240325928, 1.7400000095367432, 1.5774999856948853, 1.6615999937057495, 2.2421998977661133, 1.9896999597549438, 1.5365999937057495, 1.5329999923706055, 1.6069999933242798, 1.7345000505447388, 1.0855000019073486, 1.9004000425338745, 1.4699000120162964, 1.3079999685287476, 1.5394999980926514, 1.0780999660491943, 0.9129999876022339, 1.0146000385284424, 0.7681999802589417, 1.058500051498413, 0.9103000164031982, 1.0312000513076782, 0.6499999761581421, 0.5128999948501587, 1.3149000406265259, 0.47609999775886536, 0.907800018787384, 0.6915000081062317, 0.16189999878406525, 1.0710999965667725, 0.39419999718666077, -0.011500000022351742, 0.49570000171661377, 0.6779000163078308, -0.0982000008225441, 2.400099992752075, 2.399199962615967, 2.397200107574463, 2.3968000411987305, 2.396699905395508, 2.396699905395508, 2.3940999507904053, 2.3940000534057617, 2.3933000564575195, 2.3929998874664307, 2.392699956893921, 2.3922998905181885, 2.3921000957489014, 2.3919999599456787, 2.390500068664551, 2.389699935913086, 2.3891000747680664, 2.388700008392334, 2.3886001110076904, 2.3886001110076904, 2.3884999752044678, 2.3873000144958496, 2.38700008392334, 2.386699914932251, 2.3866000175476074, 2.385699987411499, 2.385699987411499, 2.3856000900268555, 2.3854000568389893, 2.384500026702881, 2.3427000045776367, 2.224299907684326, 2.3366000652313232, 2.33489990234375, 2.1491000652313232, 2.203900098800659, 2.27810001373291, 2.0460000038146973, 2.155400037765503, 2.1384999752044678, 2.051100015640259, 1.9915000200271606, 2.198899984359741, 2.118000030517578, 1.9855999946594238, 2.0713000297546387, 1.7582000494003296, 1.764299988746643, 2.081399917602539, 1.5125000476837158, 1.835800051689148, 1.6540000438690186, 1.7008999586105347, 1.5693000555038452, 1.7165000438690186, 1.5246000289916992, 1.2409000396728516, 1.0835000276565552, 1.270900011062622, 0.9535999894142151, 0.9355999827384949, 0.9308000206947327, 0.9368000030517578, 0.965399980545044, 1.6963000297546387, 1.0789999961853027, 1.5769000053405762, 0.6947000026702881, 0.7089999914169312, 0.9559999704360962, 1.3738000392913818, 0.573199987411499, 1.1957000494003296, 0.8040000200271606, 0.2766000032424927, 0.8195000290870667, 2.674999952316284, 2.673099994659424, 2.6721999645233154, 2.671600103378296, 2.671299934387207, 2.6712000370025635, 2.6712000370025635, 2.6709001064300537, 2.6705000400543213, 2.6702001094818115, 2.6696999073028564, 2.669600009918213, 2.6693999767303467, 2.669100046157837, 2.6689999103546143, 2.6689000129699707, 2.6686999797821045, 2.6684999465942383, 2.668100118637085, 2.6679999828338623, 2.6679999828338623, 2.6679000854492188, 2.6679000854492188, 2.6672000885009766, 2.6663999557495117, 2.666100025177002, 2.666100025177002, 2.6659998893737793, 2.6654999256134033, 2.66510009765625, 2.6435999870300293, 2.647700071334839, 2.502700090408325, 2.4344000816345215, 2.397900104522705, 2.070499897003174, 2.195199966430664, 2.285900115966797, 1.858199954032898, 2.3564000129699707, 2.26990008354187, 2.295300006866455, 2.188800096511841, 2.1991000175476074, 1.9229999780654907, 1.9730000495910645, 2.231800079345703, 1.3105000257492065, 2.2653000354766846, 1.3131999969482422, 1.5041999816894531, 1.8133000135421753, 2.044800043106079, 1.0546000003814697, 1.7888000011444092, 0.9003000259399414, 1.4539999961853027, 2.025399923324585, 1.0226999521255493, 1.2542999982833862, 0.5130000114440918, 0.6664000153541565, 1.127500057220459, 0.4090000092983246, 1.1227999925613403, 1.2348999977111816, 0.5508999824523926, 2.9779000282287598, 2.9776999950408936, 2.975800037384033, 2.9751999378204346, 2.9749999046325684, 2.9749999046325684, 2.9748001098632812, 2.9748001098632812, 2.9746999740600586, 2.974600076675415, 2.974400043487549, 2.974299907684326, 2.974100112915039, 2.973099946975708, 2.972599983215332, 2.9725000858306885, 2.9718000888824463, 2.9718000888824463, 2.9716999530792236, 2.9711999893188477, 2.9709999561309814, 2.9702999591827393, 2.9702000617980957, 2.970099925994873, 2.969099998474121, 2.9688000679016113, 2.968600034713745, 2.968600034713745, 2.9677000045776367, 2.9674999713897705, 2.9203999042510986, 2.9212000370025635, 2.8677000999450684, 2.905600070953369, 2.9405999183654785, 2.894700050354004, 2.8596999645233154, 2.867300033569336, 2.7546000480651855, 2.8501999378204346, 2.656899929046631, 2.7985000610351562, 2.7871999740600586, 2.6010000705718994, 2.3887999057769775, 2.708899974822998, 2.6203999519348145, 1.6892000436782837, 1.8502999544143677, 2.508500099182129, 2.0332999229431152, 2.518199920654297, 2.2232000827789307, 1.913100004196167, 2.5436999797821045, 1.632099986076355, 1.5119999647140503, 1.0266000032424927, 2.488100051879883, 0.41760000586509705, 3.0171000957489014, 3.0157999992370605, 3.015700101852417, 3.015700101852417, 3.015700101852417, 3.0153000354766846, 3.0146000385284424, 3.0144999027252197, 3.014400005340576, 3.0141000747680664, 3.0139000415802, 3.0132999420166016, 3.012500047683716, 3.012500047683716, 3.012399911880493, 3.0123000144958496, 3.01200008392334, 3.0118000507354736, 3.011699914932251, 3.0113000869750977, 3.0113000869750977, 3.011199951171875, 3.0109000205993652, 3.0106000900268555, 3.010499954223633, 3.010200023651123, 3.0100998878479004, 3.0100998878479004, 3.0099000930786133, 3.009500026702881, 2.9748001098632812, 2.986599922180176, 2.9693000316619873, 2.9477999210357666, 2.9744999408721924, 2.9563000202178955, 2.898099899291992, 2.77020001411438, 2.774199962615967, 2.755199909210205, 2.513000011444092, 2.615999937057495, 2.5028998851776123, 2.6549999713897705, 2.6940999031066895, 2.7873001098632812, 2.641400098800659, 1.3244999647140503, 2.333199977874756, 2.0666000843048096], \"logprob\": [30.0, 29.0, 28.0, 27.0, 26.0, 25.0, 24.0, 23.0, 22.0, 21.0, 20.0, 19.0, 18.0, 17.0, 16.0, 15.0, 14.0, 13.0, 12.0, 11.0, 10.0, 9.0, 8.0, 7.0, 6.0, 5.0, 4.0, 3.0, 2.0, 1.0, -5.835299968719482, -6.1427001953125, -6.253900051116943, -6.283999919891357, -6.314599990844727, -6.344900131225586, -6.381499767303467, -6.406199932098389, -6.412799835205078, -6.44379997253418, -6.4629998207092285, -6.478099822998047, -6.528600215911865, -6.553400039672852, -6.584099769592285, -6.7382001876831055, -6.776500225067139, -6.814899921417236, -6.853899955749512, -6.839799880981445, -6.870299816131592, -6.908899784088135, -7.011600017547607, -5.652900218963623, -7.058199882507324, -7.079100131988525, -7.104599952697754, -7.114799976348877, -7.119500160217285, -7.123700141906738, -5.405300140380859, -6.008600234985352, -4.752799987792969, -5.433499813079834, -5.006899833679199, -4.506100177764893, -5.536799907684326, -6.065700054168701, -5.13700008392334, -4.550300121307373, -6.357500076293945, -4.930799961090088, -4.622000217437744, -4.343599796295166, -5.127799987792969, -5.803199768066406, -4.556000232696533, -5.1946001052856445, -5.13040018081665, -4.617199897766113, -5.179500102996826, -5.263199806213379, -5.097899913787842, -5.288099765777588, -5.491199970245361, -5.139599800109863, -5.366499900817871, -5.618299961090088, -5.053599834442139, -5.060299873352051, -4.840700149536133, -4.813700199127197, -4.89139986038208, -4.862100124359131, -5.0233001708984375, -5.116399765014648, -4.955599784851074, -5.119500160217285, -5.057300090789795, -5.13070011138916, -5.2291998863220215, -6.315800189971924, -6.355800151824951, -6.622700214385986, -6.731900215148926, -6.80079984664917, -6.8144001960754395, -6.874499797821045, -6.944699764251709, -6.953100204467773, -7.060699939727783, -7.1265997886657715, -7.14739990234375, -7.167699813842773, -7.206299781799316, -7.210599899291992, -7.219399929046631, -7.246300220489502, -7.269000053405762, -7.330100059509277, -7.3541998863220215, -7.377200126647949, -7.404200077056885, -7.407700061798096, -7.409299850463867, -7.415800094604492, -7.421199798583984, -7.424099922180176, -7.4253997802734375, -7.431399822235107, -7.433800220489502, -6.577099800109863, -5.5843000411987305, -6.440800189971924, -5.29610013961792, -6.277200222015381, -6.779399871826172, -6.7895002365112305, -6.566699981689453, -4.526000022888184, -5.438700199127197, -6.280600070953369, -6.951600074768066, -5.7795000076293945, -5.968299865722656, -6.037700176239014, -5.018499851226807, -5.2281999588012695, -5.891499996185303, -5.603799819946289, -4.9679999351501465, -5.055200099945068, -6.159800052642822, -5.423999786376953, -5.939899921417236, -4.944699764251709, -4.9882001876831055, -4.931300163269043, -4.680099964141846, -5.657700061798096, -5.437900066375732, -4.7789998054504395, -5.047599792480469, -4.993299961090088, -5.570300102233887, -5.1828999519348145, -4.96019983291626, -4.930699825286865, -4.9440999031066895, -5.110400199890137, -5.506999969482422, -5.08050012588501, -5.298099994659424, -5.082399845123291, -5.046999931335449, -5.299099922180176, -5.40880012512207, -5.468500137329102, -5.470799922943115, -6.00029993057251, -6.068900108337402, -6.12529993057251, -6.14169979095459, -6.263400077819824, -6.299600124359131, -6.313399791717529, -6.415500164031982, -6.425000190734863, -6.4274001121521, -6.4721999168396, -6.496500015258789, -6.50540018081665, -6.5096001625061035, -6.5208001136779785, -6.524600028991699, -6.583799839019775, -6.644499778747559, -6.669099807739258, -6.701499938964844, -6.712500095367432, -6.7170000076293945, -6.719699859619141, -6.720600128173828, -6.7494001388549805, -6.752999782562256, -6.780600070953369, -6.782599925994873, -6.808499813079834, -6.818699836730957, -6.174300193786621, -6.234099864959717, -5.981100082397461, -5.685200214385986, -6.381800174713135, -5.814000129699707, -6.116700172424316, -6.130799770355225, -6.166200160980225, -5.909999847412109, -6.247200012207031, -5.768099784851074, -6.40339994430542, -5.678400039672852, -5.765399932861328, -5.65880012512207, -5.472599983215332, -4.996300220489502, -5.832699775695801, -5.050600051879883, -5.354000091552734, -5.872300148010254, -4.975599765777588, -5.736199855804443, -6.019899845123291, -5.382699966430664, -5.012700080871582, -5.878799915313721, -5.117300033569336, -5.501100063323975, -5.381199836730957, -5.413099765777588, -5.340199947357178, -5.3480000495910645, -5.57420015335083, -5.72160005569458, -5.49970006942749, -5.565299987792969, -5.574100017547607, -5.729499816894531, -5.623899936676025, -5.599400043487549, -5.643400192260742, -5.582099914550781, -5.619500160217285, -5.728499889373779, -5.734099864959717, -5.662499904632568, -5.826099872589111, -5.9334001541137695, -5.979100227355957, -5.993500232696533, -6.138000011444092, -6.247799873352051, -6.262499809265137, -6.327499866485596, -6.420300006866455, -6.440000057220459, -6.453700065612793, -6.462500095367432, -6.531499862670898, -6.571899890899658, -6.563300132751465, -6.64109992980957, -6.649799823760986, -6.654799938201904, -6.657199859619141, -6.665599822998047, -6.666299819946289, -6.696700096130371, -6.705699920654297, -6.719600200653076, -6.728600025177002, -6.771699905395508, -6.80679988861084, -6.811399936676025, -6.82420015335083, -6.138999938964844, -6.091599941253662, -5.626500129699707, -6.431700229644775, -6.091000080108643, -4.684700012207031, -5.39870023727417, -4.401599884033203, -4.469399929046631, -4.117300033569336, -4.160299777984619, -6.018700122833252, -4.451700210571289, -5.9166998863220215, -5.729800224304199, -5.328100204467773, -4.36299991607666, -4.255499839782715, -4.280399799346924, -5.148200035095215, -4.6616997718811035, -4.5467000007629395, -4.640600204467773, -5.1579999923706055, -5.116700172424316, -4.859000205993652, -4.812600135803223, -4.563300132751465, -5.113100051879883, -5.109899997711182, -5.047699928283691, -5.002900123596191, -4.890699863433838, -5.120999813079834, -4.825300216674805, -4.639400005340576, -4.942299842834473, -4.876800060272217, -4.7916998863220215, -4.914999961853027, -5.049099922180176, -5.639900207519531, -5.76170015335083, -5.9207000732421875, -6.013999938964844, -6.037199974060059, -6.260900020599365, -6.426700115203857, -6.47130012512207, -6.47629976272583, -6.537099838256836, -6.541200160980225, -6.60830020904541, -6.65369987487793, -6.664400100708008, -6.675600051879883, -6.732699871063232, -6.763999938964844, -6.773499965667725, -6.78410005569458, -6.790900230407715, -6.801199913024902, -6.804999828338623, -6.813700199127197, -6.813700199127197, -6.837500095367432, -6.838600158691406, -6.842599868774414, -6.854800224304199, -6.861400127410889, -6.8730998039245605, -5.767899990081787, -5.0665998458862305, -5.426700115203857, -4.140699863433838, -6.31220006942749, -3.9286000728607178, -4.00570011138916, -4.499300003051758, -6.4415998458862305, -4.807600021362305, -4.886499881744385, -4.410999774932861, -4.939300060272217, -4.769999980926514, -4.531899929046631, -4.554500102996826, -4.138899803161621, -5.205599784851074, -4.251299858093262, -5.450699806213379, -4.659200191497803, -5.813600063323975, -4.635700225830078, -4.283299922943115, -4.214200019836426, -5.035299777984619, -5.106100082397461, -4.366000175476074, -4.651599884033203, -4.540800094604492, -4.909599781036377, -4.55810022354126, -4.937699794769287, -4.90310001373291, -4.86460018157959, -4.8979997634887695, -4.905099868774414, -5.0971999168396, -5.937399864196777, -6.120699882507324, -6.2195000648498535, -6.279900074005127, -6.325200080871582, -6.374800205230713, -6.383299827575684, -6.3983001708984375, -6.432499885559082, -6.439799785614014, -6.488100051879883, -6.500899791717529, -6.529699802398682, -6.562399864196777, -6.562900066375732, -6.608099937438965, -6.625800132751465, -6.649700164794922, -6.650700092315674, -6.660799980163574, -6.666100025177002, -6.6743998527526855, -6.678899765014648, -6.718200206756592, -6.723400115966797, -6.728799819946289, -6.731500148773193, -6.740499973297119, -6.762800216674805, -6.784200191497803, -5.669600009918213, -5.439499855041504, -6.079699993133545, -5.998899936676025, -6.47189998626709, -5.959799766540527, -5.687300205230713, -5.614500045776367, -6.312900066375732, -5.860599994659424, -6.001500129699707, -5.51170015335083, -5.028900146484375, -4.896200180053711, -4.589399814605713, -5.003699779510498, -6.354800224304199, -5.854499816894531, -4.975399971008301, -4.988699913024902, -5.3059000968933105, -5.508200168609619, -4.529099941253662, -5.780799865722656, -5.23360013961792, -5.038599967956543, -5.356800079345703, -4.863800048828125, -4.706299781799316, -4.827199935913086, -4.569499969482422, -4.9116997718811035, -4.811200141906738, -5.006800174713135, -4.993199825286865, -4.906300067901611, -5.435699939727783, -4.976500034332275, -5.255300045013428, -5.232500076293945, -5.117400169372559, -5.397299766540527, -5.29610013961792, -5.343400001525879, -5.398799896240234, -5.412600040435791, -5.425899982452393, -4.998300075531006, -5.243100166320801, -5.653299808502197, -5.715700149536133, -5.735499858856201, -5.7357001304626465, -6.0706000328063965, -6.083499908447266, -6.1554999351501465, -6.182799816131592, -6.219699859619141, -6.252500057220459, -6.274600028991699, -6.276100158691406, -6.403900146484375, -6.4268999099731445, -6.508800029754639, -6.537899971008301, -6.543600082397461, -6.546599864959717, -6.554599761962891, -6.634300231933594, -6.649099826812744, -6.668000221252441, -6.673999786376953, -6.725399971008301, -6.729700088500977, -6.732600212097168, -6.745299816131592, -6.793399810791016, -5.5904998779296875, -4.189700126647949, -5.972700119018555, -6.060200214385986, -5.0295000076293945, -5.470699787139893, -5.993599891662598, -4.710999965667725, -5.408199787139893, -5.405700206756592, -5.113399982452393, -4.9278998374938965, -5.814899921417236, -5.646699905395508, -5.247900009155273, -5.530399799346924, -4.78000020980835, -4.80649995803833, -5.668099880218506, -4.6132001876831055, -5.217400074005127, -4.902200222015381, -4.996500015258789, -4.802000045776367, -5.085999965667725, -4.815199851989746, -4.494200229644775, -4.336400032043457, -4.684000015258789, -4.384200096130371, -4.394100189208984, -4.396900177001953, -4.424900054931641, -4.559999942779541, -5.193999767303467, -4.8358001708984375, -5.146999835968018, -4.730000019073486, -4.757900238037109, -4.9394001960754395, -5.091400146484375, -4.917300224304199, -5.066199779510498, -5.037700176239014, -5.002699851989746, -5.089700222015381, -5.281599998474121, -5.583899974822998, -5.7052001953125, -5.770999908447266, -5.803699970245361, -5.810299873352051, -5.813000202178955, -5.851399898529053, -5.884099960327148, -5.921000003814697, -5.962299823760986, -5.973100185394287, -5.995299816131592, -6.025000095367432, -6.026400089263916, -6.042500019073486, -6.0518999099731445, -6.0731000900268555, -6.101900100708008, -6.109899997711182, -6.115699768066406, -6.121099948883057, -6.121200084686279, -6.179800033569336, -6.237599849700928, -6.240900039672852, -6.257999897003174, -6.261499881744385, -6.2947998046875, -6.3267998695373535, -4.912499904632568, -5.282400131225586, -5.077199935913086, -5.086400032043457, -5.112100124359131, -4.157899856567383, -4.663400173187256, -5.048900127410889, -4.129799842834473, -5.418499946594238, -5.257699966430664, -5.315100193023682, -5.107600212097168, -5.188600063323975, -4.859899997711182, -5.018599987030029, -5.420300006866455, -4.214799880981445, -5.47130012512207, -4.329500198364258, -4.658899784088135, -5.018700122833252, -5.258399963378906, -4.325200080871582, -5.059500217437744, -4.46150016784668, -4.968999862670898, -5.358099937438965, -4.933599948883057, -5.082499980926514, -4.906899929046631, -4.9527997970581055, -5.100800037384033, -5.081500053405762, -5.19890022277832, -5.247499942779541, -5.24970006942749, -5.1682000160217285, -5.209000110626221, -5.4567999839782715, -5.526899814605713, -5.539100170135498, -5.540999889373779, -5.560100078582764, -5.563000202178955, -5.577099800109863, -5.587299823760986, -5.602099895477295, -5.61870002746582, -5.634200096130371, -5.727099895477295, -5.770899772644043, -5.5802998542785645, -5.837200164794922, -5.838200092315674, -5.843599796295166, -5.8856000900268555, -5.901899814605713, -5.9496002197265625, -5.96019983291626, -5.962399959564209, -6.034900188446045, -6.051799774169922, -6.066100120544434, -6.067399978637695, -6.123300075531006, -6.132599830627441, -5.088699817657471, -5.301700115203857, -4.673099994659424, -5.250999927520752, -5.718299865722656, -5.457600116729736, -5.256700038909912, -5.43209981918335, -5.105899810791016, -5.528200149536133, -5.040200233459473, -5.462600231170654, -5.461900234222412, -5.099299907684326, -4.775100231170654, -5.431000232696533, -5.3850998878479, -4.649400234222412, -4.985199928283691, -5.370699882507324, -5.143099784851074, -5.406599998474121, -5.384500026702881, -5.366199970245361, -5.484399795532227, -5.336100101470947, -5.367199897766113, -5.334499835968018, -5.488399982452393, -5.404799938201904, -5.1041998863220215, -5.283299922943115, -5.2941999435424805, -5.301700115203857, -5.302199840545654, -5.358799934387207, -5.441400051116943, -5.445700168609619, -5.462200164794922, -5.496200084686279, -5.5142998695373535, -5.578000068664551, -5.648499965667725, -5.6528000831604, -5.6656999588012695, -5.6753997802734375, -5.696800231933594, -5.71999979019165, -5.723299980163574, -5.759900093078613, -5.761300086975098, -5.4105000495910645, -5.793499946594238, -5.812399864196777, -5.820899963378906, -5.842400074005127, -5.851900100708008, -5.856100082397461, -5.870100021362305, -5.900599956512451, -4.682799816131592, -5.201499938964844, -5.333399772644043, -5.155200004577637, -5.542500019073486, -5.429699897766113, -5.151000022888184, -5.083399772644043, -5.126299858093262, -5.16349983215332, -4.8703999519348145, -5.181000232696533, -5.152200222015381, -5.335100173950195, -5.386899948120117, -5.506700038909912, -5.446000099182129, -4.854300022125244, -5.396500110626221, -5.436299800872803]}, \"token.table\": {\"Topic\": [7, 6, 7, 10, 1, 1, 2, 3, 4, 5, 6, 7, 8, 9, 10, 1, 4, 5, 8, 1, 2, 3, 4, 5, 6, 7, 9, 10, 9, 5, 1, 2, 3, 5, 6, 7, 9, 10, 5, 1, 2, 3, 5, 7, 10, 2, 3, 6, 7, 9, 2, 2, 1, 3, 5, 9, 10, 3, 4, 5, 6, 9, 10, 1, 2, 3, 4, 5, 6, 8, 9, 10, 1, 4, 5, 6, 1, 2, 3, 4, 5, 6, 7, 8, 9, 1, 2, 7, 1, 2, 3, 4, 5, 6, 7, 9, 7, 6, 1, 2, 3, 4, 6, 7, 8, 9, 10, 1, 2, 3, 4, 5, 6, 7, 8, 9, 10, 2, 3, 7, 8, 9, 1, 4, 4, 5, 6, 7, 9, 6, 2, 5, 9, 2, 9, 7, 3, 4, 3, 6, 8, 9, 5, 1, 2, 3, 4, 5, 6, 7, 8, 9, 10, 2, 8, 1, 2, 3, 6, 7, 8, 9, 10, 1, 2, 3, 4, 5, 6, 7, 8, 9, 2, 3, 4, 5, 6, 7, 8, 9, 2, 3, 4, 5, 6, 7, 8, 9, 2, 1, 4, 6, 1, 2, 3, 4, 5, 6, 7, 8, 9, 1, 3, 4, 8, 1, 3, 7, 10, 2, 7, 9, 10, 2, 3, 5, 6, 7, 8, 9, 9, 1, 2, 3, 4, 5, 6, 7, 8, 9, 10, 4, 1, 2, 3, 4, 5, 6, 9, 10, 5, 3, 6, 9, 2, 3, 9, 10, 6, 1, 2, 3, 4, 5, 6, 7, 8, 9, 10, 4, 4, 10, 7, 5, 4, 1, 2, 3, 5, 8, 9, 1, 2, 3, 6, 8, 10, 2, 3, 4, 5, 6, 7, 8, 10, 6, 8, 3, 9, 2, 8, 2, 3, 6, 7, 8, 9, 6, 8, 5, 2, 10, 10, 4, 2, 3, 6, 7, 1, 2, 3, 4, 5, 6, 8, 10, 3, 4, 5, 9, 6, 10, 1, 4, 6, 10, 7, 2, 3, 8, 9, 10, 8, 4, 1, 2, 3, 4, 5, 6, 7, 8, 9, 10, 6, 2, 2, 3, 5, 6, 7, 8, 9, 2, 2, 3, 7, 3, 7, 1, 2, 5, 8, 3, 9, 3, 1, 1, 2, 3, 4, 5, 6, 8, 9, 10, 4, 6, 1, 2, 3, 4, 6, 7, 8, 9, 10, 9, 9, 10, 1, 2, 3, 6, 7, 8, 9, 4, 1, 2, 3, 6, 7, 8, 2, 3, 5, 6, 7, 8, 2, 3, 6, 7, 8, 9, 10, 1, 2, 3, 4, 5, 6, 8, 9, 10, 2, 1, 2, 3, 4, 5, 6, 7, 9, 10, 7, 1, 2, 3, 4, 5, 6, 7, 9, 10, 4, 6, 8, 10, 6, 10, 3, 10, 2, 3, 6, 7, 8, 9, 10, 1, 3, 1, 2, 3, 4, 5, 6, 8, 9, 10, 4, 10, 6, 4, 9, 4, 1, 2, 3, 7, 9, 3, 10, 2, 3, 4, 5, 6, 7, 8, 9, 6, 4, 5, 2, 3, 4, 5, 6, 7, 8, 9, 10, 7, 2, 3, 6, 7, 1, 2, 3, 4, 5, 6, 7, 10, 1, 2, 3, 4, 6, 7, 8, 9, 1, 2, 3, 4, 5, 6, 7, 8, 9, 10, 1, 2, 3, 4, 5, 6, 7, 10, 2, 6, 9, 7, 5, 1, 2, 3, 4, 5, 6, 7, 8, 8, 1, 2, 3, 4, 5, 6, 7, 8, 9, 10, 8, 1, 2, 3, 4, 5, 6, 7, 8, 9, 10, 5, 3, 1, 2, 3, 4, 5, 6, 7, 8, 9, 10, 9, 7, 1, 2, 3, 4, 5, 6, 8, 10, 3, 3, 6, 9, 2, 3, 7, 3, 6, 8, 3, 6, 10, 6, 9, 1, 2, 3, 4, 5, 6, 9, 10, 3, 9, 4, 4, 2, 3, 9, 10, 9, 1, 2, 3, 4, 5, 6, 8, 9, 7, 2, 3, 5, 8, 10, 1, 2, 3, 4, 5, 6, 7, 9, 10, 1, 2, 3, 4, 5, 6, 7, 8, 9, 10, 1, 2, 3, 4, 5, 6, 7, 8, 9, 10, 6, 9, 6, 5, 6, 1, 3, 6, 8, 7, 8, 2, 7, 9, 1, 2, 3, 4, 7, 9, 2, 10, 3, 5, 2, 7, 2, 3, 4, 5, 6, 7, 1, 2, 3, 4, 5, 6, 7, 8, 9, 10, 5, 1, 2, 3, 4, 5, 6, 7, 8, 9, 10, 1, 2, 3, 4, 5, 6, 7, 8, 9, 10, 7, 4, 5, 3, 9, 4, 3, 10, 1, 2, 3, 4, 5, 6, 7, 8, 1, 3, 4, 5, 6, 7, 9, 10, 2, 1, 4, 10, 1, 2, 3, 4, 5, 6, 8, 9, 10, 2, 8, 8, 2, 3, 7, 7, 9, 2, 4, 1, 4, 10, 8, 2, 7, 1, 2, 3, 4, 5, 6, 7, 8, 9, 10, 1, 2, 3, 4, 6, 9, 4, 1, 1, 2, 4, 5, 6, 4, 10, 1, 2, 3, 5, 6, 8, 9, 10, 9, 1, 5, 1, 1, 2, 3, 4, 5, 6, 8, 9, 2, 9, 10, 8, 1, 2, 3, 4, 5, 6, 7, 8, 9, 10, 2, 4, 6, 7, 8, 1, 2, 3, 4, 5, 6, 8, 9, 3, 2, 8, 1, 2, 3, 4, 5, 6, 7, 8, 9, 10, 3, 2, 1, 4, 5, 6, 9, 10, 1, 1, 2, 3, 7, 8, 9, 10, 7, 10, 3, 3, 5, 6, 7, 7, 3, 7, 9, 10, 7, 1, 2, 3, 5, 6, 7, 1, 4, 10, 1, 2, 3, 4, 5, 6, 7, 8, 9, 10, 7, 7, 3, 3, 2, 2, 10, 3, 1, 2, 3, 9, 1, 2, 3, 4, 5, 6, 7, 8, 9, 2, 3, 5, 6, 7, 8, 9, 6, 10, 1, 1, 2, 3, 4, 5, 6, 8, 10, 1, 2, 3, 5, 6, 7, 8, 9, 1, 2, 3, 4, 5, 6, 7, 8, 9, 10, 3, 5, 1, 2, 3, 4, 5, 6, 8, 9, 10, 6, 8, 1, 4, 6, 5, 1, 9, 1, 9, 10, 1, 2, 3, 4, 5, 6, 8, 9, 1, 2, 3, 4, 5, 7, 8, 9, 10, 1, 2, 3, 5, 6, 7, 8, 9, 10, 10, 9, 5, 2, 3, 5, 8, 1, 4, 6, 2, 3, 9, 5, 4, 7, 9, 10, 2, 3, 6, 7, 9, 2, 3, 5, 6, 9, 1, 2, 3, 6, 2, 7, 1, 2, 3, 1, 4, 10, 2, 3, 7, 10, 2, 3, 4, 5, 6, 7, 8, 9, 1, 1, 2, 8, 9, 1, 2, 3, 4, 5, 6, 7, 8, 9, 10, 3, 8, 9, 9, 4, 6, 7, 3, 9, 7, 5, 5, 1, 2, 3, 4, 6, 9, 10, 2, 5, 2, 3, 6, 2, 4, 2, 8, 5, 5, 3, 4, 5, 6, 7, 8, 9, 10, 1, 7, 1, 2, 3, 4, 5, 6, 7, 9, 10, 1, 7, 1, 1, 2, 3, 4, 5, 6, 7, 8, 9, 10, 1, 2, 3, 4, 6, 9, 10, 4, 1, 2, 3, 6, 7, 8, 9, 10, 1, 2, 3, 4, 5, 6, 7, 8, 9, 10, 10, 10, 1, 2, 3, 4, 5, 6, 7, 8, 9, 10, 1, 2, 3, 6, 8, 6, 10, 2, 1, 2, 3, 4, 5, 6, 7, 8, 9, 10, 1, 6, 2, 3, 6, 9, 1, 2, 3, 4, 5, 6, 7, 8, 9, 10, 1, 2, 3, 4, 6, 7, 9, 10, 7, 3, 8, 6, 1, 2, 3, 7, 8, 9, 5, 5, 5, 6, 9, 1, 2, 3, 4, 5, 6, 7, 1, 2, 3, 5, 6, 9, 1, 2, 3, 4, 5, 6, 7, 8, 9, 10, 9, 10, 1, 1, 1, 4, 5, 6, 9, 10, 1, 1, 4, 5, 6, 10, 3, 7, 8, 1, 2, 3, 4, 5, 6, 7, 8, 9, 3, 1, 2, 3, 4, 5, 7, 9, 2, 3, 5, 6, 1, 3, 10, 1, 2, 3, 6, 9, 10, 1, 4, 6, 1, 5, 9, 10, 1, 2, 3, 4, 6, 7, 9, 10, 9, 1, 1, 1, 6, 8, 1, 2, 3, 4, 5, 6, 7, 8, 9, 10, 1, 2, 3, 5, 2, 3, 7, 9, 6, 10, 4, 9, 4, 2, 3, 10, 2, 3, 4, 5, 7, 10, 10, 1, 2, 3, 4, 5, 6, 7, 9, 10, 9, 2, 3, 7, 10, 4, 1, 2, 3, 6, 8, 9, 10, 6, 1, 5, 8, 2, 3, 7, 8, 10, 2, 3, 5, 6, 7, 8, 9, 8, 2, 3, 4, 5, 6, 7, 8, 9, 10, 1, 2, 3, 8, 9, 1, 2, 3, 4, 5, 6, 7, 1, 2, 3, 4, 5, 6, 7, 8, 9, 10, 8, 1, 3, 4, 5, 7, 9, 10, 1, 6, 8, 7, 4, 9, 1, 2, 3, 4, 5, 6, 7, 9, 10, 1, 4, 2, 4, 6, 7, 8, 9, 10, 8, 1, 2, 3, 4, 5, 6, 7, 8, 9, 10, 3, 10, 4, 3, 8, 9, 8, 5, 1, 3, 4, 5, 9, 10, 2, 8, 1, 2, 3, 4, 5, 6, 7, 8, 9, 1, 2, 8, 10, 3, 3, 8, 9, 5, 2, 3, 6, 2, 3, 6, 7, 9, 2, 3, 2, 3, 8, 1, 2, 3, 4, 5, 6, 7, 8, 8, 4, 6, 1, 10, 1, 9, 9, 6, 2, 3, 4, 10, 6, 3, 6, 7, 6, 2, 4, 1, 2, 3, 4, 5, 6, 7, 8, 9, 10, 9, 1, 2, 3, 6, 7, 9, 10, 1, 2, 3, 4, 5, 6, 7, 8, 9, 10, 1, 2, 3, 6, 9, 10, 2, 4, 6, 9, 10, 5, 8, 10, 3, 1, 2, 3, 6, 8, 9, 1, 2, 3, 5, 6, 7, 9, 1, 2, 3, 4, 5, 6, 7, 8, 9, 10, 1, 2, 4, 5, 6, 7, 9, 10, 1, 2, 3, 5, 6, 7, 8, 6, 2, 3, 4, 5, 7, 9, 7, 4, 9, 1, 1, 2, 3, 4, 5, 6, 7, 8, 9, 10, 8, 9, 3, 7, 9, 3, 8, 1, 2, 4, 5, 1, 4, 8, 7, 9, 2, 10, 1, 3, 4, 5, 10, 10, 3, 8, 1, 2, 3, 4, 5, 7, 9, 10, 4, 1, 2, 3, 4, 5, 6, 7, 8, 9, 10, 1, 1, 3, 1, 2, 3, 4, 5, 6, 7, 8, 9, 10, 6, 2, 9, 6, 8, 9, 10, 4, 10, 4, 2, 3, 4, 10, 7, 1, 2, 3, 4, 5, 6, 7, 8, 9, 10, 6, 2, 3, 5, 6, 7, 8, 9, 2, 3, 9, 10, 5, 6, 7, 10, 1, 4, 6, 7, 1, 2, 3, 4, 5, 7, 8, 9, 10, 3, 2, 3, 4, 5, 6, 7, 8, 9, 2, 3, 4, 5, 6, 7, 8, 9, 10, 2, 2, 1, 2, 3, 4, 6, 7, 8, 9, 10, 1, 2, 3, 4, 5, 6, 8, 9, 10, 10, 10, 3, 5, 8, 9, 10, 3, 4, 1, 2, 3, 4, 5, 6, 7, 8, 9, 10, 5, 9, 6, 1, 3, 7, 8, 1, 2, 3, 4, 5, 6, 7, 8, 9, 10, 1, 3, 4, 5, 9, 10, 7, 2, 3, 6, 7, 8, 9, 1, 2, 3, 6, 8, 9, 1, 2, 3, 4, 5, 6, 7, 8, 9, 10, 5, 3, 1, 4, 5, 6, 10, 2, 7, 9, 9, 6, 6, 10, 7, 3, 4, 2, 10, 9, 1, 2, 3, 4, 5, 6, 7, 8, 9, 10, 3, 2, 3, 5, 3, 1, 2, 3, 4, 5, 6, 9, 10, 3, 2, 3, 5, 6, 7, 9, 6, 2, 3, 10, 2, 9, 10, 9, 8, 9, 3, 7, 10, 2, 8, 1, 2, 3, 7, 8, 9, 1, 2, 3, 4, 5, 6, 7, 9, 10, 1, 2, 3, 4, 5, 6, 7, 8, 9, 8, 1, 3, 4, 5, 9, 8, 1, 2, 3, 4, 5, 6, 7, 8, 3, 8, 10, 7, 2, 3, 9, 10, 2, 4, 1, 2, 3, 4, 5, 6, 7, 9, 10, 1, 4, 5, 1, 2, 3, 4, 5, 6, 7, 9, 10, 1, 3, 4, 7, 8, 9, 2, 3, 6, 3, 6, 1], \"Freq\": [0.9787490963935852, 0.09277671575546265, 0.12370229512453079, 0.7782936096191406, 0.9840553402900696, 0.24214696884155273, 0.06863401085138321, 0.037401679903268814, 0.2675955295562744, 0.1970335990190506, 0.07441777735948563, 0.05668089911341667, 0.044342197477817535, 0.010410777293145657, 0.0015423373552039266, 0.015142502263188362, 0.684441089630127, 0.2665080428123474, 0.03482775762677193, 0.029588455334305763, 0.10104736685752869, 0.03182154521346092, 0.21884292364120483, 0.5353835821151733, 0.05415245518088341, 0.008374091237783432, 0.0039079091511666775, 0.017306454479694366, 0.9945140480995178, 0.9816411137580872, 0.12408080697059631, 0.14449916779994965, 0.050260577350854874, 0.05340186506509781, 0.4994645118713379, 0.08638536930084229, 0.026700932532548904, 0.014135788194835186, 0.9864259362220764, 0.11482472717761993, 0.02076617442071438, 0.021987713873386383, 0.004886158742010593, 0.8355331420898438, 0.9869171380996704, 0.14161750674247742, 0.19472406804561615, 0.16718733310699463, 0.49369433522224426, 0.0019669097382575274, 0.9857715368270874, 0.9899795055389404, 0.3385636806488037, 0.0967324823141098, 0.060457803308963776, 0.46754035353660583, 0.036274682730436325, 0.5169388651847839, 0.12659728527069092, 0.11604750901460648, 0.07736500352621078, 0.045715682208538055, 0.11604750901460648, 0.7193174362182617, 0.006826998665928841, 0.005585726350545883, 0.23149731755256653, 0.006206362508237362, 0.011792088858783245, 0.0037238174118101597, 0.004344453569501638, 0.011171452701091766, 0.6500034928321838, 0.26872438192367554, 0.021104007959365845, 0.060498159378767014, 0.24226437509059906, 0.2222178429365158, 0.06909652799367905, 0.00853043608367443, 0.012795653194189072, 0.00938347913324833, 0.2307482808828354, 0.16847610473632812, 0.03668087348341942, 0.11789322644472122, 0.1273246854543686, 0.7498009204864502, 0.07036174088716507, 0.04837369546294212, 0.005497010890394449, 0.6156651973724365, 0.22867564857006073, 0.019789239391684532, 0.007695815060287714, 0.004397608805447817, 0.9892339110374451, 0.9871881008148193, 0.10916337370872498, 0.2539719343185425, 0.09691034257411957, 0.017822591587901115, 0.031189534813165665, 0.27402234077453613, 0.2105293571949005, 0.003341736039146781, 0.0022278239484876394, 0.21142315864562988, 0.20421555638313293, 0.0492519848048687, 0.18859906494617462, 0.22583837807178497, 0.06787163764238358, 0.03603803738951683, 0.004805071745067835, 0.006606973707675934, 0.005405705887824297, 0.1079820841550827, 0.030852023512125015, 0.7790135741233826, 0.05784754455089569, 0.019282514229416847, 0.9205760359764099, 0.07560286670923233, 0.9825392365455627, 0.03516653925180435, 0.9553576707839966, 0.054190706461668015, 0.9393055438995361, 0.9798859357833862, 0.9852437973022461, 0.06977609544992447, 0.9210444688796997, 0.11395416408777237, 0.8848205804824829, 0.9805794358253479, 0.9921506643295288, 0.9803394079208374, 0.6197553873062134, 0.2937801778316498, 0.02817070111632347, 0.05231701582670212, 0.9737454056739807, 0.00351631548255682, 0.18887637555599213, 0.038177140057086945, 0.05525638535618782, 0.14868991076946259, 0.04219578579068184, 0.23760245740413666, 0.2541793882846832, 0.031646840274333954, 0.0005023307749070227, 0.9718895554542542, 0.9805310964584351, 0.2080821543931961, 0.2544482946395874, 0.09725578874349594, 0.15832337737083435, 0.024879388511180878, 0.2397468388080597, 0.015832338482141495, 0.0011308812536299229, 0.32835230231285095, 0.07849059253931046, 0.0248553529381752, 0.04578617587685585, 0.16875477135181427, 0.017006294801831245, 0.06279247254133224, 0.23547177016735077, 0.03793711960315704, 0.3213558793067932, 0.14415578544139862, 0.010326345451176167, 0.21478798985481262, 0.04956645891070366, 0.2304840385913849, 0.026848498731851578, 0.0020652692764997482, 0.3704001009464264, 0.10329639166593552, 0.004889769945293665, 0.11735448241233826, 0.23532018065452576, 0.09840662777423859, 0.0672343373298645, 0.0036673275753855705, 0.9759215712547302, 0.6828474402427673, 0.31544581055641174, 0.9907413125038147, 0.11204609274864197, 0.3889041841030121, 0.14005762338638306, 0.0944574624300003, 0.08533743023872375, 0.07165738195180893, 0.054720185697078705, 0.044297292828559875, 0.008468599990010262, 0.08100910484790802, 0.8542778491973877, 0.05891571566462517, 0.9928195476531982, 0.9004029631614685, 0.06669651716947556, 0.02052200399339199, 0.010261001996695995, 0.2302870899438858, 0.703798770904541, 0.046574916690588, 0.018112467601895332, 0.4304402768611908, 0.28585225343704224, 0.01661931537091732, 0.10303976386785507, 0.04985794797539711, 0.05484374240040779, 0.05982953682541847, 0.9914096593856812, 0.26418790221214294, 0.3374342918395996, 0.09703583270311356, 0.04883093759417534, 0.05070905014872551, 0.07825470715761185, 0.08263696730136871, 0.01940716803073883, 0.016903016716241837, 0.004382263403385878, 0.9946455955505371, 0.09981153160333633, 0.12394178658723831, 0.38937464356422424, 0.12723228335380554, 0.03838904947042465, 0.15684668719768524, 0.00987146981060505, 0.05484149977564812, 0.9778914451599121, 0.8556315302848816, 0.11667702347040176, 0.015556937083601952, 0.11103754490613937, 0.0211500097066164, 0.6239252686500549, 0.2432251125574112, 0.9917017221450806, 0.2724647521972656, 0.1020897701382637, 0.05679165944457054, 0.2684082090854645, 0.06558084487915039, 0.012169641442596912, 0.14400741457939148, 0.0006760911783203483, 0.07707439363002777, 0.0006760911783203483, 0.9791305661201477, 0.9858084321022034, 0.9925914406776428, 0.9921365976333618, 0.9870665073394775, 0.9831625819206238, 0.02527865767478943, 0.15167194604873657, 0.01685243844985962, 0.14324572682380676, 0.6403926610946655, 0.021065548062324524, 0.5065649747848511, 0.025724003091454506, 0.015830155462026596, 0.4412655830383301, 0.0059363082982599735, 0.0019787694327533245, 0.6549416184425354, 0.06347452104091644, 0.009376917965710163, 0.06275322288274765, 0.14714547991752625, 0.04832719266414642, 0.012262123636901379, 0.9897622466087341, 0.9901053309440613, 0.9870384931564331, 0.9779505133628845, 0.008972023613750935, 0.9858298897743225, 0.9947394132614136, 0.6179448366165161, 0.059048064053058624, 0.11946933716535568, 0.04394274577498436, 0.14418712258338928, 0.015105318278074265, 0.9879099726676941, 0.9820481538772583, 0.9719220399856567, 0.9899131059646606, 0.9939625859260559, 0.99238520860672, 0.9916002154350281, 0.713727593421936, 0.178431898355484, 0.06460465490818024, 0.03999335691332817, 0.05949646234512329, 0.05568258464336395, 0.036613207310438156, 0.43478184938430786, 0.35240212082862854, 0.026697130873799324, 0.032799333333969116, 0.0007627751328982413, 0.14113417267799377, 0.055226411670446396, 0.159542977809906, 0.6443081498146057, 0.942471444606781, 0.04363293573260307, 0.6299788355827332, 0.1844758689403534, 0.17569130659103394, 0.0075296275317668915, 0.9850943088531494, 0.17685158550739288, 0.07958321273326874, 0.03979160636663437, 0.6808785796165466, 0.01768515817821026, 0.985114336013794, 0.9874350428581238, 0.004580323584377766, 0.2935570776462555, 0.1311638057231903, 0.019154079258441925, 0.028731118887662888, 0.20444898307323456, 0.23484566807746887, 0.03872455283999443, 0.0416393019258976, 0.003331144340336323, 0.9923361539840698, 0.9880498051643372, 0.5307387709617615, 0.10542070865631104, 0.07906553149223328, 0.16994546353816986, 0.045439962297677994, 0.06361594796180725, 0.005452795419842005, 0.9959615468978882, 0.07325441390275955, 0.10341799259185791, 0.8187257647514343, 0.06200699508190155, 0.9301049113273621, 0.08410065621137619, 0.11321242153644562, 0.18437451124191284, 0.6178163886070251, 0.9540453553199768, 0.04303963854908943, 0.987616777420044, 0.9909491539001465, 0.671316921710968, 0.00859744194895029, 0.010030348785221577, 0.263654887676239, 0.010030348785221577, 0.006448081228882074, 0.015045522712171078, 0.005731627810746431, 0.009313895367085934, 0.09755725413560867, 0.88885498046875, 0.6099512577056885, 0.08281906694173813, 0.02238353155553341, 0.11303683370351791, 0.06043553724884987, 0.0011191766243427992, 0.03357529640197754, 0.07050812244415283, 0.005595882888883352, 0.9865864515304565, 0.028805186972022057, 0.9649738073348999, 0.01714731939136982, 0.2229151427745819, 0.164328470826149, 0.012860489077866077, 0.5272800326347351, 0.048584070056676865, 0.0057157729752361774, 0.9875714778900146, 0.9931139945983887, 0.6430553793907166, 0.07856332510709763, 0.18622417747974396, 0.07856332510709763, 0.011639011092483997, 0.5380407571792603, 0.0785248652100563, 0.05089574679732323, 0.011633314192295074, 0.28937867283821106, 0.029083283618092537, 0.24488535523414612, 0.16869880259037018, 0.43943315744400024, 0.01496521569788456, 0.01496521569788456, 0.1156403049826622, 0.0013604741543531418, 0.19260115921497345, 0.19146820902824402, 0.08723699301481247, 0.11556068807840347, 0.07364162057638168, 0.019260115921497345, 0.03852023184299469, 0.27417340874671936, 0.00793063547462225, 0.9731272459030151, 0.16795195639133453, 0.2563477158546448, 0.15027280151844025, 0.07336848974227905, 0.1157984584569931, 0.18651506304740906, 0.025634773075580597, 0.009723534807562828, 0.015027280896902084, 0.987825870513916, 0.15264512598514557, 0.21200712025165558, 0.0678422823548317, 0.08017724007368088, 0.3954896628856659, 0.02544085495173931, 0.04548516497015953, 0.009251220151782036, 0.011564024724066257, 0.7436343431472778, 0.2535117268562317, 0.9927433729171753, 0.992205798625946, 0.9851539134979248, 0.9866388440132141, 0.8603904247283936, 0.13496319949626923, 0.37656906247138977, 0.40253934264183044, 0.04382484778761864, 0.09089598059654236, 0.00811571255326271, 0.07141827046871185, 0.004869427531957626, 0.07234526425600052, 0.9198184013366699, 0.34201279282569885, 0.03088020160794258, 0.009322324767708778, 0.4643683135509491, 0.059429820626974106, 0.04719426855444908, 0.018644649535417557, 0.025636393576860428, 0.0023305811919271946, 0.9447095394134521, 0.05106538161635399, 0.9928092360496521, 0.8832646012306213, 0.11040807515382767, 0.9868436455726624, 0.19137854874134064, 0.08595816045999527, 0.21732817590236664, 0.49466487765312195, 0.0097311120480299, 0.11280660331249237, 0.8836517333984375, 0.18652908504009247, 0.05486149713397026, 0.10972299426794052, 0.2743074893951416, 0.2727400064468384, 0.06034764647483826, 0.038403045386075974, 0.00313494261354208, 0.987720251083374, 0.992681086063385, 0.9925470948219299, 0.3843035399913788, 0.13370001316070557, 0.0013437187299132347, 0.24321308732032776, 0.03157738968729973, 0.15587137639522552, 0.03224924951791763, 0.013437187299132347, 0.004031156189739704, 0.9856851100921631, 0.2501831352710724, 0.05105777829885483, 0.694385826587677, 0.9777944684028625, 0.14757907390594482, 0.08626100420951843, 0.03221796825528145, 0.3263368308544159, 0.17771846055984497, 0.17667916417121887, 0.04780730605125427, 0.0051964460872113705, 0.20470955967903137, 0.14661630988121033, 0.055326908826828, 0.009682209230959415, 0.0027663453947752714, 0.5242224335670471, 0.00829903595149517, 0.04564470052719116, 0.01662210188806057, 0.19634857773780823, 0.07376057654619217, 0.03012755885720253, 0.5630736947059631, 0.0072721694596111774, 0.08518826961517334, 0.02389427088201046, 0.0010388813680037856, 0.003116643987596035, 0.024353591725230217, 0.048707183450460434, 0.022831492125988007, 0.123290054500103, 0.5601325631141663, 0.14003314077854156, 0.07153867185115814, 0.009132596664130688, 0.13828977942466736, 0.8515738844871521, 0.9854487180709839, 0.9972233176231384, 0.9781163930892944, 0.09226253628730774, 0.11355389654636383, 0.03548559173941612, 0.1958804726600647, 0.4187299907207489, 0.06671291589736938, 0.011355388909578323, 0.06245464086532593, 0.9914513230323792, 0.23851928114891052, 0.13958799839019775, 0.0876377671957016, 0.07363379746675491, 0.11429049074649811, 0.1581093817949295, 0.11700093746185303, 0.04472236707806587, 0.02529750019311905, 0.0009034821414388716, 0.985051155090332, 0.09386725723743439, 0.12568001449108124, 0.020030252635478973, 0.26589179039001465, 0.24311228096485138, 0.1115410104393959, 0.11939601600170135, 0.01649550162255764, 0.0035347503144294024, 0.00039275005110539496, 0.9929471015930176, 0.9883924126625061, 0.08381912857294083, 0.23789839446544647, 0.14791610836982727, 0.014791610650718212, 0.027117952704429626, 0.05300327017903328, 0.11216971278190613, 0.293366938829422, 0.029583221301436424, 0.001232634182088077, 0.9768082499504089, 0.9904073476791382, 0.14559689164161682, 0.07812515646219254, 0.0461648665368557, 0.34919577836990356, 0.29119378328323364, 0.059185728430747986, 0.030776577070355415, 0.9830003976821899, 0.9856098294258118, 0.9919695258140564, 0.9043163657188416, 0.08894915133714676, 0.25515151023864746, 0.08100048452615738, 0.6621789336204529, 0.037796568125486374, 0.8173508048057556, 0.14646171033382416, 0.10262597352266312, 0.11342870444059372, 0.7777968645095825, 0.9753369688987732, 0.9909359216690063, 0.27232086658477783, 0.21785669028759003, 0.1419958770275116, 0.04279327765107155, 0.05835447087883949, 0.017506340518593788, 0.22952759265899658, 0.01945148967206478, 0.983870804309845, 0.9842977523803711, 0.9777849912643433, 0.9834140539169312, 0.9770041704177856, 0.1019953265786171, 0.6959680914878845, 0.19799092411994934, 0.9855160117149353, 0.18508942425251007, 0.17152684926986694, 0.010371390730142593, 0.06302614510059357, 0.07180193811655045, 0.04547455906867981, 0.43958741426467896, 0.01276478823274374, 0.9880151152610779, 0.06509832292795181, 0.030634505674242973, 0.8194730281829834, 0.03446381911635399, 0.045951757580041885, 0.05936833471059799, 0.13964101672172546, 0.022576691582798958, 0.18981143832206726, 0.30102255940437317, 0.1321154534816742, 0.14633040130138397, 0.005017042625695467, 0.0033446948509663343, 0.31442609429359436, 0.26317983865737915, 0.05949775502085686, 0.03430892527103424, 0.019977347925305367, 0.04777191951870918, 0.0469033382833004, 0.19673344492912292, 0.0156344473361969, 0.0017371607245877385, 0.020365510135889053, 0.18619894981384277, 0.033457621932029724, 0.01745615154504776, 0.4305850565433502, 0.06327854841947556, 0.23493069410324097, 0.008000736124813557, 0.005818717181682587, 0.0007273396477103233, 0.12194770574569702, 0.8710550665855408, 0.9839494228363037, 0.9915610551834106, 0.9848322868347168, 0.2344016581773758, 0.040414080023765564, 0.040414080023765564, 0.6789565086364746, 0.990612268447876, 0.9871046543121338, 0.19971922039985657, 0.7245627641677856, 0.06966949254274368, 0.4667440950870514, 0.06428982317447662, 0.10414951294660568, 0.003857389325276017, 0.3574514091014862, 0.0025715928059071302, 0.9892085790634155, 0.9937465190887451, 0.9879482388496399, 0.9761018753051758, 0.9849739670753479, 0.9915898442268372, 0.7846579551696777, 0.067256398499012, 0.037364665418863297, 0.061651695519685745, 0.020550565794110298, 0.028023498132824898, 0.34540489315986633, 0.08230924606323242, 0.04703385755419731, 0.2542767822742462, 0.11513496190309525, 0.00832891184836626, 0.0759400799870491, 0.03674520179629326, 0.032825712114572525, 0.001469808048568666, 0.9796464443206787, 0.15626567602157593, 0.19142545759677887, 0.07031955569982529, 0.16798560321331024, 0.2560626268386841, 0.044748805463314056, 0.03551492467522621, 0.05256209149956703, 0.020598657429218292, 0.004616940394043922, 0.09950041025876999, 0.0554790161550045, 0.01025155745446682, 0.4601140022277832, 0.28101328015327454, 0.06995180249214172, 0.009045491926372051, 0.012060655280947685, 0.0030151638202369213, 0.0006030327640473843, 0.9795944690704346, 0.06116664037108421, 0.9297329187393188, 0.07638109475374222, 0.916573166847229, 0.9848614931106567, 0.9879974126815796, 0.9921544790267944, 0.14259961247444153, 0.05998237803578377, 0.03282054513692856, 0.33046895265579224, 0.3214150071144104, 0.10298861563205719, 0.0022634859196841717, 0.007922201417386532, 0.22651152312755585, 0.1399041712284088, 0.036641571670770645, 0.01665525883436203, 0.0466347262263298, 0.4380333125591278, 0.04496920108795166, 0.05163130536675453, 0.9868484139442444, 0.9571675062179565, 0.026223767548799515, 0.013111883774399757, 0.13180218636989594, 0.20494098961353302, 0.028950771316885948, 0.09066162258386612, 0.14094454050064087, 0.2780797779560089, 0.10970818251371384, 0.014475385658442974, 0.0007618623785674572, 0.027819909155368805, 0.9681328535079956, 0.9922831654548645, 0.18631747364997864, 0.03673865646123886, 0.7767601609230042, 0.8847038149833679, 0.10960932075977325, 0.10469144582748413, 0.893903911113739, 0.7970200777053833, 0.20038501918315887, 0.0015066541964188218, 0.9858290553092957, 0.9827249646186829, 0.9869349002838135, 0.440564900636673, 0.09738803654909134, 0.037873122841119766, 0.1762259602546692, 0.008502129465341568, 0.023960547521710396, 0.02164178527891636, 0.1909114569425583, 0.0030916836112737656, 0.0007729209028184414, 0.10595615953207016, 0.1946636438369751, 0.542101263999939, 0.01724867708981037, 0.13059712946414948, 0.009856387041509151, 0.9949852228164673, 0.9916278719902039, 0.056630343198776245, 0.755071222782135, 0.0037753561045974493, 0.04907963052392006, 0.1321374624967575, 0.9920099973678589, 0.991611659526825, 0.02412133663892746, 0.15586094558238983, 0.022265847772359848, 0.15586094558238983, 0.21523652970790863, 0.4193401634693146, 0.001855487353168428, 0.005566461943089962, 0.9943274855613708, 0.09202281385660172, 0.8972223997116089, 0.9911575317382812, 0.09806759655475616, 0.13201406598091125, 0.06034928932785988, 0.0037718305829912424, 0.047147881239652634, 0.24516898393630981, 0.4092436134815216, 0.0037718305829912424, 0.9810366034507751, 0.8288920521736145, 0.1626797467470169, 0.9902230501174927, 0.12902727723121643, 0.349263459444046, 0.12680266797542572, 0.011864576488733292, 0.0037076801527291536, 0.03633526712656021, 0.26621145009994507, 0.060064420104026794, 0.01705532893538475, 0.0007415360305458307, 0.09801401942968369, 0.6775751709938049, 0.025568874552845955, 0.05113774910569191, 0.14489029347896576, 0.05884649604558945, 0.17856867611408234, 0.06696325540542603, 0.1136346161365509, 0.020291894674301147, 0.014204327017068863, 0.5438228249549866, 0.004058379214257002, 0.9926596283912659, 0.9873136281967163, 0.993495523929596, 0.32370510697364807, 0.1695949286222458, 0.05456532537937164, 0.12019118666648865, 0.07742377370595932, 0.008111061528325081, 0.20498865842819214, 0.03318161517381668, 0.005898954346776009, 0.0014747385866940022, 0.9926331639289856, 0.986775279045105, 0.7949473857879639, 0.14442366361618042, 0.017281465232372284, 0.039500489830970764, 0.0024687806144356728, 0.0012343903072178364, 0.9939646124839783, 0.9972172379493713, 0.12883862853050232, 0.15460634231567383, 0.01932579278945923, 0.5185754299163818, 0.1352805495262146, 0.04509351775050163, 0.9875591993331909, 0.9938346743583679, 0.9864336848258972, 0.990470826625824, 0.9817407131195068, 0.990439772605896, 0.9856470227241516, 0.9891411066055298, 0.09859979152679443, 0.062273550778627396, 0.7939877510070801, 0.04151570051908493, 0.982891321182251, 0.013141799718141556, 0.17459820210933685, 0.075095996260643, 0.01877399906516075, 0.5819939970970154, 0.13705019652843475, 0.9899148344993591, 0.9505402445793152, 0.04812861979007721, 0.14276713132858276, 0.12175065279006958, 0.04783061519265175, 0.11377888172864914, 0.3427860736846924, 0.009421181865036488, 0.191322460770607, 0.028988251462578773, 0.0007247062749229372, 0.0007247062749229372, 0.9822520017623901, 0.9881882667541504, 0.992497980594635, 0.9841586947441101, 0.9883238077163696, 0.2001316398382187, 0.7925212979316711, 0.9794900417327881, 0.0652478039264679, 0.11418365687131882, 0.7720990180969238, 0.04349853843450546, 0.2528764009475708, 0.2581228017807007, 0.08918876945972443, 0.010492796078324318, 0.00839423667639494, 0.009443516843020916, 0.2990446984767914, 0.06715389341115952, 0.00419711833819747, 0.38156357407569885, 0.09012390673160553, 0.0035113210324198008, 0.011704403907060623, 0.4342333674430847, 0.0514993779361248, 0.0257496889680624, 0.33119824528694153, 0.6672670841217041, 0.9850555062294006, 0.7884373068809509, 0.00919704232364893, 0.0050165681168437, 0.17641597986221313, 0.003344378899782896, 0.0050165681168437, 0.011705325916409492, 0.001672189449891448, 0.9936069250106812, 0.2915036082267761, 0.09981446713209152, 0.03516191244125366, 0.12136531621217728, 0.4151374399662018, 0.027222126722335815, 0.007939786650240421, 0.29170674085617065, 0.11595038324594498, 0.11350931972265244, 0.2819425165653229, 0.05919571965932846, 0.03844670578837395, 0.00976424291729927, 0.020138749852776527, 0.058585457503795624, 0.010374507866799831, 0.980353832244873, 0.9815807938575745, 0.1946033239364624, 0.18202121555805206, 0.06794340163469315, 0.05032844841480255, 0.0763314813375473, 0.26590195298194885, 0.13085396587848663, 0.03187468275427818, 0.0008388074347749352, 0.9884612560272217, 0.9921607971191406, 0.8968926072120667, 0.08968926221132278, 0.012812751345336437, 0.9800758361816406, 0.23332643508911133, 0.7617421746253967, 0.9846121668815613, 0.31255605816841125, 0.6837164163589478, 0.17920853197574615, 0.11183690279722214, 0.028296085074543953, 0.020211488008499146, 0.03233838081359863, 0.44061043858528137, 0.176513671875, 0.00943202804774046, 0.2792240083217621, 0.09519001096487045, 0.0710752084851265, 0.3718756437301636, 0.052037205547094345, 0.03934520483016968, 0.05711400508880615, 0.032999202609062195, 0.0012692001182585955, 0.19328978657722473, 0.24631617963314056, 0.13513179123401642, 0.008552645333111286, 0.3523689806461334, 0.0017105290899053216, 0.05473693087697029, 0.006842116359621286, 0.0017105290899053216, 0.9849926829338074, 0.9876131415367126, 0.9878602623939514, 0.6539161205291748, 0.06348700076341629, 0.07195194065570831, 0.20950710773468018, 0.863410472869873, 0.08345231413841248, 0.0513552688062191, 0.9133566617965698, 0.0769142434000969, 0.9931694865226746, 0.9885749816894531, 0.13587841391563416, 0.023631026968359947, 0.1476939171552658, 0.6912075877189636, 0.5345050692558289, 0.19519469141960144, 0.1112792119383812, 0.06020022928714752, 0.09850946813821793, 0.7139431238174438, 0.18151096999645233, 0.020167885348200798, 0.048402924090623856, 0.03226861730217934, 0.06240790709853172, 0.8165034651756287, 0.026003295555710793, 0.08841120451688766, 0.055812206119298935, 0.9432262778282166, 0.18475380539894104, 0.17476710677146912, 0.6391482949256897, 0.9021916389465332, 0.09520615637302399, 0.0015112088294699788, 0.13616816699504852, 0.09077878296375275, 0.7678371667861938, 0.9819058179855347, 0.6040415167808533, 0.06094833463430405, 0.0032650893554091454, 0.11863157898187637, 0.10992467403411865, 0.09577595442533493, 0.0032650893554091454, 0.0032650893554091454, 0.9896267056465149, 0.2942817509174347, 0.15754477679729462, 0.5291126370429993, 0.017835257574915886, 0.41917774081230164, 0.06591310352087021, 0.04887938126921654, 0.2806861400604248, 0.11997666209936142, 0.01703372411429882, 0.029623867943882942, 0.0007405966753140092, 0.012590143829584122, 0.005184176843613386, 0.16071780025959015, 0.8388684988021851, 0.983310878276825, 0.9838458299636841, 0.06747043132781982, 0.8280462026596069, 0.09813880920410156, 0.10464257746934891, 0.8934866189956665, 0.9796507358551025, 0.9771798849105835, 0.9810352921485901, 0.04103296622633934, 0.23024052381515503, 0.05243100970983505, 0.5402673482894897, 0.018236873671412468, 0.0022796092089265585, 0.11398045718669891, 0.9775038361549377, 0.9815598130226135, 0.2447550892829895, 0.6844845414161682, 0.07052265107631683, 0.9952389001846313, 0.9873977303504944, 0.9128515124320984, 0.07768949121236801, 0.9902318120002747, 0.9903860688209534, 0.052235499024391174, 0.15380452573299408, 0.13929466903209686, 0.06674536317586899, 0.03192169591784477, 0.09576508402824402, 0.34243273735046387, 0.11317691951990128, 0.9878033399581909, 0.00946776382625103, 0.019701801240444183, 0.12102535367012024, 0.019701801240444183, 0.14494897425174713, 0.5600940585136414, 0.06473448872566223, 0.0661417618393898, 0.0014072716003283858, 0.0028145432006567717, 0.056901175528764725, 0.9348049759864807, 0.9921537637710571, 0.2747444808483124, 0.30054208636283875, 0.04901544749736786, 0.010319041088223457, 0.0012898801360279322, 0.2760343551635742, 0.012898801825940609, 0.025797603651881218, 0.04643568769097328, 0.0025797602720558643, 0.027458593249320984, 0.07627387344837189, 0.10830889642238617, 0.15407322347164154, 0.5400190353393555, 0.05491718649864197, 0.03966241329908371, 0.9806919097900391, 0.3538939952850342, 0.14155760407447815, 0.23945724964141846, 0.001984452363103628, 0.13361980020999908, 0.11906713992357254, 0.00926077738404274, 0.0006614841404370964, 0.32504934072494507, 0.25324738025665283, 0.06452471762895584, 0.0189207810908556, 0.01649504154920578, 0.040267303586006165, 0.16058407723903656, 0.10333658009767532, 0.017465338110923767, 0.0004851482517551631, 0.9916456341743469, 0.988740086555481, 0.1053956001996994, 0.3139795660972595, 0.060699038207530975, 0.0022072377614676952, 0.014898854307830334, 0.23617443442344666, 0.10263655334711075, 0.1335378885269165, 0.0016554283211007714, 0.029245899990200996, 0.1007009819149971, 0.2243688553571701, 0.017666839063167572, 0.18726849555969238, 0.46817120909690857, 0.9183307886123657, 0.07474785298109055, 0.9808206558227539, 0.23791414499282837, 0.16728338599205017, 0.09603305160999298, 0.049565449357032776, 0.03965235874056816, 0.04584803804755211, 0.3128818869590759, 0.0030978405848145485, 0.045228470116853714, 0.00247827242128551, 0.9440067410469055, 0.05481329560279846, 0.7293282747268677, 0.1886679232120514, 0.03660720959305763, 0.04223908856511116, 0.18586905300617218, 0.163894385099411, 0.03570883348584175, 0.07050205767154694, 0.07050205767154694, 0.003662444418296218, 0.4101937711238861, 0.02014344371855259, 0.03845566511154175, 0.0009156111045740545, 0.5767841935157776, 0.027570944279432297, 0.05403905361890793, 0.15991148352622986, 0.08932986110448837, 0.07499296963214874, 0.01433689147233963, 0.0033085134346038103, 0.9948779940605164, 0.8503246903419495, 0.14172078669071198, 0.9878652691841125, 0.05952112376689911, 0.07812147587537766, 0.029760561883449554, 0.11532217264175415, 0.6621724963188171, 0.05208098143339157, 0.9901902675628662, 0.986241340637207, 0.8874305486679077, 0.1008443832397461, 0.988040030002594, 0.02663823403418064, 0.14080210030078888, 0.057081930339336395, 0.19217583537101746, 0.5080291628837585, 0.041860081255435944, 0.03234642744064331, 0.26815637946128845, 0.186219722032547, 0.06703909486532211, 0.003724394366145134, 0.1508379727602005, 0.32216012477874756, 0.3119301497936249, 0.16003373265266418, 0.11392231285572052, 0.009041453711688519, 0.009041453711688519, 0.005876944866031408, 0.26717495918273926, 0.11437439173460007, 0.008137308061122894, 0.0009041453595273197, 0.8896965980529785, 0.10555721819400787, 0.9960780143737793, 0.9911440014839172, 0.8694968223571777, 0.0812118873000145, 0.009710116311907768, 0.028247611597180367, 0.009710116311907768, 0.0008827378624118865, 0.9906061291694641, 0.7626006603240967, 0.19825878739356995, 0.007826005108654499, 0.027825795114040375, 0.003478224389255047, 0.8117814064025879, 0.05170581862330437, 0.13443513214588165, 0.061747051775455475, 0.2292359322309494, 0.18678483366966248, 0.05248499661684036, 0.021611468866467476, 0.10342631489038467, 0.32262834906578064, 0.013893086463212967, 0.008490219712257385, 0.9903704524040222, 0.13903293013572693, 0.03441409394145012, 0.028907837346196175, 0.3868143856525421, 0.34276434779167175, 0.06745161861181259, 0.9877752661705017, 0.7108091115951538, 0.18305769562721252, 0.023369066417217255, 0.08179173618555069, 0.9828737378120422, 0.9924200177192688, 0.9890315532684326, 0.08113517612218857, 0.19864130020141602, 0.16786588728427887, 0.5371708273887634, 0.011191058903932571, 0.002797764725983143, 0.7206876277923584, 0.09145089238882065, 0.1856316477060318, 0.4922196567058563, 0.047127414494752884, 0.3874920606613159, 0.07330930978059769, 0.1593455821275711, 0.06583739072084427, 0.08492069691419601, 0.14217060804367065, 0.4589534401893616, 0.002862495370209217, 0.04961658641695976, 0.03530411049723625, 0.9769827723503113, 0.9831844568252563, 0.9968865513801575, 0.9935551881790161, 0.9608727097511292, 0.026325279846787453, 0.012992551550269127, 0.2858361303806305, 0.10732977837324142, 0.03558829426765442, 0.129360631108284, 0.012992551550269127, 0.15478083491325378, 0.2547670006752014, 0.005648935679346323, 0.0005648935330100358, 0.1158943623304367, 0.7550693154335022, 0.10535851120948792, 0.021071702241897583, 0.1514563262462616, 0.6299206614494324, 0.1204766258597374, 0.0963812991976738, 0.9909879565238953, 0.9968744516372681, 0.17604123055934906, 0.8189743757247925, 0.9851328134536743, 0.09057804942131042, 0.18115609884262085, 0.7181545495986938, 0.03683328628540039, 0.04735708236694336, 0.09471416473388672, 0.8077013492584229, 0.010523796081542969, 0.002630949020385742, 0.9864397644996643, 0.04162352532148361, 0.21599236130714417, 0.11699585616588593, 0.03149888664484024, 0.46573352813720703, 0.07987217605113983, 0.006749761290848255, 0.02474912442266941, 0.01687440276145935, 0.9854763150215149, 0.008012911304831505, 0.1762840449810028, 0.7171555161476135, 0.09615492820739746, 0.9799149632453918, 0.21931329369544983, 0.19516871869564056, 0.09054218977689743, 0.4728314280509949, 0.016096388921141624, 0.0060361456125974655, 0.9931502938270569, 0.988468587398529, 0.9878748655319214, 0.9893696904182434, 0.9881073832511902, 0.2911880612373352, 0.5985532402992249, 0.1091955229640007, 0.04002504050731659, 0.9505947232246399, 0.9901589155197144, 0.0174135472625494, 0.037003785371780396, 0.19372570514678955, 0.22202271223068237, 0.4919326901435852, 0.037003785371780396, 0.9952191710472107, 0.1992054134607315, 0.13854770362377167, 0.046871863305568695, 0.007582212798297405, 0.26124170422554016, 0.20196257531642914, 0.09167584776878357, 0.046871863305568695, 0.005514336749911308, 0.012271513231098652, 0.09510423243045807, 0.03681454062461853, 0.6749332547187805, 0.17793694138526917, 0.011162356473505497, 0.05276750400662422, 0.00710331741720438, 0.6088557839393616, 0.25470468401908875, 0.05479702353477478, 0.010147596709430218, 0.01317276805639267, 0.19032378494739532, 0.1135583445429802, 0.16306978464126587, 0.16397824883460999, 0.07949084043502808, 0.18123911321163177, 0.06904347240924835, 0.02452860213816166, 0.0018169335089623928, 0.9919596910476685, 0.6043102145195007, 0.030432887375354767, 0.3101256191730499, 0.018839405849575996, 0.01014429610222578, 0.018839405849575996, 0.00869511067867279, 0.9911653399467468, 0.9802001714706421, 0.9941404461860657, 0.994468092918396, 0.9938812851905823, 0.990662157535553, 0.12237440049648285, 0.14292582869529724, 0.045306552201509476, 0.18963360786437988, 0.3246191143989563, 0.15273445844650269, 0.016347724944353104, 0.004203700460493565, 0.00280246720649302, 0.9535123109817505, 0.045178886502981186, 0.03629383444786072, 0.1524340957403183, 0.029035067185759544, 0.07258766889572144, 0.04355259984731674, 0.2758331298828125, 0.38471463322639465, 0.9939004778862, 0.1258600354194641, 0.14614668488502502, 0.03394908830523491, 0.2111467570066452, 0.27863091230392456, 0.09356699883937836, 0.08901285380125046, 0.01656053029000759, 0.0037261194083839655, 0.0016560530057176948, 0.23103067278862, 0.7646015286445618, 0.992211639881134, 0.32054680585861206, 0.06410936266183853, 0.6061248779296875, 0.9913134574890137, 0.9887582659721375, 0.22964483499526978, 0.07229559868574142, 0.39762577414512634, 0.029768774285912514, 0.25941359996795654, 0.012758046388626099, 0.27156439423561096, 0.7241717576980591, 0.24492134153842926, 0.12982672452926636, 0.024860436096787453, 0.30292901396751404, 0.14916262030601501, 0.00552454125136137, 0.1150946170091629, 0.027622707188129425, 0.0009207568946294487, 0.9936452507972717, 0.03444749861955643, 0.9645299911499023, 0.9938865303993225, 0.9902969002723694, 0.9933875203132629, 0.052198626101017, 0.9395752549171448, 0.9911565184593201, 0.06940551102161407, 0.2906355559825897, 0.6333252787590027, 0.20370739698410034, 0.04398227855563164, 0.06713084876537323, 0.5671399235725403, 0.11574283987283707, 0.09294192492961884, 0.8984386324882507, 0.9708999991416931, 0.024894872680306435, 0.9876915216445923, 0.20174160599708557, 0.5067218542098999, 0.055881477892398834, 0.07577149569988251, 0.05019861459732056, 0.04925147071480751, 0.058722905814647675, 0.0018942872993648052, 0.9878243803977966, 0.9958526492118835, 0.9866476655006409, 0.3961261212825775, 0.5990200042724609, 0.9931113123893738, 0.9931359887123108, 0.9915072321891785, 0.9858673810958862, 0.8914918303489685, 0.10644678771495819, 0.9851849675178528, 0.9897564053535461, 0.9929552674293518, 0.9888184666633606, 0.9283970594406128, 0.06348013877868652, 0.9879081845283508, 0.9953935146331787, 0.9939047694206238, 0.1439562737941742, 0.1901644617319107, 0.13862456381320953, 0.0989329144358635, 0.17653897404670715, 0.14040179550647736, 0.06575780361890793, 0.01717996597290039, 0.024881331250071526, 0.0029620632994920015, 0.977008044719696, 0.07016420364379883, 0.23170505464076996, 0.11748425662517548, 0.41282662749290466, 0.11258907616138458, 0.05058349668979645, 0.0032634513918310404, 0.288936585187912, 0.05824413523077965, 0.01827266998589039, 0.06738047301769257, 0.004568167496472597, 0.35060685873031616, 0.11534623056650162, 0.04796575754880905, 0.04910780116915703, 0.9884079098701477, 0.34217187762260437, 0.11028680205345154, 0.47790950536727905, 0.04807373508810997, 0.016967201605439186, 0.0028278667014092207, 0.23243720829486847, 0.02535678632557392, 0.06339196860790253, 0.08452261984348297, 0.5958845019340515, 0.9870395660400391, 0.9871350526809692, 0.9914608597755432, 0.9800443053245544, 0.1371992528438568, 0.15625470876693726, 0.015244361944496632, 0.06669408082962036, 0.6154910922050476, 0.009527726098895073, 0.17625074088573456, 0.4739515781402588, 0.25326788425445557, 0.008886592462658882, 0.02369757927954197, 0.025178678333759308, 0.039989665150642395, 0.10399769246578217, 0.1904740333557129, 0.05765089392662048, 0.2667766809463501, 0.13225793838500977, 0.18143075704574585, 0.04125995561480522, 0.00960848294198513, 0.015260530635714531, 0.001130409655161202, 0.029791375622153282, 0.13541534543037415, 0.12458211928606033, 0.5660361647605896, 0.0920824334025383, 0.040624603629112244, 0.0027083067689090967, 0.0027083067689090967, 0.07137138396501541, 0.14274276793003082, 0.052814822643995285, 0.49817225337028503, 0.011419421061873436, 0.04853253811597824, 0.17414617538452148, 0.985252320766449, 0.0776284709572792, 0.013862227089703083, 0.10535292327404022, 0.13584981858730316, 0.6598420143127441, 0.008317336440086365, 0.9764321446418762, 0.9832066893577576, 0.9852617979049683, 0.9912121295928955, 0.07486309111118317, 0.2786044180393219, 0.09002523869276047, 0.0995015799999237, 0.11229463666677475, 0.0843394324183464, 0.18384100496768951, 0.043117351830005646, 0.03174574300646782, 0.001895268214866519, 0.9882143139839172, 0.9859475493431091, 0.981623649597168, 0.034593190997838974, 0.9570782780647278, 0.9630500078201294, 0.028049999848008156, 0.13730670511722565, 0.1144222542643547, 0.08238402009010315, 0.6682259440422058, 0.9912987351417542, 0.24489574134349823, 0.7529630064964294, 0.9906714558601379, 0.988133430480957, 0.8766992688179016, 0.12207204848527908, 0.9962963461875916, 0.06904959678649902, 0.7629980444908142, 0.06904959678649902, 0.10012191534042358, 0.993125855922699, 0.9905428886413574, 0.9870917797088623, 0.835578441619873, 0.028703076764941216, 0.04943307489156723, 0.03348692134022713, 0.023919230327010155, 0.003189230803400278, 0.017540769651532173, 0.006378461606800556, 0.9805613160133362, 0.04055296257138252, 0.1494666337966919, 0.2479524165391922, 0.1749570667743683, 0.05793280526995659, 0.04750490188598633, 0.11470695585012436, 0.011586560867726803, 0.14135605096817017, 0.013903873041272163, 0.9881771802902222, 0.07261267304420471, 0.923218309879303, 0.03471587970852852, 0.12591861188411713, 0.05295642465353012, 0.10238242149353027, 0.5225033760070801, 0.0517796166241169, 0.10532444715499878, 0.0011768094263970852, 0.0017652141395956278, 0.0017652141395956278, 0.9811952114105225, 0.9110479354858398, 0.07971669733524323, 0.9121096134185791, 0.08412661403417587, 0.04845660924911499, 0.9449038505554199, 0.06144203618168831, 0.9391854405403137, 0.9799493551254272, 0.15971827507019043, 0.006654927972704172, 0.7919363975524902, 0.03992956876754761, 0.9812012910842896, 0.2927483916282654, 0.14225485920906067, 0.021969862282276154, 0.06920506060123444, 0.08678095042705536, 0.28066498041152954, 0.009337191469967365, 0.0648110881447792, 0.031307052820920944, 0.0010984931141138077, 0.9916042685508728, 0.44938573241233826, 0.29671770334243774, 0.0393982008099556, 0.1526680290699005, 0.02831745706498623, 0.023392681032419205, 0.0098495502024889, 0.12175444513559341, 0.16049449145793915, 0.6253750920295715, 0.0885486826300621, 0.13205042481422424, 0.25044044852256775, 0.11383657157421112, 0.5008808970451355, 0.9227116107940674, 0.023659272119402885, 0.04731854423880577, 0.004731854423880577, 0.33612164855003357, 0.0726749524474144, 0.09387180954217911, 0.4299934506416321, 0.006056245882064104, 0.010598430410027504, 0.04087965935468674, 0.0090843690559268, 0.001514061470516026, 0.985666036605835, 0.286123126745224, 0.07305271178483963, 0.02638014778494835, 0.23539207875728607, 0.15523701906204224, 0.008116967976093292, 0.21205580234527588, 0.004058483988046646, 0.24652831256389618, 0.05070732906460762, 0.04204998165369034, 0.3203219175338745, 0.08574897795915604, 0.2292136251926422, 0.01937597244977951, 0.004947056528180838, 0.00041225471068173647, 0.9797945618629456, 0.9799176454544067, 0.30502867698669434, 0.22572121024131775, 0.2023356854915619, 0.0010167622240260243, 0.10370974987745285, 0.047787826508283615, 0.051854874938726425, 0.055921923369169235, 0.007117335684597492, 0.1672912985086441, 0.15303350985050201, 0.03611971065402031, 0.04277334362268448, 0.027565043419599533, 0.23477812111377716, 0.3079680800437927, 0.024713486433029175, 0.005703112576156855, 0.9934160709381104, 0.9925515651702881, 0.09627920389175415, 0.05960141494870186, 0.660200297832489, 0.17880424857139587, 0.9873701333999634, 0.9854530096054077, 0.9872147440910339, 0.1505563110113144, 0.18120527267456055, 0.04731769859790802, 0.3349877893924713, 0.19572320580482483, 0.06721264123916626, 0.0053770109079778194, 0.001075402251444757, 0.013980228453874588, 0.0026885054539889097, 0.9821141958236694, 0.9925532937049866, 0.9798867106437683, 0.06078819930553436, 0.7120903134346008, 0.19539064168930054, 0.026052085682749748, 0.07288329303264618, 0.13023409247398376, 0.062130022794008255, 0.3512735962867737, 0.1684679388999939, 0.009558465331792831, 0.04779232665896416, 0.13501331210136414, 0.020311737433075905, 0.001194808166474104, 0.010342685505747795, 0.17323999106884003, 0.09825551509857178, 0.04137074202299118, 0.5507480502128601, 0.12411223351955414, 0.9942787885665894, 0.42277270555496216, 0.09325868636369705, 0.0721200481057167, 0.3394615948200226, 0.03979036957025528, 0.02984277904033661, 0.14466612040996552, 0.14171373844146729, 0.061999764293432236, 0.0029523696284741163, 0.6111405491828918, 0.03542843461036682, 0.2520999312400818, 0.13784411549568176, 0.11499295383691788, 0.25725987553596497, 0.08034764230251312, 0.02727396972477436, 0.025799700990319252, 0.07223916053771973, 0.030222507193684578, 0.0007371343090198934, 0.9938914179801941, 0.976930558681488, 0.7530901432037354, 0.13692548871040344, 0.03803485631942749, 0.06694135069847107, 0.004564182832837105, 0.13309107720851898, 0.8166952133178711, 0.0483967550098896, 0.9919676780700684, 0.9910299181938171, 0.992443323135376, 0.9919722676277161, 0.9971511960029602, 0.036112070083618164, 0.9569698572158813, 0.8883201479911804, 0.1053939163684845, 0.9895703196525574, 0.21581776440143585, 0.3051968514919281, 0.07266591489315033, 0.04432620853185654, 0.006539932452142239, 0.15550506114959717, 0.13443194329738617, 0.059586051851511, 0.0036332958843559027, 0.0036332958843559027, 0.981689989566803, 0.9031840562820435, 0.09175202995538712, 0.0028672509361058474, 0.9759448766708374, 0.015448513440787792, 0.15062300860881805, 0.3244187831878662, 0.1622093915939331, 0.09462214261293411, 0.06179405376315117, 0.007724256720393896, 0.18248556554317474, 0.9910646677017212, 0.23601111769676208, 0.22520144283771515, 0.009008058346807957, 0.016214504837989807, 0.5026496648788452, 0.009008058346807957, 0.9888054132461548, 0.00847391877323389, 0.03389567509293556, 0.9533158540725708, 0.9834674596786499, 0.9956485629081726, 0.9915627241134644, 0.9941690564155579, 0.9856940507888794, 0.9924054145812988, 0.052911896258592606, 0.019841961562633514, 0.9259581565856934, 0.9800906181335449, 0.9842912554740906, 0.18592046201229095, 0.07402388751506805, 0.018936343491077423, 0.6989232301712036, 0.018936343491077423, 0.0017214857507497072, 0.6116634607315063, 0.013869919814169407, 0.03467480093240738, 0.13107074797153473, 0.011789431795477867, 0.015950407832860947, 0.15673010051250458, 0.02219187282025814, 0.0020804880186915398, 0.019715778529644012, 0.12674428522586823, 0.14505179226398468, 0.025348857045173645, 0.009857889264822006, 0.0873127281665802, 0.4731786549091339, 0.025348857045173645, 0.0873127281665802, 0.9813634753227234, 0.11510857939720154, 0.6646592020988464, 0.06312406063079834, 0.09654267877340317, 0.05569769814610481, 0.9895093441009521, 0.006520055700093508, 0.10024585574865341, 0.01874515973031521, 0.17930153012275696, 0.6324453949928284, 0.012225104495882988, 0.01467012520879507, 0.03586030751466751, 0.18843555450439453, 0.7833006978034973, 0.025863703340291977, 0.9915784001350403, 0.9919361472129822, 0.1983293741941452, 0.7228004336357117, 0.07492443174123764, 0.9849796295166016, 0.9865125417709351, 0.012722008861601353, 0.14368386566638947, 0.051636386662721634, 0.14069044589996338, 0.39288556575775146, 0.18933342397212982, 0.04115943983197212, 0.0029934137128293514, 0.024695664644241333, 0.6523146629333496, 0.2965066730976105, 0.0506230928003788, 0.01029747724533081, 0.09911321848630905, 0.03089243359863758, 0.2638728618621826, 0.40803754329681396, 0.10426196455955505, 0.06564641743898392, 0.006435923743993044, 0.011584661900997162, 0.6677319407463074, 0.03915712237358093, 0.16899389028549194, 0.05564432963728905, 0.05770523101091385, 0.010304505936801434, 0.0831206813454628, 0.0831206813454628, 0.8312068581581116, 0.24953033030033112, 0.7446920871734619, 0.988125741481781], \"Term\": [\"abras\", \"abund\", \"abund\", \"abund\", \"acacia\", \"acid\", \"acid\", \"acid\", \"acid\", \"acid\", \"acid\", \"acid\", \"acid\", \"acid\", \"acid\", \"aftertast\", \"aftertast\", \"aftertast\", \"aftertast\", \"age\", \"age\", \"age\", \"age\", \"age\", \"age\", \"age\", \"age\", \"age\", \"ager\", \"aglianico\", \"alcohol\", \"alcohol\", \"alcohol\", \"alcohol\", \"alcohol\", \"alcohol\", \"alcohol\", \"alcohol\", \"alicant\", \"alongsid\", \"alongsid\", \"alongsid\", \"alongsid\", \"alongsid\", \"amidst\", \"anis\", \"anis\", \"anis\", \"anis\", \"anis\", \"announc\", \"appar\", \"appear\", \"appear\", \"appear\", \"appear\", \"appear\", \"appel\", \"appel\", \"appel\", \"appel\", \"appel\", \"appel\", \"appl\", \"appl\", \"appl\", \"appl\", \"appl\", \"appl\", \"appl\", \"appl\", \"appl\", \"apricot\", \"apricot\", \"apricot\", \"apricot\", \"aroma\", \"aroma\", \"aroma\", \"aroma\", \"aroma\", \"aroma\", \"aroma\", \"aroma\", \"aroma\", \"assert\", \"assert\", \"assert\", \"attract\", \"attract\", \"attract\", \"attract\", \"attract\", \"attract\", \"attract\", \"attract\", \"avola\", \"awkward\", \"bake\", \"bake\", \"bake\", \"bake\", \"bake\", \"bake\", \"bake\", \"bake\", \"bake\", \"balanc\", \"balanc\", \"balanc\", \"balanc\", \"balanc\", \"balanc\", \"balanc\", \"balanc\", \"balanc\", \"balanc\", \"balsam\", \"balsam\", \"balsam\", \"balsam\", \"balsam\", \"banana\", \"banana\", \"barbaresco\", \"barbecu\", \"barbecu\", \"barbera\", \"barbera\", \"bargain\", \"bark\", \"barnyard\", \"barnyard\", \"barolo\", \"barolo\", \"bartlett\", \"bay\", \"beaujolai\", \"beef\", \"beef\", \"beef\", \"beef\", \"beefi\", \"berri\", \"berri\", \"berri\", \"berri\", \"berri\", \"berri\", \"berri\", \"berri\", \"berri\", \"berri\", \"bigger\", \"biodynam\", \"bit\", \"bit\", \"bit\", \"bit\", \"bit\", \"bit\", \"bit\", \"bit\", \"bitter\", \"bitter\", \"bitter\", \"bitter\", \"bitter\", \"bitter\", \"bitter\", \"bitter\", \"bitter\", \"black\", \"black\", \"black\", \"black\", \"black\", \"black\", \"black\", \"black\", \"blackberri\", \"blackberri\", \"blackberri\", \"blackberri\", \"blackberri\", \"blackberri\", \"blackberri\", \"blackberri\", \"blacken\", \"blanc\", \"blanc\", \"bland\", \"blend\", \"blend\", \"blend\", \"blend\", \"blend\", \"blend\", \"blend\", \"blend\", \"blend\", \"block\", \"block\", \"block\", \"blocki\", \"blossom\", \"blossom\", \"blossom\", \"blossom\", \"blue\", \"blue\", \"blue\", \"blue\", \"blueberri\", \"blueberri\", \"blueberri\", \"blueberri\", \"blueberri\", \"blueberri\", \"blueberri\", \"blush\", \"bodi\", \"bodi\", \"bodi\", \"bodi\", \"bodi\", \"bodi\", \"bodi\", \"bodi\", \"bodi\", \"bodi\", \"botryti\", \"bottl\", \"bottl\", \"bottl\", \"bottl\", \"bottl\", \"bottl\", \"bottl\", \"bottl\", \"bouschet\", \"box\", \"box\", \"box\", \"bread\", \"bread\", \"bread\", \"bread\", \"briari\", \"bright\", \"bright\", \"bright\", \"bright\", \"bright\", \"bright\", \"bright\", \"bright\", \"bright\", \"bright\", \"briskli\", \"bristl\", \"br\\u00fbl\\u00e9e\", \"bubblegum\", \"buoyant\", \"burger\", \"burnt\", \"burnt\", \"burnt\", \"burnt\", \"burnt\", \"burnt\", \"butter\", \"butter\", \"butter\", \"butter\", \"butter\", \"butter\", \"cabernet\", \"cabernet\", \"cabernet\", \"cabernet\", \"cabernet\", \"cabernet\", \"cabernet\", \"call\", \"calm\", \"cantaloup\", \"cardamom\", \"cardamom\", \"carmen\\u00e8r\", \"carob\", \"cassi\", \"cassi\", \"cassi\", \"cassi\", \"cassi\", \"cassi\", \"cedari\", \"cement\", \"centuri\", \"certain\", \"chabli\", \"chalk\", \"champagn\", \"char\", \"char\", \"char\", \"char\", \"charact\", \"charact\", \"charact\", \"charact\", \"charact\", \"charact\", \"charact\", \"charact\", \"character\", \"character\", \"character\", \"character\", \"chard\", \"chard\", \"chardonnay\", \"chardonnay\", \"chardonnay\", \"chardonnay\", \"cheer\", \"chees\", \"chees\", \"chees\", \"chees\", \"chees\", \"cheesi\", \"chenin\", \"cherri\", \"cherri\", \"cherri\", \"cherri\", \"cherri\", \"cherri\", \"cherri\", \"cherri\", \"cherri\", \"cherri\", \"chianti\", \"chile\", \"chocol\", \"chocol\", \"chocol\", \"chocol\", \"chocol\", \"chocol\", \"chocol\", \"chocolati\", \"chop\", \"chop\", \"chop\", \"choppi\", \"choppi\", \"chunki\", \"chunki\", \"chunki\", \"chunki\", \"cigar\", \"cigar\", \"cinsault\", \"citric\", \"citru\", \"citru\", \"citru\", \"citru\", \"citru\", \"citru\", \"citru\", \"citru\", \"citru\", \"classi\", \"classi\", \"clean\", \"clean\", \"clean\", \"clean\", \"clean\", \"clean\", \"clean\", \"clean\", \"clean\", \"cleans\", \"clone\", \"clone\", \"clove\", \"clove\", \"clove\", \"clove\", \"clove\", \"clove\", \"clove\", \"cluster\", \"cocktail\", \"cocoa\", \"cocoa\", \"cocoa\", \"cocoa\", \"cocoa\", \"coffe\", \"coffe\", \"coffe\", \"coffe\", \"coffe\", \"coffe\", \"cola\", \"cola\", \"cola\", \"cola\", \"cola\", \"cola\", \"cola\", \"color\", \"color\", \"color\", \"color\", \"color\", \"color\", \"color\", \"color\", \"color\", \"common\", \"complex\", \"complex\", \"complex\", \"complex\", \"complex\", \"complex\", \"complex\", \"complex\", \"complex\", \"compost\", \"concentr\", \"concentr\", \"concentr\", \"concentr\", \"concentr\", \"concentr\", \"concentr\", \"concentr\", \"concentr\", \"consider\", \"consider\", \"cooler\", \"copper\", \"corn\", \"counterpoint\", \"counti\", \"counti\", \"cranberri\", \"cranberri\", \"cranberri\", \"cranberri\", \"cranberri\", \"cranberri\", \"cranberri\", \"creek\", \"creek\", \"crisp\", \"crisp\", \"crisp\", \"crisp\", \"crisp\", \"crisp\", \"crisp\", \"crisp\", \"crisp\", \"crispli\", \"crispli\", \"crowd\", \"cru\", \"cru\", \"crunchi\", \"crush\", \"crush\", \"crush\", \"crush\", \"crush\", \"cr\\u00e8me\", \"cr\\u00e8me\", \"currant\", \"currant\", \"currant\", \"currant\", \"currant\", \"currant\", \"currant\", \"currant\", \"current\", \"c\\u00f4te\", \"damson\", \"dark\", \"dark\", \"dark\", \"dark\", \"dark\", \"dark\", \"dark\", \"dark\", \"dark\", \"darkli\", \"decant\", \"decant\", \"decant\", \"deeper\", \"delici\", \"delici\", \"delici\", \"delici\", \"delici\", \"delici\", \"delici\", \"delici\", \"deliv\", \"deliv\", \"deliv\", \"deliv\", \"deliv\", \"deliv\", \"deliv\", \"deliv\", \"dens\", \"dens\", \"dens\", \"dens\", \"dens\", \"dens\", \"dens\", \"dens\", \"dens\", \"dens\", \"develop\", \"develop\", \"develop\", \"develop\", \"develop\", \"develop\", \"develop\", \"develop\", \"dimension\", \"dimension\", \"dolcetto\", \"dole\", \"domain\", \"domin\", \"domin\", \"domin\", \"domin\", \"domin\", \"domin\", \"domin\", \"domin\", \"dramat\", \"dri\", \"dri\", \"dri\", \"dri\", \"dri\", \"dri\", \"dri\", \"dri\", \"dri\", \"dri\", \"drier\", \"drink\", \"drink\", \"drink\", \"drink\", \"drink\", \"drink\", \"drink\", \"drink\", \"drink\", \"drink\", \"drunk\", \"dull\", \"earthi\", \"earthi\", \"earthi\", \"earthi\", \"earthi\", \"earthi\", \"earthi\", \"earthi\", \"earthi\", \"earthi\", \"earthier\", \"echo\", \"edg\", \"edg\", \"edg\", \"edg\", \"edg\", \"edg\", \"edg\", \"elabor\", \"elderberri\", \"enhanc\", \"enorm\", \"enorm\", \"espresso\", \"espresso\", \"espresso\", \"everyday\", \"everyday\", \"everyday\", \"evid\", \"evid\", \"evid\", \"evok\", \"expans\", \"express\", \"express\", \"express\", \"express\", \"express\", \"express\", \"express\", \"express\", \"exquisit\", \"eye\", \"familiar\", \"famou\", \"fanci\", \"fare\", \"fare\", \"fare\", \"fast\", \"feel\", \"feel\", \"feel\", \"feel\", \"feel\", \"feel\", \"feel\", \"feel\", \"fieri\", \"final\", \"final\", \"final\", \"final\", \"final\", \"fine\", \"fine\", \"fine\", \"fine\", \"fine\", \"fine\", \"fine\", \"fine\", \"fine\", \"finish\", \"finish\", \"finish\", \"finish\", \"finish\", \"finish\", \"finish\", \"finish\", \"finish\", \"finish\", \"firm\", \"firm\", \"firm\", \"firm\", \"firm\", \"firm\", \"firm\", \"firm\", \"firm\", \"firm\", \"fish\", \"fish\", \"fizz\", \"flabbi\", \"flamboy\", \"flat\", \"flat\", \"flat\", \"flat\", \"fleet\", \"float\", \"floor\", \"floor\", \"floor\", \"flower\", \"flower\", \"flower\", \"flower\", \"flower\", \"flower\", \"flush\", \"foam\", \"fore\", \"foundat\", \"foxi\", \"framework\", \"franc\", \"franc\", \"franc\", \"franc\", \"franc\", \"franc\", \"fresh\", \"fresh\", \"fresh\", \"fresh\", \"fresh\", \"fresh\", \"fresh\", \"fresh\", \"fresh\", \"fresh\", \"fresher\", \"fruit\", \"fruit\", \"fruit\", \"fruit\", \"fruit\", \"fruit\", \"fruit\", \"fruit\", \"fruit\", \"fruit\", \"fruiti\", \"fruiti\", \"fruiti\", \"fruiti\", \"fruiti\", \"fruiti\", \"fruiti\", \"fruiti\", \"fruiti\", \"fruiti\", \"funk\", \"futur\", \"futur\", \"garnacha\", \"garnacha\", \"garnet\", \"garrigu\", \"gew\\u00fcrztramin\", \"give\", \"give\", \"give\", \"give\", \"give\", \"give\", \"give\", \"give\", \"glass\", \"glass\", \"glass\", \"glass\", \"glass\", \"glass\", \"glass\", \"glass\", \"glide\", \"golden\", \"golden\", \"golden\", \"good\", \"good\", \"good\", \"good\", \"good\", \"good\", \"good\", \"good\", \"good\", \"grabbi\", \"grabbi\", \"graham\", \"grain\", \"grain\", \"grain\", \"graini\", \"graini\", \"grand\", \"grand\", \"grapefruit\", \"grapefruit\", \"grapefruit\", \"grapi\", \"grate\", \"gravel\", \"green\", \"green\", \"green\", \"green\", \"green\", \"green\", \"green\", \"green\", \"green\", \"green\", \"grenach\", \"grenach\", \"grenach\", \"grenach\", \"grenach\", \"grenach\", \"gri\", \"grigio\", \"ground\", \"ground\", \"ground\", \"ground\", \"ground\", \"guava\", \"hallmark\", \"hard\", \"hard\", \"hard\", \"hard\", \"hard\", \"hard\", \"hard\", \"hard\", \"harsh\", \"have\", \"have\", \"hay\", \"heavi\", \"heavi\", \"heavi\", \"heavi\", \"heavi\", \"heavi\", \"heavi\", \"heavi\", \"hedonist\", \"heft\", \"heft\", \"hefti\", \"herb\", \"herb\", \"herb\", \"herb\", \"herb\", \"herb\", \"herb\", \"herb\", \"herb\", \"herb\", \"herbac\", \"herbac\", \"herbac\", \"herbac\", \"herbac\", \"herbal\", \"herbal\", \"herbal\", \"herbal\", \"herbal\", \"herbal\", \"herbal\", \"herbal\", \"hibiscu\", \"hickori\", \"hide\", \"hint\", \"hint\", \"hint\", \"hint\", \"hint\", \"hint\", \"hint\", \"hint\", \"hint\", \"hint\", \"histor\", \"hollow\", \"honey\", \"honey\", \"honey\", \"honey\", \"honey\", \"honey\", \"honeydew\", \"honeysuckl\", \"hot\", \"hot\", \"hot\", \"hot\", \"hot\", \"hot\", \"hous\", \"hue\", \"impart\", \"incens\", \"inspir\", \"interpret\", \"invigor\", \"iri\", \"itali\", \"itali\", \"itali\", \"itali\", \"jalape\\u00f1o\", \"jam\", \"jam\", \"jam\", \"jam\", \"jam\", \"jam\", \"jasmin\", \"jelli\", \"jelli\", \"juici\", \"juici\", \"juici\", \"juici\", \"juici\", \"juici\", \"juici\", \"juici\", \"juici\", \"juici\", \"jump\", \"jumpi\", \"junip\", \"kirsch\", \"knit\", \"la\", \"la\", \"lake\", \"lavend\", \"lavend\", \"lavend\", \"lavend\", \"lead\", \"lead\", \"lead\", \"lead\", \"lead\", \"lead\", \"lead\", \"lead\", \"lead\", \"leather\", \"leather\", \"leather\", \"leather\", \"leather\", \"leather\", \"leather\", \"lee\", \"lee\", \"leesi\", \"lemon\", \"lemon\", \"lemon\", \"lemon\", \"lemon\", \"lemon\", \"lemon\", \"lemon\", \"lemongrass\", \"licoric\", \"licoric\", \"licoric\", \"licoric\", \"licoric\", \"licoric\", \"licoric\", \"light\", \"light\", \"light\", \"light\", \"light\", \"light\", \"light\", \"light\", \"light\", \"light\", \"lightest\", \"lightweight\", \"like\", \"like\", \"like\", \"like\", \"like\", \"like\", \"like\", \"like\", \"like\", \"likeabl\", \"lilac\", \"lime\", \"lime\", \"lime\", \"limeston\", \"limit\", \"limit\", \"lip\", \"liqueur\", \"liqueur\", \"littl\", \"littl\", \"littl\", \"littl\", \"littl\", \"littl\", \"littl\", \"littl\", \"live\", \"live\", \"live\", \"live\", \"live\", \"live\", \"live\", \"live\", \"live\", \"lot\", \"lot\", \"lot\", \"lot\", \"lot\", \"lot\", \"lot\", \"lot\", \"lot\", \"lurk\", \"lusti\", \"major\", \"malbec\", \"malbec\", \"malbec\", \"malbec\", \"mango\", \"mango\", \"mango\", \"mapl\", \"mapl\", \"marzipan\", \"mask\", \"massiv\", \"massiv\", \"massiv\", \"massiv\", \"meat\", \"meat\", \"meat\", \"meat\", \"meat\", \"meati\", \"meati\", \"meati\", \"meati\", \"meati\", \"medicin\", \"medicin\", \"medicin\", \"medicin\", \"mediterranean\", \"mediterranean\", \"meet\", \"meet\", \"meet\", \"melon\", \"melon\", \"melon\", \"menthol\", \"menthol\", \"menthol\", \"meringu\", \"merlot\", \"merlot\", \"merlot\", \"merlot\", \"merlot\", \"merlot\", \"merlot\", \"merlot\", \"meyer\", \"mild\", \"mild\", \"mild\", \"mild\", \"miner\", \"miner\", \"miner\", \"miner\", \"miner\", \"miner\", \"miner\", \"miner\", \"miner\", \"miner\", \"minti\", \"minti\", \"mirabel\", \"mixtur\", \"modern\", \"modern\", \"modern\", \"moist\", \"moist\", \"monastrel\", \"montalcino\", \"montepulciano\", \"month\", \"month\", \"month\", \"month\", \"month\", \"month\", \"month\", \"morello\", \"moscato\", \"mourv\\u00e8dr\", \"mourv\\u00e8dr\", \"mourv\\u00e8dr\", \"mouthfil\", \"muscat\", \"muscular\", \"muscular\", \"muski\", \"nacion\", \"natur\", \"natur\", \"natur\", \"natur\", \"natur\", \"natur\", \"natur\", \"natur\", \"nectarin\", \"nectarin\", \"need\", \"need\", \"need\", \"need\", \"need\", \"need\", \"need\", \"need\", \"need\", \"nero\", \"nero\", \"nervi\", \"nice\", \"nice\", \"nice\", \"nice\", \"nice\", \"nice\", \"nice\", \"nice\", \"nice\", \"nice\", \"noir\", \"noir\", \"noir\", \"noir\", \"noir\", \"noir\", \"noir\", \"nonvintag\", \"nose\", \"nose\", \"nose\", \"nose\", \"nose\", \"nose\", \"nose\", \"nose\", \"note\", \"note\", \"note\", \"note\", \"note\", \"note\", \"note\", \"note\", \"note\", \"note\", \"notic\", \"notion\", \"oak\", \"oak\", \"oak\", \"oak\", \"oak\", \"oak\", \"oak\", \"oak\", \"oak\", \"oak\", \"oaki\", \"oaki\", \"oaki\", \"oaki\", \"oaki\", \"obviou\", \"obviou\", \"obvious\", \"offer\", \"offer\", \"offer\", \"offer\", \"offer\", \"offer\", \"offer\", \"offer\", \"offer\", \"offer\", \"oili\", \"oili\", \"oliv\", \"oliv\", \"oliv\", \"oliv\", \"open\", \"open\", \"open\", \"open\", \"open\", \"open\", \"open\", \"open\", \"open\", \"open\", \"orang\", \"orang\", \"orang\", \"orang\", \"orang\", \"orang\", \"orang\", \"orang\", \"orchard\", \"oregano\", \"oregano\", \"overdon\", \"overrip\", \"overrip\", \"overrip\", \"overrip\", \"overrip\", \"overrip\", \"overt\", \"overtli\", \"own\", \"own\", \"oyster\", \"pack\", \"pack\", \"pack\", \"pack\", \"pack\", \"pack\", \"pack\", \"pair\", \"pair\", \"pair\", \"pair\", \"pair\", \"pair\", \"palat\", \"palat\", \"palat\", \"palat\", \"palat\", \"palat\", \"palat\", \"palat\", \"palat\", \"palat\", \"pale\", \"pale\", \"papaya\", \"passion\", \"peach\", \"peach\", \"peach\", \"peach\", \"peach\", \"peach\", \"peachi\", \"pear\", \"pear\", \"pear\", \"pear\", \"pear\", \"pencil\", \"pencil\", \"pencil\", \"pepper\", \"pepper\", \"pepper\", \"pepper\", \"pepper\", \"pepper\", \"pepper\", \"pepper\", \"pepper\", \"percentag\", \"perfum\", \"perfum\", \"perfum\", \"perfum\", \"perfum\", \"perfum\", \"persimmon\", \"petit\", \"petit\", \"petit\", \"petit\", \"petrol\", \"phenol\", \"pictur\", \"pie\", \"pie\", \"pie\", \"pie\", \"pie\", \"pie\", \"pineappl\", \"pineappl\", \"pineappl\", \"pink\", \"pink\", \"pink\", \"pink\", \"pinot\", \"pinot\", \"pinot\", \"pinot\", \"pinot\", \"pinot\", \"pinot\", \"pinot\", \"piquant\", \"pit\", \"pith\", \"pithi\", \"pizza\", \"pizza\", \"plum\", \"plum\", \"plum\", \"plum\", \"plum\", \"plum\", \"plum\", \"plum\", \"plum\", \"plum\", \"plush\", \"plush\", \"plush\", \"plush\", \"pomegran\", \"pomegran\", \"pomegran\", \"pomegran\", \"popcorn\", \"popular\", \"port\", \"port\", \"porti\", \"possibl\", \"possibl\", \"possibl\", \"potenti\", \"potenti\", \"potenti\", \"potenti\", \"potenti\", \"potenti\", \"pour\", \"power\", \"power\", \"power\", \"power\", \"power\", \"power\", \"power\", \"power\", \"power\", \"preced\", \"press\", \"press\", \"press\", \"press\", \"previou\", \"price\", \"price\", \"price\", \"price\", \"price\", \"price\", \"prime\", \"proper\", \"prosecco\", \"provenc\", \"pulpi\", \"purpl\", \"purpl\", \"purpl\", \"quaffabl\", \"quaffabl\", \"quick\", \"raisin\", \"raisin\", \"raisin\", \"raisin\", \"raisin\", \"raisin\", \"raisini\", \"raspberri\", \"raspberri\", \"raspberri\", \"raspberri\", \"raspberri\", \"raspberri\", \"raspberri\", \"raspberri\", \"raspberri\", \"raw\", \"raw\", \"raw\", \"raw\", \"raw\", \"readi\", \"readi\", \"readi\", \"readi\", \"readi\", \"readi\", \"readi\", \"red\", \"red\", \"red\", \"red\", \"red\", \"red\", \"red\", \"red\", \"red\", \"red\", \"reduc\", \"refresh\", \"refresh\", \"refresh\", \"refresh\", \"refresh\", \"refresh\", \"refresh\", \"refreshingli\", \"resembl\", \"resini\", \"rest\", \"restraint\", \"retic\", \"rich\", \"rich\", \"rich\", \"rich\", \"rich\", \"rich\", \"rich\", \"rich\", \"rich\", \"riesl\", \"riesl\", \"rind\", \"rind\", \"rind\", \"rind\", \"rind\", \"rind\", \"rind\", \"rioja\", \"ripe\", \"ripe\", \"ripe\", \"ripe\", \"ripe\", \"ripe\", \"ripe\", \"ripe\", \"ripe\", \"ripe\", \"river\", \"river\", \"role\", \"root\", \"root\", \"root\", \"rooti\", \"rosso\", \"ros\\u00e9\", \"ros\\u00e9\", \"ros\\u00e9\", \"ros\\u00e9\", \"ros\\u00e9\", \"ros\\u00e9\", \"rough\", \"rough\", \"round\", \"round\", \"round\", \"round\", \"round\", \"round\", \"round\", \"round\", \"round\", \"roussann\", \"rubberi\", \"rubberi\", \"russian\", \"sagebrush\", \"saint\", \"salad\", \"salad\", \"sampl\", \"sandalwood\", \"sandalwood\", \"sandalwood\", \"sangioves\", \"sangioves\", \"sangioves\", \"sangioves\", \"sangioves\", \"santa\", \"santa\", \"satur\", \"satur\", \"sauci\", \"sauvignon\", \"sauvignon\", \"sauvignon\", \"sauvignon\", \"sauvignon\", \"sauvignon\", \"sauvignon\", \"sauvignon\", \"sawdust\", \"scorch\", \"scour\", \"screwcap\", \"screwcap\", \"seafood\", \"seamless\", \"seed\", \"seemingli\", \"sensat\", \"sensat\", \"serious\", \"seven\", \"sever\", \"shave\", \"sheer\", \"sheer\", \"shellfish\", \"shiraz\", \"shot\", \"show\", \"show\", \"show\", \"show\", \"show\", \"show\", \"show\", \"show\", \"show\", \"show\", \"signific\", \"silki\", \"silki\", \"silki\", \"silki\", \"silki\", \"silki\", \"silki\", \"simpl\", \"simpl\", \"simpl\", \"simpl\", \"simpl\", \"simpl\", \"simpl\", \"simpl\", \"simpl\", \"sing\", \"sip\", \"sip\", \"sip\", \"sip\", \"sip\", \"sip\", \"site\", \"site\", \"site\", \"site\", \"site\", \"sizabl\", \"slightest\", \"slope\", \"smaller\", \"smell\", \"smell\", \"smell\", \"smell\", \"smell\", \"smell\", \"smoke\", \"smoke\", \"smoke\", \"smoke\", \"smoke\", \"smoke\", \"smoke\", \"soft\", \"soft\", \"soft\", \"soft\", \"soft\", \"soft\", \"soft\", \"soft\", \"soft\", \"soft\", \"soften\", \"soften\", \"soften\", \"soften\", \"soften\", \"soften\", \"soften\", \"soften\", \"solid\", \"solid\", \"solid\", \"solid\", \"solid\", \"solid\", \"solid\", \"solidli\", \"soon\", \"soon\", \"soon\", \"soon\", \"soon\", \"soon\", \"sooner\", \"sound\", \"spanish\", \"sparkler\", \"spice\", \"spice\", \"spice\", \"spice\", \"spice\", \"spice\", \"spice\", \"spice\", \"spice\", \"spice\", \"spirit\", \"spread\", \"sprightli\", \"spritzi\", \"spritzi\", \"squeez\", \"squeez\", \"stage\", \"stage\", \"stage\", \"stage\", \"stainless\", \"stalki\", \"stalki\", \"state\", \"steadi\", \"steak\", \"steak\", \"steel\", \"steeli\", \"steeli\", \"steeli\", \"steeli\", \"steep\", \"stemmi\", \"stewi\", \"stone\", \"stone\", \"stone\", \"stone\", \"stone\", \"stone\", \"stone\", \"stone\", \"strang\", \"strawberri\", \"strawberri\", \"strawberri\", \"strawberri\", \"strawberri\", \"strawberri\", \"strawberri\", \"strawberri\", \"strawberri\", \"strawberri\", \"streamlin\", \"strongli\", \"strongli\", \"structur\", \"structur\", \"structur\", \"structur\", \"structur\", \"structur\", \"structur\", \"structur\", \"structur\", \"structur\", \"stuff\", \"sturdi\", \"sturdi\", \"sugari\", \"sugari\", \"sunni\", \"sunni\", \"superb\", \"superb\", \"surfac\", \"swath\", \"swath\", \"swath\", \"swath\", \"sweati\", \"sweet\", \"sweet\", \"sweet\", \"sweet\", \"sweet\", \"sweet\", \"sweet\", \"sweet\", \"sweet\", \"sweet\", \"sweetli\", \"syrah\", \"syrah\", \"syrah\", \"syrah\", \"syrah\", \"syrah\", \"syrah\", \"tabl\", \"tabl\", \"tabl\", \"tabl\", \"take\", \"take\", \"take\", \"take\", \"tangerin\", \"tangerin\", \"tangerin\", \"tangerin\", \"tangi\", \"tangi\", \"tangi\", \"tangi\", \"tangi\", \"tangi\", \"tangi\", \"tangi\", \"tangi\", \"tannat\", \"tannic\", \"tannic\", \"tannic\", \"tannic\", \"tannic\", \"tannic\", \"tannic\", \"tannic\", \"tannin\", \"tannin\", \"tannin\", \"tannin\", \"tannin\", \"tannin\", \"tannin\", \"tannin\", \"tannin\", \"tarragon\", \"tarri\", \"tart\", \"tart\", \"tart\", \"tart\", \"tart\", \"tart\", \"tart\", \"tart\", \"tart\", \"tast\", \"tast\", \"tast\", \"tast\", \"tast\", \"tast\", \"tast\", \"tast\", \"tast\", \"tawni\", \"teas\", \"tempranillo\", \"tempranillo\", \"tempranillo\", \"tempranillo\", \"tempt\", \"terrif\", \"terroir\", \"textur\", \"textur\", \"textur\", \"textur\", \"textur\", \"textur\", \"textur\", \"textur\", \"textur\", \"textur\", \"th\", \"thick\", \"thread\", \"thyme\", \"thyme\", \"thyme\", \"thyme\", \"tight\", \"tight\", \"tight\", \"tight\", \"tight\", \"tight\", \"tight\", \"tight\", \"tight\", \"tight\", \"tightli\", \"tightli\", \"tightli\", \"tightli\", \"tightli\", \"tightli\", \"till\", \"tobacco\", \"tobacco\", \"tobacco\", \"tobacco\", \"tobacco\", \"tobacco\", \"tomato\", \"tomato\", \"tomato\", \"tomato\", \"tomato\", \"tomato\", \"touch\", \"touch\", \"touch\", \"touch\", \"touch\", \"touch\", \"touch\", \"touch\", \"touch\", \"touch\", \"touriga\", \"trail\", \"tropic\", \"tropic\", \"tropic\", \"tropic\", \"tropic\", \"truffl\", \"truffl\", \"truffl\", \"tuscan\", \"unbalanc\", \"unctuou\", \"undeni\", \"underbrush\", \"underneath\", \"underneath\", \"unfold\", \"unfold\", \"unwind\", \"vanilla\", \"vanilla\", \"vanilla\", \"vanilla\", \"vanilla\", \"vanilla\", \"vanilla\", \"vanilla\", \"vanilla\", \"vanilla\", \"verd\", \"verdot\", \"verdot\", \"verdot\", \"vibranc\", \"vineyard\", \"vineyard\", \"vineyard\", \"vineyard\", \"vineyard\", \"vineyard\", \"vineyard\", \"vineyard\", \"vinho\", \"violet\", \"violet\", \"violet\", \"violet\", \"violet\", \"violet\", \"volum\", \"wait\", \"wait\", \"wait\", \"wall\", \"walla\", \"warmer\", \"wash\", \"wateri\", \"watermelon\", \"waxi\", \"waxi\", \"waxi\", \"weav\", \"weedi\", \"whiff\", \"whiff\", \"whiff\", \"whiff\", \"whiff\", \"whiff\", \"white\", \"white\", \"white\", \"white\", \"white\", \"white\", \"white\", \"white\", \"white\", \"wild\", \"wild\", \"wild\", \"wild\", \"wild\", \"wild\", \"wild\", \"wild\", \"wild\", \"win\", \"winemak\", \"winemak\", \"winemak\", \"winemak\", \"winemak\", \"wiri\", \"wood\", \"wood\", \"wood\", \"wood\", \"wood\", \"wood\", \"wood\", \"wood\", \"woodi\", \"woodi\", \"woodi\", \"woodland\", \"woodspic\", \"wound\", \"wound\", \"wound\", \"woven\", \"ye\", \"year\", \"year\", \"year\", \"year\", \"year\", \"year\", \"year\", \"year\", \"year\", \"yellow\", \"yellow\", \"yellow\", \"young\", \"young\", \"young\", \"young\", \"young\", \"young\", \"young\", \"young\", \"young\", \"zesti\", \"zesti\", \"zesti\", \"zesti\", \"zesti\", \"zesti\", \"zin\", \"zin\", \"zin\", \"zinfandel\", \"zinfandel\", \"zingi\"]}, \"R\": 30, \"lambda.step\": 0.01, \"plot.opts\": {\"xlab\": \"PC1\", \"ylab\": \"PC2\"}, \"topic.order\": [5, 3, 10, 6, 4, 1, 9, 8, 7, 2]};\n",
       "\n",
       "function LDAvis_load_lib(url, callback){\n",
       "  var s = document.createElement('script');\n",
       "  s.src = url;\n",
       "  s.async = true;\n",
       "  s.onreadystatechange = s.onload = callback;\n",
       "  s.onerror = function(){console.warn(\"failed to load library \" + url);};\n",
       "  document.getElementsByTagName(\"head\")[0].appendChild(s);\n",
       "}\n",
       "\n",
       "if(typeof(LDAvis) !== \"undefined\"){\n",
       "   // already loaded: just create the visualization\n",
       "   !function(LDAvis){\n",
       "       new LDAvis(\"#\" + \"ldavis_el27041397807968555446509344730\", ldavis_el27041397807968555446509344730_data);\n",
       "   }(LDAvis);\n",
       "}else if(typeof define === \"function\" && define.amd){\n",
       "   // require.js is available: use it to load d3/LDAvis\n",
       "   require.config({paths: {d3: \"https://cdnjs.cloudflare.com/ajax/libs/d3/3.5.5/d3.min\"}});\n",
       "   require([\"d3\"], function(d3){\n",
       "      window.d3 = d3;\n",
       "      LDAvis_load_lib(\"https://cdn.rawgit.com/bmabey/pyLDAvis/files/ldavis.v1.0.0.js\", function(){\n",
       "        new LDAvis(\"#\" + \"ldavis_el27041397807968555446509344730\", ldavis_el27041397807968555446509344730_data);\n",
       "      });\n",
       "    });\n",
       "}else{\n",
       "    // require.js not available: dynamically load d3 & LDAvis\n",
       "    LDAvis_load_lib(\"https://cdnjs.cloudflare.com/ajax/libs/d3/3.5.5/d3.min.js\", function(){\n",
       "         LDAvis_load_lib(\"https://cdn.rawgit.com/bmabey/pyLDAvis/files/ldavis.v1.0.0.js\", function(){\n",
       "                 new LDAvis(\"#\" + \"ldavis_el27041397807968555446509344730\", ldavis_el27041397807968555446509344730_data);\n",
       "            })\n",
       "         });\n",
       "}\n",
       "</script>"
      ],
      "text/plain": [
       "<IPython.core.display.HTML object>"
      ]
     },
     "execution_count": 21,
     "metadata": {},
     "output_type": "execute_result"
    }
   ],
   "source": [
    "pyLDAvis.display(vis_data)"
   ]
  },
  {
   "cell_type": "code",
   "execution_count": 22,
   "metadata": {},
   "outputs": [],
   "source": [
    "lda_model_tfidf.save(\"./models/lda_model_tfidf_14_clean.model\")"
   ]
  },
  {
   "cell_type": "markdown",
   "metadata": {},
   "source": [
    "## 6.  Save the results (and switch to R!)\n",
    "And for coursework reasons the visualisations of my brilliant work on wine must be presented using R.  I'll do some formatting and save the output topic models etc in some form R will like."
   ]
  },
  {
   "cell_type": "code",
   "execution_count": 26,
   "metadata": {},
   "outputs": [],
   "source": [
    "lda_model_tfidf = LdaModel.load(\"./models/lda_model_tfidf_11_clean.model\")"
   ]
  },
  {
   "cell_type": "code",
   "execution_count": 27,
   "metadata": {},
   "outputs": [],
   "source": [
    "# Let's take a quick look at words the topics picked out\n",
    "topic_word_dist = pd.DataFrame()\n",
    "\n",
    "for idx, topic in lda_model_tfidf.print_topics(-1):\n",
    "    \n",
    "    # Record the topic index in a format R will like\n",
    "    topic_index = \"X\" + str(idx)\n",
    "    \n",
    "    # Record the topic's key words as a single string\n",
    "    # Split the words with a newline character while we're at it!\n",
    "    topic_words = \" \".join([x.split(\"*\")[1].replace('\"', '').strip() for x in topic.split(\"+\")][0:5])\n",
    "    \n",
    "    # Dump them to the results dataframe\n",
    "    topic_word_dist = topic_word_dist.append({\"topic\":topic_index, \"keywords\":topic_words}, ignore_index=True)"
   ]
  },
  {
   "cell_type": "code",
   "execution_count": 28,
   "metadata": {},
   "outputs": [
    {
     "data": {
      "text/html": [
       "<div>\n",
       "<style scoped>\n",
       "    .dataframe tbody tr th:only-of-type {\n",
       "        vertical-align: middle;\n",
       "    }\n",
       "\n",
       "    .dataframe tbody tr th {\n",
       "        vertical-align: top;\n",
       "    }\n",
       "\n",
       "    .dataframe thead th {\n",
       "        text-align: right;\n",
       "    }\n",
       "</style>\n",
       "<table border=\"1\" class=\"dataframe\">\n",
       "  <thead>\n",
       "    <tr style=\"text-align: right;\">\n",
       "      <th></th>\n",
       "      <th>keywords</th>\n",
       "      <th>topic</th>\n",
       "    </tr>\n",
       "  </thead>\n",
       "  <tbody>\n",
       "    <tr>\n",
       "      <th>0</th>\n",
       "      <td>overrip stalki resini scorch shot</td>\n",
       "      <td>X0</td>\n",
       "    </tr>\n",
       "    <tr>\n",
       "      <th>1</th>\n",
       "      <td>black cherri tannin aroma spice</td>\n",
       "      <td>X1</td>\n",
       "    </tr>\n",
       "    <tr>\n",
       "      <th>2</th>\n",
       "      <td>crisp fruiti acid drink fresh</td>\n",
       "      <td>X2</td>\n",
       "    </tr>\n",
       "    <tr>\n",
       "      <th>3</th>\n",
       "      <td>brighten shiraz stoni flashi smoothli</td>\n",
       "      <td>X3</td>\n",
       "    </tr>\n",
       "    <tr>\n",
       "      <th>4</th>\n",
       "      <td>till bottl petal rose nose</td>\n",
       "      <td>X4</td>\n",
       "    </tr>\n",
       "    <tr>\n",
       "      <th>5</th>\n",
       "      <td>berri finish feel plum herbal</td>\n",
       "      <td>X5</td>\n",
       "    </tr>\n",
       "    <tr>\n",
       "      <th>6</th>\n",
       "      <td>steel stainless mediterranean ferment barnyard</td>\n",
       "      <td>X6</td>\n",
       "    </tr>\n",
       "    <tr>\n",
       "      <th>7</th>\n",
       "      <td>pale dull popular quick stem</td>\n",
       "      <td>X7</td>\n",
       "    </tr>\n",
       "    <tr>\n",
       "      <th>8</th>\n",
       "      <td>age structur wood fruit rich</td>\n",
       "      <td>X8</td>\n",
       "    </tr>\n",
       "    <tr>\n",
       "      <th>9</th>\n",
       "      <td>cherri oak blackberri pinot raspberri</td>\n",
       "      <td>X9</td>\n",
       "    </tr>\n",
       "    <tr>\n",
       "      <th>10</th>\n",
       "      <td>appl peach lemon white citru</td>\n",
       "      <td>X10</td>\n",
       "    </tr>\n",
       "  </tbody>\n",
       "</table>\n",
       "</div>"
      ],
      "text/plain": [
       "                                          keywords topic\n",
       "0                overrip stalki resini scorch shot    X0\n",
       "1                  black cherri tannin aroma spice    X1\n",
       "2                    crisp fruiti acid drink fresh    X2\n",
       "3            brighten shiraz stoni flashi smoothli    X3\n",
       "4                       till bottl petal rose nose    X4\n",
       "5                    berri finish feel plum herbal    X5\n",
       "6   steel stainless mediterranean ferment barnyard    X6\n",
       "7                     pale dull popular quick stem    X7\n",
       "8                     age structur wood fruit rich    X8\n",
       "9            cherri oak blackberri pinot raspberri    X9\n",
       "10                    appl peach lemon white citru   X10"
      ]
     },
     "execution_count": 28,
     "metadata": {},
     "output_type": "execute_result"
    }
   ],
   "source": [
    "topic_word_dist"
   ]
  },
  {
   "cell_type": "code",
   "execution_count": 29,
   "metadata": {},
   "outputs": [],
   "source": [
    "topic_word_dist.to_csv(\"./data/topic_word_dist_5_clean.csv\")"
   ]
  },
  {
   "cell_type": "code",
   "execution_count": 30,
   "metadata": {},
   "outputs": [],
   "source": [
    "doc_topics = [ [x[1] for x in doc] for doc in lda_model_tfidf.get_document_topics(wine_df['corpus_tfidf']) ]"
   ]
  },
  {
   "cell_type": "code",
   "execution_count": 31,
   "metadata": {
    "scrolled": true
   },
   "outputs": [
    {
     "data": {
      "text/plain": [
       "[[0.018764317,\n",
       "  0.018767415,\n",
       "  0.018764308,\n",
       "  0.018764578,\n",
       "  0.35876825,\n",
       "  0.018768791,\n",
       "  0.018763613,\n",
       "  0.018763764,\n",
       "  0.018764157,\n",
       "  0.018766187,\n",
       "  0.47234458],\n",
       " [0.020111002,\n",
       "  0.020111965,\n",
       "  0.02011286,\n",
       "  0.020110928,\n",
       "  0.020110939,\n",
       "  0.020111911,\n",
       "  0.02011102,\n",
       "  0.020110976,\n",
       "  0.6773422,\n",
       "  0.020112142,\n",
       "  0.14165409],\n",
       " [0.019678375,\n",
       "  0.019678835,\n",
       "  0.01968113,\n",
       "  0.019679073,\n",
       "  0.019678336,\n",
       "  0.019681307,\n",
       "  0.5013845,\n",
       "  0.019678688,\n",
       "  0.019682208,\n",
       "  0.019679101,\n",
       "  0.32149848],\n",
       " [0.01716974,\n",
       "  0.017170751,\n",
       "  0.017170459,\n",
       "  0.017169751,\n",
       "  0.017169788,\n",
       "  0.017171057,\n",
       "  0.017169742,\n",
       "  0.017169744,\n",
       "  0.017170856,\n",
       "  0.017170789,\n",
       "  0.8282974],\n",
       " [0.017347466,\n",
       "  0.017348751,\n",
       "  0.017348334,\n",
       "  0.017347991,\n",
       "  0.30797073,\n",
       "  0.22158071,\n",
       "  0.017347408,\n",
       "  0.017351735,\n",
       "  0.017347585,\n",
       "  0.33166203,\n",
       "  0.017347222]]"
      ]
     },
     "execution_count": 31,
     "metadata": {},
     "output_type": "execute_result"
    }
   ],
   "source": [
    "doc_topics[0:5]"
   ]
  },
  {
   "cell_type": "code",
   "execution_count": 32,
   "metadata": {},
   "outputs": [],
   "source": [
    "doc_topic_df = pd.DataFrame(doc_topics)\n",
    "doc_topic_df['title'] = wine_df['title']"
   ]
  },
  {
   "cell_type": "code",
   "execution_count": 33,
   "metadata": {},
   "outputs": [
    {
     "data": {
      "text/html": [
       "<div>\n",
       "<style scoped>\n",
       "    .dataframe tbody tr th:only-of-type {\n",
       "        vertical-align: middle;\n",
       "    }\n",
       "\n",
       "    .dataframe tbody tr th {\n",
       "        vertical-align: top;\n",
       "    }\n",
       "\n",
       "    .dataframe thead th {\n",
       "        text-align: right;\n",
       "    }\n",
       "</style>\n",
       "<table border=\"1\" class=\"dataframe\">\n",
       "  <thead>\n",
       "    <tr style=\"text-align: right;\">\n",
       "      <th></th>\n",
       "      <th>0</th>\n",
       "      <th>1</th>\n",
       "      <th>2</th>\n",
       "      <th>3</th>\n",
       "      <th>4</th>\n",
       "      <th>5</th>\n",
       "      <th>6</th>\n",
       "      <th>7</th>\n",
       "      <th>8</th>\n",
       "      <th>9</th>\n",
       "      <th>10</th>\n",
       "      <th>title</th>\n",
       "    </tr>\n",
       "  </thead>\n",
       "  <tbody>\n",
       "    <tr>\n",
       "      <th>0</th>\n",
       "      <td>0.018764</td>\n",
       "      <td>0.018767</td>\n",
       "      <td>0.018764</td>\n",
       "      <td>0.018765</td>\n",
       "      <td>0.358768</td>\n",
       "      <td>0.018769</td>\n",
       "      <td>0.018764</td>\n",
       "      <td>0.018764</td>\n",
       "      <td>0.018764</td>\n",
       "      <td>0.018766</td>\n",
       "      <td>0.472345</td>\n",
       "      <td>Nicosia 2013 Vulkà Bianco  (Etna)</td>\n",
       "    </tr>\n",
       "    <tr>\n",
       "      <th>1</th>\n",
       "      <td>0.020111</td>\n",
       "      <td>0.020112</td>\n",
       "      <td>0.020113</td>\n",
       "      <td>0.020111</td>\n",
       "      <td>0.020111</td>\n",
       "      <td>0.020112</td>\n",
       "      <td>0.020111</td>\n",
       "      <td>0.020111</td>\n",
       "      <td>0.677342</td>\n",
       "      <td>0.020112</td>\n",
       "      <td>0.141654</td>\n",
       "      <td>Quinta dos Avidagos 2011 Avidagos Red (Douro)</td>\n",
       "    </tr>\n",
       "    <tr>\n",
       "      <th>2</th>\n",
       "      <td>0.019678</td>\n",
       "      <td>0.019679</td>\n",
       "      <td>0.019681</td>\n",
       "      <td>0.019679</td>\n",
       "      <td>0.019678</td>\n",
       "      <td>0.019681</td>\n",
       "      <td>0.501384</td>\n",
       "      <td>0.019679</td>\n",
       "      <td>0.019682</td>\n",
       "      <td>0.019679</td>\n",
       "      <td>0.321498</td>\n",
       "      <td>Rainstorm 2013 Pinot Gris (Willamette Valley)</td>\n",
       "    </tr>\n",
       "    <tr>\n",
       "      <th>3</th>\n",
       "      <td>0.017170</td>\n",
       "      <td>0.017171</td>\n",
       "      <td>0.017170</td>\n",
       "      <td>0.017170</td>\n",
       "      <td>0.017170</td>\n",
       "      <td>0.017171</td>\n",
       "      <td>0.017170</td>\n",
       "      <td>0.017170</td>\n",
       "      <td>0.017171</td>\n",
       "      <td>0.017171</td>\n",
       "      <td>0.828297</td>\n",
       "      <td>St. Julian 2013 Reserve Late Harvest Riesling ...</td>\n",
       "    </tr>\n",
       "    <tr>\n",
       "      <th>4</th>\n",
       "      <td>0.017347</td>\n",
       "      <td>0.017349</td>\n",
       "      <td>0.017348</td>\n",
       "      <td>0.017348</td>\n",
       "      <td>0.307971</td>\n",
       "      <td>0.221581</td>\n",
       "      <td>0.017347</td>\n",
       "      <td>0.017352</td>\n",
       "      <td>0.017348</td>\n",
       "      <td>0.331662</td>\n",
       "      <td>0.017347</td>\n",
       "      <td>Sweet Cheeks 2012 Vintner's Reserve Wild Child...</td>\n",
       "    </tr>\n",
       "  </tbody>\n",
       "</table>\n",
       "</div>"
      ],
      "text/plain": [
       "          0         1         2         3         4         5         6  \\\n",
       "0  0.018764  0.018767  0.018764  0.018765  0.358768  0.018769  0.018764   \n",
       "1  0.020111  0.020112  0.020113  0.020111  0.020111  0.020112  0.020111   \n",
       "2  0.019678  0.019679  0.019681  0.019679  0.019678  0.019681  0.501384   \n",
       "3  0.017170  0.017171  0.017170  0.017170  0.017170  0.017171  0.017170   \n",
       "4  0.017347  0.017349  0.017348  0.017348  0.307971  0.221581  0.017347   \n",
       "\n",
       "          7         8         9        10  \\\n",
       "0  0.018764  0.018764  0.018766  0.472345   \n",
       "1  0.020111  0.677342  0.020112  0.141654   \n",
       "2  0.019679  0.019682  0.019679  0.321498   \n",
       "3  0.017170  0.017171  0.017171  0.828297   \n",
       "4  0.017352  0.017348  0.331662  0.017347   \n",
       "\n",
       "                                               title  \n",
       "0                  Nicosia 2013 Vulkà Bianco  (Etna)  \n",
       "1      Quinta dos Avidagos 2011 Avidagos Red (Douro)  \n",
       "2      Rainstorm 2013 Pinot Gris (Willamette Valley)  \n",
       "3  St. Julian 2013 Reserve Late Harvest Riesling ...  \n",
       "4  Sweet Cheeks 2012 Vintner's Reserve Wild Child...  "
      ]
     },
     "execution_count": 33,
     "metadata": {},
     "output_type": "execute_result"
    }
   ],
   "source": [
    "doc_topic_df.head()"
   ]
  },
  {
   "cell_type": "code",
   "execution_count": 34,
   "metadata": {},
   "outputs": [],
   "source": [
    "results = wine_df.merge(doc_topic_df, on=\"title\")"
   ]
  },
  {
   "cell_type": "code",
   "execution_count": 35,
   "metadata": {},
   "outputs": [
    {
     "data": {
      "text/html": [
       "<div>\n",
       "<style scoped>\n",
       "    .dataframe tbody tr th:only-of-type {\n",
       "        vertical-align: middle;\n",
       "    }\n",
       "\n",
       "    .dataframe tbody tr th {\n",
       "        vertical-align: top;\n",
       "    }\n",
       "\n",
       "    .dataframe thead th {\n",
       "        text-align: right;\n",
       "    }\n",
       "</style>\n",
       "<table border=\"1\" class=\"dataframe\">\n",
       "  <thead>\n",
       "    <tr style=\"text-align: right;\">\n",
       "      <th></th>\n",
       "      <th>description</th>\n",
       "      <th>tokens</th>\n",
       "    </tr>\n",
       "  </thead>\n",
       "  <tbody>\n",
       "    <tr>\n",
       "      <th>0</th>\n",
       "      <td>Aromas include tropical fruit, broom, brimston...</td>\n",
       "      <td>[aroma, includ, tropic, fruit, broom, brimston...</td>\n",
       "    </tr>\n",
       "    <tr>\n",
       "      <th>1</th>\n",
       "      <td>This is ripe and fruity, a wine that is smooth...</td>\n",
       "      <td>[ripe, fruiti, wine, smooth, structur, firm, t...</td>\n",
       "    </tr>\n",
       "    <tr>\n",
       "      <th>2</th>\n",
       "      <td>Tart and snappy, the flavors of lime flesh and...</td>\n",
       "      <td>[tart, snappi, flavor, lime, flesh, rind, domi...</td>\n",
       "    </tr>\n",
       "    <tr>\n",
       "      <th>3</th>\n",
       "      <td>Pineapple rind, lemon pith and orange blossom ...</td>\n",
       "      <td>[pineappl, rind, lemon, pith, orang, blossom, ...</td>\n",
       "    </tr>\n",
       "    <tr>\n",
       "      <th>4</th>\n",
       "      <td>Much like the regular bottling from 2012, this...</td>\n",
       "      <td>[like, regular, bottl, come, rough, tannic, ru...</td>\n",
       "    </tr>\n",
       "  </tbody>\n",
       "</table>\n",
       "</div>"
      ],
      "text/plain": [
       "                                         description  \\\n",
       "0  Aromas include tropical fruit, broom, brimston...   \n",
       "1  This is ripe and fruity, a wine that is smooth...   \n",
       "2  Tart and snappy, the flavors of lime flesh and...   \n",
       "3  Pineapple rind, lemon pith and orange blossom ...   \n",
       "4  Much like the regular bottling from 2012, this...   \n",
       "\n",
       "                                              tokens  \n",
       "0  [aroma, includ, tropic, fruit, broom, brimston...  \n",
       "1  [ripe, fruiti, wine, smooth, structur, firm, t...  \n",
       "2  [tart, snappi, flavor, lime, flesh, rind, domi...  \n",
       "3  [pineappl, rind, lemon, pith, orang, blossom, ...  \n",
       "4  [like, regular, bottl, come, rough, tannic, ru...  "
      ]
     },
     "execution_count": 35,
     "metadata": {},
     "output_type": "execute_result"
    }
   ],
   "source": [
    "results[['description', 'tokens']].head()"
   ]
  },
  {
   "cell_type": "code",
   "execution_count": 36,
   "metadata": {},
   "outputs": [],
   "source": [
    "results.to_csv(\"./data/wine_reviews_with_topic_distributions_clean.csv\", index=False)"
   ]
  },
  {
   "cell_type": "code",
   "execution_count": null,
   "metadata": {},
   "outputs": [],
   "source": []
  }
 ],
 "metadata": {
  "kernelspec": {
   "display_name": "Python 3",
   "language": "python",
   "name": "python3"
  },
  "language_info": {
   "codemirror_mode": {
    "name": "ipython",
    "version": 3
   },
   "file_extension": ".py",
   "mimetype": "text/x-python",
   "name": "python",
   "nbconvert_exporter": "python",
   "pygments_lexer": "ipython3",
   "version": "3.6.7"
  }
 },
 "nbformat": 4,
 "nbformat_minor": 2
}
