{
 "cells": [
  {
   "cell_type": "markdown",
   "metadata": {},
   "source": [
    "# Creating an LDA model of wine descriptions,\n",
    "# how many are there \"really\"?\n",
    "\n",
    "Sure, there's 130,000 reviews of wines from around the world expounding their diverse tastes and characters, but how many \"really\" exist?  How many supergroups of wines that are essentially similar can be identified, and what's a representative example of each?  As someone who likes both red AND white wines (let's be honest; rose's just half and half) I feel uniquely qualified to answer this.  Let's perform a gid search of a large number of LDA models and find that with the best coherence & perplexity scores!  And then we'll visualise the countries of origin and the keywords that most characterise the qualities of these supergroups."
   ]
  },
  {
   "cell_type": "code",
   "execution_count": 1,
   "metadata": {},
   "outputs": [],
   "source": [
    "import gensim\n",
    "import re\n",
    "import random\n",
    "import pyLDAvis\n",
    "\n",
    "import numpy as np\n",
    "import pandas as pd\n",
    "import seaborn as sns\n",
    "import pyLDAvis.gensim as gensimvis\n",
    "\n",
    "from gensim.models.ldamulticore import LdaModel\n",
    "\n",
    "from gensim.models.coherencemodel import CoherenceModel\n",
    "from gensim.utils import simple_preprocess\n",
    "from nltk.stem import SnowballStemmer\n",
    "from gensim.parsing.preprocessing import STOPWORDS\n",
    "from sklearn.model_selection import train_test_split\n",
    "\n",
    "from nltk.stem.porter import *\n",
    "\n",
    "# Define which stemmer to use in the pipeline later\n",
    "stemmer = PorterStemmer()\n",
    "\n",
    "%matplotlib inline"
   ]
  },
  {
   "cell_type": "code",
   "execution_count": 2,
   "metadata": {},
   "outputs": [],
   "source": [
    "wine_df = pd.read_csv(\"./data/wine-reviews/winemag-data-130k-v2.csv\")\n",
    "wine_df['desc_len'] = wine_df['description'].apply(len)"
   ]
  },
  {
   "cell_type": "markdown",
   "metadata": {},
   "source": [
    "## 1.  Data exploration (I'm not doing much!)"
   ]
  },
  {
   "cell_type": "code",
   "execution_count": 3,
   "metadata": {},
   "outputs": [
    {
     "data": {
      "text/plain": [
       "129971"
      ]
     },
     "execution_count": 3,
     "metadata": {},
     "output_type": "execute_result"
    }
   ],
   "source": [
    "len(wine_df)"
   ]
  },
  {
   "cell_type": "code",
   "execution_count": 4,
   "metadata": {},
   "outputs": [
    {
     "data": {
      "text/plain": [
       "119955"
      ]
     },
     "execution_count": 4,
     "metadata": {},
     "output_type": "execute_result"
    }
   ],
   "source": [
    "len(pd.unique(wine_df['description']))"
   ]
  },
  {
   "cell_type": "code",
   "execution_count": 5,
   "metadata": {},
   "outputs": [
    {
     "data": {
      "text/plain": [
       "119955"
      ]
     },
     "execution_count": 5,
     "metadata": {},
     "output_type": "execute_result"
    }
   ],
   "source": [
    "# There are duplicate descriptions, so we're dropping them\n",
    "wine_df = wine_df.drop_duplicates(subset='description')\n",
    "len(wine_df)"
   ]
  },
  {
   "cell_type": "code",
   "execution_count": 6,
   "metadata": {},
   "outputs": [
    {
     "data": {
      "text/plain": [
       "['Unnamed: 0',\n",
       " 'country',\n",
       " 'description',\n",
       " 'designation',\n",
       " 'points',\n",
       " 'price',\n",
       " 'province',\n",
       " 'region_1',\n",
       " 'region_2',\n",
       " 'taster_name',\n",
       " 'taster_twitter_handle',\n",
       " 'title',\n",
       " 'variety',\n",
       " 'winery',\n",
       " 'desc_len']"
      ]
     },
     "execution_count": 6,
     "metadata": {},
     "output_type": "execute_result"
    }
   ],
   "source": [
    "list(wine_df)"
   ]
  },
  {
   "cell_type": "code",
   "execution_count": 7,
   "metadata": {},
   "outputs": [
    {
     "data": {
      "text/html": [
       "<div>\n",
       "<style scoped>\n",
       "    .dataframe tbody tr th:only-of-type {\n",
       "        vertical-align: middle;\n",
       "    }\n",
       "\n",
       "    .dataframe tbody tr th {\n",
       "        vertical-align: top;\n",
       "    }\n",
       "\n",
       "    .dataframe thead th {\n",
       "        text-align: right;\n",
       "    }\n",
       "</style>\n",
       "<table border=\"1\" class=\"dataframe\">\n",
       "  <thead>\n",
       "    <tr style=\"text-align: right;\">\n",
       "      <th></th>\n",
       "      <th>Unnamed: 0</th>\n",
       "      <th>points</th>\n",
       "      <th>price</th>\n",
       "      <th>desc_len</th>\n",
       "    </tr>\n",
       "  </thead>\n",
       "  <tbody>\n",
       "    <tr>\n",
       "      <th>count</th>\n",
       "      <td>119955.000000</td>\n",
       "      <td>119955.000000</td>\n",
       "      <td>111567.000000</td>\n",
       "      <td>119955.000000</td>\n",
       "    </tr>\n",
       "    <tr>\n",
       "      <th>mean</th>\n",
       "      <td>63211.429986</td>\n",
       "      <td>88.442291</td>\n",
       "      <td>35.620542</td>\n",
       "      <td>242.815939</td>\n",
       "    </tr>\n",
       "    <tr>\n",
       "      <th>std</th>\n",
       "      <td>37506.055996</td>\n",
       "      <td>3.093029</td>\n",
       "      <td>42.107158</td>\n",
       "      <td>67.146799</td>\n",
       "    </tr>\n",
       "    <tr>\n",
       "      <th>min</th>\n",
       "      <td>0.000000</td>\n",
       "      <td>80.000000</td>\n",
       "      <td>4.000000</td>\n",
       "      <td>20.000000</td>\n",
       "    </tr>\n",
       "    <tr>\n",
       "      <th>25%</th>\n",
       "      <td>30498.500000</td>\n",
       "      <td>86.000000</td>\n",
       "      <td>17.000000</td>\n",
       "      <td>197.000000</td>\n",
       "    </tr>\n",
       "    <tr>\n",
       "      <th>50%</th>\n",
       "      <td>62404.000000</td>\n",
       "      <td>88.000000</td>\n",
       "      <td>25.000000</td>\n",
       "      <td>237.000000</td>\n",
       "    </tr>\n",
       "    <tr>\n",
       "      <th>75%</th>\n",
       "      <td>95386.500000</td>\n",
       "      <td>91.000000</td>\n",
       "      <td>42.000000</td>\n",
       "      <td>283.000000</td>\n",
       "    </tr>\n",
       "    <tr>\n",
       "      <th>max</th>\n",
       "      <td>129970.000000</td>\n",
       "      <td>100.000000</td>\n",
       "      <td>3300.000000</td>\n",
       "      <td>829.000000</td>\n",
       "    </tr>\n",
       "  </tbody>\n",
       "</table>\n",
       "</div>"
      ],
      "text/plain": [
       "          Unnamed: 0         points          price       desc_len\n",
       "count  119955.000000  119955.000000  111567.000000  119955.000000\n",
       "mean    63211.429986      88.442291      35.620542     242.815939\n",
       "std     37506.055996       3.093029      42.107158      67.146799\n",
       "min         0.000000      80.000000       4.000000      20.000000\n",
       "25%     30498.500000      86.000000      17.000000     197.000000\n",
       "50%     62404.000000      88.000000      25.000000     237.000000\n",
       "75%     95386.500000      91.000000      42.000000     283.000000\n",
       "max    129970.000000     100.000000    3300.000000     829.000000"
      ]
     },
     "execution_count": 7,
     "metadata": {},
     "output_type": "execute_result"
    }
   ],
   "source": [
    "wine_df.describe()"
   ]
  },
  {
   "cell_type": "code",
   "execution_count": 8,
   "metadata": {},
   "outputs": [
    {
     "data": {
      "text/html": [
       "<div>\n",
       "<style scoped>\n",
       "    .dataframe tbody tr th:only-of-type {\n",
       "        vertical-align: middle;\n",
       "    }\n",
       "\n",
       "    .dataframe tbody tr th {\n",
       "        vertical-align: top;\n",
       "    }\n",
       "\n",
       "    .dataframe thead th {\n",
       "        text-align: right;\n",
       "    }\n",
       "</style>\n",
       "<table border=\"1\" class=\"dataframe\">\n",
       "  <thead>\n",
       "    <tr style=\"text-align: right;\">\n",
       "      <th></th>\n",
       "      <th>description</th>\n",
       "      <th>country</th>\n",
       "      <th>taster_name</th>\n",
       "      <th>desc_len</th>\n",
       "    </tr>\n",
       "  </thead>\n",
       "  <tbody>\n",
       "    <tr>\n",
       "      <th>0</th>\n",
       "      <td>Aromas include tropical fruit, broom, brimston...</td>\n",
       "      <td>Italy</td>\n",
       "      <td>Kerin O’Keefe</td>\n",
       "      <td>172</td>\n",
       "    </tr>\n",
       "    <tr>\n",
       "      <th>1</th>\n",
       "      <td>This is ripe and fruity, a wine that is smooth...</td>\n",
       "      <td>Portugal</td>\n",
       "      <td>Roger Voss</td>\n",
       "      <td>227</td>\n",
       "    </tr>\n",
       "    <tr>\n",
       "      <th>2</th>\n",
       "      <td>Tart and snappy, the flavors of lime flesh and...</td>\n",
       "      <td>US</td>\n",
       "      <td>Paul Gregutt</td>\n",
       "      <td>186</td>\n",
       "    </tr>\n",
       "    <tr>\n",
       "      <th>3</th>\n",
       "      <td>Pineapple rind, lemon pith and orange blossom ...</td>\n",
       "      <td>US</td>\n",
       "      <td>Alexander Peartree</td>\n",
       "      <td>199</td>\n",
       "    </tr>\n",
       "    <tr>\n",
       "      <th>4</th>\n",
       "      <td>Much like the regular bottling from 2012, this...</td>\n",
       "      <td>US</td>\n",
       "      <td>Paul Gregutt</td>\n",
       "      <td>249</td>\n",
       "    </tr>\n",
       "  </tbody>\n",
       "</table>\n",
       "</div>"
      ],
      "text/plain": [
       "                                         description   country  \\\n",
       "0  Aromas include tropical fruit, broom, brimston...     Italy   \n",
       "1  This is ripe and fruity, a wine that is smooth...  Portugal   \n",
       "2  Tart and snappy, the flavors of lime flesh and...        US   \n",
       "3  Pineapple rind, lemon pith and orange blossom ...        US   \n",
       "4  Much like the regular bottling from 2012, this...        US   \n",
       "\n",
       "          taster_name  desc_len  \n",
       "0       Kerin O’Keefe       172  \n",
       "1          Roger Voss       227  \n",
       "2        Paul Gregutt       186  \n",
       "3  Alexander Peartree       199  \n",
       "4        Paul Gregutt       249  "
      ]
     },
     "execution_count": 8,
     "metadata": {},
     "output_type": "execute_result"
    }
   ],
   "source": [
    "wine_df[[\"description\", \"country\", \"taster_name\", \"desc_len\"]].head()"
   ]
  },
  {
   "cell_type": "markdown",
   "metadata": {},
   "source": [
    "# 2.  Data Preparation"
   ]
  },
  {
   "cell_type": "code",
   "execution_count": 9,
   "metadata": {},
   "outputs": [],
   "source": [
    "# A quick utility function to pre-process the text\n",
    "def preprocess_desc(description):\n",
    "    return( [stemmer.stem(token) for token in simple_preprocess(str(description)) if token not in STOPWORDS] )"
   ]
  },
  {
   "cell_type": "code",
   "execution_count": 10,
   "metadata": {},
   "outputs": [],
   "source": [
    "# NB;  This step could be improved through first filtering to words that are pronouns.\n",
    "wine_df['tokens'] = wine_df['description'].apply(preprocess_desc)"
   ]
  },
  {
   "cell_type": "code",
   "execution_count": 11,
   "metadata": {},
   "outputs": [
    {
     "data": {
      "text/html": [
       "<div>\n",
       "<style scoped>\n",
       "    .dataframe tbody tr th:only-of-type {\n",
       "        vertical-align: middle;\n",
       "    }\n",
       "\n",
       "    .dataframe tbody tr th {\n",
       "        vertical-align: top;\n",
       "    }\n",
       "\n",
       "    .dataframe thead th {\n",
       "        text-align: right;\n",
       "    }\n",
       "</style>\n",
       "<table border=\"1\" class=\"dataframe\">\n",
       "  <thead>\n",
       "    <tr style=\"text-align: right;\">\n",
       "      <th></th>\n",
       "      <th>description</th>\n",
       "      <th>country</th>\n",
       "      <th>taster_name</th>\n",
       "      <th>desc_len</th>\n",
       "      <th>tokens</th>\n",
       "    </tr>\n",
       "  </thead>\n",
       "  <tbody>\n",
       "    <tr>\n",
       "      <th>0</th>\n",
       "      <td>Aromas include tropical fruit, broom, brimston...</td>\n",
       "      <td>Italy</td>\n",
       "      <td>Kerin O’Keefe</td>\n",
       "      <td>172</td>\n",
       "      <td>[aroma, includ, tropic, fruit, broom, brimston...</td>\n",
       "    </tr>\n",
       "    <tr>\n",
       "      <th>1</th>\n",
       "      <td>This is ripe and fruity, a wine that is smooth...</td>\n",
       "      <td>Portugal</td>\n",
       "      <td>Roger Voss</td>\n",
       "      <td>227</td>\n",
       "      <td>[ripe, fruiti, wine, smooth, structur, firm, t...</td>\n",
       "    </tr>\n",
       "    <tr>\n",
       "      <th>2</th>\n",
       "      <td>Tart and snappy, the flavors of lime flesh and...</td>\n",
       "      <td>US</td>\n",
       "      <td>Paul Gregutt</td>\n",
       "      <td>186</td>\n",
       "      <td>[tart, snappi, flavor, lime, flesh, rind, domi...</td>\n",
       "    </tr>\n",
       "    <tr>\n",
       "      <th>3</th>\n",
       "      <td>Pineapple rind, lemon pith and orange blossom ...</td>\n",
       "      <td>US</td>\n",
       "      <td>Alexander Peartree</td>\n",
       "      <td>199</td>\n",
       "      <td>[pineappl, rind, lemon, pith, orang, blossom, ...</td>\n",
       "    </tr>\n",
       "    <tr>\n",
       "      <th>4</th>\n",
       "      <td>Much like the regular bottling from 2012, this...</td>\n",
       "      <td>US</td>\n",
       "      <td>Paul Gregutt</td>\n",
       "      <td>249</td>\n",
       "      <td>[like, regular, bottl, come, rough, tannic, ru...</td>\n",
       "    </tr>\n",
       "  </tbody>\n",
       "</table>\n",
       "</div>"
      ],
      "text/plain": [
       "                                         description   country  \\\n",
       "0  Aromas include tropical fruit, broom, brimston...     Italy   \n",
       "1  This is ripe and fruity, a wine that is smooth...  Portugal   \n",
       "2  Tart and snappy, the flavors of lime flesh and...        US   \n",
       "3  Pineapple rind, lemon pith and orange blossom ...        US   \n",
       "4  Much like the regular bottling from 2012, this...        US   \n",
       "\n",
       "          taster_name  desc_len  \\\n",
       "0       Kerin O’Keefe       172   \n",
       "1          Roger Voss       227   \n",
       "2        Paul Gregutt       186   \n",
       "3  Alexander Peartree       199   \n",
       "4        Paul Gregutt       249   \n",
       "\n",
       "                                              tokens  \n",
       "0  [aroma, includ, tropic, fruit, broom, brimston...  \n",
       "1  [ripe, fruiti, wine, smooth, structur, firm, t...  \n",
       "2  [tart, snappi, flavor, lime, flesh, rind, domi...  \n",
       "3  [pineappl, rind, lemon, pith, orang, blossom, ...  \n",
       "4  [like, regular, bottl, come, rough, tannic, ru...  "
      ]
     },
     "execution_count": 11,
     "metadata": {},
     "output_type": "execute_result"
    }
   ],
   "source": [
    "wine_df[[\"description\", \"country\", \"taster_name\", \"desc_len\", \"tokens\"]].head()"
   ]
  },
  {
   "cell_type": "markdown",
   "metadata": {},
   "source": [
    "## 3. Create TF-IDF representation"
   ]
  },
  {
   "cell_type": "code",
   "execution_count": 12,
   "metadata": {},
   "outputs": [],
   "source": [
    "# Create the vocabulary record\n",
    "dictionary = gensim.corpora.Dictionary(wine_df['tokens'])"
   ]
  },
  {
   "cell_type": "code",
   "execution_count": 13,
   "metadata": {},
   "outputs": [],
   "source": [
    "# Remove extreme values (words that are too rare, too common)\n",
    "dictionary.filter_extremes(no_below=5, no_above=0.5, keep_n=100000)"
   ]
  },
  {
   "cell_type": "code",
   "execution_count": 14,
   "metadata": {},
   "outputs": [],
   "source": [
    "# Create a BOW model\n",
    "bow_corpus = [dictionary.doc2bow(doc) for doc in wine_df['tokens']]"
   ]
  },
  {
   "cell_type": "code",
   "execution_count": 15,
   "metadata": {},
   "outputs": [],
   "source": [
    "# From that create the TF-IDF model\n",
    "tfidf = gensim.models.TfidfModel(bow_corpus)\n",
    "wine_df['corpus_tfidf'] = tfidf[bow_corpus]"
   ]
  },
  {
   "cell_type": "code",
   "execution_count": 16,
   "metadata": {},
   "outputs": [
    {
     "data": {
      "text/plain": [
       "0    [(0, 0.0714296427652335), (1, 0.18833774970920...\n",
       "1    [(0, 0.09114195243321198), (10, 0.063537146387...\n",
       "2    [(0, 0.07027358730085778), (33, 0.131788133771...\n",
       "3    [(3, 0.06098283869088092), (16, 0.064735606219...\n",
       "4    [(65, 0.12932848024109073), (66, 0.22354915104...\n",
       "Name: corpus_tfidf, dtype: object"
      ]
     },
     "execution_count": 16,
     "metadata": {},
     "output_type": "execute_result"
    }
   ],
   "source": [
    "wine_df['corpus_tfidf'].head()"
   ]
  },
  {
   "cell_type": "markdown",
   "metadata": {},
   "source": [
    "## 4.  Create LDA models (try a few!)\n",
    "Train-test split only, because I'm not iteratively improving anything here (it's for coursework dammit, no one cares!)"
   ]
  },
  {
   "cell_type": "code",
   "execution_count": 17,
   "metadata": {},
   "outputs": [],
   "source": [
    "random.seed(7)\n",
    "trainset, testset = train_test_split(wine_df, test_size=0.15)"
   ]
  },
  {
   "cell_type": "code",
   "execution_count": 18,
   "metadata": {
    "scrolled": true
   },
   "outputs": [
    {
     "name": "stdout",
     "output_type": "stream",
     "text": [
      "tried 3 topics perplexity = -8.108477832784999 coherence = -1.9913738404379915\n",
      "tried 4 topics perplexity = -8.321668485256676 coherence = -2.073457940042304\n",
      "tried 5 topics perplexity = -8.491438428634032 coherence = -2.093669073764229\n",
      "tried 6 topics perplexity = -8.667081068196667 coherence = -2.417918194515604\n",
      "tried 7 topics perplexity = -8.799032388438205 coherence = -2.0669142281011643\n",
      "tried 8 topics perplexity = -8.931493133553642 coherence = -2.061258735919996\n",
      "tried 9 topics perplexity = -9.000474538101894 coherence = -7.858110623329277\n",
      "tried 10 topics perplexity = -9.207549730726551 coherence = -6.071534049319699\n",
      "tried 11 topics perplexity = -9.41901943626096 coherence = -6.3839109257822875\n",
      "tried 12 topics perplexity = -9.681384431653408 coherence = -9.574446175328864\n",
      "tried 13 topics perplexity = -9.956510340117955 coherence = -7.676728985428058\n",
      "tried 14 topics perplexity = -10.103046826563855 coherence = -6.146721539970917\n",
      "tried 15 topics perplexity = -10.244636554466746 coherence = -6.817448466261066\n",
      "tried 16 topics perplexity = -10.382851300091069 coherence = -6.992589177128954\n",
      "tried 17 topics perplexity = -10.53655991451321 coherence = -5.933403215841363\n",
      "tried 18 topics perplexity = -10.617581714054573 coherence = -8.237503633137669\n",
      "tried 19 topics perplexity = -10.74312322108046 coherence = -9.911515256260367\n",
      "tried 20 topics perplexity = -10.908951195447456 coherence = -7.409571714050659\n",
      "tried 21 topics perplexity = -11.035301182800099 coherence = -8.011343135524328\n",
      "tried 22 topics perplexity = -11.156071652786874 coherence = -8.678189913071082\n",
      "tried 23 topics perplexity = -11.272698100980193 coherence = -9.751229402272273\n",
      "tried 24 topics perplexity = -11.380393795594918 coherence = -9.764100089066988\n",
      "tried 25 topics perplexity = -11.532761662277688 coherence = -8.795918723270049\n",
      "tried 26 topics perplexity = -11.648002190959366 coherence = -8.13158546804073\n",
      "tried 27 topics perplexity = -11.780881253447847 coherence = -9.260100045462599\n",
      "tried 28 topics perplexity = -11.886656240736903 coherence = -8.66657826895407\n",
      "tried 29 topics perplexity = -11.987094358033206 coherence = -9.334581348167664\n",
      "tried 30 topics perplexity = -12.139825690006235 coherence = -9.538863947835242\n",
      "tried 31 topics perplexity = -12.202150005416012 coherence = -10.952574283226529\n",
      "tried 32 topics perplexity = -12.334992149792095 coherence = -9.807169341554758\n",
      "tried 33 topics perplexity = -12.469595279142117 coherence = -9.485043654662787\n",
      "tried 34 topics perplexity = -12.589629217910048 coherence = -10.131232704269479\n",
      "tried 35 topics perplexity = -12.69743347092999 coherence = -10.064694201956176\n",
      "tried 36 topics perplexity = -12.803729522442772 coherence = -10.743036748356971\n",
      "tried 37 topics perplexity = -12.960579922350096 coherence = -10.525501935203257\n",
      "tried 38 topics perplexity = -13.031929064394806 coherence = -10.248214815576787\n",
      "tried 39 topics perplexity = -13.198205797240805 coherence = -10.136256209294205\n",
      "tried 40 topics perplexity = -13.300346156596945 coherence = -10.095401527096863\n",
      "tried 41 topics perplexity = -13.407207141817246 coherence = -10.048578091688823\n",
      "tried 42 topics perplexity = -13.516103407114658 coherence = -10.46323708445843\n",
      "tried 43 topics perplexity = -13.681755595540306 coherence = -11.506375125788226\n",
      "tried 44 topics perplexity = -13.783044229319415 coherence = -11.293921614762727\n",
      "tried 45 topics perplexity = -13.890839883751607 coherence = -11.169477443248384\n",
      "tried 46 topics perplexity = -14.053382458751168 coherence = -10.973426410023658\n",
      "tried 47 topics perplexity = -14.19884879345477 coherence = -11.150918598860137\n",
      "tried 48 topics perplexity = -14.35496423948773 coherence = -11.43826004995924\n",
      "tried 49 topics perplexity = -14.458094058806747 coherence = -11.45195681842923\n",
      "tried 50 topics perplexity = -14.719247085693404 coherence = -11.2401608751016\n",
      "tried 51 topics perplexity = -14.97102520270065 coherence = -11.400915268614995\n",
      "tried 52 topics perplexity = -15.155891447051085 coherence = -11.323348978786045\n",
      "tried 53 topics perplexity = -15.376966194626677 coherence = -11.240495157367171\n",
      "tried 54 topics perplexity = -15.74306284620158 coherence = -11.552304545329056\n",
      "tried 55 topics perplexity = -16.18403323385911 coherence = -11.696183206877272\n",
      "tried 56 topics perplexity = -16.361432571632587 coherence = -11.030453964293956\n",
      "tried 57 topics perplexity = -16.80309527023606 coherence = -11.658053842196939\n",
      "tried 58 topics perplexity = -17.324045320696335 coherence = -11.365729580364905\n",
      "tried 59 topics perplexity = -17.893626196682643 coherence = -11.097156737175014\n",
      "tried 60 topics perplexity = -18.917646174318186 coherence = -10.27438016864659\n",
      "tried 61 topics perplexity = -19.204105352083577 coherence = -10.475370132819197\n",
      "tried 62 topics perplexity = -19.865320812798902 coherence = -10.103198213855073\n",
      "tried 63 topics perplexity = -21.33255808188388 coherence = -9.439451752947376\n",
      "tried 64 topics perplexity = -22.716278939394268 coherence = -8.618561546953508\n",
      "tried 65 topics perplexity = -23.771555191488947 coherence = -8.605775964856164\n",
      "tried 66 topics perplexity = -24.527126511289477 coherence = -7.866571111604111\n",
      "tried 67 topics perplexity = -27.125898808905358 coherence = -6.927024125346319\n",
      "tried 68 topics perplexity = -27.8508669149452 coherence = -6.914128230298339\n",
      "tried 69 topics perplexity = -30.332224365575826 coherence = -6.651124531963491\n",
      "tried 70 topics perplexity = -31.63553804839629 coherence = -7.3359130846805165\n",
      "tried 71 topics perplexity = -33.60762995800009 coherence = -7.11613106422777\n",
      "tried 72 topics perplexity = -37.42625532361837 coherence = -8.442071467548534\n",
      "tried 73 topics perplexity = -38.392270216188074 coherence = -8.605207371054851\n",
      "tried 74 topics perplexity = -42.697800307708256 coherence = -9.482829637585029\n",
      "tried 75 topics perplexity = -44.281637661113926 coherence = -9.759181302051386\n",
      "tried 76 topics perplexity = -44.24680869748669 coherence = -10.41705047432937\n",
      "tried 77 topics perplexity = -57.13088552661621 coherence = -12.370275492562996\n",
      "tried 78 topics perplexity = -61.27283558024508 coherence = -12.248027056083021\n",
      "tried 79 topics perplexity = -59.70183967105503 coherence = -12.312889174424178\n",
      "tried 80 topics perplexity = -64.96367185767475 coherence = -12.942911815044454\n",
      "tried 81 topics perplexity = -91.11412470807241 coherence = -14.07012124135831\n",
      "tried 82 topics perplexity = -68.75113515936513 coherence = -13.233969093048774\n",
      "tried 83 topics perplexity = -77.86713847454949 coherence = -13.686980641306864\n",
      "tried 84 topics perplexity = -86.28447052893289 coherence = -13.941009184945973\n",
      "tried 85 topics perplexity = -170.6751708984344 coherence = -14.341240217410958\n",
      "tried 86 topics perplexity = -94.76295983869592 coherence = -14.078602746302675\n",
      "tried 87 topics perplexity = -113.80014313317216 coherence = -14.21536487272963\n",
      "tried 88 topics perplexity = -176.60685729980258 coherence = -14.341240217410954\n",
      "tried 89 topics perplexity = -178.58474731445096 coherence = -14.341240217410954\n",
      "tried 90 topics perplexity = -114.52168573679526 coherence = -14.215728822913206\n",
      "tried 91 topics perplexity = -106.9746836916219 coherence = -14.212449936781585\n",
      "tried 92 topics perplexity = -184.51943969726264 coherence = -14.341240217410958\n",
      "tried 93 topics perplexity = -186.4980773925764 coherence = -14.341240217410958\n",
      "tried 94 topics perplexity = -188.4769744873021 coherence = -14.34124021741096\n",
      "tried 95 topics perplexity = -190.4561309814434 coherence = -14.34124021741096\n",
      "tried 96 topics perplexity = -192.43547058105034 coherence = -14.341240217410954\n",
      "tried 97 topics perplexity = -194.41510009765398 coherence = -14.341240217410954\n",
      "tried 98 topics perplexity = -196.39476013183258 coherence = -14.341240217410956\n",
      "tried 99 topics perplexity = -198.37483215331685 coherence = -14.341240217410956\n",
      "tried 100 topics perplexity = -200.35498046874812 coherence = -14.341240217410958\n"
     ]
    }
   ],
   "source": [
    "# Loop through a number of different topic model sizes\n",
    "\n",
    "results = pd.DataFrame()\n",
    "\n",
    "for num_topics in range(3, 101):\n",
    "\n",
    "    # Fit the lda model, with 10 topics\n",
    "    lda_model_tfidf = LdaModel(trainset['corpus_tfidf'],\n",
    "                               num_topics=num_topics,\n",
    "                               id2word=dictionary,\n",
    "                               passes=2)\n",
    "    \n",
    "    # Get the perplexity\n",
    "    perplexity = lda_model_tfidf.log_perplexity(testset['corpus_tfidf'])\n",
    "    \n",
    "    # Get the coherence\n",
    "    cm = CoherenceModel(model=lda_model_tfidf, corpus=testset['corpus_tfidf'], coherence='u_mass')\n",
    "    coherence = cm.get_coherence()\n",
    "    \n",
    "    # record\n",
    "    results = results.append({\"topics\":num_topics, \"perplexity\":perplexity, \"coherence\":coherence}, ignore_index=True)\n",
    "    \n",
    "    # Report for my convenience\n",
    "    print(\"tried {} topics\".format(num_topics), \"perplexity = {}\".format(perplexity), \"coherence = {}\".format(coherence))\n",
    "\n",
    "results.to_csv(\"tested_lda_stats_clean.csv\")    "
   ]
  },
  {
   "cell_type": "code",
   "execution_count": 19,
   "metadata": {
    "scrolled": true
   },
   "outputs": [
    {
     "data": {
      "text/plain": [
       "<matplotlib.axes._subplots.AxesSubplot at 0x7efd1cfd4c88>"
      ]
     },
     "execution_count": 19,
     "metadata": {},
     "output_type": "execute_result"
    },
    {
     "data": {
      "image/png": "[encoded data removed]",
      "text/plain": [
       "<Figure size 432x288 with 1 Axes>"
      ]
     },
     "metadata": {},
     "output_type": "display_data"
    }
   ],
   "source": [
    "# plot the results\n",
    "sns.scatterplot(x=\"topics\", y=\"perplexity\", color=\"blue\", data=results)"
   ]
  },
  {
   "cell_type": "code",
   "execution_count": 20,
   "metadata": {},
   "outputs": [
    {
     "data": {
      "text/plain": [
       "<matplotlib.axes._subplots.AxesSubplot at 0x7efd38793d30>"
      ]
     },
     "execution_count": 20,
     "metadata": {},
     "output_type": "execute_result"
    },
    {
     "data": {
      "image/png": "[encoded data removed]",
      "text/plain": [
       "<Figure size 432x288 with 1 Axes>"
      ]
     },
     "metadata": {},
     "output_type": "display_data"
    }
   ],
   "source": [
    "# plot the results\n",
    "sns.scatterplot(x=\"topics\", y=\"coherence\", color=\"red\", data=results)"
   ]
  },
  {
   "cell_type": "markdown",
   "metadata": {},
   "source": [
    "## 5.  Create the \"Best\" Model!\n",
    "\n",
    "So what's the \"best\" model according to my two somewhat-arbitrary metrics?  First off it's worth noting that the metrics follow a consistent downward trend.  We are looking for a low perplexity score and a high coherence score.  Our other constraint is that I, personally, don't believe there can be more than 15 \"true\" varieties of wines!\n",
    "\n",
    "This last constraint is both a cheat that undermines the entire idea, and absolutely neccessary.  Unless you've got a very weirdly well-divided, well fleshed-out dataset of fairly long documents there's not going to be a \"true\" underlying topic model.  There'll be overlap in topic, and worse the topics can be fractal in nature, sub-dividing and making it difficult to know where to call it quits.\n",
    "\n",
    "Within this constraint, models with 9, 10, 11 or 12 topics display a consistently good coherence score suggesting a some persistence in discovered topics.  Over this range we also see something of a step-change in perplexity, implying a qualitative improvement over having smaller numbers of topics.\n",
    "\n",
    "I choose 11 topics - the value comes on the down-side of that possible step-change in perplexity, and has a locally better coherence score."
   ]
  },
  {
   "cell_type": "code",
   "execution_count": 21,
   "metadata": {},
   "outputs": [
    {
     "name": "stdout",
     "output_type": "stream",
     "text": [
      "perplexity = -8.826057268103316 coherence = -6.122655411524102\n"
     ]
    }
   ],
   "source": [
    "# Fit the final lda model to all data\n",
    "lda_model_tfidf = LdaModel(wine_df['corpus_tfidf'],\n",
    "                           num_topics=11,\n",
    "                           id2word=dictionary,\n",
    "                           passes=2)\n",
    "\n",
    "# Get the perplexity, out of curiosity\n",
    "perplexity = lda_model_tfidf.log_perplexity(wine_df['corpus_tfidf'])\n",
    "    \n",
    "# Get the coherence, out of curiosity\n",
    "cm = CoherenceModel(model=lda_model_tfidf, corpus=wine_df['corpus_tfidf'], coherence='u_mass')\n",
    "coherence = cm.get_coherence()\n",
    "\n",
    "print(\"perplexity = {}\".format(perplexity), \"coherence = {}\".format(coherence))"
   ]
  },
  {
   "cell_type": "code",
   "execution_count": 22,
   "metadata": {},
   "outputs": [
    {
     "name": "stdout",
     "output_type": "stream",
     "text": [
      "Topic: 0 Word: 0.016*\"overrip\" + 0.015*\"stalki\" + 0.014*\"resini\" + 0.011*\"scorch\" + 0.011*\"shot\" + 0.010*\"rubi\" + 0.010*\"port\" + 0.009*\"firmli\" + 0.009*\"salmon\" + 0.009*\"toffe\"\n",
      "Topic: 1 Word: 0.012*\"black\" + 0.011*\"cherri\" + 0.010*\"tannin\" + 0.009*\"aroma\" + 0.009*\"spice\" + 0.008*\"palat\" + 0.008*\"cabernet\" + 0.007*\"red\" + 0.007*\"herb\" + 0.007*\"offer\"\n",
      "Topic: 2 Word: 0.017*\"crisp\" + 0.016*\"fruiti\" + 0.015*\"acid\" + 0.013*\"drink\" + 0.013*\"fresh\" + 0.013*\"readi\" + 0.012*\"attract\" + 0.012*\"textur\" + 0.012*\"light\" + 0.011*\"soft\"\n",
      "Topic: 3 Word: 0.014*\"brighten\" + 0.011*\"shiraz\" + 0.009*\"stoni\" + 0.008*\"flashi\" + 0.008*\"smoothli\" + 0.008*\"passion\" + 0.008*\"state\" + 0.007*\"key\" + 0.007*\"water\" + 0.007*\"hand\"\n",
      "Topic: 4 Word: 0.009*\"till\" + 0.008*\"bottl\" + 0.008*\"petal\" + 0.007*\"rose\" + 0.007*\"nose\" + 0.007*\"pomegran\" + 0.007*\"barolo\" + 0.007*\"nebbiolo\" + 0.007*\"pine\" + 0.007*\"cover\"\n",
      "Topic: 5 Word: 0.012*\"berri\" + 0.012*\"finish\" + 0.012*\"feel\" + 0.012*\"plum\" + 0.011*\"herbal\" + 0.011*\"aroma\" + 0.008*\"oak\" + 0.008*\"tast\" + 0.007*\"palat\" + 0.007*\"note\"\n",
      "Topic: 6 Word: 0.016*\"steel\" + 0.014*\"stainless\" + 0.011*\"mediterranean\" + 0.011*\"ferment\" + 0.009*\"barnyard\" + 0.009*\"watermelon\" + 0.009*\"grenach\" + 0.008*\"character\" + 0.008*\"eucalyptu\" + 0.007*\"brioch\"\n",
      "Topic: 7 Word: 0.012*\"pale\" + 0.009*\"dull\" + 0.008*\"popular\" + 0.008*\"quick\" + 0.008*\"stem\" + 0.008*\"aggress\" + 0.008*\"crispli\" + 0.008*\"popcorn\" + 0.008*\"lip\" + 0.007*\"lemongrass\"\n",
      "Topic: 8 Word: 0.021*\"age\" + 0.017*\"structur\" + 0.016*\"wood\" + 0.015*\"fruit\" + 0.015*\"rich\" + 0.014*\"tannin\" + 0.013*\"ripe\" + 0.013*\"drink\" + 0.012*\"year\" + 0.011*\"firm\"\n",
      "Topic: 9 Word: 0.010*\"cherri\" + 0.008*\"oak\" + 0.008*\"blackberri\" + 0.008*\"pinot\" + 0.006*\"raspberri\" + 0.006*\"dri\" + 0.006*\"rich\" + 0.006*\"sweet\" + 0.006*\"cola\" + 0.006*\"currant\"\n",
      "Topic: 10 Word: 0.013*\"appl\" + 0.012*\"peach\" + 0.011*\"lemon\" + 0.011*\"white\" + 0.010*\"citru\" + 0.010*\"pear\" + 0.009*\"lime\" + 0.008*\"palat\" + 0.008*\"finish\" + 0.008*\"fresh\"\n"
     ]
    }
   ],
   "source": [
    "# Let's take a quick look at the topics picked out\n",
    "for idx, topic in lda_model_tfidf.print_topics(-1):\n",
    "    print('Topic: {} Word: {}'.format(idx, topic))"
   ]
  },
  {
   "cell_type": "markdown",
   "metadata": {},
   "source": [
    "### So how did we do?\n",
    "Well;  looking at the words involved there are some valid-looking clusters there with some very apparently citrusy wines separated from aged, oakey wines!  This is a success!  There's a sweet wine cluster too with cherries, blackberries, \"soft\" and \"sweet\" flavours mentioned.  There's also annoyingly a weird topic that may have more to do with ancilliary descriptions of how wines are constructed - topic 1, describing stainless steel apperatus, and words like \"vineyard\" and \"ferment\".\n",
    "\n",
    "An obvious solution;  Simply ignore that topic during processing/assignment to clusters/visualisation!  Topic 0 may also be ancilliary details, mentioning \"cover\", \"salmon\", \"rest\" and \"extra\" - words that imply a link to serving suggestions.\n",
    "\n",
    "This is ultimately a useful lesson in the divergence of the latent topics of the corpus (on wine TASTING) from the topics we were seeking (on wine FLAVOUR).  A really useful way to examine the fit of what we've created is to utilise pyLDAvis, which uses PCA to do exactly what it says on the tin!\n",
    "\n",
    "And as it happens it supports the earlier conclusion;  in the first two principal components (and ignoring the part where it mucked up the topic indexes) the topics related to fermentation and serving suggestions appear well separated from the topics related to flavour.  Additionally, topic 9 is out of the way too, it talks of \"nose\", \"gravel\", and then a list of herbs that frankly sound like they'd go well with beef.  This decision, that these three topics are not like the rest and not relevant to our aims, is bourne out by the proportion of the corpus assigned to them.  Each of the three rogue topics contains 2-5 % of documents (roughly eyeballed), whereas the \"valid\" topics contain closer to 10 % each typically.\n",
    "\n",
    "### Final Conclusion\n",
    "The best-fit (low topic number) model has 11 topics.  Of those, three topics (index 0, 1 and 9) appear to be invalid, representing aspects of the descriptions less relevant to flavour.  This leaves 8 \"valid\" topics to be presented."
   ]
  },
  {
   "cell_type": "code",
   "execution_count": 23,
   "metadata": {},
   "outputs": [
    {
     "name": "stderr",
     "output_type": "stream",
     "text": [
      "/home/ozzy/.local/lib/python3.6/site-packages/pyLDAvis/_prepare.py:257: FutureWarning: Sorting because non-concatenation axis is not aligned. A future version\n",
      "of pandas will change to not sort by default.\n",
      "\n",
      "To accept the future behavior, pass 'sort=False'.\n",
      "\n",
      "To retain the current behavior and silence the warning, pass 'sort=True'.\n",
      "\n",
      "  return pd.concat([default_term_info] + list(topic_dfs))\n"
     ]
    }
   ],
   "source": [
    "vis_data = gensimvis.prepare(lda_model_tfidf, wine_df['corpus_tfidf'], dictionary)"
   ]
  },
  {
   "cell_type": "code",
   "execution_count": 24,
   "metadata": {},
   "outputs": [
    {
     "data": {
      "text/html": [
       "\n",
       "<link rel=\"stylesheet\" type=\"text/css\" href=\"https://cdn.rawgit.com/bmabey/pyLDAvis/files/ldavis.v1.0.0.css\">\n",
       "\n",
       "\n",
       "<div id=\"ldavis_el80201396262099980726509344730\"></div>\n",
       "<script type=\"text/javascript\">\n",
       "\n",
       "var ldavis_el80201396262099980726509344730_data = {\"mdsDat\": {\"x\": [0.19884447947407222, 0.1958800031152175, 0.18275082604316106, 0.175735372610991, 0.19011588678680014, 0.15371113821842805, -0.11760835696699258, -0.2764736085746778, -0.2011398296018541, -0.2412474809613493, -0.26056843014379716], \"y\": [0.029009519493364704, -0.0036018703796251088, 0.005044542923253632, -0.0035772611459027864, -0.0426500381936256, -0.052172805004812986, 0.13815244133701984, 0.03403401852841614, 0.11037387906885292, 0.14019235011055806, -0.3548047767374991], \"topics\": [1, 2, 3, 4, 5, 6, 7, 8, 9, 10, 11], \"cluster\": [1, 1, 1, 1, 1, 1, 1, 1, 1, 1, 1], \"Freq\": [18.411237716674805, 17.628299713134766, 14.051429748535156, 10.74848461151123, 10.502084732055664, 9.230571746826172, 4.336796760559082, 3.9033010005950928, 3.809699058532715, 3.783033847808838, 3.595057487487793]}, \"tinfo\": {\"Category\": [\"Default\", \"Default\", \"Default\", \"Default\", \"Default\", \"Default\", \"Default\", \"Default\", \"Default\", \"Default\", \"Default\", \"Default\", \"Default\", \"Default\", \"Default\", \"Default\", \"Default\", \"Default\", \"Default\", \"Default\", \"Default\", \"Default\", \"Default\", \"Default\", \"Default\", \"Default\", \"Default\", \"Default\", \"Default\", \"Default\", \"Topic1\", \"Topic1\", \"Topic1\", \"Topic1\", \"Topic1\", \"Topic1\", \"Topic1\", \"Topic1\", \"Topic1\", \"Topic1\", \"Topic1\", \"Topic1\", \"Topic1\", \"Topic1\", \"Topic1\", \"Topic1\", \"Topic1\", \"Topic1\", \"Topic1\", \"Topic1\", \"Topic1\", \"Topic1\", \"Topic1\", \"Topic1\", \"Topic1\", \"Topic1\", \"Topic1\", \"Topic1\", \"Topic1\", \"Topic1\", \"Topic1\", \"Topic1\", \"Topic1\", \"Topic1\", \"Topic1\", \"Topic1\", \"Topic1\", \"Topic1\", \"Topic1\", \"Topic1\", \"Topic1\", \"Topic1\", \"Topic1\", \"Topic1\", \"Topic1\", \"Topic1\", \"Topic1\", \"Topic1\", \"Topic1\", \"Topic1\", \"Topic1\", \"Topic1\", \"Topic1\", \"Topic1\", \"Topic1\", \"Topic1\", \"Topic1\", \"Topic1\", \"Topic1\", \"Topic1\", \"Topic1\", \"Topic1\", \"Topic1\", \"Topic1\", \"Topic1\", \"Topic1\", \"Topic1\", \"Topic1\", \"Topic1\", \"Topic1\", \"Topic1\", \"Topic1\", \"Topic1\", \"Topic1\", \"Topic1\", \"Topic1\", \"Topic1\", \"Topic1\", \"Topic1\", \"Topic1\", \"Topic1\", \"Topic1\", \"Topic1\", \"Topic2\", \"Topic2\", \"Topic2\", \"Topic2\", \"Topic2\", \"Topic2\", \"Topic2\", \"Topic2\", \"Topic2\", \"Topic2\", \"Topic2\", \"Topic2\", \"Topic2\", \"Topic2\", \"Topic2\", \"Topic2\", \"Topic2\", \"Topic2\", \"Topic2\", \"Topic2\", \"Topic2\", \"Topic2\", \"Topic2\", \"Topic2\", \"Topic2\", \"Topic2\", \"Topic2\", \"Topic2\", \"Topic2\", \"Topic2\", \"Topic2\", \"Topic2\", \"Topic2\", \"Topic2\", \"Topic2\", \"Topic2\", \"Topic2\", \"Topic2\", \"Topic2\", \"Topic2\", \"Topic2\", \"Topic2\", \"Topic2\", \"Topic2\", \"Topic2\", \"Topic2\", \"Topic2\", \"Topic2\", \"Topic2\", \"Topic2\", \"Topic2\", \"Topic2\", \"Topic2\", \"Topic2\", \"Topic2\", \"Topic2\", \"Topic2\", \"Topic2\", \"Topic2\", \"Topic2\", \"Topic2\", \"Topic2\", \"Topic2\", \"Topic2\", \"Topic2\", \"Topic2\", \"Topic2\", \"Topic2\", \"Topic2\", \"Topic2\", \"Topic2\", \"Topic2\", \"Topic2\", \"Topic2\", \"Topic2\", \"Topic2\", \"Topic3\", \"Topic3\", \"Topic3\", \"Topic3\", \"Topic3\", \"Topic3\", \"Topic3\", \"Topic3\", \"Topic3\", \"Topic3\", \"Topic3\", \"Topic3\", \"Topic3\", \"Topic3\", \"Topic3\", \"Topic3\", \"Topic3\", \"Topic3\", \"Topic3\", \"Topic3\", \"Topic3\", \"Topic3\", \"Topic3\", \"Topic3\", \"Topic3\", \"Topic3\", \"Topic3\", \"Topic3\", \"Topic3\", \"Topic3\", \"Topic3\", \"Topic3\", \"Topic3\", \"Topic3\", \"Topic3\", \"Topic3\", \"Topic3\", \"Topic3\", \"Topic3\", \"Topic3\", \"Topic3\", \"Topic3\", \"Topic3\", \"Topic3\", \"Topic3\", \"Topic3\", \"Topic3\", \"Topic3\", \"Topic3\", \"Topic3\", \"Topic3\", \"Topic3\", \"Topic3\", \"Topic3\", \"Topic3\", \"Topic3\", \"Topic3\", \"Topic3\", \"Topic3\", \"Topic3\", \"Topic3\", \"Topic3\", \"Topic3\", \"Topic3\", \"Topic3\", \"Topic3\", \"Topic3\", \"Topic3\", \"Topic3\", \"Topic3\", \"Topic3\", \"Topic3\", \"Topic3\", \"Topic3\", \"Topic3\", \"Topic3\", \"Topic3\", \"Topic3\", \"Topic3\", \"Topic3\", \"Topic3\", \"Topic3\", \"Topic3\", \"Topic3\", \"Topic4\", \"Topic4\", \"Topic4\", \"Topic4\", \"Topic4\", \"Topic4\", \"Topic4\", \"Topic4\", \"Topic4\", \"Topic4\", \"Topic4\", \"Topic4\", \"Topic4\", \"Topic4\", \"Topic4\", \"Topic4\", \"Topic4\", \"Topic4\", \"Topic4\", \"Topic4\", \"Topic4\", \"Topic4\", \"Topic4\", \"Topic4\", \"Topic4\", \"Topic4\", \"Topic4\", \"Topic4\", \"Topic4\", \"Topic4\", \"Topic4\", \"Topic4\", \"Topic4\", \"Topic4\", \"Topic4\", \"Topic4\", \"Topic4\", \"Topic4\", \"Topic4\", \"Topic4\", \"Topic4\", \"Topic4\", \"Topic4\", \"Topic4\", \"Topic4\", \"Topic4\", \"Topic4\", \"Topic4\", \"Topic4\", \"Topic4\", \"Topic4\", \"Topic4\", \"Topic4\", \"Topic4\", \"Topic4\", \"Topic4\", \"Topic4\", \"Topic4\", \"Topic4\", \"Topic4\", \"Topic4\", \"Topic4\", \"Topic4\", \"Topic4\", \"Topic4\", \"Topic4\", \"Topic4\", \"Topic4\", \"Topic4\", \"Topic4\", \"Topic4\", \"Topic4\", \"Topic4\", \"Topic4\", \"Topic4\", \"Topic4\", \"Topic4\", \"Topic4\", \"Topic4\", \"Topic5\", \"Topic5\", \"Topic5\", \"Topic5\", \"Topic5\", \"Topic5\", \"Topic5\", \"Topic5\", \"Topic5\", \"Topic5\", \"Topic5\", \"Topic5\", \"Topic5\", \"Topic5\", \"Topic5\", \"Topic5\", \"Topic5\", \"Topic5\", \"Topic5\", \"Topic5\", \"Topic5\", \"Topic5\", \"Topic5\", \"Topic5\", \"Topic5\", \"Topic5\", \"Topic5\", \"Topic5\", \"Topic5\", \"Topic5\", \"Topic5\", \"Topic5\", \"Topic5\", \"Topic5\", \"Topic5\", \"Topic5\", \"Topic5\", \"Topic5\", \"Topic5\", \"Topic5\", \"Topic5\", \"Topic5\", \"Topic5\", \"Topic5\", \"Topic5\", \"Topic5\", \"Topic5\", \"Topic5\", \"Topic5\", \"Topic5\", \"Topic5\", \"Topic5\", \"Topic5\", \"Topic5\", \"Topic5\", \"Topic5\", \"Topic5\", \"Topic5\", \"Topic5\", \"Topic5\", \"Topic5\", \"Topic5\", \"Topic5\", \"Topic5\", \"Topic5\", \"Topic5\", \"Topic5\", \"Topic5\", \"Topic5\", \"Topic5\", \"Topic5\", \"Topic5\", \"Topic5\", \"Topic5\", \"Topic5\", \"Topic6\", \"Topic6\", \"Topic6\", \"Topic6\", \"Topic6\", \"Topic6\", \"Topic6\", \"Topic6\", \"Topic6\", \"Topic6\", \"Topic6\", \"Topic6\", \"Topic6\", \"Topic6\", \"Topic6\", \"Topic6\", \"Topic6\", \"Topic6\", \"Topic6\", \"Topic6\", \"Topic6\", \"Topic6\", \"Topic6\", \"Topic6\", \"Topic6\", \"Topic6\", \"Topic6\", \"Topic6\", \"Topic6\", \"Topic6\", \"Topic6\", \"Topic6\", \"Topic6\", \"Topic6\", \"Topic6\", \"Topic6\", \"Topic6\", \"Topic6\", \"Topic6\", \"Topic6\", \"Topic6\", \"Topic6\", \"Topic6\", \"Topic6\", \"Topic6\", \"Topic6\", \"Topic6\", \"Topic6\", \"Topic6\", \"Topic6\", \"Topic6\", \"Topic6\", \"Topic6\", \"Topic6\", \"Topic6\", \"Topic6\", \"Topic6\", \"Topic6\", \"Topic6\", \"Topic6\", \"Topic6\", \"Topic6\", \"Topic6\", \"Topic6\", \"Topic6\", \"Topic6\", \"Topic6\", \"Topic6\", \"Topic6\", \"Topic7\", \"Topic7\", \"Topic7\", \"Topic7\", \"Topic7\", \"Topic7\", \"Topic7\", \"Topic7\", \"Topic7\", \"Topic7\", \"Topic7\", \"Topic7\", \"Topic7\", \"Topic7\", \"Topic7\", \"Topic7\", \"Topic7\", \"Topic7\", \"Topic7\", \"Topic7\", \"Topic7\", \"Topic7\", \"Topic7\", \"Topic7\", \"Topic7\", \"Topic7\", \"Topic7\", \"Topic7\", \"Topic7\", \"Topic7\", \"Topic7\", \"Topic7\", \"Topic7\", \"Topic7\", \"Topic7\", \"Topic7\", \"Topic7\", \"Topic7\", \"Topic7\", \"Topic7\", \"Topic7\", \"Topic7\", \"Topic7\", \"Topic7\", \"Topic7\", \"Topic7\", \"Topic7\", \"Topic7\", \"Topic7\", \"Topic7\", \"Topic7\", \"Topic8\", \"Topic8\", \"Topic8\", \"Topic8\", \"Topic8\", \"Topic8\", \"Topic8\", \"Topic8\", \"Topic8\", \"Topic8\", \"Topic8\", \"Topic8\", \"Topic8\", \"Topic8\", \"Topic8\", \"Topic8\", \"Topic8\", \"Topic8\", \"Topic8\", \"Topic8\", \"Topic8\", \"Topic8\", \"Topic8\", \"Topic8\", \"Topic8\", \"Topic8\", \"Topic8\", \"Topic8\", \"Topic8\", \"Topic8\", \"Topic8\", \"Topic8\", \"Topic8\", \"Topic8\", \"Topic8\", \"Topic8\", \"Topic8\", \"Topic8\", \"Topic8\", \"Topic8\", \"Topic8\", \"Topic8\", \"Topic8\", \"Topic8\", \"Topic9\", \"Topic9\", \"Topic9\", \"Topic9\", \"Topic9\", \"Topic9\", \"Topic9\", \"Topic9\", \"Topic9\", \"Topic9\", \"Topic9\", \"Topic9\", \"Topic9\", \"Topic9\", \"Topic9\", \"Topic9\", \"Topic9\", \"Topic9\", \"Topic9\", \"Topic9\", \"Topic9\", \"Topic9\", \"Topic9\", \"Topic9\", \"Topic9\", \"Topic9\", \"Topic9\", \"Topic9\", \"Topic9\", \"Topic9\", \"Topic9\", \"Topic9\", \"Topic9\", \"Topic9\", \"Topic9\", \"Topic9\", \"Topic9\", \"Topic9\", \"Topic9\", \"Topic9\", \"Topic9\", \"Topic9\", \"Topic9\", \"Topic9\", \"Topic9\", \"Topic9\", \"Topic10\", \"Topic10\", \"Topic10\", \"Topic10\", \"Topic10\", \"Topic10\", \"Topic10\", \"Topic10\", \"Topic10\", \"Topic10\", \"Topic10\", \"Topic10\", \"Topic10\", \"Topic10\", \"Topic10\", \"Topic10\", \"Topic10\", \"Topic10\", \"Topic10\", \"Topic10\", \"Topic10\", \"Topic10\", \"Topic10\", \"Topic10\", \"Topic10\", \"Topic10\", \"Topic10\", \"Topic10\", \"Topic10\", \"Topic10\", \"Topic10\", \"Topic10\", \"Topic10\", \"Topic10\", \"Topic10\", \"Topic10\", \"Topic10\", \"Topic10\", \"Topic10\", \"Topic10\", \"Topic10\", \"Topic10\", \"Topic10\", \"Topic10\", \"Topic10\", \"Topic10\", \"Topic10\", \"Topic10\", \"Topic10\", \"Topic10\", \"Topic10\", \"Topic10\", \"Topic11\", \"Topic11\", \"Topic11\", \"Topic11\", \"Topic11\", \"Topic11\", \"Topic11\", \"Topic11\", \"Topic11\", \"Topic11\", \"Topic11\", \"Topic11\", \"Topic11\", \"Topic11\", \"Topic11\", \"Topic11\", \"Topic11\", \"Topic11\", \"Topic11\", \"Topic11\", \"Topic11\", \"Topic11\", \"Topic11\", \"Topic11\", \"Topic11\", \"Topic11\", \"Topic11\", \"Topic11\", \"Topic11\", \"Topic11\", \"Topic11\", \"Topic11\", \"Topic11\", \"Topic11\", \"Topic11\", \"Topic11\", \"Topic11\", \"Topic11\", \"Topic11\", \"Topic11\", \"Topic11\", \"Topic11\"], \"Freq\": [1758.0, 1643.0, 1624.0, 1707.0, 1197.0, 1645.0, 2316.0, 2479.0, 2542.0, 978.0, 1293.0, 1210.0, 1150.0, 2315.0, 1165.0, 2096.0, 906.0, 2358.0, 1408.0, 869.0, 1838.0, 2007.0, 1288.0, 1500.0, 1313.0, 656.0, 1854.0, 362.0, 2263.0, 1677.0, 267.4543151855469, 209.3019561767578, 138.9222869873047, 138.45726013183594, 123.18566131591797, 100.49205780029297, 91.57881927490234, 91.03033447265625, 107.38978576660156, 77.451416015625, 77.42420196533203, 72.40339660644531, 68.35978698730469, 66.8361587524414, 65.0307388305664, 74.35588836669922, 61.44498062133789, 60.79984664916992, 59.41254806518555, 57.085411071777344, 56.392154693603516, 55.74869918823242, 54.850013732910156, 54.101505279541016, 52.07942199707031, 51.05534744262695, 50.20651626586914, 48.61481475830078, 48.32479476928711, 47.92591094970703, 143.6674346923828, 329.9151306152344, 121.93952941894531, 326.5731506347656, 183.4845733642578, 315.74212646484375, 224.88186645507812, 398.5899353027344, 110.27261352539062, 161.57748413085938, 446.5048522949219, 516.718994140625, 319.318359375, 204.1576385498047, 263.63067626953125, 321.8188781738281, 542.5803833007812, 569.9864501953125, 149.43167114257812, 388.2430419921875, 159.89871215820312, 501.09228515625, 521.4951171875, 428.0701904296875, 1131.2906494140625, 328.1336975097656, 739.0178833007812, 533.341552734375, 1049.305908203125, 356.25079345703125, 668.5173950195312, 635.5581665039062, 400.2545166015625, 654.2913818359375, 897.4715576171875, 782.5604858398438, 657.4814453125, 800.5324096679688, 776.48779296875, 681.61376953125, 480.2709045410156, 633.1466674804688, 580.0443115234375, 596.93701171875, 545.3034057617188, 473.6459655761719, 442.87359619140625, 484.5247802734375, 485.8422546386719, 457.2285461425781, 481.3979797363281, 475.6107177734375, 455.4917907714844, 320.099365234375, 264.486328125, 174.0145721435547, 158.87901306152344, 153.16567993164062, 149.4397430419922, 141.19322204589844, 135.95706176757812, 125.0776596069336, 113.01520538330078, 107.2371826171875, 103.18910217285156, 100.30436706542969, 99.3336181640625, 98.63977813720703, 95.22985076904297, 85.78544616699219, 85.17382049560547, 82.86470031738281, 81.5671615600586, 80.64096069335938, 79.67196655273438, 77.83418273925781, 76.24382781982422, 75.3647232055664, 75.35243225097656, 74.46630859375, 73.2261962890625, 73.19171905517578, 72.87259674072266, 419.1516418457031, 410.06317138671875, 224.31304931640625, 799.080810546875, 367.0015563964844, 209.91490173339844, 1013.7888793945312, 656.8511962890625, 214.38400268554688, 290.6714172363281, 596.6378784179688, 175.02859497070312, 955.660888671875, 527.0810546875, 643.6393432617188, 656.1099853515625, 876.015869140625, 527.6876220703125, 1156.19091796875, 525.1495971679688, 158.177001953125, 931.0289306640625, 918.52294921875, 382.4888000488281, 402.06146240234375, 592.0973510742188, 489.6816711425781, 562.4227294921875, 392.4737854003906, 428.72900390625, 297.8647155761719, 405.9587707519531, 578.32763671875, 738.1531372070312, 559.5172119140625, 687.6162719726562, 683.7703857421875, 719.152099609375, 608.2551879882812, 586.3363037109375, 556.1098022460938, 647.730712890625, 617.8878173828125, 553.8037719726562, 454.8172912597656, 459.89068603515625, 159.09933471679688, 133.48672485351562, 120.28165435791016, 112.71694946289062, 96.87995910644531, 94.99919891357422, 79.40807342529297, 79.38861846923828, 76.93809509277344, 75.38844299316406, 74.75774383544922, 70.91326904296875, 70.1328125, 69.88194274902344, 65.0634994506836, 60.256900787353516, 59.43720626831055, 58.80607223510742, 58.31884765625, 56.57109451293945, 56.53465270996094, 56.150882720947266, 56.0858154296875, 54.259544372558594, 53.7444953918457, 53.47049331665039, 53.29136657714844, 52.83106231689453, 52.520416259765625, 51.74239730834961, 110.73978424072266, 170.72682189941406, 184.57818603515625, 80.83125305175781, 110.57843017578125, 203.39170837402344, 155.5511932373047, 159.59129333496094, 85.7869644165039, 253.4310302734375, 103.25730895996094, 386.6368103027344, 169.41574096679688, 99.82441711425781, 166.85511779785156, 532.8857421875, 396.15240478515625, 349.78857421875, 298.83013916015625, 226.485595703125, 316.4042663574219, 142.83360290527344, 594.481689453125, 550.3842163085938, 679.967041015625, 224.62554931640625, 246.6856689453125, 154.79168701171875, 251.28695678710938, 429.71295166015625, 395.60943603515625, 370.27667236328125, 360.9352111816406, 369.2606201171875, 386.3017883300781, 305.470458984375, 253.30035400390625, 412.102294921875, 360.967041015625, 282.4764709472656, 428.1225280761719, 414.2295837402344, 335.5893249511719, 362.69671630859375, 352.1903381347656, 355.7240295410156, 363.8499755859375, 266.53497314453125, 347.0174255371094, 283.5190124511719, 341.8841247558594, 329.3238220214844, 307.8699951171875, 294.0818176269531, 230.42918395996094, 158.07069396972656, 123.11283111572266, 111.055908203125, 105.90557098388672, 100.1756591796875, 96.4006118774414, 91.979248046875, 90.7570571899414, 90.17206573486328, 89.95832061767578, 88.93235778808594, 85.14771270751953, 80.34246826171875, 76.45954132080078, 74.06813049316406, 73.69990539550781, 71.52589416503906, 71.51166534423828, 69.35630798339844, 65.8904800415039, 63.46596908569336, 61.649837493896484, 61.2085075378418, 61.081077575683594, 57.75003433227539, 55.89420700073242, 54.163326263427734, 51.18955993652344, 51.127193450927734, 191.52284240722656, 90.93199157714844, 191.11795043945312, 150.44964599609375, 198.2217559814453, 92.16460418701172, 122.04612731933594, 188.6617431640625, 97.38916015625, 586.4196166992188, 336.6683044433594, 218.28550720214844, 636.8185424804688, 126.43891143798828, 103.83702850341797, 208.15658569335938, 217.17103576660156, 307.66058349609375, 171.70370483398438, 621.4638671875, 663.878662109375, 283.5982666015625, 408.7490539550781, 264.05718994140625, 196.27061462402344, 643.51123046875, 161.52919006347656, 570.0626831054688, 303.7696838378906, 309.73779296875, 438.00164794921875, 238.54254150390625, 308.6165466308594, 256.8750305175781, 380.29217529296875, 386.7048034667969, 341.6379089355469, 253.10768127441406, 286.05120849609375, 323.5544128417969, 282.2044677734375, 284.31549072265625, 266.3237609863281, 271.53668212890625, 305.2747497558594, 273.7254943847656, 268.3313293457031, 274.5147705078125, 270.38055419921875, 137.8397979736328, 129.04888916015625, 127.73922729492188, 116.36466979980469, 105.19821166992188, 101.7546157836914, 90.91403198242188, 80.86119079589844, 77.59415435791016, 77.04733276367188, 76.07209014892578, 71.49810028076172, 70.55294799804688, 66.16613006591797, 64.18111419677734, 61.98307418823242, 61.402767181396484, 60.043296813964844, 58.72216033935547, 58.329139709472656, 90.9827880859375, 56.65470504760742, 54.700469970703125, 53.51671600341797, 52.26201248168945, 53.82029342651367, 50.8101806640625, 50.74562072753906, 50.15300750732422, 49.28547286987305, 325.84912109375, 152.87989807128906, 140.41709899902344, 160.68125915527344, 841.46044921875, 108.78620147705078, 1125.2955322265625, 114.32500457763672, 138.1332244873047, 451.54168701171875, 128.1786651611328, 900.1818237304688, 404.7331848144531, 530.857177734375, 276.11920166015625, 637.1908569335938, 237.9013214111328, 271.8711242675781, 440.204833984375, 393.0559997558594, 585.978759765625, 765.9043579101562, 524.944091796875, 518.9839477539062, 185.7541961669922, 730.436279296875, 325.991943359375, 700.6851806640625, 768.973876953125, 243.24050903320312, 324.6613464355469, 671.0571899414062, 460.93701171875, 259.74072265625, 465.72796630859375, 383.5606994628906, 328.9015197753906, 544.3637084960938, 510.7585754394531, 453.64508056640625, 389.0818786621094, 353.72314453125, 316.45343017578125, 345.2823791503906, 358.5353698730469, 157.60682678222656, 107.86162567138672, 94.98847198486328, 86.33489990234375, 83.62449645996094, 106.05037689208984, 79.06359100341797, 78.55722045898438, 76.8038558959961, 73.75460052490234, 72.33648681640625, 70.43759155273438, 70.4128646850586, 69.52708435058594, 69.42937469482422, 69.2193603515625, 68.75003051757812, 68.7237777709961, 66.30767059326172, 64.59121704101562, 63.8391227722168, 63.363277435302734, 62.00485610961914, 59.462215423583984, 59.366634368896484, 57.45772171020508, 57.32548904418945, 56.67005920410156, 56.33259582519531, 56.1392707824707, 254.00375366210938, 103.07820892333984, 117.3941879272461, 445.1439514160156, 566.2657470703125, 584.0927734375, 151.41551208496094, 225.64837646484375, 758.781494140625, 769.764892578125, 101.29303741455078, 116.56922149658203, 499.9905090332031, 544.4690551757812, 293.5655212402344, 591.362060546875, 674.7977294921875, 550.03173828125, 520.44970703125, 309.15740966796875, 621.0435791015625, 440.0999450683594, 290.089599609375, 142.4319305419922, 288.0248107910156, 367.270751953125, 301.49560546875, 211.11972045898438, 480.2193908691406, 318.7450866699219, 277.9273681640625, 367.1932678222656, 340.0613708496094, 245.23471069335938, 389.46771240234375, 434.83905029296875, 325.61749267578125, 303.434814453125, 282.47149658203125, 191.88397216796875, 152.0218048095703, 145.90615844726562, 137.80569458007812, 136.54580688476562, 130.93585205078125, 117.30158233642578, 114.38419342041016, 106.91219329833984, 106.91252136230469, 102.94967651367188, 102.23898315429688, 99.14808654785156, 97.8710708618164, 92.69390106201172, 91.82617950439453, 91.1022720336914, 88.33098602294922, 86.99110412597656, 86.5634994506836, 86.51615142822266, 85.97317504882812, 80.66954803466797, 77.44697570800781, 76.6533432006836, 75.30118560791016, 74.8188705444336, 74.57777404785156, 74.06790924072266, 73.39788818359375, 153.0115203857422, 114.8387451171875, 135.2574920654297, 125.15179443359375, 108.0081558227539, 127.48936462402344, 147.38848876953125, 109.81442260742188, 172.99407958984375, 129.95936584472656, 112.16184997558594, 132.781982421875, 155.07505798339844, 102.0467529296875, 130.0720672607422, 158.74539184570312, 121.02214050292969, 180.69351196289062, 118.60154724121094, 158.68551635742188, 112.98693084716797, 165.6466827392578, 157.6042022705078, 148.54791259765625, 149.0867462158203, 143.9464111328125, 129.92959594726562, 129.43453979492188, 124.46766662597656, 124.44184112548828, 118.20709991455078, 112.9914321899414, 112.76274871826172, 112.46280670166016, 111.89789581298828, 108.06554412841797, 108.0123062133789, 109.32496643066406, 103.5436782836914, 102.48377990722656, 101.14413452148438, 100.4458236694336, 94.496826171875, 94.17313385009766, 92.42224884033203, 90.28899383544922, 88.46659088134766, 88.45543670654297, 86.2257080078125, 85.95853424072266, 85.86237335205078, 167.3280792236328, 100.00887298583984, 150.0565643310547, 151.46824645996094, 239.274169921875, 125.493896484375, 136.10379028320312, 150.2649688720703, 103.77302551269531, 109.86026000976562, 132.99208068847656, 104.87267303466797, 117.78850555419922, 107.9615478515625, 310.76763916015625, 269.8737487792969, 173.2831268310547, 165.02603149414062, 141.0576171875, 136.33114624023438, 120.11228942871094, 128.4888458251953, 116.69107818603516, 116.16595458984375, 115.34640502929688, 114.02669525146484, 107.97158813476562, 107.47630310058594, 106.26475524902344, 98.48372650146484, 96.66149139404297, 91.39524841308594, 88.09156799316406, 86.08743286132812, 85.91472625732422, 82.5428237915039, 78.90856170654297, 78.71287536621094, 77.39231872558594, 74.1636962890625, 73.2364273071289, 72.9217300415039, 70.5400390625, 68.87710571289062, 120.86239624023438, 207.19216918945312, 136.27511596679688, 150.6352996826172, 111.61034393310547, 147.78189086914062, 106.82836151123047, 111.73811340332031, 206.57582092285156, 134.76011657714844, 134.48239135742188, 127.19656372070312, 116.04547119140625, 164.13604736328125, 108.22579193115234, 114.4963607788086, 152.5153045654297, 150.55038452148438, 141.14878845214844, 125.96044158935547, 123.20085144042969, 122.85003662109375, 116.6495132446289, 107.65528869628906, 106.51171875, 104.83451080322266, 97.74993896484375, 96.55846405029297, 95.62275695800781, 95.46190643310547, 90.5396957397461, 88.71029663085938, 86.48927307128906, 86.26557922363281, 84.36962890625, 85.49467468261719, 80.12564849853516, 78.87635040283203, 78.04158020019531, 77.32019805908203, 77.05603790283203, 76.82540130615234, 75.95825958251953, 73.67582702636719, 75.36226654052734, 70.2549057006836, 107.58332824707031, 91.95222473144531, 158.75064086914062, 117.63523864746094, 209.1287384033203, 92.22681427001953, 256.15423583984375, 164.74224853515625, 104.73194885253906, 125.78658294677734, 113.21048736572266, 129.8677520751953, 131.31594848632812, 104.90064239501953, 150.96812438964844, 117.7972412109375, 114.00384521484375, 103.748779296875, 118.34444427490234, 105.06001281738281, 99.943359375, 98.35531616210938, 252.94488525390625, 204.96424865722656, 195.53042602539062, 184.77069091796875, 164.16134643554688, 163.2857208251953, 149.5576171875, 143.14170837402344, 138.15164184570312, 171.8044891357422, 128.0850830078125, 127.70063781738281, 139.93942260742188, 126.44884490966797, 123.78116607666016, 121.90934753417969, 128.60848999023438, 116.13113403320312, 115.71289825439453, 115.1947250366211, 113.67797088623047, 109.72541809082031, 108.90156555175781, 108.75891876220703, 106.3656997680664, 105.09829711914062, 103.95002746582031, 102.08130645751953, 100.21089172363281, 93.45160675048828, 147.78594970703125, 293.57666015625, 162.3590850830078, 146.29612731933594, 263.1282043457031, 137.53016662597656, 142.2099151611328, 128.59298706054688, 134.48834228515625, 167.10812377929688, 123.15937042236328, 117.69893646240234], \"Term\": [\"age\", \"fruiti\", \"appl\", \"crisp\", \"wood\", \"structur\", \"tannin\", \"drink\", \"acid\", \"readi\", \"charact\", \"lemon\", \"peach\", \"black\", \"pear\", \"rich\", \"attract\", \"ripe\", \"citru\", \"lime\", \"textur\", \"fresh\", \"year\", \"nose\", \"firm\", \"aftertast\", \"berri\", \"overrip\", \"cherri\", \"plum\", \"underbrush\", \"dole\", \"framework\", \"brunello\", \"pipe\", \"compot\", \"streamlin\", \"moist\", \"nero\", \"fore\", \"seamless\", \"seven\", \"allspic\", \"lusti\", \"pucker\", \"avola\", \"drier\", \"surfac\", \"fudg\", \"sizabl\", \"blush\", \"smaller\", \"stuff\", \"vibranc\", \"deeper\", \"undeni\", \"fizz\", \"achiev\", \"sultri\", \"nonvintag\", \"truffl\", \"grain\", \"cigar\", \"blue\", \"floor\", \"verdot\", \"menthol\", \"espresso\", \"box\", \"wound\", \"violet\", \"clove\", \"sangioves\", \"balsam\", \"forest\", \"velveti\", \"alongsid\", \"leather\", \"hearti\", \"franc\", \"game\", \"tobacco\", \"licoric\", \"coffe\", \"black\", \"anis\", \"cabernet\", \"merlot\", \"cherri\", \"whiff\", \"herb\", \"pepper\", \"deliv\", \"dark\", \"tannin\", \"spice\", \"offer\", \"aroma\", \"palat\", \"red\", \"open\", \"note\", \"plum\", \"berri\", \"blend\", \"sauvignon\", \"lead\", \"raspberri\", \"blackberri\", \"vanilla\", \"dri\", \"fruit\", \"finish\", \"nectarin\", \"honeysuckl\", \"pith\", \"papaya\", \"pithi\", \"sparkler\", \"grigio\", \"orchard\", \"meyer\", \"guava\", \"roussann\", \"seafood\", \"salad\", \"kiss\", \"slice\", \"hous\", \"custard\", \"classi\", \"crowd\", \"petrol\", \"brut\", \"beeswax\", \"peachi\", \"leesi\", \"unctuou\", \"tonic\", \"sprightli\", \"acacia\", \"meal\", \"ton\", \"tangerin\", \"riesl\", \"golden\", \"lime\", \"blossom\", \"rind\", \"peach\", \"pineappl\", \"banana\", \"mango\", \"melon\", \"grass\", \"lemon\", \"stone\", \"chardonnay\", \"honey\", \"pear\", \"tropic\", \"appl\", \"grapefruit\", \"oili\", \"white\", \"citru\", \"butter\", \"blanc\", \"orang\", \"apricot\", \"clean\", \"almond\", \"yellow\", \"brisk\", \"refresh\", \"miner\", \"palat\", \"green\", \"fresh\", \"note\", \"finish\", \"sweet\", \"crisp\", \"nose\", \"acid\", \"aroma\", \"dri\", \"creami\", \"light\", \"barbecu\", \"rest\", \"cr\\u00e8me\", \"lamb\", \"vital\", \"stemmi\", \"sweetli\", \"choic\", \"br\\u00fbl\\u00e9e\", \"trace\", \"flood\", \"marshmallow\", \"pizza\", \"bittersweet\", \"fascin\", \"confect\", \"sear\", \"volum\", \"elabor\", \"incens\", \"thread\", \"odd\", \"meringu\", \"role\", \"list\", \"risotto\", \"flamboy\", \"nail\", \"weav\", \"fanci\", \"liqueur\", \"zin\", \"napa\", \"explos\", \"briari\", \"zinfandel\", \"steak\", \"decant\", \"soy\", \"pie\", \"american\", \"noir\", \"sandalwood\", \"chicken\", \"sirah\", \"pinot\", \"cola\", \"alcohol\", \"jam\", \"rustic\", \"silki\", \"bacon\", \"oak\", \"blackberri\", \"cherri\", \"cellar\", \"price\", \"beef\", \"meat\", \"raspberri\", \"currant\", \"complex\", \"chocol\", \"like\", \"good\", \"syrah\", \"best\", \"sweet\", \"cabernet\", \"nice\", \"dri\", \"rich\", \"year\", \"show\", \"bodi\", \"soft\", \"tannin\", \"new\", \"black\", \"bottl\", \"drink\", \"red\", \"spice\", \"ripe\", \"rubberi\", \"grabbi\", \"scratchi\", \"harsh\", \"choppi\", \"reduc\", \"narrow\", \"woodspic\", \"spirit\", \"carob\", \"sauci\", \"terroir\", \"announc\", \"dr\", \"hollow\", \"properli\", \"ager\", \"tarri\", \"weedi\", \"wiri\", \"chilean\", \"preced\", \"awkward\", \"fieri\", \"memor\", \"cedari\", \"amidst\", \"mixtur\", \"abras\", \"lactic\", \"rough\", \"garnacha\", \"medicin\", \"chocolati\", \"burnt\", \"carmen\\u00e8r\", \"mildli\", \"minti\", \"cloy\", \"herbal\", \"smell\", \"chunki\", \"feel\", \"snappi\", \"sticki\", \"raw\", \"tomato\", \"oaki\", \"woodi\", \"plum\", \"berri\", \"heavi\", \"tast\", \"hard\", \"mild\", \"finish\", \"flat\", \"aroma\", \"earthi\", \"bit\", \"oak\", \"jammi\", \"tannic\", \"cassi\", \"note\", \"palat\", \"blackberri\", \"slightli\", \"green\", \"cherri\", \"good\", \"nose\", \"like\", \"raspberri\", \"fruit\", \"red\", \"sweet\", \"black\", \"spice\", \"champagn\", \"barbera\", \"touriga\", \"nacion\", \"parcel\", \"velvet\", \"mask\", \"dramat\", \"walla\", \"provenc\", \"c\\u00f4te\", \"luscious\", \"tingl\", \"obvious\", \"rosso\", \"lightest\", \"accentu\", \"damson\", \"breadth\", \"grate\", \"properti\", \"th\", \"bad\", \"greater\", \"overt\", \"fresher\", \"darkli\", \"pioneer\", \"dolcetto\", \"centuri\", \"potenti\", \"drunk\", \"futur\", \"wait\", \"wood\", \"grand\", \"age\", \"miss\", \"stylish\", \"need\", \"nervi\", \"structur\", \"develop\", \"dens\", \"month\", \"year\", \"soften\", \"vine\", \"power\", \"young\", \"firm\", \"rich\", \"concentr\", \"charact\", \"allow\", \"tannin\", \"solid\", \"ripe\", \"fruit\", \"old\", \"domin\", \"drink\", \"juici\", \"pack\", \"fruiti\", \"fine\", \"great\", \"acid\", \"black\", \"textur\", \"balanc\", \"currant\", \"give\", \"dark\", \"red\", \"sampl\", \"lie\", \"woodland\", \"premier\", \"impart\", \"botryti\", \"villag\", \"crunchi\", \"burger\", \"darker\", \"moscato\", \"verd\", \"slightest\", \"sulfur\", \"bristl\", \"frothi\", \"local\", \"vinho\", \"lurk\", \"cheer\", \"bartlett\", \"serious\", \"float\", \"eye\", \"famou\", \"burgundi\", \"counterpoint\", \"win\", \"bigger\", \"foam\", \"screwcap\", \"gentli\", \"inform\", \"aftertast\", \"attract\", \"readi\", \"pois\", \"gentl\", \"fruiti\", \"crisp\", \"central\", \"exuber\", \"charact\", \"light\", \"tangi\", \"fresh\", \"acid\", \"textur\", \"soft\", \"live\", \"drink\", \"bright\", \"perfum\", \"herbac\", \"edg\", \"touch\", \"delici\", \"right\", \"ripe\", \"round\", \"give\", \"appl\", \"citru\", \"refresh\", \"red\", \"fruit\", \"rich\", \"balanc\", \"miner\", \"till\", \"nebbiolo\", \"cover\", \"pinch\", \"riserva\", \"soda\", \"sagebrush\", \"iri\", \"stewi\", \"persimmon\", \"spanish\", \"alicant\", \"hibiscu\", \"signal\", \"blocki\", \"woven\", \"morello\", \"companion\", \"pulpi\", \"normal\", \"beet\", \"energ\", \"lilac\", \"greet\", \"bouschet\", \"foxi\", \"barbaresco\", \"signatur\", \"hedonist\", \"san\", \"barolo\", \"beer\", \"bay\", \"similar\", \"mulberri\", \"unrip\", \"pine\", \"simpli\", \"petal\", \"root\", \"vein\", \"fennel\", \"pomegran\", \"prosecco\", \"emerg\", \"rose\", \"elegantli\", \"bottl\", \"thyme\", \"nose\", \"slate\", \"popular\", \"quick\", \"lip\", \"popcorn\", \"lemongrass\", \"emphas\", \"tree\", \"cantaloup\", \"sipper\", \"sing\", \"bland\", \"cocktail\", \"exquisit\", \"russian\", \"cooler\", \"rooti\", \"tame\", \"mandarin\", \"flabbi\", \"sound\", \"distract\", \"delicaci\", \"hickori\", \"phenol\", \"suit\", \"previou\", \"strang\", \"spray\", \"tawni\", \"familiar\", \"dull\", \"higher\", \"crispli\", \"stem\", \"pale\", \"smack\", \"flint\", \"aggress\", \"score\", \"loami\", \"river\", \"essenc\", \"valley\", \"unfold\", \"steel\", \"stainless\", \"barnyard\", \"watermelon\", \"brioch\", \"gravel\", \"terrif\", \"percentag\", \"cinsault\", \"steadi\", \"north\", \"lightweight\", \"sb\", \"marri\", \"dazzl\", \"tempt\", \"garrigu\", \"plastic\", \"seed\", \"cement\", \"enliven\", \"fast\", \"fortun\", \"briskli\", \"feminin\", \"marasca\", \"can\", \"specif\", \"eastern\", \"flair\", \"class\", \"mediterranean\", \"plummi\", \"character\", \"creek\", \"eucalyptu\", \"twist\", \"nativ\", \"ferment\", \"itali\", \"puriti\", \"except\", \"zippi\", \"grenach\", \"northern\", \"mourv\\u00e8dr\", \"smoothli\", \"state\", \"key\", \"afford\", \"fit\", \"asparagu\", \"quaffabl\", \"pea\", \"expens\", \"snap\", \"hang\", \"nettl\", \"wealth\", \"chabli\", \"unbalanc\", \"pollen\", \"lower\", \"third\", \"buoyant\", \"bargain\", \"western\", \"jalape\\u00f1o\", \"quaffer\", \"vermentino\", \"soapi\", \"effortlessli\", \"overlay\", \"masculin\", \"envelop\", \"quench\", \"hide\", \"copper\", \"flashi\", \"compost\", \"shiraz\", \"exud\", \"brighten\", \"stoni\", \"introduc\", \"lengthi\", \"job\", \"hand\", \"water\", \"angular\", \"passion\", \"decent\", \"bare\", \"detail\", \"abund\", \"honeydew\", \"chard\", \"cracker\", \"resini\", \"scorch\", \"shot\", \"rubi\", \"salmon\", \"toffe\", \"restraint\", \"wateri\", \"garnet\", \"port\", \"sawdust\", \"proper\", \"fleet\", \"unwind\", \"fashion\", \"secondari\", \"jelli\", \"later\", \"parti\", \"cleans\", \"certain\", \"prickli\", \"room\", \"main\", \"walnut\", \"sweati\", \"amaron\", \"temper\", \"meloni\", \"crisper\", \"anim\", \"overrip\", \"marmalad\", \"ch\\u00e2teau\", \"stalki\", \"la\", \"chill\", \"sun\", \"raisini\", \"firmli\", \"sign\", \"chalk\"], \"Total\": [1758.0, 1643.0, 1624.0, 1707.0, 1197.0, 1645.0, 2316.0, 2479.0, 2542.0, 978.0, 1293.0, 1210.0, 1150.0, 2315.0, 1165.0, 2096.0, 906.0, 2358.0, 1408.0, 869.0, 1838.0, 2007.0, 1288.0, 1500.0, 1313.0, 656.0, 1854.0, 362.0, 2263.0, 1677.0, 268.5785217285156, 210.42381286621094, 140.04403686523438, 139.58091735839844, 124.30738067626953, 101.62330627441406, 92.70082092285156, 92.15206146240234, 108.87471008300781, 78.57325744628906, 78.54601287841797, 73.52537536621094, 69.48173522949219, 67.95806884765625, 66.15292358398438, 75.6494369506836, 62.56686019897461, 61.92167282104492, 60.534339904785156, 58.207183837890625, 57.514095306396484, 56.8706169128418, 55.972068786621094, 55.22344970703125, 53.201263427734375, 52.17718505859375, 51.32852554321289, 49.736881256103516, 49.44660186767578, 49.04801940917969, 147.32785034179688, 343.8992614746094, 126.23050689697266, 345.7428894042969, 194.98321533203125, 343.65789794921875, 242.44508361816406, 451.3602600097656, 116.91522216796875, 177.17831420898438, 535.6196899414062, 644.443359375, 385.89898681640625, 237.22802734375, 317.232666015625, 400.3032531738281, 739.235595703125, 796.6183471679688, 170.3305206298828, 527.7041625976562, 186.06077575683594, 755.0584106445312, 822.3616333007812, 659.5224609375, 2315.567626953125, 469.1224670410156, 1358.702392578125, 894.0929565429688, 2263.453369140625, 533.8614501953125, 1287.13671875, 1224.013916015625, 672.923828125, 1431.9168701171875, 2316.78759765625, 2018.7327880859375, 1529.7158203125, 2227.0419921875, 2124.1728515625, 2102.87548828125, 1028.9593505859375, 1993.5235595703125, 1677.0654296875, 1854.865234375, 1512.9610595703125, 1045.6124267578125, 909.05615234375, 1364.999267578125, 1575.13427734375, 1330.400146484375, 2135.39501953125, 2752.003662109375, 2234.869384765625, 321.22900390625, 265.6048583984375, 175.13290405273438, 159.9973907470703, 154.2840118408203, 150.55873107910156, 142.31153869628906, 137.07537841796875, 126.19667053222656, 114.133544921875, 108.35595703125, 104.30746459960938, 101.4236068725586, 100.45215606689453, 99.7581787109375, 96.34844970703125, 86.90554809570312, 86.29237365722656, 83.98313903808594, 82.68547058105469, 81.75930786132812, 80.790283203125, 78.9525375366211, 77.36215209960938, 76.48319244384766, 76.47085571289062, 75.58468627929688, 74.34449005126953, 74.3101577758789, 73.99139404296875, 426.5355224609375, 426.2234191894531, 231.31997680664062, 869.885986328125, 393.00714111328125, 221.4911651611328, 1150.350341796875, 731.8872680664062, 227.697021484375, 314.3713073730469, 675.7699584960938, 187.39117431640625, 1210.24658203125, 634.5523071289062, 796.7882080078125, 819.1448974609375, 1165.0606689453125, 662.626953125, 1624.348876953125, 674.6849365234375, 169.5550537109375, 1416.1312255859375, 1408.0457763671875, 496.76458740234375, 544.1478881835938, 897.109130859375, 715.15771484375, 880.2840576171875, 544.6885375976562, 697.8887939453125, 404.0693054199219, 698.4691162109375, 1345.0374755859375, 2124.1728515625, 1273.197021484375, 2007.2705078125, 1993.5235595703125, 2234.869384765625, 1768.578369140625, 1707.7601318359375, 1500.0433349609375, 2542.256591796875, 2227.0419921875, 2135.39501953125, 897.6528930664062, 1623.4359130859375, 160.2186737060547, 134.6051025390625, 121.39983367919922, 113.83509826660156, 97.99832916259766, 96.11744689941406, 80.52626037597656, 80.50682067871094, 78.05623626708984, 76.50668334960938, 75.87592315673828, 72.03155517578125, 71.25239562988281, 71.00015258789062, 66.1817398071289, 61.375083923339844, 60.55564498901367, 59.92465591430664, 59.43699645996094, 57.68943405151367, 57.6528434753418, 57.269168853759766, 57.204036712646484, 55.377750396728516, 54.8626594543457, 54.58869934082031, 54.40959548950195, 53.949398040771484, 53.638668060302734, 52.86055374145508, 113.86766052246094, 182.19778442382812, 200.82044982910156, 84.42869567871094, 117.99897003173828, 239.92620849609375, 178.42251586914062, 188.91429138183594, 95.2041015625, 353.08538818359375, 120.7485122680664, 619.0252075195312, 223.61521911621094, 116.38886260986328, 223.63140869140625, 1007.8228759765625, 697.9740600585938, 612.9151611328125, 502.7649230957031, 352.9093933105469, 576.9203491210938, 194.30703735351562, 1736.59521484375, 1575.13427734375, 2263.453369140625, 415.7049560546875, 491.784423828125, 232.51377868652344, 522.5592651367188, 1364.999267578125, 1228.625732421875, 1101.8740234375, 1071.7099609375, 1152.080322265625, 1273.41455078125, 814.6179809570312, 573.319580078125, 1768.578369140625, 1358.702392578125, 755.4576416015625, 2135.39501953125, 2096.442138671875, 1288.3328857421875, 1647.658935546875, 1568.4713134765625, 1730.842529296875, 2316.78759765625, 700.5096435546875, 2315.567626953125, 927.3319091796875, 2479.378662109375, 2102.87548828125, 2018.7327880859375, 2358.43994140625, 231.5447540283203, 159.1862335205078, 124.22834777832031, 112.17146301269531, 107.02108001708984, 101.32694244384766, 97.51615905761719, 93.0948257446289, 91.87274932861328, 91.28768920898438, 91.0738525390625, 90.0482177734375, 86.26327514648438, 81.4581527709961, 77.5750732421875, 75.18379211425781, 74.8155746459961, 72.64153289794922, 72.62718963623047, 70.4718246459961, 67.00601959228516, 64.58161926269531, 62.76540756225586, 62.32403564453125, 62.1968879699707, 58.8656005859375, 57.009891510009766, 55.2789306640625, 52.305084228515625, 52.24276351928711, 196.41127014160156, 93.91741943359375, 201.26919555664062, 167.5744171142578, 226.97320556640625, 99.69998931884766, 138.0494842529297, 231.51522827148438, 106.91255187988281, 928.5975952148438, 486.9275817871094, 295.7828063964844, 1187.6090087890625, 149.67454528808594, 117.5008316040039, 299.68597412109375, 320.9095153808594, 533.1766967773438, 244.92138671875, 1677.0654296875, 1854.865234375, 522.5945434570312, 998.3712768554688, 504.44927978515625, 317.1078186035156, 2234.869384765625, 233.99607849121094, 2227.0419921875, 768.2880859375, 851.6248168945312, 1736.59521484375, 548.3319702148438, 947.3367309570312, 709.8143310546875, 1993.5235595703125, 2124.1728515625, 1575.13427734375, 783.55810546875, 1273.197021484375, 2263.453369140625, 1273.41455078125, 1500.0433349609375, 1152.080322265625, 1364.999267578125, 2752.003662109375, 2102.87548828125, 1768.578369140625, 2315.567626953125, 2018.7327880859375, 138.98825073242188, 130.16452026367188, 128.8546905517578, 117.48014068603516, 106.31388092041016, 102.87018585205078, 92.02955627441406, 81.97684478759766, 78.70967102050781, 78.16290283203125, 77.18770599365234, 72.61370086669922, 71.66868591308594, 67.2816162109375, 65.29669952392578, 63.09866714477539, 62.518367767333984, 61.15876770019531, 59.83777618408203, 59.444801330566406, 92.7247543334961, 57.77028274536133, 55.81612014770508, 54.632225036621094, 53.37771224975586, 54.98482894897461, 51.92572021484375, 51.86135482788086, 51.26854705810547, 50.40095901489258, 370.46099853515625, 169.9807891845703, 159.0415802001953, 185.25379943847656, 1197.150390625, 120.80425262451172, 1758.3712158203125, 130.71774291992188, 163.46978759765625, 689.3368530273438, 152.71034240722656, 1645.7166748046875, 633.5562744140625, 931.7850341796875, 431.86962890625, 1288.3328857421875, 357.7622375488281, 433.2944030761719, 863.302734375, 751.0859375, 1313.4219970703125, 2096.442138671875, 1267.5732421875, 1293.446533203125, 275.5363464355469, 2316.78759765625, 674.8658447265625, 2358.43994140625, 2752.003662109375, 431.60736083984375, 707.6455078125, 2479.378662109375, 1333.9180908203125, 515.4229125976562, 1643.04248046875, 1152.5889892578125, 867.5632934570312, 2542.256591796875, 2315.567626953125, 1838.101806640625, 1640.544189453125, 1228.625732421875, 873.1631469726562, 1431.9168701171875, 2102.87548828125, 158.71763610839844, 108.97454071044922, 96.09944915771484, 87.44580078125, 84.73544311523438, 107.47985076904297, 80.17443084716797, 79.66812133789062, 77.9147720336914, 74.8655776977539, 73.44734954833984, 71.54839324951172, 71.52378845214844, 70.63800048828125, 70.54029846191406, 70.33016204833984, 69.86097717285156, 69.83457946777344, 67.41856384277344, 65.70211791992188, 64.94998931884766, 64.4742202758789, 63.115726470947266, 60.573150634765625, 60.477622985839844, 58.569053649902344, 58.4364128112793, 57.781005859375, 57.44355010986328, 57.250797271728516, 283.9412841796875, 114.84968566894531, 133.9063720703125, 656.453857421875, 906.7276000976562, 978.9541625976562, 190.2290802001953, 331.2379150390625, 1643.04248046875, 1707.7601318359375, 121.96524047851562, 149.1002655029297, 1293.446533203125, 1623.4359130859375, 661.9906616210938, 2007.2705078125, 2542.256591796875, 1838.101806640625, 1730.842529296875, 778.6246337890625, 2479.378662109375, 1432.33203125, 716.5258178710938, 228.36790466308594, 836.8798217773438, 1340.1630859375, 943.4166870117188, 481.05877685546875, 2358.43994140625, 1069.255615234375, 873.1631469726562, 1624.348876953125, 1408.0457763671875, 698.4691162109375, 2102.87548828125, 2752.003662109375, 2096.442138671875, 1640.544189453125, 1345.0374755859375, 192.9678497314453, 153.10220336914062, 146.9866180419922, 138.8861541748047, 137.62625122070312, 132.02618408203125, 118.38196563720703, 115.46461486816406, 107.99264526367188, 107.99300384521484, 104.03010559082031, 103.31938171386719, 100.22850799560547, 98.95149993896484, 93.77436065673828, 92.90662384033203, 92.18272399902344, 89.41142272949219, 88.07154846191406, 87.64396667480469, 87.59656524658203, 87.05372619628906, 81.74993133544922, 78.52740478515625, 77.73372650146484, 76.38160705566406, 75.8992691040039, 75.6582260131836, 75.14835357666016, 74.47899627685547, 163.3427276611328, 123.76361846923828, 157.39529418945312, 143.27415466308594, 120.90088653564453, 151.5017547607422, 183.4147491455078, 129.8000946044922, 295.3669738769531, 180.10328674316406, 141.4736328125, 205.8212432861328, 341.1925048828125, 127.66307830810547, 271.9350891113281, 515.2272338867188, 223.4291534423828, 927.3319091796875, 249.56044006347656, 1500.0433349609375, 208.82296752929688, 166.71917724609375, 158.67669677734375, 149.620361328125, 150.1766357421875, 145.01901245117188, 131.00209045410156, 130.5070343017578, 125.54021453857422, 125.51432800292969, 119.28743743896484, 114.06562805175781, 113.83528900146484, 113.53531646728516, 112.97663879394531, 109.13810729980469, 109.0848159790039, 110.43002319335938, 104.6161880493164, 103.5562515258789, 102.21661376953125, 101.51830291748047, 95.56932830810547, 95.24561309814453, 93.49472045898438, 91.36151123046875, 89.5390853881836, 89.52792358398438, 87.2982177734375, 87.0310287475586, 86.93488311767578, 178.05517578125, 102.74191284179688, 165.20335388183594, 171.80795288085938, 304.18426513671875, 138.0550079345703, 162.3226318359375, 199.7321319580078, 112.28218078613281, 124.1671142578125, 222.25347900390625, 118.90292358398438, 401.3544921875, 170.94180297851562, 311.89263916015625, 270.94061279296875, 174.35000610351562, 166.09288024902344, 142.12451171875, 137.39804077148438, 121.17916107177734, 129.63072204589844, 117.7579116821289, 117.23283386230469, 116.42215728759766, 115.09354400634766, 109.03849792480469, 108.54317474365234, 107.33162689208984, 99.55065155029297, 97.72837829589844, 92.46216583251953, 89.15846252441406, 87.15442657470703, 86.98161315917969, 83.6097183227539, 79.97541809082031, 79.77973175048828, 78.45921325683594, 75.23057556152344, 74.30366516113281, 73.98857879638672, 71.61206817626953, 69.94395446777344, 132.00912475585938, 245.1761932373047, 176.41270446777344, 203.6267852783203, 137.5823974609375, 218.681884765625, 132.1345672607422, 143.2031707763672, 425.2744445800781, 200.9766387939453, 232.96701049804688, 206.85452270507812, 171.11729431152344, 450.6805114746094, 150.70489501953125, 272.7950744628906, 153.58218383789062, 151.61729431152344, 142.21566772460938, 127.0279312133789, 124.26773071289062, 123.91688537597656, 117.7178726196289, 108.72213745117188, 107.57862091064453, 105.90140533447266, 98.81681823730469, 97.62535095214844, 96.68964385986328, 96.52876281738281, 91.60665130615234, 89.77716064453125, 87.55622100830078, 87.33456420898438, 85.43650817871094, 86.61727905273438, 81.19256591796875, 79.94320678710938, 79.10843658447266, 78.38703918457031, 78.12289428710938, 77.89227294921875, 77.02509307861328, 74.74271392822266, 76.48121643066406, 71.32173919677734, 110.0753173828125, 93.87660217285156, 165.09286499023438, 125.7766342163086, 240.28244018554688, 95.79673767089844, 315.8757019042969, 220.9107208251953, 121.91602325439453, 164.54910278320312, 139.46755981445312, 177.25128173828125, 185.72744750976562, 124.02398681640625, 248.67527770996094, 191.07058715820312, 174.3698272705078, 137.50912475585938, 216.84420776367188, 210.02621459960938, 166.8523406982422, 135.7814178466797, 254.00267028808594, 206.0217742919922, 196.6005859375, 185.82826232910156, 165.21890258789062, 164.34327697753906, 150.61520385742188, 144.19923400878906, 139.2091827392578, 173.1953887939453, 129.1426239013672, 128.7581787109375, 141.1061248779297, 127.50638580322266, 124.8387222290039, 122.96688079833984, 129.72459411621094, 117.18864440917969, 116.77250671386719, 116.25226593017578, 114.73553466796875, 110.78295135498047, 109.9591064453125, 109.81645202636719, 107.42322540283203, 106.15584564208984, 105.00757598876953, 103.14324951171875, 101.26841735839844, 94.50912475585938, 156.10079956054688, 362.6764221191406, 183.77487182617188, 164.9145050048828, 368.3062438964844, 157.85317993164062, 169.18983459472656, 157.6974639892578, 175.74061584472656, 311.94677734375, 165.15518188476562, 139.13333129882812], \"loglift\": [30.0, 29.0, 28.0, 27.0, 26.0, 25.0, 24.0, 23.0, 22.0, 21.0, 20.0, 19.0, 18.0, 17.0, 16.0, 15.0, 14.0, 13.0, 12.0, 11.0, 10.0, 9.0, 8.0, 7.0, 6.0, 5.0, 4.0, 3.0, 2.0, 1.0, 1.687999963760376, 1.686900019645691, 1.6842000484466553, 1.6841000318527222, 1.6830999851226807, 1.680999994277954, 1.6799999475479126, 1.6799999475479126, 1.6785000562667847, 1.6778000593185425, 1.6778000593185425, 1.676800012588501, 1.6758999824523926, 1.6756000518798828, 1.6750999689102173, 1.6749999523162842, 1.6741000413894653, 1.6739000082015991, 1.6734999418258667, 1.672700047492981, 1.6725000143051147, 1.6722999811172485, 1.6720000505447388, 1.6717000007629395, 1.6708999872207642, 1.6705000400543213, 1.6700999736785889, 1.6693999767303467, 1.6692999601364136, 1.669100046157837, 1.6670000553131104, 1.6506999731063843, 1.6576000452041626, 1.635200023651123, 1.6313999891281128, 1.6074999570846558, 1.6169999837875366, 1.5678999423980713, 1.6337000131607056, 1.600000023841858, 1.510200023651123, 1.4713000059127808, 1.5027999877929688, 1.542099952697754, 1.507099986076355, 1.4739999771118164, 1.3828999996185303, 1.3573999404907227, 1.5613000392913818, 1.3853000402450562, 1.5406999588012695, 1.2821999788284302, 1.2367000579833984, 1.2599999904632568, 0.9758999943733215, 1.3348000049591064, 1.0831999778747559, 1.1756000518798828, 0.9233999848365784, 1.2877000570297241, 1.0370999574661255, 1.0368000268936157, 1.172700047492981, 0.9089999794960022, 0.7439000010490417, 0.7445999979972839, 0.8478000164031982, 0.6690999865531921, 0.6858999729156494, 0.5655999779701233, 0.9302999973297119, 0.5453000068664551, 0.6305000185966492, 0.5584999918937683, 0.6717000007629395, 0.9003000259399414, 0.9731000065803528, 0.656499981880188, 0.515999972820282, 0.6241999864578247, 0.20250000059604645, -0.0632999986410141, 0.10159999877214432, 1.732100009918213, 1.7314000129699707, 1.7293000221252441, 1.728600025177002, 1.7283999919891357, 1.7281999588012695, 1.7278000116348267, 1.7274999618530273, 1.7267999649047852, 1.7258000373840332, 1.7252999544143677, 1.7249000072479248, 1.7245999574661255, 1.7244999408721924, 1.7244000434875488, 1.7239999771118164, 1.7226999998092651, 1.722599983215332, 1.7223000526428223, 1.722000002861023, 1.7218999862670898, 1.7216999530792236, 1.7214000225067139, 1.7210999727249146, 1.720900058746338, 1.720900058746338, 1.7208000421524048, 1.7204999923706055, 1.7204999923706055, 1.7203999757766724, 1.7181999683380127, 1.6970000267028809, 1.7049000263214111, 1.6507999897003174, 1.667199969291687, 1.6820000410079956, 1.6093000173568726, 1.627500057220459, 1.6754000186920166, 1.6572999954223633, 1.6110999584197998, 1.6674000024795532, 1.499500036239624, 1.5500999689102173, 1.5221999883651733, 1.513700008392334, 1.4505000114440918, 1.5080000162124634, 1.3956999778747559, 1.4851000308990479, 1.666200041770935, 1.3163000345230103, 1.308500051498413, 1.4742000102996826, 1.4329999685287476, 1.320199966430664, 1.3568999767303467, 1.2877000570297241, 1.4078999757766724, 1.2483999729156494, 1.4306999444961548, 1.1929999589920044, 0.8916000127792358, 0.6786999702453613, 0.9135000109672546, 0.6643999814987183, 0.6656000018119812, 0.6018000245094299, 0.6682999730110168, 0.6665999889373779, 0.743399977684021, 0.3682999908924103, 0.45350000262260437, 0.38609999418258667, 1.055799961090088, 0.47440001368522644, 1.955399990081787, 1.9541000127792358, 1.9531999826431274, 1.9526000022888184, 1.9509999752044678, 1.950700044631958, 1.9485000371932983, 1.9485000371932983, 1.9479999542236328, 1.947700023651123, 1.94760000705719, 1.9467999935150146, 1.9465999603271484, 1.9465999603271484, 1.9453999996185303, 1.944100022315979, 1.9437999725341797, 1.943600058555603, 1.94350004196167, 1.9428999423980713, 1.9428999423980713, 1.9427000284194946, 1.9427000284194946, 1.9420000314712524, 1.9419000148773193, 1.9416999816894531, 1.9416999816894531, 1.941499948501587, 1.9414000511169434, 1.941100001335144, 1.9345999956130981, 1.8974000215530396, 1.878100037574768, 1.9189000129699707, 1.8975000381469727, 1.7971999645233154, 1.8252999782562256, 1.7937999963760376, 1.858299970626831, 1.6308000087738037, 1.805999994277954, 1.4917999505996704, 1.6849000453948975, 1.808899998664856, 1.669600009918213, 1.3251999616622925, 1.3961000442504883, 1.4014999866485596, 1.442199945449829, 1.5189000368118286, 1.361799955368042, 1.6547000408172607, 0.890500009059906, 0.9110000133514404, 0.7598000168800354, 1.3468999862670898, 1.2725000381469727, 1.5556000471115112, 1.230299949645996, 0.8066999912261963, 0.829200029373169, 0.8719000220298767, 0.8741000294685364, 0.8245999813079834, 0.769599974155426, 0.9815999865531921, 1.1455999612808228, 0.5058000087738037, 0.636900007724762, 0.9786999821662903, 0.3553999960422516, 0.3409000039100647, 0.6172000169754028, 0.4489000141620636, 0.46880000829696655, 0.38019999861717224, 0.11129999905824661, 0.9961000084877014, 0.06440000236034393, 0.777400016784668, -0.018799999728798866, 0.10840000212192535, 0.08190000057220459, -0.11949999630451202, 2.225600004196167, 2.223400115966797, 2.221400022506714, 2.220400094985962, 2.219899892807007, 2.2190001010894775, 2.218899965286255, 2.218400001525879, 2.2181999683380127, 2.218100070953369, 2.218100070953369, 2.217900037765503, 2.217400074005127, 2.216599941253662, 2.21589994430542, 2.2155001163482666, 2.215399980545044, 2.214900016784668, 2.214900016784668, 2.214400053024292, 2.213599920272827, 2.2130000591278076, 2.2125000953674316, 2.2123000621795654, 2.2123000621795654, 2.2112998962402344, 2.210599899291992, 2.2100000381469727, 2.2088000774383545, 2.2088000774383545, 2.205199956893921, 2.1981000900268555, 2.1786999702453613, 2.1226000785827637, 2.0950000286102295, 2.1517999172210693, 2.1071999073028564, 2.025700092315674, 2.1370999813079834, 1.770799994468689, 1.8614000082015991, 1.9265999794006348, 1.607200026512146, 2.0617001056671143, 2.106800079345703, 1.8660000562667847, 1.839900016784668, 1.6805000305175781, 1.8752000331878662, 1.2376999855041504, 1.2029000520706177, 1.6191999912261963, 1.337399959564209, 1.5830999612808228, 1.7506999969482422, 0.9854000210762024, 1.8597999811172485, 0.8676999807357788, 1.3025000095367432, 1.218999981880188, 0.8529000282287598, 1.3981000185012817, 1.1088999509811401, 1.2139999866485596, 0.5737000107765198, 0.5268999934196472, 0.7020999789237976, 1.1003999710083008, 0.7372999787330627, 0.2851000130176544, 0.7235999703407288, 0.5672000050544739, 0.7657999992370605, 0.6155999898910522, 0.03150000050663948, 0.1914999932050705, 0.34470000863075256, 0.09799999743700027, 0.2199999988079071, 2.245300054550171, 2.244999885559082, 2.2448999881744385, 2.2441000938415527, 2.243000030517578, 2.2427000999450684, 2.2414000034332275, 2.2399001121520996, 2.239300012588501, 2.2392001152038574, 2.239000082015991, 2.238100051879883, 2.2379000186920166, 2.2369000911712646, 2.2363998889923096, 2.23580002784729, 2.235599994659424, 2.2351999282836914, 2.234800100326538, 2.234600067138672, 2.234600067138672, 2.234100103378296, 2.2334001064300537, 2.2330000400543213, 2.2325000762939453, 2.2321999073028564, 2.2318999767303467, 2.231800079345703, 2.231600046157837, 2.2311999797821045, 2.1252999305725098, 2.147599935531616, 2.128999948501587, 2.111299991607666, 1.9010000228881836, 2.1487998962402344, 1.8072999715805054, 2.1196000576019287, 2.085200071334839, 1.8305000066757202, 2.0785000324249268, 1.6503000259399414, 1.8055000305175781, 1.690999984741211, 1.8063000440597534, 1.5496000051498413, 1.8456000089645386, 1.787500023841858, 1.5801000595092773, 1.6059999465942383, 1.4464999437332153, 1.2467000484466553, 1.371999979019165, 1.340399980545044, 1.8593000173568726, 1.0993000268936157, 1.5260000228881836, 1.0398999452590942, 0.978600025177002, 1.6800999641418457, 1.4744000434875488, 0.9466999769210815, 1.190999984741211, 1.5683000087738037, 0.992900013923645, 1.1533000469207764, 1.2836999893188477, 0.7124000191688538, 0.7421000003814697, 0.8543999791145325, 0.8145999908447266, 1.0084999799728394, 1.2386000156402588, 0.8312000036239624, 0.4846000075340271, 2.3756000995635986, 2.3724000453948975, 2.371000051498413, 2.3698999881744385, 2.369499921798706, 2.36929988861084, 2.3687000274658203, 2.3685998916625977, 2.368299961090088, 2.3677000999450684, 2.3673999309539795, 2.367000102996826, 2.367000102996826, 2.36680006980896, 2.36680006980896, 2.3666999340057373, 2.3666000366210938, 2.3666000366210938, 2.365999937057495, 2.365600109100342, 2.3654000759124756, 2.365299940109253, 2.3649001121520996, 2.3640999794006348, 2.3640999794006348, 2.3635001182556152, 2.3635001182556152, 2.3631999492645264, 2.363100051879883, 2.36299991607666, 2.271199941635132, 2.2744998931884766, 2.250999927520752, 1.9941999912261963, 1.9119000434875488, 1.8661999702453613, 2.154400110244751, 1.9988000392913818, 1.6101000308990479, 1.585800051689148, 2.196899890899658, 2.1364998817443848, 1.4321999549865723, 1.2901999950408936, 1.5694999694824219, 1.1605000495910645, 1.0563000440597534, 1.1761000156402588, 1.180999994277954, 1.4589999914169312, 0.9983000159263611, 1.2026000022888184, 1.4783999919891357, 1.910599946975708, 1.315999984741211, 1.0881999731063843, 1.2418999671936035, 1.5591000318527222, 0.791100025177002, 1.1722999811172485, 1.2379000186920166, 0.8956999778747559, 0.9617999792098999, 1.3359999656677246, 0.696399986743927, 0.5375000238418579, 0.5203999876976013, 0.6949999928474426, 0.8220000267028809, 3.1324000358581543, 3.13100004196167, 3.13070011138916, 3.130199909210205, 3.130199909210205, 3.129699945449829, 3.1289000511169434, 3.1285998821258545, 3.128000020980835, 3.128000020980835, 3.1275999546051025, 3.127500057220459, 3.12719988822937, 3.1270999908447266, 3.1263999938964844, 3.126300096511841, 3.126199960708618, 3.1259000301361084, 3.125699996948242, 3.1256000995635986, 3.1256000995635986, 3.125499963760376, 3.1247000694274902, 3.1242001056671143, 3.124000072479248, 3.123800039291382, 3.123699903488159, 3.123699903488159, 3.1236000061035156, 3.1233999729156494, 3.072700023651123, 3.063199996948242, 2.9865000247955322, 3.0027999877929688, 3.0253000259399414, 2.9655001163482666, 2.9193999767303467, 2.9707999229431152, 2.603100061416626, 2.8117001056671143, 2.905900001525879, 2.699700117111206, 2.3494999408721924, 2.914099931716919, 2.400599956512451, 1.9607000350952148, 2.524899959564209, 1.502500057220459, 2.3940999507904053, 0.891700029373169, 2.5237998962402344, 3.2369000911712646, 3.236599922180176, 3.2362000942230225, 3.2360999584198, 3.2358999252319336, 3.235100030899048, 3.235100030899048, 3.234800100326538, 3.234800100326538, 3.2342000007629395, 3.2339000701904297, 3.2339000701904297, 3.2339000701904297, 3.233799934387207, 3.2335000038146973, 3.2335000038146973, 3.233299970626831, 3.2330000400543213, 3.2328999042510986, 3.232800006866455, 3.2327001094818115, 3.232100009918213, 3.2320001125335693, 3.231800079345703, 3.2314999103546143, 3.231300115585327, 3.231300115585327, 3.2309999465942383, 3.2309000492095947, 3.2309000492095947, 3.1812000274658203, 3.216399908065796, 3.147200107574463, 3.117300033569336, 3.0032999515533447, 3.1480000019073486, 3.067199945449829, 2.9588000774383545, 3.1644999980926514, 3.1208999156951904, 2.72979998588562, 3.117799997329712, 2.017400026321411, 2.783799886703491, 3.2639999389648438, 3.263700008392334, 3.2614998817443848, 3.261199951171875, 3.2600998878479004, 3.2597999572753906, 3.2588000297546387, 3.2588000297546387, 3.258500099182129, 3.258500099182129, 3.2583000659942627, 3.2583000659942627, 3.2578001022338867, 3.257699966430664, 3.2576000690460205, 3.2567999362945557, 3.2565999031066895, 3.25600004196167, 3.2555999755859375, 3.2553000450134277, 3.2553000450134277, 3.2548000812530518, 3.254199981689453, 3.254199981689453, 3.2539000511169434, 3.2532999515533447, 3.253200054168701, 3.2530999183654785, 3.252500057220459, 3.25219988822937, 3.1793999671936035, 3.099299907684326, 3.009500026702881, 2.966200113296509, 3.0583999156951904, 2.875699996948242, 3.055000066757202, 3.0195000171661377, 2.545599937438965, 2.8678998947143555, 2.7181999683380127, 2.7813000679016113, 2.879300117492676, 2.2576000690460205, 2.936500072479248, 2.399399995803833, 3.267699956893921, 3.2676000595092773, 3.2671000957489014, 3.266200065612793, 3.2660000324249268, 3.2660000324249268, 3.265500068664551, 3.2648000717163086, 3.264699935913086, 3.2644999027252197, 3.2637999057769775, 3.263700008392334, 3.2634999752044678, 3.2634999752044678, 3.2629001140594482, 3.262700080871582, 3.262399911880493, 3.2623000144958496, 3.2620999813079834, 3.2616000175476074, 3.261399984359741, 3.261199951171875, 3.2611000537872314, 3.2609000205993652, 3.2609000205993652, 3.2609000205993652, 3.260699987411499, 3.2602999210357666, 3.2599000930786133, 3.2595999240875244, 3.251699924468994, 3.2539000511169434, 3.2355000972747803, 3.20770001411438, 3.1357998847961426, 3.2367000579833984, 3.0650999546051025, 2.981300115585327, 3.1226999759674072, 3.00600004196167, 3.0660998821258545, 2.963599920272827, 2.927999973297119, 3.1071999073028564, 2.775599956512451, 2.7909998893737793, 2.8496999740600586, 2.9928998947143555, 2.669100046157837, 2.581899881362915, 2.7620999813079834, 2.952199935913086, 3.3213999271392822, 3.320499897003174, 3.320199966430664, 3.3199000358581543, 3.319200038909912, 3.319200038909912, 3.3185999393463135, 3.31820011138916, 3.318000078201294, 3.317500114440918, 3.3173999786376953, 3.3173999786376953, 3.3173000812530518, 3.3173000812530518, 3.3171000480651855, 3.316999912261963, 3.316999912261963, 3.316499948501587, 3.316499948501587, 3.316499948501587, 3.3164000511169434, 3.315999984741211, 3.3159000873565674, 3.3159000873565674, 3.315700054168701, 3.3155999183654785, 3.315500020980835, 3.3152999877929688, 3.3150999546051025, 3.3143999576568604, 3.270900011062622, 3.1142001152038574, 3.20169997215271, 3.2058000564575195, 2.989300012588501, 3.1877999305725098, 3.151900053024292, 3.1215999126434326, 3.0580999851226807, 2.7014000415802, 3.0322000980377197, 3.1582999229431152], \"logprob\": [30.0, 29.0, 28.0, 27.0, 26.0, 25.0, 24.0, 23.0, 22.0, 21.0, 20.0, 19.0, 18.0, 17.0, 16.0, 15.0, 14.0, 13.0, 12.0, 11.0, 10.0, 9.0, 8.0, 7.0, 6.0, 5.0, 4.0, 3.0, 2.0, 1.0, -5.840400218963623, -6.085599899291992, -6.4953999519348145, -6.498799800872803, -6.615699768066406, -6.819300174713135, -6.912099838256836, -6.9182000160217285, -6.752900123596191, -7.079699993133545, -7.079999923706055, -7.14709997177124, -7.204599857330322, -7.227099895477295, -7.254499912261963, -7.120500087738037, -7.311200141906738, -7.321800231933594, -7.344799995422363, -7.384799957275391, -7.396999835968018, -7.4085001945495605, -7.424699783325195, -7.438499927520752, -7.476600170135498, -7.496399879455566, -7.513199806213379, -7.545400142669678, -7.551400184631348, -7.559700012207031, -6.4618000984191895, -5.630499839782715, -6.625800132751465, -5.640699863433838, -6.217199802398682, -5.6743998527526855, -6.013800144195557, -5.441400051116943, -6.726399898529053, -6.344399929046631, -5.327899932861328, -5.18179988861084, -5.6631999015808105, -6.110499858856201, -5.854800224304199, -5.655399799346924, -5.132999897003174, -5.083700180053711, -6.422500133514404, -5.467700004577637, -6.354800224304199, -5.212600231170654, -5.172599792480469, -5.370100021362305, -4.398200035095215, -5.635900020599365, -4.823999881744385, -5.150199890136719, -4.473499774932861, -5.553699970245361, -4.924300193786621, -4.974800109863281, -5.43720006942749, -4.945799827575684, -4.629799842834473, -4.7667999267578125, -4.940899848937988, -4.744100093841553, -4.774600028991699, -4.904900074005127, -5.255000114440918, -4.978600025177002, -5.066199779510498, -5.037499904632568, -5.127999782562256, -5.268899917602539, -5.336100101470947, -5.246200084686279, -5.243500232696533, -5.304200172424316, -5.252699851989746, -5.264699935913086, -5.308000087738037, -5.617300033569336, -5.80810022354126, -6.226799964904785, -6.317699909210205, -6.354400157928467, -6.379000186920166, -6.435800075531006, -6.473599910736084, -6.557000160217285, -6.658400058746338, -6.7108001708984375, -6.749300003051758, -6.777699947357178, -6.787399768829346, -6.794400215148926, -6.829599857330322, -6.934000015258789, -6.941199779510498, -6.968699932098389, -6.984499931335449, -6.9959001541137695, -7.007999897003174, -7.031300067901611, -7.052000045776367, -7.063600063323975, -7.063700199127197, -7.075500011444092, -7.092299938201904, -7.092800140380859, -7.0971999168396, -5.347700119018555, -5.36959981918335, -5.972799777984619, -4.702400207519531, -5.480500221252441, -6.0391998291015625, -4.464399814605713, -4.898399829864502, -6.018099784851074, -5.713699817657471, -4.99459981918335, -6.220900058746338, -4.523499965667725, -5.118500232696533, -4.918799877166748, -4.899600028991699, -4.610499858856201, -5.117400169372559, -4.333000183105469, -5.122200012207031, -6.322199821472168, -4.549600124359131, -4.5630998611450195, -5.439199924468994, -5.3892998695373535, -5.002200126647949, -5.1921000480651855, -5.053599834442139, -5.413400173187256, -5.325099945068359, -5.689300060272217, -5.3796000480651855, -5.0258002281188965, -4.781700134277344, -5.058800220489502, -4.852700233459473, -4.85830020904541, -4.807799816131592, -4.975299835205078, -5.01200008392334, -5.064899921417236, -4.912399768829346, -4.95959997177124, -5.0690999031066895, -5.265999794006348, -5.254899978637695, -6.089600086212158, -6.265100002288818, -6.36929988861084, -6.434199810028076, -6.585599899291992, -6.605199813842773, -6.7845001220703125, -6.784800052642822, -6.816100120544434, -6.83650016784668, -6.844900131225586, -6.89769983291626, -6.908699989318848, -6.912300109863281, -6.983699798583984, -7.060500144958496, -7.07420015335083, -7.08489990234375, -7.093200206756592, -7.123600006103516, -7.124300003051758, -7.131100177764893, -7.132199764251709, -7.165299892425537, -7.174900054931641, -7.179999828338623, -7.183300018310547, -7.191999912261963, -7.19789981842041, -7.212800025939941, -6.451900005340576, -6.019000053405762, -5.940999984741211, -6.76669979095459, -6.453400135040283, -5.843999862670898, -6.112100124359131, -6.08650016784668, -6.707200050354004, -5.624000072479248, -6.521900177001953, -5.201600074768066, -6.026800155639648, -6.555699825286865, -6.041999816894531, -4.880799770355225, -5.177299976348877, -5.301799774169922, -5.459199905395508, -5.736400127410889, -5.402100086212158, -6.197400093078613, -4.771399974822998, -4.848499774932861, -4.6371002197265625, -5.744699954986572, -5.651000022888184, -6.117000102996826, -5.632500171661377, -5.0960001945495605, -5.178699970245361, -5.244900226593018, -5.270400047302246, -5.247600078582764, -5.202499866485596, -5.437300205230713, -5.624499797821045, -5.137800216674805, -5.270299911499023, -5.515500068664551, -5.099699974060059, -5.132699966430664, -5.343200206756592, -5.265500068664551, -5.294899940490723, -5.284999847412109, -5.262400150299072, -5.573599815368652, -5.309700012207031, -5.5117998123168945, -5.3246002197265625, -5.362100124359131, -5.4293999671936035, -5.475299835205078, -5.451200008392334, -5.828100204467773, -6.078000068664551, -6.181099891662598, -6.228600025177002, -6.284200191497803, -6.3225998878479, -6.36959981918335, -6.382999897003174, -6.389400005340576, -6.3917999267578125, -6.403299808502197, -6.446800231933594, -6.504899978637695, -6.5543999671936035, -6.58620023727417, -6.59119987487793, -6.621099948883057, -6.621300220489502, -6.651899814605713, -6.703199863433838, -6.740600109100342, -6.769700050354004, -6.776899814605713, -6.778900146484375, -6.835000038146973, -6.867700099945068, -6.899099826812744, -6.955599784851074, -6.9567999839782715, -5.636099815368652, -6.38100004196167, -5.638299942016602, -5.877500057220459, -5.601799964904785, -6.367599964141846, -6.0868000984191895, -5.651199817657471, -6.312399864196777, -4.517099857330322, -5.0721001625061035, -5.505300045013428, -4.434700012207031, -6.051400184631348, -6.248300075531006, -5.5528998374938965, -5.510499954223633, -5.162199974060059, -5.7453999519348145, -4.459099769592285, -4.393099784851074, -5.243599891662598, -4.8780999183654785, -5.315000057220459, -5.611700057983398, -4.424200057983398, -5.80649995803833, -4.545400142669678, -5.174900054931641, -5.155399799346924, -4.808899879455566, -5.416600227355957, -5.15910005569458, -5.342599868774414, -4.950200080871582, -4.933499813079834, -5.057400226593018, -5.3572998046875, -5.235000133514404, -5.111800193786621, -5.248499870300293, -5.241099834442139, -5.306399822235107, -5.287099838256836, -5.169899940490723, -5.2789998054504395, -5.298900127410889, -5.276100158691406, -5.291299819946289, -5.94189977645874, -6.007800102233887, -6.01800012588501, -6.111199855804443, -6.212100028991699, -6.2453999519348145, -6.357999801635742, -6.475200176239014, -6.516499996185303, -6.523499965667725, -6.536300182342529, -6.598299980163574, -6.611599922180176, -6.67579984664917, -6.706299781799316, -6.741099834442139, -6.750500202178955, -6.772900104522705, -6.795100212097168, -6.8018999099731445, -6.3572998046875, -6.830999851226807, -6.866099834442139, -6.888000011444092, -6.9116997718811035, -6.882299900054932, -6.939899921417236, -6.941100120544434, -6.952899932861328, -6.970300197601318, -5.081500053405762, -5.8383002281188965, -5.923299789428711, -5.78849983215332, -4.132800102233887, -6.178599834442139, -3.8422000408172607, -6.128900051116943, -5.939700126647949, -4.755300045013428, -6.014500141143799, -4.065400123596191, -4.864699840545654, -4.593500137329102, -5.247099876403809, -4.410900115966797, -5.396100044250488, -5.262599945068359, -4.780700206756592, -4.894000053405762, -4.494699954986572, -4.226900100708008, -4.604700088500977, -4.616099834442139, -5.643499851226807, -4.2743000984191895, -5.081099987030029, -4.315899848937988, -4.222899913787842, -5.373899936676025, -5.08519983291626, -4.359099864959717, -4.7347002029418945, -5.308300018310547, -4.724400043487549, -4.918499946594238, -5.072199821472168, -4.568299770355225, -4.6321001052856445, -4.7505998611450195, -4.904200077056885, -4.9994001388549805, -5.110799789428711, -5.023600101470947, -4.985899925231934, -5.678800106048584, -6.05810022354126, -6.185200214385986, -6.280700206756592, -6.312600135803223, -6.074999809265137, -6.36870002746582, -6.375100135803223, -6.39769983291626, -6.438199996948242, -6.457600116729736, -6.4842000007629395, -6.484499931335449, -6.497200012207031, -6.498600006103516, -6.5015997886657715, -6.508399963378906, -6.508800029754639, -6.544600009918213, -6.570799827575684, -6.582499980926514, -6.590000152587891, -6.611700057983398, -6.653600215911865, -6.655200004577637, -6.687900066375732, -6.690199851989746, -6.701700210571289, -6.707600116729736, -6.711100101470947, -5.201600074768066, -6.103400230407715, -5.973400115966797, -4.640500068664551, -4.399799823760986, -4.368800163269043, -5.718900203704834, -5.319900035858154, -4.1072001457214355, -4.092800140380859, -6.1209001541137695, -5.980400085449219, -4.5243000984191895, -4.4390997886657715, -5.05679988861084, -4.356500148773193, -4.2245001792907715, -4.428899765014648, -4.4842000007629395, -5.005099773406982, -4.307499885559082, -4.651899814605713, -5.068699836730957, -5.78000020980835, -5.075900077819824, -4.832799911499023, -5.030200004577637, -5.386499881744385, -4.564700126647949, -4.9745001792907715, -5.111499786376953, -4.833000183105469, -4.909800052642822, -5.236700057983398, -4.774099826812744, -4.663899898529053, -4.953199863433838, -5.02370023727417, -5.095300197601318, -4.726600170135498, -4.959499835968018, -5.0005998611450195, -5.057700157165527, -5.06689977645874, -5.108799934387207, -5.218800067901611, -5.24399995803833, -5.311500072479248, -5.311500072479248, -5.349299907684326, -5.356200218200684, -5.386899948120117, -5.399899959564209, -5.45419979095459, -5.463600158691406, -5.471499919891357, -5.502399921417236, -5.5177001953125, -5.522600173950195, -5.523200035095215, -5.5295000076293945, -5.593200206756592, -5.633900165557861, -5.644199848175049, -5.6620001792907715, -5.668499946594238, -5.6717000007629395, -5.678500175476074, -5.687600135803223, -4.953000068664551, -5.239999771118164, -5.076300144195557, -5.1539998054504395, -5.301300048828125, -5.135499954223633, -4.990499973297119, -5.2846999168396, -4.8302998542785645, -5.116300106048584, -5.263599872589111, -5.094799995422363, -4.939599990844727, -5.358099937438965, -5.1153998374938965, -4.916200160980225, -5.1875, -4.7866997718811035, -5.207799911499023, -4.916600227355957, -5.25629997253418, -4.768400192260742, -4.8180999755859375, -4.877299785614014, -4.873700141906738, -4.90880012512207, -5.011199951171875, -5.014999866485596, -5.054200172424316, -5.0543999671936035, -5.105800151824951, -5.150899887084961, -5.152900218963623, -5.155600070953369, -5.160600185394287, -5.195499897003174, -5.196000099182129, -5.183899879455566, -5.2382001876831055, -5.248499870300293, -5.26170015335083, -5.268599987030029, -5.329599857330322, -5.333099842071533, -5.351799964904785, -5.375199794769287, -5.395599842071533, -5.395699977874756, -5.421199798583984, -5.424300193786621, -5.42549991607666, -4.758299827575684, -5.2729997634887695, -4.867199897766113, -4.857800006866455, -4.400599956512451, -5.046000003814697, -4.964799880981445, -4.865799903869629, -5.236000061035156, -5.178999900817871, -4.9878997802734375, -5.225500106811523, -5.109300136566162, -5.196400165557861, -4.1149001121521, -4.25600004196167, -4.698999881744385, -4.747799873352051, -4.904799938201904, -4.938899993896484, -5.065499782562256, -4.9980998039245605, -5.094399929046631, -5.098899841308594, -5.105999946594238, -5.117499828338623, -5.172100067138672, -5.176700115203857, -5.188000202178955, -5.263999938964844, -5.282700061798096, -5.338699817657471, -5.3755998611450195, -5.398600101470947, -5.400599956512451, -5.4405999183654785, -5.485599994659424, -5.488100051879883, -5.505000114440918, -5.547699928283691, -5.560200214385986, -5.564599990844727, -5.597799777984619, -5.621600151062012, -5.059299945831299, -4.520299911499023, -4.939300060272217, -4.839099884033203, -5.138899803161621, -4.8582000732421875, -5.182700157165527, -5.137800216674805, -4.5233001708984375, -4.950399875640869, -4.952499866485596, -5.008200168609619, -5.099999904632568, -4.753200054168701, -5.1697001457214355, -5.113399982452393, -4.8196001052856445, -4.832600116729736, -4.89709997177124, -5.010900020599365, -5.033100128173828, -5.035900115966797, -5.087699890136719, -5.168000221252441, -5.178699970245361, -5.194499969482422, -5.264500141143799, -5.276800155639648, -5.286499977111816, -5.2881999015808105, -5.341100215911865, -5.361499786376953, -5.386899948120117, -5.389500141143799, -5.4116997718811035, -5.398499965667725, -5.4633002281188965, -5.479000091552734, -5.489699840545654, -5.499000072479248, -5.502399921417236, -5.50540018081665, -5.51669979095459, -5.5472002029418945, -5.524600028991699, -5.594799995422363, -5.168600082397461, -5.3256001472473145, -4.779600143432617, -5.0792999267578125, -4.504000186920166, -5.322700023651123, -4.30109977722168, -4.742499828338623, -5.195499897003174, -5.01230001449585, -5.117700099945068, -4.980400085449219, -4.969299793243408, -5.193900108337402, -4.829800128936768, -5.077899932861328, -5.1107001304626465, -5.204899787902832, -5.073299884796143, -5.192399978637695, -5.242300033569336, -5.258299827575684, -4.262800216674805, -4.473100185394287, -4.520199775695801, -4.5767998695373535, -4.695099830627441, -4.700399875640869, -4.788300037384033, -4.832099914550781, -4.867599964141846, -4.649600028991699, -4.943299770355225, -4.946300029754639, -4.854700088500977, -4.956099987030029, -4.977399826049805, -4.992700099945068, -4.939199924468994, -5.041200160980225, -5.0447998046875, -5.049300193786621, -5.062600135803223, -5.0980000495910645, -5.105500221252441, -5.106800079345703, -5.1290998458862305, -5.14109992980957, -5.1519999504089355, -5.170199871063232, -5.188700199127197, -5.258500099182129, -4.80019998550415, -4.113800048828125, -4.706099987030029, -4.810299873352051, -4.223299980163574, -4.872099876403809, -4.838600158691406, -4.939300060272217, -4.894499778747559, -4.677299976348877, -4.982500076293945, -5.0278000831604]}, \"token.table\": {\"Topic\": [4, 4, 8, 9, 10, 2, 5, 1, 1, 2, 3, 4, 5, 6, 10, 10, 4, 5, 6, 1, 2, 3, 4, 5, 6, 8, 9, 4, 8, 10, 11, 1, 2, 3, 4, 5, 10, 11, 7, 3, 4, 5, 6, 7, 9, 11, 1, 1, 2, 3, 5, 6, 7, 11, 1, 2, 3, 4, 5, 7, 11, 3, 8, 10, 4, 2, 10, 2, 11, 1, 2, 3, 4, 7, 4, 1, 2, 3, 4, 5, 6, 8, 10, 2, 5, 6, 1, 2, 3, 4, 5, 6, 7, 10, 10, 1, 2, 3, 4, 5, 6, 1, 4, 1, 3, 4, 5, 1, 2, 3, 4, 5, 6, 9, 1, 3, 7, 2, 6, 7, 3, 5, 5, 6, 7, 10, 10, 9, 3, 7, 6, 7, 10, 1, 3, 4, 7, 4, 7, 2, 7, 1, 2, 3, 4, 5, 6, 7, 9, 1, 2, 3, 4, 5, 6, 8, 9, 10, 6, 1, 2, 3, 4, 5, 7, 8, 9, 10, 3, 1, 3, 4, 5, 6, 7, 1, 3, 4, 5, 6, 7, 2, 5, 6, 9, 10, 8, 1, 2, 3, 4, 5, 6, 9, 7, 1, 2, 7, 1, 2, 3, 1, 1, 2, 3, 4, 5, 6, 9, 10, 6, 1, 2, 3, 4, 5, 6, 7, 8, 9, 10, 7, 1, 2, 5, 1, 3, 1, 2, 3, 4, 5, 6, 7, 9, 1, 8, 10, 9, 1, 2, 3, 4, 6, 9, 6, 1, 2, 3, 10, 6, 6, 3, 4, 8, 11, 1, 2, 3, 4, 10, 1, 3, 4, 5, 6, 9, 8, 1, 4, 4, 1, 3, 4, 4, 1, 3, 4, 5, 8, 11, 9, 6, 8, 5, 11, 10, 3, 11, 5, 1, 2, 3, 4, 5, 6, 7, 6, 9, 11, 8, 9, 10, 2, 3, 5, 6, 8, 9, 10, 6, 1, 2, 3, 4, 5, 6, 7, 9, 3, 9, 10, 4, 7, 11, 1, 3, 4, 5, 7, 9, 4, 8, 9, 3, 4, 4, 5, 8, 10, 9, 11, 1, 3, 9, 1, 2, 3, 4, 5, 6, 8, 9, 10, 9, 10, 2, 1, 2, 3, 4, 6, 7, 11, 1, 2, 3, 4, 7, 4, 9, 8, 1, 3, 4, 5, 1, 3, 4, 7, 7, 1, 2, 3, 4, 5, 6, 7, 10, 10, 11, 1, 1, 2, 3, 4, 5, 6, 3, 8, 4, 10, 6, 7, 2, 4, 10, 1, 2, 3, 4, 5, 6, 10, 4, 7, 9, 1, 2, 3, 4, 5, 6, 9, 10, 11, 8, 10, 2, 6, 3, 1, 2, 3, 4, 5, 6, 2, 5, 5, 1, 3, 4, 5, 6, 7, 9, 6, 5, 9, 1, 3, 4, 5, 8, 1, 8, 9, 10, 1, 8, 1, 2, 3, 4, 5, 6, 1, 2, 3, 4, 5, 6, 7, 1, 2, 3, 4, 5, 6, 2, 10, 1, 2, 3, 5, 6, 8, 5, 1, 1, 3, 4, 5, 6, 8, 9, 10, 11, 4, 5, 1, 2, 3, 4, 5, 6, 7, 10, 1, 1, 2, 3, 4, 5, 6, 9, 10, 1, 5, 11, 8, 10, 1, 2, 3, 4, 5, 6, 7, 9, 1, 2, 3, 4, 5, 6, 10, 3, 2, 6, 7, 8, 10, 2, 3, 4, 7, 10, 11, 8, 7, 9, 10, 1, 3, 4, 1, 8, 5, 6, 8, 9, 10, 5, 6, 8, 9, 10, 3, 8, 8, 6, 10, 9, 10, 6, 8, 6, 3, 3, 11, 9, 1, 2, 3, 4, 5, 6, 9, 2, 7, 9, 1, 2, 5, 8, 9, 10, 4, 1, 2, 3, 4, 5, 6, 1, 2, 3, 4, 5, 6, 8, 9, 10, 1, 2, 3, 4, 5, 6, 1, 4, 7, 11, 10, 1, 8, 9, 3, 1, 10, 2, 4, 8, 9, 11, 1, 8, 6, 3, 1, 7, 6, 1, 1, 3, 7, 9, 7, 1, 1, 3, 4, 5, 6, 1, 2, 3, 4, 5, 6, 7, 9, 5, 6, 1, 2, 3, 4, 5, 6, 7, 8, 9, 10, 1, 2, 3, 4, 5, 6, 1, 3, 5, 1, 3, 4, 8, 11, 9, 1, 2, 6, 8, 9, 10, 6, 9, 1, 2, 3, 4, 5, 6, 2, 6, 1, 2, 3, 4, 5, 6, 10, 4, 1, 3, 10, 5, 6, 2, 5, 6, 10, 2, 10, 5, 9, 1, 2, 3, 5, 6, 7, 10, 5, 1, 2, 3, 4, 5, 6, 7, 8, 10, 7, 1, 2, 3, 4, 9, 2, 2, 5, 8, 9, 10, 10, 1, 2, 3, 4, 5, 4, 1, 7, 1, 3, 4, 5, 7, 8, 10, 11, 7, 1, 2, 3, 4, 5, 6, 7, 9, 1, 2, 4, 5, 6, 1, 2, 3, 4, 5, 6, 7, 8, 9, 10, 7, 8, 6, 10, 2, 5, 8, 4, 2, 3, 5, 6, 6, 7, 9, 10, 11, 2, 2, 6, 3, 6, 9, 8, 10, 7, 2, 6, 9, 10, 1, 2, 3, 4, 1, 2, 3, 4, 5, 6, 11, 7, 10, 1, 2, 3, 4, 5, 6, 10, 2, 6, 11, 4, 3, 11, 1, 2, 3, 4, 5, 6, 1, 3, 4, 7, 2, 2, 3, 4, 5, 6, 9, 10, 8, 4, 8, 10, 1, 3, 4, 5, 7, 6, 1, 2, 3, 4, 5, 6, 7, 8, 9, 10, 5, 9, 1, 2, 3, 4, 5, 6, 7, 9, 10, 11, 7, 2, 5, 6, 10, 8, 2, 3, 3, 1, 2, 3, 4, 5, 6, 7, 7, 8, 6, 10, 6, 5, 1, 11, 8, 2, 5, 6, 9, 7, 11, 9, 3, 10, 5, 2, 1, 3, 4, 7, 1, 4, 3, 6, 9, 2, 5, 6, 8, 9, 10, 11, 4, 1, 7, 3, 1, 3, 4, 5, 6, 2, 1, 2, 3, 4, 2, 4, 1, 2, 3, 4, 5, 6, 7, 9, 10, 1, 4, 5, 7, 3, 5, 4, 1, 1, 3, 5, 8, 9, 7, 6, 1, 3, 9, 4, 7, 5, 3, 1, 3, 8, 4, 6, 7, 9, 7, 2, 1, 2, 3, 4, 5, 6, 1, 5, 8, 10, 10, 1, 2, 3, 4, 5, 6, 8, 9, 10, 1, 2, 3, 4, 5, 6, 1, 2, 3, 4, 5, 6, 7, 8, 9, 10, 1, 7, 9, 2, 6, 8, 9, 1, 2, 3, 4, 6, 7, 1, 2, 3, 4, 5, 6, 7, 9, 10, 1, 2, 3, 4, 5, 6, 8, 9, 10, 1, 2, 3, 4, 8, 10, 5, 3, 1, 2, 3, 4, 5, 6, 7, 9, 2, 8, 1, 3, 4, 5, 7, 9, 10, 11, 1, 2, 3, 4, 5, 6, 7, 1, 2, 3, 4, 5, 6, 7, 9, 10, 2, 10, 1, 2, 7, 10, 11, 5, 1, 2, 3, 4, 5, 6, 1, 2, 3, 4, 5, 6, 7, 7, 8, 10, 2, 5, 11, 4, 8, 9, 10, 10, 2, 5, 6, 8, 9, 10, 2, 2, 3, 5, 6, 8, 10, 1, 2, 3, 4, 5, 6, 7, 10, 9, 1, 2, 4, 5, 6, 7, 1, 7, 9, 2, 8, 1, 3, 4, 9, 10, 7, 3, 4, 7, 9, 2, 3, 5, 6, 10, 1, 2, 3, 4, 5, 6, 7, 8, 9, 10, 5, 1, 2, 2, 3, 9, 1, 2, 3, 4, 5, 6, 7, 5, 7, 9, 10, 11, 6, 8, 9, 11, 10, 3, 6, 7, 8, 9, 10, 8, 8, 11, 1, 3, 5, 6, 1, 2, 3, 4, 5, 6, 7, 4, 6, 8, 1, 2, 3, 4, 7, 9, 10, 11, 11, 4, 5, 6, 6, 7, 9, 5, 1, 7, 6, 9, 10, 10, 10, 10, 8, 3, 8, 11, 1, 2, 3, 4, 5, 6, 7, 9, 10, 2, 3, 4, 7, 1, 2, 3, 4, 5, 6, 1, 2, 3, 4, 5, 6, 7, 9, 4, 1, 2, 5, 6, 7, 9, 10, 11, 3, 11, 1, 2, 3, 4, 5, 6, 2, 5, 6, 1, 2, 3, 4, 6, 8, 10, 11, 2, 3, 1, 2, 3, 4, 5, 6, 7, 3, 7, 8, 9, 10, 11, 3, 11, 1, 3, 4, 7, 8, 1, 2, 3, 7, 5, 4, 8, 1, 2, 3, 4, 5, 6, 2, 4, 11, 8, 1, 2, 3, 7, 8, 10, 7, 2, 11, 6, 7, 1, 3, 4, 7, 1, 3, 4, 7, 4, 1, 2, 3, 4, 5, 6, 10, 11, 9, 11, 2, 5, 8, 4, 5, 6, 2, 1, 3, 11, 9, 6, 1, 9, 10, 11, 1, 2, 3, 4, 5, 6, 7, 8, 9, 10, 6, 11, 7, 7, 1, 2, 3, 4, 7, 9, 5, 7, 8, 8, 1, 3, 1, 1, 2, 3, 7, 2, 6, 1, 2, 3, 4, 6, 7, 8, 10, 4, 8, 1, 1, 2, 3, 4, 11, 10, 10, 4, 9, 10, 10, 7, 1, 2, 3, 4, 5, 6, 9, 1, 2, 3, 5, 1, 2, 3, 4, 5, 8, 2, 3, 7, 2, 9, 1, 2, 3, 4, 5, 6, 7, 4, 8, 2, 9, 6, 8, 11, 10, 9, 1, 3, 9, 8, 9, 3, 7, 4, 7, 1, 2, 3, 5, 6, 7, 9, 8, 10, 11, 8, 1, 1, 2, 3, 4, 5, 6, 7, 1, 2, 5, 10, 8, 6, 1, 7, 11, 1, 11, 1, 2, 3, 4, 5, 6, 10, 11, 3, 1, 3, 4, 5, 6, 9, 10, 8, 2, 3, 10, 1, 2, 3, 4, 5, 6, 7, 1, 3, 4, 5, 6, 7, 1, 2, 3, 4, 5, 6, 4, 1, 2, 3, 4, 5, 6, 9, 10, 11, 8, 11, 9, 9, 4, 1, 2, 3, 4, 5, 6, 9, 10, 5, 10, 3, 1, 2, 3, 7, 7, 5, 1, 3, 4, 7, 11, 1, 2, 4, 7, 10, 2, 2, 1, 2, 3, 4, 5, 6, 7, 5, 3, 8, 2, 3, 5, 6, 10, 1, 7, 9, 10, 10, 2, 1, 1, 3, 6, 8, 2, 7, 11, 1, 3, 5, 6, 7, 8, 9, 10, 1, 2, 3, 4, 5, 6, 10, 3, 7, 5, 1, 3, 5, 6, 1, 4, 10, 1, 6, 1, 2, 3, 5, 6, 7, 9, 10, 6, 1, 5, 7, 8, 9, 10, 3, 3, 5, 6, 11, 5, 11, 8, 10, 11, 11, 9, 10, 3, 4, 10, 1, 2, 4, 9, 1, 2, 3, 4, 5, 6, 7, 9, 6, 4, 1, 2, 3, 4, 5, 6, 1, 3, 4, 7, 8, 6, 4, 1, 6, 11, 7, 1, 2, 3, 4, 5, 6, 9, 10, 11, 2, 5, 6, 1, 2, 3, 4, 5, 6, 1, 3, 4, 1, 3, 4, 6, 9], \"Freq\": [0.9750486016273499, 0.184464231133461, 0.14295977354049683, 0.12451335787773132, 0.5441694855690002, 0.9819154143333435, 0.9757132530212402, 0.9851844310760498, 0.09243755787611008, 0.25489166378974915, 0.0912575051188469, 0.08103037625551224, 0.21398311853408813, 0.2655121386051178, 0.0003933513362426311, 0.9919078350067139, 0.030466726049780846, 0.2909572422504425, 0.6778846383094788, 0.05800822749733925, 0.02502315677702427, 0.12795932590961456, 0.011942870914936066, 0.6397966146469116, 0.11431033164262772, 0.0005687081138603389, 0.021610908210277557, 0.989098846912384, 0.7510058283805847, 0.0951274111866951, 0.15020117163658142, 0.13052377104759216, 0.14683924615383148, 0.5710415244102478, 0.05710415169596672, 0.05873569846153259, 0.003263094462454319, 0.029367849230766296, 0.9872300624847412, 0.14154212176799774, 0.014517140574753284, 0.6750470399856567, 0.0762149915099144, 0.018146425485610962, 0.014517140574753284, 0.05806856229901314, 0.9786744713783264, 0.09730331599712372, 0.7196773290634155, 0.03121049702167511, 0.02386685088276863, 0.11749833822250366, 0.0036718230694532394, 0.005507734604179859, 0.7345425486564636, 0.22726178169250488, 0.00946924090385437, 0.014880236238241196, 0.010821989737451077, 0.004058246035128832, 0.9904047250747681, 0.8530125617980957, 0.08281675726175308, 0.05797172710299492, 0.9822856783866882, 0.14513321220874786, 0.846610426902771, 0.04484282061457634, 0.9481053352355957, 0.6991777420043945, 0.014921477064490318, 0.24513854086399078, 0.008526558056473732, 0.029842954128980637, 0.9853555560112, 0.008618838153779507, 0.7116698026657104, 0.008618838153779507, 0.009850100614130497, 0.030165933072566986, 0.2259366810321808, 0.0024625251535326242, 0.001846893923357129, 0.6851635575294495, 0.07550781965255737, 0.23770980536937714, 0.35966992378234863, 0.27749812602996826, 0.06286365538835526, 0.2559448778629303, 0.012572730891406536, 0.015266887843608856, 0.01616493985056877, 0.0004490261198952794, 0.9926007986068726, 0.04190894961357117, 0.06065768748521805, 0.029777411371469498, 0.016543006524443626, 0.226087749004364, 0.6242227554321289, 0.9781963229179382, 0.9878052473068237, 0.1286623477935791, 0.7359486222267151, 0.1286623477935791, 0.9853784441947937, 0.17189417779445648, 0.23102089762687683, 0.12739674746990204, 0.04693564400076866, 0.23711644113063812, 0.1846948117017746, 0.0006095538265071809, 0.8599321246147156, 0.042153533548116684, 0.09273777902126312, 0.9398453831672668, 0.05270161107182503, 0.9881517887115479, 0.9923936724662781, 0.9910534620285034, 0.10896380245685577, 0.06308431178331375, 0.16631317138671875, 0.653782844543457, 0.9813284277915955, 0.9922569394111633, 0.055098872631788254, 0.936680793762207, 0.9853734970092773, 0.8577130436897278, 0.13342203199863434, 0.26665085554122925, 0.6666271686553955, 0.021504102274775505, 0.04300820454955101, 0.06463935226202011, 0.9291906952857971, 0.9902181029319763, 0.9931896328926086, 0.3218562602996826, 0.013478067703545094, 0.08572051674127579, 0.3579774796962738, 0.14340664446353912, 0.07116419821977615, 0.005391227081418037, 0.0010782454628497362, 0.1569805145263672, 0.11511904001235962, 0.44128966331481934, 0.06976911425590515, 0.18663237988948822, 0.020930735394358635, 0.0017442278331145644, 0.005232683848589659, 0.0017442278331145644, 0.9748700857162476, 0.15264937281608582, 0.22310294210910797, 0.24071632325649261, 0.3640100657939911, 0.003522678045555949, 0.008219582028687, 0.003522678045555949, 0.0011742260539904237, 0.0023484521079808474, 0.9859133958816528, 0.4884331524372101, 0.14985527098178864, 0.11876137554645538, 0.22068023681640625, 0.011660207994282246, 0.010364629328250885, 0.3085451126098633, 0.3491765856742859, 0.217124342918396, 0.11998976767063141, 0.0044440655037760735, 0.0006348665338009596, 0.7387697696685791, 0.02389056421816349, 0.22420375049114227, 0.003675471292808652, 0.007350942585617304, 0.9906577467918396, 0.3602207601070404, 0.13020823895931244, 0.1764751374721527, 0.12293773144483566, 0.10310906171798706, 0.07468798011541367, 0.03106491081416607, 0.9917423129081726, 0.0483451783657074, 0.9338252544403076, 0.015266898088157177, 0.9457895159721375, 0.02024625800549984, 0.0318155512213707, 0.9736743569374084, 0.27861523628234863, 0.2652263939380646, 0.22442233562469482, 0.1160365492105484, 0.05419289320707321, 0.05546802282333374, 0.0012751269387081265, 0.003825380699709058, 0.9862313866615295, 0.14450058341026306, 0.14234384894371033, 0.30625495314598083, 0.007548538036644459, 0.12832514941692352, 0.057153213769197464, 0.1951836198568344, 0.006470175459980965, 0.009705263189971447, 0.0032350877299904823, 0.9905610084533691, 0.940852701663971, 0.05131923779845238, 0.9859992265701294, 0.05084790289402008, 0.9406861662864685, 0.23318615555763245, 0.2974170744419098, 0.048871349543333054, 0.03211545944213867, 0.07051437348127365, 0.3071913421154022, 0.009774269536137581, 0.0013963242527097464, 0.06331604719161987, 0.12030048668384552, 0.8104453682899475, 0.9920878410339355, 0.0841439813375473, 0.7374972701072693, 0.155913844704628, 0.002474823035299778, 0.01732376031577587, 0.9902264475822449, 0.9781642556190491, 0.9886738061904907, 0.9907128810882568, 0.9864682555198669, 0.9831862449645996, 0.9882593154907227, 0.9732102155685425, 0.03524645045399666, 0.8723496794700623, 0.004405806306749582, 0.08371032029390335, 0.012078155763447285, 0.7689759135246277, 0.17312023043632507, 0.030195388942956924, 0.014091181568801403, 0.5439013242721558, 0.26569467782974243, 0.10598347336053848, 0.07359963655471802, 0.010303949005901814, 0.9824548959732056, 0.9877312779426575, 0.07021064311265945, 0.9227684140205383, 0.9858941435813904, 0.3606576919555664, 0.2761285603046417, 0.36206650733947754, 0.985295295715332, 0.307910680770874, 0.5412492752075195, 0.019244417548179626, 0.12749427556991577, 0.0024055521935224533, 0.0024055521935224533, 0.9867542386054993, 0.8281047940254211, 0.1639811396598816, 0.9722037315368652, 0.9935892820358276, 0.9841626286506653, 0.1437470018863678, 0.8481073379516602, 0.9928897023200989, 0.02551323175430298, 0.06803528219461441, 0.057211488485336304, 0.059530872851610184, 0.4012535512447357, 0.38656410574913025, 0.0007731281802989542, 0.11295174062252045, 0.7415527105331421, 0.14241741597652435, 0.323639452457428, 0.07791320234537125, 0.599332332611084, 0.8082448840141296, 0.030120927840471268, 0.04016123712062836, 0.09789301455020905, 0.008785270154476166, 0.005020154640078545, 0.01004030928015709, 0.9893136024475098, 0.4634511172771454, 0.018997520208358765, 0.3004258871078491, 0.14314410090446472, 0.030484391376376152, 0.026066364720463753, 0.015463097020983696, 0.0013254083460196853, 0.8591887354850769, 0.017183775082230568, 0.12028641998767853, 0.9849861264228821, 0.15367352962493896, 0.839293897151947, 0.3788338303565979, 0.33684486150741577, 0.20621250569820404, 0.07558014988899231, 0.0009330883040092885, 0.001866176608018577, 0.8951246738433838, 0.005967497825622559, 0.08951246738433838, 0.9812833070755005, 0.9904590845108032, 0.7370272874832153, 0.18256638944149017, 0.050712887197732925, 0.027046872302889824, 0.10914746671915054, 0.8853071928024292, 0.966485857963562, 0.0237660463899374, 0.9935638308525085, 0.006391837727278471, 0.6526776552200317, 0.010653062723577023, 0.02911837212741375, 0.04687347635626793, 0.24146942794322968, 0.002840816741809249, 0.004971429239958525, 0.0042612249962985516, 0.9166033267974854, 0.07575234025716782, 0.9850233197212219, 0.061343833804130554, 0.6384302973747253, 0.07951978594064713, 0.0806557834148407, 0.13631963729858398, 0.0022719937842339277, 0.9892280101776123, 0.8022427558898926, 0.029482807964086533, 0.06362079828977585, 0.08379324525594711, 0.020172446966171265, 0.9072835445404053, 0.08418095111846924, 0.9926623106002808, 0.6489543914794922, 0.1334298700094223, 0.16678734123706818, 0.05003620311617851, 0.23783119022846222, 0.5673563480377197, 0.13467548787593842, 0.05874143913388252, 0.9842143058776855, 0.20510511100292206, 0.18786177039146423, 0.33579155802726746, 0.05899041146039963, 0.16063542664051056, 0.0435621477663517, 0.004537723958492279, 0.0009075447451323271, 0.9381710886955261, 0.055654216557741165, 0.9840262532234192, 0.21694998443126678, 0.1530483514070511, 0.10571381449699402, 0.040234360843896866, 0.4141772389411926, 0.06863508373498917, 0.9775953888893127, 0.9895718693733215, 0.01065228134393692, 0.980009913444519, 0.9754192233085632, 0.9932876825332642, 0.11047167330980301, 0.15466034412384033, 0.7217482328414917, 0.05681483447551727, 0.5068774223327637, 0.0389905720949173, 0.12588384747505188, 0.0389905720949173, 0.2294873744249344, 0.002228032797574997, 0.10902557522058487, 0.07268371433019638, 0.8140576481819153, 0.02400805614888668, 0.34313952922821045, 0.049772799015045166, 0.0368904285132885, 0.09193328768014908, 0.45088300108909607, 0.0011711246334016323, 0.0023422492668032646, 0.9840319752693176, 0.9079718589782715, 0.08474404364824295, 0.9882935881614685, 0.9916136860847473, 0.9884692430496216, 0.1880149394273758, 0.0024417524691671133, 0.3223113417625427, 0.09360051155090332, 0.28812679648399353, 0.10499536246061325, 0.9895800948143005, 0.984612762928009, 0.9810531139373779, 0.4567304253578186, 0.15643365681171417, 0.13129253685474396, 0.2409357726573944, 0.005586916580796242, 0.004888551775366068, 0.002793458290398121, 0.9884382486343384, 0.9821722507476807, 0.9875933527946472, 0.07940108329057693, 0.8469449281692505, 0.021173622459173203, 0.03705384209752083, 0.015880217775702477, 0.17794470489025116, 0.16747736930847168, 0.03663567453622818, 0.6175727844238281, 0.9774203896522522, 0.983579158782959, 0.0953979343175888, 0.13885699212551117, 0.23319494724273682, 0.0010599769884720445, 0.21199540793895721, 0.3190530836582184, 0.5944209098815918, 0.26451730728149414, 0.049039725214242935, 0.057956039905548096, 0.002972104586660862, 0.008916313759982586, 0.02080473303794861, 0.2489844709634781, 0.02146417833864689, 0.06331932544708252, 0.08049067109823227, 0.5698739290237427, 0.016098134219646454, 0.23998408019542694, 0.7563134431838989, 0.1010170727968216, 0.03788140043616295, 0.15468239784240723, 0.6392486691474915, 0.0678708478808403, 0.9850440621376038, 0.9752568006515503, 0.9932336211204529, 0.09185390174388885, 0.0904407650232315, 0.11163781583309174, 0.4592694938182831, 0.180881530046463, 0.02826273813843727, 0.012718232348561287, 0.014131369069218636, 0.012718232348561287, 0.9820993542671204, 0.9880838990211487, 0.22525106370449066, 0.25943678617477417, 0.20043130218982697, 0.10724011063575745, 0.12175732851028442, 0.07492759078741074, 0.009834245778620243, 0.0004682974249590188, 0.9749570488929749, 0.16818730533123016, 0.09437848627567291, 0.1379377841949463, 0.07743875682353973, 0.2706323266029358, 0.250465989112854, 0.0004033268487546593, 0.0004033268487546593, 0.08236224949359894, 0.9001017212867737, 0.011766035109758377, 0.9379115104675293, 0.05616236478090286, 0.2577158212661743, 0.09371484816074371, 0.17962011694908142, 0.3956848978996277, 0.015619141049683094, 0.02603190205991268, 0.031238282099366188, 0.9914529919624329, 0.031067783012986183, 0.13383044302463531, 0.08603385835886002, 0.0955931767821312, 0.30828797817230225, 0.34413543343544006, 0.988544762134552, 0.9758232235908508, 0.27301719784736633, 0.017902767285704613, 0.5415586829185486, 0.10294090956449509, 0.06265968084335327, 0.1287071853876114, 0.15444862842559814, 0.11399779468774796, 0.47805526852607727, 0.025741437450051308, 0.09928840398788452, 0.9923505783081055, 0.987895667552948, 0.9887146949768066, 0.9806329607963562, 0.8839945197105408, 0.06203470379114151, 0.050957076251506805, 0.10933288931846619, 0.8830733299255371, 0.03200996667146683, 0.0045728525146842, 0.1463312804698944, 0.6767821907997131, 0.13718557357788086, 0.21270987391471863, 0.07251472771167755, 0.09668631106615067, 0.6139580607414246, 0.9946213960647583, 0.9593894481658936, 0.03553294390439987, 0.9864771962165833, 0.7847068309783936, 0.2146206796169281, 0.031316306442022324, 0.9603667259216309, 0.9740288853645325, 0.9892461895942688, 0.9755674600601196, 0.9837203025817871, 0.9821439981460571, 0.9932815432548523, 0.9927075505256653, 0.08251874148845673, 0.18019399046897888, 0.05978398397564888, 0.5363718271255493, 0.06904629617929459, 0.07157237827777863, 0.9814016222953796, 0.20406056940555573, 0.6461917757987976, 0.1457575559616089, 0.028217073529958725, 0.33625346422195435, 0.10111118108034134, 0.04467703029513359, 0.4867444932460785, 0.002351422794163227, 0.9787555932998657, 0.23338761925697327, 0.07895269244909286, 0.17699284851551056, 0.018219850957393646, 0.33316299319267273, 0.15877299010753632, 0.20359131693840027, 0.3217190206050873, 0.12215478718280792, 0.2881600260734558, 0.01834559068083763, 0.04161316901445389, 0.0004474534362088889, 0.0008949068724177778, 0.0026847205590456724, 0.33500275015830994, 0.03121616691350937, 0.11116001009941101, 0.06395507603883743, 0.44616276025772095, 0.012181919068098068, 0.32377317547798157, 0.09937592595815659, 0.038468100130558014, 0.5353477597236633, 0.989798367023468, 0.9741172194480896, 0.9849719405174255, 0.9865041375160217, 0.9740929007530212, 0.03028598427772522, 0.9630942940711975, 0.2264995276927948, 0.6923192739486694, 0.042735759168863297, 0.038462184369564056, 0.9921610355377197, 0.15401425957679749, 0.8378375768661499, 0.9823225140571594, 0.9884558320045471, 0.9385423064231873, 0.05641511082649231, 0.978152334690094, 0.9799771904945374, 0.8321967720985413, 0.05989294871687889, 0.10717685520648956, 0.9878035187721252, 0.9819117784500122, 0.992544949054718, 0.7352604269981384, 0.0985400602221489, 0.04548002779483795, 0.07959005236625671, 0.03790002316236496, 0.13052549958229065, 0.3427540063858032, 0.033378660678863525, 0.07672110199928284, 0.11807078123092651, 0.2944296598434448, 0.0024909446947276592, 0.000996377901174128, 0.982089102268219, 0.9810869097709656, 0.1729648858308792, 0.16606082022190094, 0.10537776350975037, 0.11082834005355835, 0.2794327735900879, 0.15806664526462555, 0.002906972775235772, 0.001090114819817245, 0.00218022963963449, 0.001090114819817245, 0.03347448632121086, 0.10346658527851105, 0.07486111670732498, 0.04199526086449623, 0.2836201786994934, 0.46194788813591003, 0.974653422832489, 0.11317794770002365, 0.8802729249000549, 0.8599340915679932, 0.13436469435691833, 0.9689363241195679, 0.021295303478837013, 0.9913139343261719, 0.9925469160079956, 0.12075912207365036, 0.08453138917684555, 0.6822890639305115, 0.021132847294211388, 0.024151824414730072, 0.06641751527786255, 0.8968244194984436, 0.09577736258506775, 0.03206731751561165, 0.12712401151657104, 0.13628609478473663, 0.022905226796865463, 0.3619025945663452, 0.3183826506137848, 0.9683555960655212, 0.02593809738755226, 0.056540895253419876, 0.17433443665504456, 0.30312201380729675, 0.22145184874534607, 0.16412565112113953, 0.07852902263402939, 0.000785290205385536, 0.9925481677055359, 0.9595833420753479, 0.03198610991239548, 0.005815656390041113, 0.9022861123085022, 0.09105639904737473, 0.7781409621238708, 0.008893040008842945, 0.20157556235790253, 0.008893040008842945, 0.9338753819465637, 0.05870073661208153, 0.9756950736045837, 0.9898248910903931, 0.059937991201877594, 0.1152653619647026, 0.1775086671113968, 0.3792230486869812, 0.2628050446510315, 0.0023053071927279234, 0.003457960905507207, 0.9884276390075684, 0.08246956020593643, 0.43983766436576843, 0.041627492755651474, 0.2246313840150833, 0.029846126213669777, 0.1672953963279724, 0.001570848748087883, 0.003141697496175766, 0.010995941236615181, 0.9805493950843811, 0.2041357457637787, 0.09097353368997574, 0.31729793548583984, 0.019969800487160683, 0.36389413475990295, 0.9907840490341187, 0.990068256855011, 0.10719245672225952, 0.10155074298381805, 0.056417081505060196, 0.733422040939331, 0.9917340278625488, 0.03171775862574577, 0.04361191764473915, 0.2656362056732178, 0.523343026638031, 0.13480046391487122, 0.9895564913749695, 0.8747698068618774, 0.11741876602172852, 0.0516652911901474, 0.2181423455476761, 0.5434423089027405, 0.055492352694272995, 0.0019135293550789356, 0.055492352694272995, 0.03827058896422386, 0.03252999857068062, 0.9847188591957092, 0.5197582840919495, 0.1608220785856247, 0.12353000044822693, 0.16703742742538452, 0.0046615093015134335, 0.013984528370201588, 0.010099937207996845, 0.0007769182557240129, 0.11823027580976486, 0.13574586808681488, 0.11385137587785721, 0.004378899000585079, 0.6218036413192749, 0.06353667378425598, 0.06569045782089233, 0.07322870939970016, 0.6310591697692871, 0.031229889020323753, 0.116304412484169, 0.011845819652080536, 0.0021537854336202145, 0.0021537854336202145, 0.0032306781504303217, 0.9877429008483887, 0.9869220852851868, 0.018169376999139786, 0.9811463952064514, 0.009733126498758793, 0.009733126498758793, 0.9733126163482666, 0.9796961545944214, 0.800835132598877, 0.008545496501028538, 0.017090993002057076, 0.17090992629528046, 0.21425896883010864, 0.057135723531246185, 0.12855538725852966, 0.49993759393692017, 0.09998752176761627, 0.9939576983451843, 0.9860044717788696, 0.9913207292556763, 0.9880492091178894, 0.8737448453903198, 0.11948647350072861, 0.13123787939548492, 0.8612485527992249, 0.9873154759407043, 0.29854217171669006, 0.02487851306796074, 0.6717198491096497, 0.9882015585899353, 0.2545921504497528, 0.08950505405664444, 0.5947113633155823, 0.05967003479599953, 0.10577534139156342, 0.016413414850831032, 0.29908889532089233, 0.4358673393726349, 0.1167176142334938, 0.02735569141805172, 0.9944143891334534, 0.17925316095352173, 0.8102242350578308, 0.25263920426368713, 0.15368260443210602, 0.04947829991579056, 0.07046909630298615, 0.345598429441452, 0.1274441033601761, 0.9914519190788269, 0.9855437874794006, 0.12036501616239548, 0.8742300868034363, 0.9762117862701416, 0.9926639795303345, 0.989857017993927, 0.48731863498687744, 0.2915111482143402, 0.05940227210521698, 0.14080537855625153, 0.007700294256210327, 0.012100462801754475, 0.7155245542526245, 0.11172226071357727, 0.16570042073726654, 0.005021225195378065, 0.9823925495147705, 0.7899216413497925, 0.004131389316171408, 0.014873001724481583, 0.01239416841417551, 0.1751709133386612, 0.0008262778865173459, 0.0024788337759673595, 0.992973268032074, 0.054694920778274536, 0.17623919248580933, 0.7657288908958435, 0.6335412263870239, 0.20550569891929626, 0.11552095413208008, 0.04012833163142204, 0.0036480301059782505, 0.9910571575164795, 0.10471617430448532, 0.2833496630191803, 0.11087594926357269, 0.0782291442155838, 0.05482199788093567, 0.335091769695282, 0.02587105520069599, 0.0006159775075502694, 0.006159774959087372, 0.0006159775075502694, 0.9825881123542786, 0.9904986619949341, 0.06075965240597725, 0.23696264624595642, 0.3202901780605316, 0.23088668286800385, 0.10329140722751617, 0.0381917804479599, 0.0008679950260557234, 0.0008679950260557234, 0.002603985136374831, 0.005207970272749662, 0.9908265471458435, 0.918511152267456, 0.004598303698003292, 0.07012413442134857, 0.004598303698003292, 0.9958537817001343, 0.01756425015628338, 0.974815845489502, 0.9842759966850281, 0.11045116931200027, 0.27998086810112, 0.03724516183137894, 0.09889232367277145, 0.06164716184139252, 0.39685362577438354, 0.012843159027397633, 0.10469760745763779, 0.8859028220176697, 0.9876758456230164, 0.9822260141372681, 0.9789588451385498, 0.9777768850326538, 0.9859020709991455, 0.9925652742385864, 0.9941099882125854, 0.9256569743156433, 0.003180951811373234, 0.06679999083280563, 0.9836426377296448, 0.10882880538702011, 0.8815133571624756, 0.9857828617095947, 0.9856791496276855, 0.9900630712509155, 0.9888127446174622, 0.982369065284729, 0.45736438035964966, 0.4803282916545868, 0.057409755885601044, 0.0019136585760861635, 0.044716231524944305, 0.9489778280258179, 0.012236098758876324, 0.1386757791042328, 0.8442907929420471, 0.8834367394447327, 0.011838347651064396, 0.08138864487409592, 0.00443938048556447, 0.007398967631161213, 0.010358554311096668, 0.9874746799468994, 0.9807564616203308, 0.9280452132225037, 0.0701189711689949, 0.9789518713951111, 0.5961349010467529, 0.1957290917634964, 0.07605472952127457, 0.12974043190479279, 0.002236903877928853, 0.9905174374580383, 0.0409955196082592, 0.2901221513748169, 0.047302521765232086, 0.6180862784385681, 0.10865668952465057, 0.8837410807609558, 0.08921684324741364, 0.42972779273986816, 0.03717368468642235, 0.025278106331825256, 0.18661190569400787, 0.20965959131717682, 0.020073790103197098, 0.0007434737053699791, 0.0007434737053699791, 0.08206803351640701, 0.8163610100746155, 0.03455496206879616, 0.06479055434465408, 0.11475106328725815, 0.8721081018447876, 0.9768640398979187, 0.9874982833862305, 0.07178092002868652, 0.1921876221895218, 0.6390817761421204, 0.016208594664931297, 0.07872746139764786, 0.9871698021888733, 0.9802940487861633, 0.30425769090652466, 0.2749316394329071, 0.4178961217403412, 0.09925485402345657, 0.8932936787605286, 0.9874009490013123, 0.9824020862579346, 0.0398365817964077, 0.9212208986282349, 0.03485700860619545, 0.9844522476196289, 0.03491542860865593, 0.181560218334198, 0.782105565071106, 0.9928008913993835, 0.9961740374565125, 0.1363629400730133, 0.02756272256374359, 0.11025089025497437, 0.017408035695552826, 0.6557026505470276, 0.05077343434095383, 0.9827810525894165, 0.8381881713867188, 0.09167683124542236, 0.05893510580062866, 0.9935944080352783, 0.2526731789112091, 0.045681025832891464, 0.38115108013153076, 0.018557917326688766, 0.20413708686828613, 0.009992724284529686, 0.00428259652107954, 0.045681025832891464, 0.03568830341100693, 0.14163599908351898, 0.3243067264556885, 0.37328365445137024, 0.14957821369171143, 0.002647401997819543, 0.006618504878133535, 0.04523240774869919, 0.12762001156806946, 0.6251764893531799, 0.038770634680986404, 0.054925065487623215, 0.07754126936197281, 0.008077215403318405, 0.0064617726020514965, 0.01615443080663681, 0.0016154431505128741, 0.9786328077316284, 0.9926524758338928, 0.9877845048904419, 0.09289678186178207, 0.17252260446548462, 0.006635484751313925, 0.7166323065757751, 0.27065885066986084, 0.37065595388412476, 0.05799832567572594, 0.18932786583900452, 0.004666531924158335, 0.10599693655967712, 0.31752821803092957, 0.3431110680103302, 0.10182974487543106, 0.19061726331710815, 0.017556853592395782, 0.023576345294713974, 0.003511370625346899, 0.0005016243667341769, 0.0015048731584101915, 0.23667000234127045, 0.1284121870994568, 0.34204861521720886, 0.25221768021583557, 0.025336934253573418, 0.0017275182763114572, 0.004606715403497219, 0.004030875861644745, 0.004606715403497219, 0.058142077177762985, 0.14066630601882935, 0.21943944692611694, 0.5776696801185608, 0.0018755508353933692, 0.0018755508353933692, 0.9809514880180359, 0.9778385162353516, 0.4294915497303009, 0.2954797148704529, 0.11505404859781265, 0.05033614858984947, 0.0457601323723793, 0.05556587502360344, 0.007844594307243824, 0.0006537162116728723, 0.9318507313728333, 0.058977894484996796, 0.10194450616836548, 0.20157209038734436, 0.030119968578219414, 0.5630117058753967, 0.02548612654209137, 0.023169206455349922, 0.020852286368608475, 0.03243688866496086, 0.4664907455444336, 0.240048348903656, 0.04956464096903801, 0.08843886852264404, 0.06122690811753273, 0.08941072225570679, 0.003887422848492861, 0.11592792719602585, 0.6598974466323853, 0.04235827922821045, 0.007802841253578663, 0.0022293832153081894, 0.1616302728652954, 0.008917532861232758, 0.0011146916076540947, 0.0011146916076540947, 0.9921548366546631, 0.986691415309906, 0.09926203638315201, 0.04411645978689194, 0.005514557473361492, 0.04135918244719505, 0.8106399774551392, 0.9741894006729126, 0.1299903392791748, 0.027162160724401474, 0.12028957158327103, 0.019401542842388153, 0.5044401288032532, 0.19595558941364288, 0.3653186559677124, 0.3474293649196625, 0.048489462584257126, 0.18218857049942017, 0.008944658562541008, 0.019301630556583405, 0.027775516733527184, 0.052599694579839706, 0.785707950592041, 0.15779909491539001, 0.993766188621521, 0.9876415133476257, 0.9933845400810242, 0.09249009191989899, 0.12868186831474304, 0.168894961476326, 0.60721755027771, 0.9933579564094543, 0.8814706206321716, 0.01564740762114525, 0.08519143611192703, 0.0017386007821187377, 0.007823703810572624, 0.007823703810572624, 0.9879353046417236, 0.7518921494483948, 0.0051499465480446815, 0.02317475900053978, 0.21372278034687042, 0.0025749732740223408, 0.00343329762108624, 0.5196019411087036, 0.06372476369142532, 0.22221969068050385, 0.1004890501499176, 0.024509524926543236, 0.061273813247680664, 0.006535873282700777, 0.0016339683206751943, 0.9874202609062195, 0.11723234504461288, 0.1297929435968399, 0.008373739197850227, 0.33913642168045044, 0.4047307074069977, 0.99080491065979, 0.3961174190044403, 0.5857120752334595, 0.013542475178837776, 0.9917098879814148, 0.9840127825737, 0.10762269049882889, 0.7165405750274658, 0.09912616014480591, 0.01699305698275566, 0.0566435232758522, 0.9936195611953735, 0.10904248803853989, 0.05452124401926994, 0.8014622926712036, 0.02726062200963497, 0.8976792097091675, 0.025960281491279602, 0.01776229776442051, 0.05055423453450203, 0.008197983726859093, 0.04068175330758095, 0.22821471095085144, 0.5288627743721008, 0.04564294219017029, 0.027782659977674484, 0.0813635066151619, 0.0049611893482506275, 0.014883567579090595, 0.027782659977674484, 0.0009922378230839968, 0.9833912253379822, 0.9894827008247375, 0.9935311675071716, 0.9916775822639465, 0.9824231266975403, 0.9841863512992859, 0.3458422124385834, 0.015503271482884884, 0.084075428545475, 0.3702896535396576, 0.13356664776802063, 0.03875817731022835, 0.0119255930185318, 0.00566852604970336, 0.04534820839762688, 0.7709195613861084, 0.17005577683448792, 0.00566852604970336, 0.7937797904014587, 0.10513639450073242, 0.06833865493535995, 0.021027280017733574, 0.9913434386253357, 0.3517076075077057, 0.029308967292308807, 0.4542889893054962, 0.023447174578905106, 0.10551228374242783, 0.03223986551165581, 0.9921649694442749, 0.9956862926483154, 0.9930980205535889, 0.05398678779602051, 0.021594716235995293, 0.8799846768379211, 0.043189432471990585, 0.17954304814338684, 0.054442085325717926, 0.18649309873580933, 0.055600427091121674, 0.5096705555915833, 0.0011583422310650349, 0.012741764076054096, 0.975509762763977, 0.9834663271903992, 0.9828110337257385, 0.0589689277112484, 0.27451053261756897, 0.5022525787353516, 0.1138710305094719, 0.006100233644247055, 0.002033411292359233, 0.042701635509729385, 0.9929325580596924, 0.9941115975379944, 0.9842547178268433, 0.9813991785049438, 0.010784606449306011, 0.10966365784406662, 0.7989780902862549, 0.08616430312395096, 0.9851220846176147, 0.9825718402862549, 0.9878332018852234, 0.22320756316184998, 0.5751887559890747, 0.19316039979457855, 0.9939017295837402, 0.9859883785247803, 0.9814679622650146, 0.9957353472709656, 0.0739726573228836, 0.15363551676273346, 0.7624873518943787, 0.3553115427494049, 0.02564103901386261, 0.3150184750556946, 0.19926750659942627, 0.011721618473529816, 0.059340689331293106, 0.02930404432117939, 0.004395606927573681, 0.0007326011545956135, 0.07007335126399994, 0.08008382469415665, 0.6940598487854004, 0.1534940004348755, 0.032687943428754807, 0.007150487974286079, 0.0674188882112503, 0.016343971714377403, 0.27886903285980225, 0.5965549945831299, 0.3243178129196167, 0.020923729985952377, 0.15645243227481842, 0.13029778003692627, 0.17071862518787384, 0.18498480319976807, 0.011412943713366985, 0.0009510786621831357, 0.9869043231010437, 0.018612133339047432, 0.581271231174469, 0.024338943883776665, 0.3507671058177948, 0.011453620158135891, 0.008590214885771275, 0.004295107442885637, 0.9960525035858154, 0.9880754947662354, 0.995915412902832, 0.10780169069766998, 0.1430995911359787, 0.19747743010520935, 0.030527912080287933, 0.3653809428215027, 0.15550154447555542, 0.9619368314743042, 0.002346187364310026, 0.035192809998989105, 0.05404745042324066, 0.11225239187479019, 0.21826854348182678, 0.11640989035367966, 0.4386158287525177, 0.0062362439930438995, 0.010393740609288216, 0.0436537079513073, 0.9481191039085388, 0.04514852911233902, 0.16833160817623138, 0.13737894594669342, 0.12465867400169373, 0.06868947297334671, 0.29723039269447327, 0.2035243660211563, 0.9954496026039124, 0.9708968997001648, 0.044993672519922256, 0.5984158515930176, 0.11248417943716049, 0.11248417943716049, 0.13048164546489716, 0.9751208424568176, 0.9912776350975037, 0.14436160027980804, 0.04441895708441734, 0.08328554034233093, 0.7218080163002014, 0.9900553226470947, 0.4832819104194641, 0.19214822351932526, 0.015527129173278809, 0.3086017072200775, 0.9801414012908936, 0.9775406718254089, 0.020365430042147636, 0.18330509960651398, 0.2394188940525055, 0.03273305296897888, 0.07107748836278915, 0.17395278811454773, 0.298338383436203, 0.9874860644340515, 0.9933285117149353, 0.9955428838729858, 0.9913554191589355, 0.2096855491399765, 0.017001530155539513, 0.6403909921646118, 0.08217407017946243, 0.034003060311079025, 0.014167942106723785, 0.9883261919021606, 0.985963761806488, 0.9926224946975708, 0.9954785108566284, 0.9801421165466309, 0.11627115309238434, 0.75576251745224, 0.0313037745654583, 0.08943934738636017, 0.8266412019729614, 0.13215893507003784, 0.031096220016479492, 0.0051827034913003445, 0.9882090091705322, 0.4533228576183319, 0.22092315554618835, 0.11954716593027115, 0.07268467545509338, 0.06407728046178818, 0.06407728046178818, 0.005738263949751854, 0.9911522269248962, 0.9904758334159851, 0.9950404763221741, 0.00890613254159689, 0.06234293058514595, 0.9262378215789795, 0.9901121854782104, 0.10213378816843033, 0.894551157951355, 0.9874652624130249, 0.9803171157836914, 0.9743105173110962, 0.99213707447052, 0.9870067238807678, 0.9771347045898438, 0.9792537689208984, 0.12485306710004807, 0.8698096871376038, 0.9969451427459717, 0.2184918224811554, 0.17054499685764313, 0.22031258046627045, 0.07465137541294098, 0.19724956154823303, 0.08254135400056839, 0.033380694687366486, 0.0006069217342883348, 0.0018207652028650045, 0.0006069217342883348, 0.24825136363506317, 0.7447541356086731, 0.9903841614723206, 0.9912999868392944, 0.31373482942581177, 0.11786722391843796, 0.5477359294891357, 0.017333414405584335, 0.8724532127380371, 0.11865364015102386, 0.14637893438339233, 0.8474569916725159, 0.9892072677612305, 0.9879350066184998, 0.2504120469093323, 0.7467645406723022, 0.9792605638504028, 0.09098616242408752, 0.35436713695526123, 0.014366235584020615, 0.5411282181739807, 0.9923998117446899, 0.9786953330039978, 0.13783279061317444, 0.3854213356971741, 0.13272787630558014, 0.32288607954978943, 0.008933606557548046, 0.007657377049326897, 0.0012762295082211494, 0.002552459016442299, 0.08692187070846558, 0.9054361581802368, 0.9846912622451782, 0.022590627893805504, 0.15402701497077942, 0.1273289918899536, 0.6920946836471558, 0.002053693402558565, 0.9962093234062195, 0.9914882779121399, 0.8418264985084534, 0.07349278777837753, 0.07349278777837753, 0.9856265783309937, 0.9922274351119995, 0.18950308859348297, 0.11959493160247803, 0.20568017661571503, 0.0635528638958931, 0.11959493160247803, 0.3004317283630371, 0.0005777532933279872, 0.13137216866016388, 0.0419272854924202, 0.15932369232177734, 0.665246307849884, 0.10816964507102966, 0.07408879697322845, 0.057789262384176254, 0.2756103277206421, 0.48305895924568176, 0.9880976676940918, 0.08402999490499496, 0.9033223986625671, 0.9900979995727539, 0.9896470308303833, 0.9866387844085693, 0.3878670930862427, 0.09758596867322922, 0.1525709629058838, 0.13374726474285126, 0.1263168603181839, 0.09510917216539383, 0.006439683493226767, 0.9905004501342773, 0.9851289391517639, 0.9790343046188354, 0.9965283274650574, 0.15204738080501556, 0.13032633066177368, 0.7140796780586243, 0.9959285855293274, 0.9894838929176331, 0.12330282479524612, 0.8743290901184082, 0.9971379637718201, 0.8788883090019226, 0.11058859527111053, 0.9883741736412048, 0.9908081889152527, 0.8851001262664795, 0.11063751578330994, 0.05988474190235138, 0.8305068016052246, 0.015759142115712166, 0.0283664558082819, 0.034670114517211914, 0.015759142115712166, 0.01418322790414095, 0.19012205302715302, 0.7469080686569214, 0.06337402015924454, 0.9829335808753967, 0.9924399852752686, 0.20355872809886932, 0.041927020996809006, 0.0923609733581543, 0.025520795956254005, 0.5468742251396179, 0.08810751140117645, 0.0006076379795558751, 0.9826329946517944, 0.06117338314652443, 0.8441926836967468, 0.0856427401304245, 0.9850975275039673, 0.9909680485725403, 0.9707441329956055, 0.1775551736354828, 0.8180220127105713, 0.9851155281066895, 0.9891117811203003, 0.09951495379209518, 0.34377893805503845, 0.2329554706811905, 0.15153414011001587, 0.08368302881717682, 0.08651015907526016, 0.0005654259002767503, 0.0005654259002767503, 0.9810464382171631, 0.37072592973709106, 0.37440863251686096, 0.12398449331521988, 0.03191680088639259, 0.0024551386013627052, 0.09084012359380722, 0.0049102772027254105, 0.9870504140853882, 0.9823331832885742, 0.011722353287041187, 0.002344470703974366, 0.07552976906299591, 0.30514025688171387, 0.042296670377254486, 0.07704035937786102, 0.034743692725896835, 0.44411501288414, 0.019637739285826683, 0.13194885849952698, 0.2807871699333191, 0.32617756724357605, 0.22695203125476837, 0.03377890586853027, 0.001055590808391571, 0.3871740400791168, 0.0025897929444909096, 0.15711410343647003, 0.08546316623687744, 0.31509146094322205, 0.05179585888981819, 0.9911684989929199, 0.039063625037670135, 0.19131159782409668, 0.26943883299827576, 0.4096672236919403, 0.043070148676633835, 0.043070148676633835, 0.0010016313754022121, 0.0010016313754022121, 0.0030048941262066364, 0.988153338432312, 0.9889159202575684, 0.9844235181808472, 0.9902693033218384, 0.9883593916893005, 0.12458504736423492, 0.15015490353107452, 0.14199431240558624, 0.035362567752599716, 0.24699392914772034, 0.2992217242717743, 0.0005440395325422287, 0.0005440395325422287, 0.9866664409637451, 0.984718918800354, 0.9886763095855713, 0.3966974914073944, 0.04808454588055611, 0.0761338621377945, 0.4768384099006653, 0.9949843883514404, 0.9906697869300842, 0.6635248064994812, 0.17879411578178406, 0.15495489537715912, 0.001324400887824595, 0.9918264150619507, 0.08413586765527725, 0.15269102156162262, 0.6762030720710754, 0.05920672044157982, 0.02804528921842575, 0.9866012334823608, 0.9807658195495605, 0.14699703454971313, 0.24996957182884216, 0.08282574266195297, 0.11714991927146912, 0.09625694155693054, 0.2738472819328308, 0.0328318253159523, 0.9933670163154602, 0.9803065061569214, 0.9884524941444397, 0.7968284487724304, 0.01961888186633587, 0.07092980295419693, 0.0980944111943245, 0.012073158286511898, 0.9774119257926941, 0.020362747833132744, 0.8097805380821228, 0.18163301050662994, 0.9933776259422302, 0.9806076288223267, 0.9774386882781982, 0.9941226840019226, 0.3041971027851105, 0.06434938311576843, 0.6317939758300781, 0.15181341767311096, 0.8382741212844849, 0.9881858229637146, 0.044848132878541946, 0.4061247706413269, 0.022424066439270973, 0.0573059506714344, 0.01744094118475914, 0.2940044403076172, 0.11212033778429031, 0.04733969643712044, 0.3435056805610657, 0.2796151340007782, 0.17212866246700287, 0.15408897399902344, 0.011274803429841995, 0.037582676857709885, 0.0007516535697504878, 0.19791673123836517, 0.7916669249534607, 0.9915409088134766, 0.8043901920318604, 0.16737310588359833, 0.02747916802763939, 0.978358805179596, 0.9195191264152527, 0.07856650650501251, 0.9823052287101746, 0.9778454899787903, 0.9853515625, 0.07616069167852402, 0.08308438956737518, 0.13616608083248138, 0.6277487277984619, 0.04154219478368759, 0.016155296936631203, 0.018463198095560074, 0.0023078997619450092, 0.9880492091178894, 0.8345473408699036, 0.009334981441497803, 0.0802808403968811, 0.026137948036193848, 0.022403955459594727, 0.026137948036193848, 0.9898127913475037, 0.9845696687698364, 0.8690779805183411, 0.08636800199747086, 0.04318400099873543, 0.9909836649894714, 0.9867512583732605, 0.06999503821134567, 0.7053346037864685, 0.22075358033180237, 0.9916834831237793, 0.9934200644493103, 0.9928674697875977, 0.9880931377410889, 0.9913642406463623, 0.9853118658065796, 0.6668396592140198, 0.2809717655181885, 0.04120919480919838, 0.009365726262331009, 0.15252824127674103, 0.6574249267578125, 0.027539821341633797, 0.002118447795510292, 0.03389516472816467, 0.12357611954212189, 0.0028245970606803894, 0.0007061492651700974, 0.9864833354949951, 0.9791147112846375, 0.08019042760133743, 0.01420038752257824, 0.029236093163490295, 0.0684959888458252, 0.7025015354156494, 0.10441461950540543, 0.14698593318462372, 0.06941002607345581, 0.7022661566734314, 0.0775759145617485, 0.004082942847162485, 0.9885592460632324, 0.9882396459579468, 0.9143331050872803, 0.01693209446966648, 0.06772837787866592, 0.9902415871620178, 0.1272962987422943, 0.028719285503029823, 0.26080214977264404, 0.019404923543334007, 0.49443742632865906, 0.06442434340715408, 0.0007761968881823123, 0.0007761968881823123, 0.0023285907227545977, 0.6147111058235168, 0.13039326667785645, 0.25362205505371094, 0.11849509924650192, 0.017308272421360016, 0.15577444434165955, 0.03727935627102852, 0.5232424139976501, 0.14778602123260498, 0.027442704886198044, 0.938540518283844, 0.03293124586343765, 0.14587818086147308, 0.846093475818634, 0.004167948383837938, 0.3155730068683624, 0.677897572517395], \"Term\": [\"abras\", \"abund\", \"abund\", \"abund\", \"abund\", \"acacia\", \"accentu\", \"achiev\", \"acid\", \"acid\", \"acid\", \"acid\", \"acid\", \"acid\", \"acid\", \"afford\", \"aftertast\", \"aftertast\", \"aftertast\", \"age\", \"age\", \"age\", \"age\", \"age\", \"age\", \"age\", \"age\", \"ager\", \"aggress\", \"aggress\", \"aggress\", \"alcohol\", \"alcohol\", \"alcohol\", \"alcohol\", \"alcohol\", \"alcohol\", \"alcohol\", \"alicant\", \"allow\", \"allow\", \"allow\", \"allow\", \"allow\", \"allow\", \"allow\", \"allspic\", \"almond\", \"almond\", \"almond\", \"almond\", \"almond\", \"almond\", \"almond\", \"alongsid\", \"alongsid\", \"alongsid\", \"alongsid\", \"alongsid\", \"alongsid\", \"amaron\", \"american\", \"american\", \"american\", \"amidst\", \"angular\", \"angular\", \"anim\", \"anim\", \"anis\", \"anis\", \"anis\", \"anis\", \"anis\", \"announc\", \"appl\", \"appl\", \"appl\", \"appl\", \"appl\", \"appl\", \"appl\", \"appl\", \"apricot\", \"apricot\", \"apricot\", \"aroma\", \"aroma\", \"aroma\", \"aroma\", \"aroma\", \"aroma\", \"aroma\", \"aroma\", \"asparagu\", \"attract\", \"attract\", \"attract\", \"attract\", \"attract\", \"attract\", \"avola\", \"awkward\", \"bacon\", \"bacon\", \"bacon\", \"bad\", \"balanc\", \"balanc\", \"balanc\", \"balanc\", \"balanc\", \"balanc\", \"balanc\", \"balsam\", \"balsam\", \"balsam\", \"banana\", \"banana\", \"barbaresco\", \"barbecu\", \"barbera\", \"bare\", \"bare\", \"bare\", \"bare\", \"bargain\", \"barnyard\", \"barolo\", \"barolo\", \"bartlett\", \"bay\", \"bay\", \"beef\", \"beef\", \"beef\", \"beef\", \"beer\", \"beer\", \"beeswax\", \"beet\", \"berri\", \"berri\", \"berri\", \"berri\", \"berri\", \"berri\", \"berri\", \"berri\", \"best\", \"best\", \"best\", \"best\", \"best\", \"best\", \"best\", \"best\", \"best\", \"bigger\", \"bit\", \"bit\", \"bit\", \"bit\", \"bit\", \"bit\", \"bit\", \"bit\", \"bit\", \"bittersweet\", \"black\", \"black\", \"black\", \"black\", \"black\", \"black\", \"blackberri\", \"blackberri\", \"blackberri\", \"blackberri\", \"blackberri\", \"blackberri\", \"blanc\", \"blanc\", \"blanc\", \"blanc\", \"blanc\", \"bland\", \"blend\", \"blend\", \"blend\", \"blend\", \"blend\", \"blend\", \"blend\", \"blocki\", \"blossom\", \"blossom\", \"blossom\", \"blue\", \"blue\", \"blue\", \"blush\", \"bodi\", \"bodi\", \"bodi\", \"bodi\", \"bodi\", \"bodi\", \"bodi\", \"bodi\", \"botryti\", \"bottl\", \"bottl\", \"bottl\", \"bottl\", \"bottl\", \"bottl\", \"bottl\", \"bottl\", \"bottl\", \"bottl\", \"bouschet\", \"box\", \"box\", \"breadth\", \"briari\", \"briari\", \"bright\", \"bright\", \"bright\", \"bright\", \"bright\", \"bright\", \"bright\", \"bright\", \"brighten\", \"brighten\", \"brighten\", \"brioch\", \"brisk\", \"brisk\", \"brisk\", \"brisk\", \"brisk\", \"briskli\", \"bristl\", \"brunello\", \"brut\", \"br\\u00fbl\\u00e9e\", \"buoyant\", \"burger\", \"burgundi\", \"burnt\", \"burnt\", \"burnt\", \"burnt\", \"butter\", \"butter\", \"butter\", \"butter\", \"butter\", \"cabernet\", \"cabernet\", \"cabernet\", \"cabernet\", \"cabernet\", \"can\", \"cantaloup\", \"carmen\\u00e8r\", \"carmen\\u00e8r\", \"carob\", \"cassi\", \"cassi\", \"cassi\", \"cedari\", \"cellar\", \"cellar\", \"cellar\", \"cellar\", \"cellar\", \"cellar\", \"cement\", \"central\", \"central\", \"centuri\", \"certain\", \"chabli\", \"chalk\", \"chalk\", \"champagn\", \"charact\", \"charact\", \"charact\", \"charact\", \"charact\", \"charact\", \"charact\", \"character\", \"character\", \"character\", \"chard\", \"chard\", \"chard\", \"chardonnay\", \"chardonnay\", \"chardonnay\", \"chardonnay\", \"chardonnay\", \"chardonnay\", \"chardonnay\", \"cheer\", \"cherri\", \"cherri\", \"cherri\", \"cherri\", \"cherri\", \"cherri\", \"cherri\", \"cherri\", \"chicken\", \"chicken\", \"chicken\", \"chilean\", \"chill\", \"chill\", \"chocol\", \"chocol\", \"chocol\", \"chocol\", \"chocol\", \"chocol\", \"chocolati\", \"chocolati\", \"chocolati\", \"choic\", \"choppi\", \"chunki\", \"chunki\", \"chunki\", \"chunki\", \"ch\\u00e2teau\", \"ch\\u00e2teau\", \"cigar\", \"cigar\", \"cinsault\", \"citru\", \"citru\", \"citru\", \"citru\", \"citru\", \"citru\", \"citru\", \"citru\", \"citru\", \"class\", \"class\", \"classi\", \"clean\", \"clean\", \"clean\", \"clean\", \"clean\", \"clean\", \"cleans\", \"clove\", \"clove\", \"clove\", \"clove\", \"clove\", \"cloy\", \"cloy\", \"cocktail\", \"coffe\", \"coffe\", \"coffe\", \"coffe\", \"cola\", \"cola\", \"cola\", \"cola\", \"companion\", \"complex\", \"complex\", \"complex\", \"complex\", \"complex\", \"complex\", \"complex\", \"complex\", \"compost\", \"compost\", \"compot\", \"concentr\", \"concentr\", \"concentr\", \"concentr\", \"concentr\", \"concentr\", \"confect\", \"cooler\", \"copper\", \"copper\", \"counterpoint\", \"cover\", \"cracker\", \"cracker\", \"cracker\", \"creami\", \"creami\", \"creami\", \"creami\", \"creami\", \"creami\", \"creami\", \"creek\", \"creek\", \"creek\", \"crisp\", \"crisp\", \"crisp\", \"crisp\", \"crisp\", \"crisp\", \"crisp\", \"crisp\", \"crisper\", \"crispli\", \"crispli\", \"crowd\", \"crunchi\", \"cr\\u00e8me\", \"currant\", \"currant\", \"currant\", \"currant\", \"currant\", \"currant\", \"custard\", \"c\\u00f4te\", \"damson\", \"dark\", \"dark\", \"dark\", \"dark\", \"dark\", \"dark\", \"dark\", \"darker\", \"darkli\", \"dazzl\", \"decant\", \"decant\", \"decant\", \"decant\", \"decant\", \"decent\", \"decent\", \"decent\", \"decent\", \"deeper\", \"delicaci\", \"delici\", \"delici\", \"delici\", \"delici\", \"delici\", \"delici\", \"deliv\", \"deliv\", \"deliv\", \"deliv\", \"deliv\", \"deliv\", \"deliv\", \"dens\", \"dens\", \"dens\", \"dens\", \"dens\", \"dens\", \"detail\", \"detail\", \"develop\", \"develop\", \"develop\", \"develop\", \"develop\", \"distract\", \"dolcetto\", \"dole\", \"domin\", \"domin\", \"domin\", \"domin\", \"domin\", \"domin\", \"domin\", \"domin\", \"domin\", \"dr\", \"dramat\", \"dri\", \"dri\", \"dri\", \"dri\", \"dri\", \"dri\", \"dri\", \"dri\", \"drier\", \"drink\", \"drink\", \"drink\", \"drink\", \"drink\", \"drink\", \"drink\", \"drink\", \"drunk\", \"drunk\", \"drunk\", \"dull\", \"dull\", \"earthi\", \"earthi\", \"earthi\", \"earthi\", \"earthi\", \"earthi\", \"earthi\", \"eastern\", \"edg\", \"edg\", \"edg\", \"edg\", \"edg\", \"edg\", \"effortlessli\", \"elabor\", \"elegantli\", \"elegantli\", \"elegantli\", \"elegantli\", \"elegantli\", \"emerg\", \"emerg\", \"emerg\", \"emerg\", \"emerg\", \"emerg\", \"emphas\", \"energ\", \"enliven\", \"envelop\", \"espresso\", \"espresso\", \"espresso\", \"essenc\", \"essenc\", \"eucalyptu\", \"eucalyptu\", \"eucalyptu\", \"eucalyptu\", \"eucalyptu\", \"except\", \"except\", \"except\", \"except\", \"expens\", \"explos\", \"explos\", \"exquisit\", \"exuber\", \"exuber\", \"exud\", \"exud\", \"eye\", \"familiar\", \"famou\", \"fanci\", \"fascin\", \"fashion\", \"fast\", \"feel\", \"feel\", \"feel\", \"feel\", \"feel\", \"feel\", \"feminin\", \"fennel\", \"fennel\", \"fennel\", \"ferment\", \"ferment\", \"ferment\", \"ferment\", \"ferment\", \"ferment\", \"fieri\", \"fine\", \"fine\", \"fine\", \"fine\", \"fine\", \"fine\", \"finish\", \"finish\", \"finish\", \"finish\", \"finish\", \"finish\", \"finish\", \"finish\", \"finish\", \"firm\", \"firm\", \"firm\", \"firm\", \"firm\", \"firm\", \"firmli\", \"firmli\", \"firmli\", \"firmli\", \"fit\", \"fizz\", \"flabbi\", \"flair\", \"flamboy\", \"flashi\", \"flashi\", \"flat\", \"flat\", \"flat\", \"flat\", \"fleet\", \"flint\", \"flint\", \"float\", \"flood\", \"floor\", \"floor\", \"foam\", \"fore\", \"forest\", \"forest\", \"forest\", \"fortun\", \"foxi\", \"framework\", \"franc\", \"franc\", \"franc\", \"franc\", \"franc\", \"fresh\", \"fresh\", \"fresh\", \"fresh\", \"fresh\", \"fresh\", \"fresh\", \"fresh\", \"fresher\", \"frothi\", \"fruit\", \"fruit\", \"fruit\", \"fruit\", \"fruit\", \"fruit\", \"fruit\", \"fruit\", \"fruit\", \"fruit\", \"fruiti\", \"fruiti\", \"fruiti\", \"fruiti\", \"fruiti\", \"fruiti\", \"fudg\", \"futur\", \"futur\", \"game\", \"game\", \"garnacha\", \"garnacha\", \"garnet\", \"garrigu\", \"gentl\", \"gentl\", \"gentl\", \"gentl\", \"gentl\", \"gentl\", \"gentli\", \"gentli\", \"give\", \"give\", \"give\", \"give\", \"give\", \"give\", \"golden\", \"golden\", \"good\", \"good\", \"good\", \"good\", \"good\", \"good\", \"good\", \"grabbi\", \"grain\", \"grain\", \"grain\", \"grand\", \"grand\", \"grapefruit\", \"grapefruit\", \"grapefruit\", \"grapefruit\", \"grass\", \"grass\", \"grate\", \"gravel\", \"great\", \"great\", \"great\", \"great\", \"great\", \"great\", \"great\", \"greater\", \"green\", \"green\", \"green\", \"green\", \"green\", \"green\", \"green\", \"green\", \"green\", \"greet\", \"grenach\", \"grenach\", \"grenach\", \"grenach\", \"grenach\", \"grigio\", \"guava\", \"hand\", \"hand\", \"hand\", \"hand\", \"hang\", \"hard\", \"hard\", \"hard\", \"hard\", \"hard\", \"harsh\", \"hearti\", \"hearti\", \"heavi\", \"heavi\", \"heavi\", \"heavi\", \"heavi\", \"heavi\", \"heavi\", \"heavi\", \"hedonist\", \"herb\", \"herb\", \"herb\", \"herb\", \"herb\", \"herb\", \"herb\", \"herb\", \"herbac\", \"herbac\", \"herbac\", \"herbac\", \"herbac\", \"herbal\", \"herbal\", \"herbal\", \"herbal\", \"herbal\", \"herbal\", \"herbal\", \"herbal\", \"herbal\", \"herbal\", \"hibiscu\", \"hickori\", \"hide\", \"hide\", \"higher\", \"higher\", \"higher\", \"hollow\", \"honey\", \"honey\", \"honey\", \"honey\", \"honeydew\", \"honeydew\", \"honeydew\", \"honeydew\", \"honeydew\", \"honeysuckl\", \"hous\", \"impart\", \"incens\", \"inform\", \"inform\", \"introduc\", \"introduc\", \"iri\", \"itali\", \"itali\", \"itali\", \"jalape\\u00f1o\", \"jam\", \"jam\", \"jam\", \"jam\", \"jammi\", \"jammi\", \"jammi\", \"jammi\", \"jammi\", \"jammi\", \"jelli\", \"job\", \"job\", \"juici\", \"juici\", \"juici\", \"juici\", \"juici\", \"juici\", \"key\", \"kiss\", \"la\", \"la\", \"lactic\", \"lamb\", \"later\", \"lead\", \"lead\", \"lead\", \"lead\", \"lead\", \"lead\", \"leather\", \"leather\", \"leather\", \"leather\", \"leesi\", \"lemon\", \"lemon\", \"lemon\", \"lemon\", \"lemon\", \"lemon\", \"lemon\", \"lemongrass\", \"lengthi\", \"lengthi\", \"lengthi\", \"licoric\", \"licoric\", \"licoric\", \"licoric\", \"licoric\", \"lie\", \"light\", \"light\", \"light\", \"light\", \"light\", \"light\", \"light\", \"light\", \"light\", \"light\", \"lightest\", \"lightweight\", \"like\", \"like\", \"like\", \"like\", \"like\", \"like\", \"like\", \"like\", \"like\", \"like\", \"lilac\", \"lime\", \"lime\", \"lime\", \"lime\", \"lip\", \"liqueur\", \"liqueur\", \"list\", \"live\", \"live\", \"live\", \"live\", \"live\", \"live\", \"live\", \"loami\", \"loami\", \"local\", \"lower\", \"lurk\", \"luscious\", \"lusti\", \"main\", \"mandarin\", \"mango\", \"mango\", \"mango\", \"marasca\", \"marmalad\", \"marmalad\", \"marri\", \"marshmallow\", \"masculin\", \"mask\", \"meal\", \"meat\", \"meat\", \"meat\", \"meat\", \"medicin\", \"medicin\", \"mediterranean\", \"mediterranean\", \"mediterranean\", \"melon\", \"melon\", \"melon\", \"melon\", \"melon\", \"melon\", \"meloni\", \"memor\", \"menthol\", \"menthol\", \"meringu\", \"merlot\", \"merlot\", \"merlot\", \"merlot\", \"merlot\", \"meyer\", \"mild\", \"mild\", \"mild\", \"mild\", \"mildli\", \"mildli\", \"miner\", \"miner\", \"miner\", \"miner\", \"miner\", \"miner\", \"miner\", \"miner\", \"miner\", \"minti\", \"minti\", \"minti\", \"minti\", \"miss\", \"miss\", \"mixtur\", \"moist\", \"month\", \"month\", \"month\", \"month\", \"month\", \"morello\", \"moscato\", \"mourv\\u00e8dr\", \"mourv\\u00e8dr\", \"mourv\\u00e8dr\", \"mulberri\", \"mulberri\", \"nacion\", \"nail\", \"napa\", \"napa\", \"napa\", \"narrow\", \"nativ\", \"nativ\", \"nativ\", \"nebbiolo\", \"nectarin\", \"need\", \"need\", \"need\", \"need\", \"need\", \"need\", \"nero\", \"nervi\", \"nervi\", \"nervi\", \"nettl\", \"new\", \"new\", \"new\", \"new\", \"new\", \"new\", \"new\", \"new\", \"new\", \"nice\", \"nice\", \"nice\", \"nice\", \"nice\", \"nice\", \"noir\", \"noir\", \"noir\", \"noir\", \"noir\", \"noir\", \"noir\", \"noir\", \"noir\", \"noir\", \"nonvintag\", \"normal\", \"north\", \"northern\", \"northern\", \"northern\", \"northern\", \"nose\", \"nose\", \"nose\", \"nose\", \"nose\", \"nose\", \"note\", \"note\", \"note\", \"note\", \"note\", \"note\", \"note\", \"note\", \"note\", \"oak\", \"oak\", \"oak\", \"oak\", \"oak\", \"oak\", \"oak\", \"oak\", \"oak\", \"oaki\", \"oaki\", \"oaki\", \"oaki\", \"oaki\", \"oaki\", \"obvious\", \"odd\", \"offer\", \"offer\", \"offer\", \"offer\", \"offer\", \"offer\", \"offer\", \"offer\", \"oili\", \"oili\", \"old\", \"old\", \"old\", \"old\", \"old\", \"old\", \"old\", \"old\", \"open\", \"open\", \"open\", \"open\", \"open\", \"open\", \"open\", \"orang\", \"orang\", \"orang\", \"orang\", \"orang\", \"orang\", \"orang\", \"orang\", \"orang\", \"orchard\", \"overlay\", \"overrip\", \"overrip\", \"overrip\", \"overrip\", \"overrip\", \"overt\", \"pack\", \"pack\", \"pack\", \"pack\", \"pack\", \"pack\", \"palat\", \"palat\", \"palat\", \"palat\", \"palat\", \"palat\", \"palat\", \"pale\", \"pale\", \"pale\", \"papaya\", \"parcel\", \"parti\", \"passion\", \"passion\", \"passion\", \"passion\", \"pea\", \"peach\", \"peach\", \"peach\", \"peach\", \"peach\", \"peach\", \"peachi\", \"pear\", \"pear\", \"pear\", \"pear\", \"pear\", \"pear\", \"pepper\", \"pepper\", \"pepper\", \"pepper\", \"pepper\", \"pepper\", \"pepper\", \"pepper\", \"percentag\", \"perfum\", \"perfum\", \"perfum\", \"perfum\", \"perfum\", \"persimmon\", \"petal\", \"petal\", \"petal\", \"petrol\", \"phenol\", \"pie\", \"pie\", \"pie\", \"pie\", \"pie\", \"pinch\", \"pine\", \"pine\", \"pine\", \"pine\", \"pineappl\", \"pineappl\", \"pineappl\", \"pineappl\", \"pineappl\", \"pinot\", \"pinot\", \"pinot\", \"pinot\", \"pinot\", \"pinot\", \"pinot\", \"pinot\", \"pinot\", \"pinot\", \"pioneer\", \"pipe\", \"pith\", \"pithi\", \"pizza\", \"plastic\", \"plum\", \"plum\", \"plum\", \"plum\", \"plum\", \"plum\", \"plum\", \"plummi\", \"plummi\", \"plummi\", \"plummi\", \"plummi\", \"pois\", \"pois\", \"pois\", \"pois\", \"pollen\", \"pomegran\", \"pomegran\", \"pomegran\", \"pomegran\", \"pomegran\", \"pomegran\", \"popcorn\", \"popular\", \"port\", \"potenti\", \"potenti\", \"potenti\", \"potenti\", \"power\", \"power\", \"power\", \"power\", \"power\", \"power\", \"power\", \"preced\", \"premier\", \"previou\", \"price\", \"price\", \"price\", \"price\", \"price\", \"price\", \"price\", \"prickli\", \"proper\", \"properli\", \"properti\", \"properti\", \"prosecco\", \"prosecco\", \"prosecco\", \"provenc\", \"pucker\", \"pulpi\", \"puriti\", \"puriti\", \"puriti\", \"quaffabl\", \"quaffer\", \"quench\", \"quick\", \"raisini\", \"raisini\", \"raisini\", \"raspberri\", \"raspberri\", \"raspberri\", \"raspberri\", \"raspberri\", \"raspberri\", \"raspberri\", \"raspberri\", \"raspberri\", \"raw\", \"raw\", \"raw\", \"raw\", \"readi\", \"readi\", \"readi\", \"readi\", \"readi\", \"readi\", \"red\", \"red\", \"red\", \"red\", \"red\", \"red\", \"red\", \"red\", \"reduc\", \"refresh\", \"refresh\", \"refresh\", \"refresh\", \"refresh\", \"refresh\", \"refresh\", \"resini\", \"rest\", \"restraint\", \"rich\", \"rich\", \"rich\", \"rich\", \"rich\", \"rich\", \"riesl\", \"riesl\", \"riesl\", \"right\", \"right\", \"right\", \"right\", \"right\", \"right\", \"right\", \"right\", \"rind\", \"rind\", \"ripe\", \"ripe\", \"ripe\", \"ripe\", \"ripe\", \"ripe\", \"riserva\", \"risotto\", \"river\", \"river\", \"river\", \"river\", \"river\", \"role\", \"room\", \"root\", \"root\", \"root\", \"root\", \"rooti\", \"rose\", \"rose\", \"rose\", \"rose\", \"rosso\", \"rough\", \"rough\", \"round\", \"round\", \"round\", \"round\", \"round\", \"round\", \"roussann\", \"rubberi\", \"rubi\", \"russian\", \"rustic\", \"rustic\", \"rustic\", \"rustic\", \"rustic\", \"rustic\", \"sagebrush\", \"salad\", \"salmon\", \"sampl\", \"san\", \"sandalwood\", \"sandalwood\", \"sandalwood\", \"sandalwood\", \"sangioves\", \"sangioves\", \"sangioves\", \"sangioves\", \"sauci\", \"sauvignon\", \"sauvignon\", \"sauvignon\", \"sauvignon\", \"sauvignon\", \"sauvignon\", \"sauvignon\", \"sawdust\", \"sb\", \"scorch\", \"score\", \"score\", \"score\", \"scratchi\", \"screwcap\", \"screwcap\", \"seafood\", \"seamless\", \"sear\", \"secondari\", \"seed\", \"serious\", \"seven\", \"shiraz\", \"shiraz\", \"shot\", \"show\", \"show\", \"show\", \"show\", \"show\", \"show\", \"show\", \"show\", \"show\", \"show\", \"sign\", \"sign\", \"signal\", \"signatur\", \"silki\", \"silki\", \"silki\", \"silki\", \"similar\", \"similar\", \"simpli\", \"simpli\", \"sing\", \"sipper\", \"sirah\", \"sirah\", \"sizabl\", \"slate\", \"slate\", \"slate\", \"slate\", \"slice\", \"slightest\", \"slightli\", \"slightli\", \"slightli\", \"slightli\", \"slightli\", \"slightli\", \"slightli\", \"slightli\", \"smack\", \"smack\", \"smaller\", \"smell\", \"smell\", \"smell\", \"smell\", \"smell\", \"smoothli\", \"snap\", \"snappi\", \"snappi\", \"snappi\", \"soapi\", \"soda\", \"soft\", \"soft\", \"soft\", \"soft\", \"soft\", \"soft\", \"soft\", \"soften\", \"soften\", \"soften\", \"soften\", \"solid\", \"solid\", \"solid\", \"solid\", \"solid\", \"sound\", \"soy\", \"soy\", \"spanish\", \"sparkler\", \"specif\", \"spice\", \"spice\", \"spice\", \"spice\", \"spice\", \"spice\", \"spice\", \"spirit\", \"spray\", \"sprightli\", \"stainless\", \"stalki\", \"stalki\", \"stalki\", \"state\", \"steadi\", \"steak\", \"steak\", \"steel\", \"stem\", \"stem\", \"stemmi\", \"stewi\", \"sticki\", \"sticki\", \"stone\", \"stone\", \"stone\", \"stone\", \"stone\", \"stone\", \"stone\", \"stoni\", \"stoni\", \"stoni\", \"strang\", \"streamlin\", \"structur\", \"structur\", \"structur\", \"structur\", \"structur\", \"structur\", \"structur\", \"stuff\", \"stylish\", \"stylish\", \"stylish\", \"suit\", \"sulfur\", \"sultri\", \"sun\", \"sun\", \"surfac\", \"sweati\", \"sweet\", \"sweet\", \"sweet\", \"sweet\", \"sweet\", \"sweet\", \"sweet\", \"sweet\", \"sweetli\", \"syrah\", \"syrah\", \"syrah\", \"syrah\", \"syrah\", \"syrah\", \"syrah\", \"tame\", \"tangerin\", \"tangerin\", \"tangerin\", \"tangi\", \"tangi\", \"tangi\", \"tangi\", \"tangi\", \"tangi\", \"tangi\", \"tannic\", \"tannic\", \"tannic\", \"tannic\", \"tannic\", \"tannic\", \"tannin\", \"tannin\", \"tannin\", \"tannin\", \"tannin\", \"tannin\", \"tarri\", \"tast\", \"tast\", \"tast\", \"tast\", \"tast\", \"tast\", \"tast\", \"tast\", \"tast\", \"tawni\", \"temper\", \"tempt\", \"terrif\", \"terroir\", \"textur\", \"textur\", \"textur\", \"textur\", \"textur\", \"textur\", \"textur\", \"textur\", \"th\", \"third\", \"thread\", \"thyme\", \"thyme\", \"thyme\", \"thyme\", \"till\", \"tingl\", \"tobacco\", \"tobacco\", \"tobacco\", \"tobacco\", \"toffe\", \"tomato\", \"tomato\", \"tomato\", \"tomato\", \"tomato\", \"ton\", \"tonic\", \"touch\", \"touch\", \"touch\", \"touch\", \"touch\", \"touch\", \"touch\", \"touriga\", \"trace\", \"tree\", \"tropic\", \"tropic\", \"tropic\", \"tropic\", \"tropic\", \"truffl\", \"truffl\", \"twist\", \"twist\", \"unbalanc\", \"unctuou\", \"undeni\", \"underbrush\", \"unfold\", \"unfold\", \"unfold\", \"unrip\", \"unrip\", \"unwind\", \"valley\", \"valley\", \"valley\", \"valley\", \"valley\", \"valley\", \"valley\", \"valley\", \"vanilla\", \"vanilla\", \"vanilla\", \"vanilla\", \"vanilla\", \"vanilla\", \"vanilla\", \"vein\", \"vein\", \"velvet\", \"velveti\", \"velveti\", \"velveti\", \"verd\", \"verdot\", \"verdot\", \"vermentino\", \"vibranc\", \"villag\", \"vine\", \"vine\", \"vine\", \"vine\", \"vine\", \"vine\", \"vine\", \"vine\", \"vinho\", \"violet\", \"violet\", \"violet\", \"violet\", \"violet\", \"violet\", \"vital\", \"volum\", \"wait\", \"wait\", \"wait\", \"walla\", \"walnut\", \"water\", \"water\", \"water\", \"wateri\", \"watermelon\", \"wealth\", \"weav\", \"weedi\", \"western\", \"whiff\", \"whiff\", \"whiff\", \"whiff\", \"white\", \"white\", \"white\", \"white\", \"white\", \"white\", \"white\", \"white\", \"win\", \"wiri\", \"wood\", \"wood\", \"wood\", \"wood\", \"wood\", \"wood\", \"woodi\", \"woodi\", \"woodi\", \"woodi\", \"woodi\", \"woodland\", \"woodspic\", \"wound\", \"wound\", \"wound\", \"woven\", \"year\", \"year\", \"year\", \"year\", \"year\", \"year\", \"year\", \"year\", \"year\", \"yellow\", \"yellow\", \"yellow\", \"young\", \"young\", \"young\", \"young\", \"young\", \"young\", \"zin\", \"zin\", \"zin\", \"zinfandel\", \"zinfandel\", \"zinfandel\", \"zippi\", \"zippi\"]}, \"R\": 30, \"lambda.step\": 0.01, \"plot.opts\": {\"xlab\": \"PC1\", \"ylab\": \"PC2\"}, \"topic.order\": [2, 11, 10, 6, 9, 3, 5, 8, 7, 4, 1]};\n",
       "\n",
       "function LDAvis_load_lib(url, callback){\n",
       "  var s = document.createElement('script');\n",
       "  s.src = url;\n",
       "  s.async = true;\n",
       "  s.onreadystatechange = s.onload = callback;\n",
       "  s.onerror = function(){console.warn(\"failed to load library \" + url);};\n",
       "  document.getElementsByTagName(\"head\")[0].appendChild(s);\n",
       "}\n",
       "\n",
       "if(typeof(LDAvis) !== \"undefined\"){\n",
       "   // already loaded: just create the visualization\n",
       "   !function(LDAvis){\n",
       "       new LDAvis(\"#\" + \"ldavis_el80201396262099980726509344730\", ldavis_el80201396262099980726509344730_data);\n",
       "   }(LDAvis);\n",
       "}else if(typeof define === \"function\" && define.amd){\n",
       "   // require.js is available: use it to load d3/LDAvis\n",
       "   require.config({paths: {d3: \"https://cdnjs.cloudflare.com/ajax/libs/d3/3.5.5/d3.min\"}});\n",
       "   require([\"d3\"], function(d3){\n",
       "      window.d3 = d3;\n",
       "      LDAvis_load_lib(\"https://cdn.rawgit.com/bmabey/pyLDAvis/files/ldavis.v1.0.0.js\", function(){\n",
       "        new LDAvis(\"#\" + \"ldavis_el80201396262099980726509344730\", ldavis_el80201396262099980726509344730_data);\n",
       "      });\n",
       "    });\n",
       "}else{\n",
       "    // require.js not available: dynamically load d3 & LDAvis\n",
       "    LDAvis_load_lib(\"https://cdnjs.cloudflare.com/ajax/libs/d3/3.5.5/d3.min.js\", function(){\n",
       "         LDAvis_load_lib(\"https://cdn.rawgit.com/bmabey/pyLDAvis/files/ldavis.v1.0.0.js\", function(){\n",
       "                 new LDAvis(\"#\" + \"ldavis_el80201396262099980726509344730\", ldavis_el80201396262099980726509344730_data);\n",
       "            })\n",
       "         });\n",
       "}\n",
       "</script>"
      ],
      "text/plain": [
       "<IPython.core.display.HTML object>"
      ]
     },
     "execution_count": 24,
     "metadata": {},
     "output_type": "execute_result"
    }
   ],
   "source": [
    "pyLDAvis.display(vis_data)"
   ]
  },
  {
   "cell_type": "code",
   "execution_count": 25,
   "metadata": {},
   "outputs": [],
   "source": [
    "lda_model_tfidf.save(\"./models/lda_model_tfidf_11_clean.model\")"
   ]
  },
  {
   "cell_type": "markdown",
   "metadata": {},
   "source": [
    "## 6.  Save the results (and switch to R!)\n",
    "And for coursework reasons the visualisations of my brilliant work on wine must be presented using R.  I'll do some formatting and save the output topic models etc in some form R will like."
   ]
  },
  {
   "cell_type": "code",
   "execution_count": 26,
   "metadata": {},
   "outputs": [],
   "source": [
    "lda_model_tfidf = LdaModel.load(\"./models/lda_model_tfidf_11_clean.model\")"
   ]
  },
  {
   "cell_type": "code",
   "execution_count": 27,
   "metadata": {},
   "outputs": [],
   "source": [
    "# Let's take a quick look at words the topics picked out\n",
    "topic_word_dist = pd.DataFrame()\n",
    "\n",
    "for idx, topic in lda_model_tfidf.print_topics(-1):\n",
    "    \n",
    "    # Record the topic index in a format R will like\n",
    "    topic_index = \"X\" + str(idx)\n",
    "    \n",
    "    # Record the topic's key words as a single string\n",
    "    # Split the words with a newline character while we're at it!\n",
    "    topic_words = \" \".join([x.split(\"*\")[1].replace('\"', '').strip() for x in topic.split(\"+\")][0:5])\n",
    "    \n",
    "    # Dump them to the results dataframe\n",
    "    topic_word_dist = topic_word_dist.append({\"topic\":topic_index, \"keywords\":topic_words}, ignore_index=True)"
   ]
  },
  {
   "cell_type": "code",
   "execution_count": 28,
   "metadata": {},
   "outputs": [
    {
     "data": {
      "text/html": [
       "<div>\n",
       "<style scoped>\n",
       "    .dataframe tbody tr th:only-of-type {\n",
       "        vertical-align: middle;\n",
       "    }\n",
       "\n",
       "    .dataframe tbody tr th {\n",
       "        vertical-align: top;\n",
       "    }\n",
       "\n",
       "    .dataframe thead th {\n",
       "        text-align: right;\n",
       "    }\n",
       "</style>\n",
       "<table border=\"1\" class=\"dataframe\">\n",
       "  <thead>\n",
       "    <tr style=\"text-align: right;\">\n",
       "      <th></th>\n",
       "      <th>keywords</th>\n",
       "      <th>topic</th>\n",
       "    </tr>\n",
       "  </thead>\n",
       "  <tbody>\n",
       "    <tr>\n",
       "      <th>0</th>\n",
       "      <td>overrip stalki resini scorch shot</td>\n",
       "      <td>X0</td>\n",
       "    </tr>\n",
       "    <tr>\n",
       "      <th>1</th>\n",
       "      <td>black cherri tannin aroma spice</td>\n",
       "      <td>X1</td>\n",
       "    </tr>\n",
       "    <tr>\n",
       "      <th>2</th>\n",
       "      <td>crisp fruiti acid drink fresh</td>\n",
       "      <td>X2</td>\n",
       "    </tr>\n",
       "    <tr>\n",
       "      <th>3</th>\n",
       "      <td>brighten shiraz stoni flashi smoothli</td>\n",
       "      <td>X3</td>\n",
       "    </tr>\n",
       "    <tr>\n",
       "      <th>4</th>\n",
       "      <td>till bottl petal rose nose</td>\n",
       "      <td>X4</td>\n",
       "    </tr>\n",
       "    <tr>\n",
       "      <th>5</th>\n",
       "      <td>berri finish feel plum herbal</td>\n",
       "      <td>X5</td>\n",
       "    </tr>\n",
       "    <tr>\n",
       "      <th>6</th>\n",
       "      <td>steel stainless mediterranean ferment barnyard</td>\n",
       "      <td>X6</td>\n",
       "    </tr>\n",
       "    <tr>\n",
       "      <th>7</th>\n",
       "      <td>pale dull popular quick stem</td>\n",
       "      <td>X7</td>\n",
       "    </tr>\n",
       "    <tr>\n",
       "      <th>8</th>\n",
       "      <td>age structur wood fruit rich</td>\n",
       "      <td>X8</td>\n",
       "    </tr>\n",
       "    <tr>\n",
       "      <th>9</th>\n",
       "      <td>cherri oak blackberri pinot raspberri</td>\n",
       "      <td>X9</td>\n",
       "    </tr>\n",
       "    <tr>\n",
       "      <th>10</th>\n",
       "      <td>appl peach lemon white citru</td>\n",
       "      <td>X10</td>\n",
       "    </tr>\n",
       "  </tbody>\n",
       "</table>\n",
       "</div>"
      ],
      "text/plain": [
       "                                          keywords topic\n",
       "0                overrip stalki resini scorch shot    X0\n",
       "1                  black cherri tannin aroma spice    X1\n",
       "2                    crisp fruiti acid drink fresh    X2\n",
       "3            brighten shiraz stoni flashi smoothli    X3\n",
       "4                       till bottl petal rose nose    X4\n",
       "5                    berri finish feel plum herbal    X5\n",
       "6   steel stainless mediterranean ferment barnyard    X6\n",
       "7                     pale dull popular quick stem    X7\n",
       "8                     age structur wood fruit rich    X8\n",
       "9            cherri oak blackberri pinot raspberri    X9\n",
       "10                    appl peach lemon white citru   X10"
      ]
     },
     "execution_count": 28,
     "metadata": {},
     "output_type": "execute_result"
    }
   ],
   "source": [
    "topic_word_dist"
   ]
  },
  {
   "cell_type": "code",
   "execution_count": 29,
   "metadata": {},
   "outputs": [],
   "source": [
    "topic_word_dist.to_csv(\"./data/topic_word_dist_5_clean.csv\")"
   ]
  },
  {
   "cell_type": "code",
   "execution_count": 30,
   "metadata": {},
   "outputs": [],
   "source": [
    "doc_topics = [ [x[1] for x in doc] for doc in lda_model_tfidf.get_document_topics(wine_df['corpus_tfidf']) ]"
   ]
  },
  {
   "cell_type": "code",
   "execution_count": 31,
   "metadata": {
    "scrolled": true
   },
   "outputs": [
    {
     "data": {
      "text/plain": [
       "[[0.018764317,\n",
       "  0.018767415,\n",
       "  0.018764308,\n",
       "  0.018764578,\n",
       "  0.35876825,\n",
       "  0.018768791,\n",
       "  0.018763613,\n",
       "  0.018763764,\n",
       "  0.018764157,\n",
       "  0.018766187,\n",
       "  0.47234458],\n",
       " [0.020111002,\n",
       "  0.020111965,\n",
       "  0.02011286,\n",
       "  0.020110928,\n",
       "  0.020110939,\n",
       "  0.020111911,\n",
       "  0.02011102,\n",
       "  0.020110976,\n",
       "  0.6773422,\n",
       "  0.020112142,\n",
       "  0.14165409],\n",
       " [0.019678375,\n",
       "  0.019678835,\n",
       "  0.01968113,\n",
       "  0.019679073,\n",
       "  0.019678336,\n",
       "  0.019681307,\n",
       "  0.5013845,\n",
       "  0.019678688,\n",
       "  0.019682208,\n",
       "  0.019679101,\n",
       "  0.32149848],\n",
       " [0.01716974,\n",
       "  0.017170751,\n",
       "  0.017170459,\n",
       "  0.017169751,\n",
       "  0.017169788,\n",
       "  0.017171057,\n",
       "  0.017169742,\n",
       "  0.017169744,\n",
       "  0.017170856,\n",
       "  0.017170789,\n",
       "  0.8282974],\n",
       " [0.017347466,\n",
       "  0.017348751,\n",
       "  0.017348334,\n",
       "  0.017347991,\n",
       "  0.30797073,\n",
       "  0.22158071,\n",
       "  0.017347408,\n",
       "  0.017351735,\n",
       "  0.017347585,\n",
       "  0.33166203,\n",
       "  0.017347222]]"
      ]
     },
     "execution_count": 31,
     "metadata": {},
     "output_type": "execute_result"
    }
   ],
   "source": [
    "doc_topics[0:5]"
   ]
  },
  {
   "cell_type": "code",
   "execution_count": 32,
   "metadata": {},
   "outputs": [],
   "source": [
    "doc_topic_df = pd.DataFrame(doc_topics)\n",
    "doc_topic_df['title'] = wine_df['title']"
   ]
  },
  {
   "cell_type": "code",
   "execution_count": 33,
   "metadata": {},
   "outputs": [
    {
     "data": {
      "text/html": [
       "<div>\n",
       "<style scoped>\n",
       "    .dataframe tbody tr th:only-of-type {\n",
       "        vertical-align: middle;\n",
       "    }\n",
       "\n",
       "    .dataframe tbody tr th {\n",
       "        vertical-align: top;\n",
       "    }\n",
       "\n",
       "    .dataframe thead th {\n",
       "        text-align: right;\n",
       "    }\n",
       "</style>\n",
       "<table border=\"1\" class=\"dataframe\">\n",
       "  <thead>\n",
       "    <tr style=\"text-align: right;\">\n",
       "      <th></th>\n",
       "      <th>0</th>\n",
       "      <th>1</th>\n",
       "      <th>2</th>\n",
       "      <th>3</th>\n",
       "      <th>4</th>\n",
       "      <th>5</th>\n",
       "      <th>6</th>\n",
       "      <th>7</th>\n",
       "      <th>8</th>\n",
       "      <th>9</th>\n",
       "      <th>10</th>\n",
       "      <th>title</th>\n",
       "    </tr>\n",
       "  </thead>\n",
       "  <tbody>\n",
       "    <tr>\n",
       "      <th>0</th>\n",
       "      <td>0.018764</td>\n",
       "      <td>0.018767</td>\n",
       "      <td>0.018764</td>\n",
       "      <td>0.018765</td>\n",
       "      <td>0.358768</td>\n",
       "      <td>0.018769</td>\n",
       "      <td>0.018764</td>\n",
       "      <td>0.018764</td>\n",
       "      <td>0.018764</td>\n",
       "      <td>0.018766</td>\n",
       "      <td>0.472345</td>\n",
       "      <td>Nicosia 2013 Vulkà Bianco  (Etna)</td>\n",
       "    </tr>\n",
       "    <tr>\n",
       "      <th>1</th>\n",
       "      <td>0.020111</td>\n",
       "      <td>0.020112</td>\n",
       "      <td>0.020113</td>\n",
       "      <td>0.020111</td>\n",
       "      <td>0.020111</td>\n",
       "      <td>0.020112</td>\n",
       "      <td>0.020111</td>\n",
       "      <td>0.020111</td>\n",
       "      <td>0.677342</td>\n",
       "      <td>0.020112</td>\n",
       "      <td>0.141654</td>\n",
       "      <td>Quinta dos Avidagos 2011 Avidagos Red (Douro)</td>\n",
       "    </tr>\n",
       "    <tr>\n",
       "      <th>2</th>\n",
       "      <td>0.019678</td>\n",
       "      <td>0.019679</td>\n",
       "      <td>0.019681</td>\n",
       "      <td>0.019679</td>\n",
       "      <td>0.019678</td>\n",
       "      <td>0.019681</td>\n",
       "      <td>0.501384</td>\n",
       "      <td>0.019679</td>\n",
       "      <td>0.019682</td>\n",
       "      <td>0.019679</td>\n",
       "      <td>0.321498</td>\n",
       "      <td>Rainstorm 2013 Pinot Gris (Willamette Valley)</td>\n",
       "    </tr>\n",
       "    <tr>\n",
       "      <th>3</th>\n",
       "      <td>0.017170</td>\n",
       "      <td>0.017171</td>\n",
       "      <td>0.017170</td>\n",
       "      <td>0.017170</td>\n",
       "      <td>0.017170</td>\n",
       "      <td>0.017171</td>\n",
       "      <td>0.017170</td>\n",
       "      <td>0.017170</td>\n",
       "      <td>0.017171</td>\n",
       "      <td>0.017171</td>\n",
       "      <td>0.828297</td>\n",
       "      <td>St. Julian 2013 Reserve Late Harvest Riesling ...</td>\n",
       "    </tr>\n",
       "    <tr>\n",
       "      <th>4</th>\n",
       "      <td>0.017347</td>\n",
       "      <td>0.017349</td>\n",
       "      <td>0.017348</td>\n",
       "      <td>0.017348</td>\n",
       "      <td>0.307971</td>\n",
       "      <td>0.221581</td>\n",
       "      <td>0.017347</td>\n",
       "      <td>0.017352</td>\n",
       "      <td>0.017348</td>\n",
       "      <td>0.331662</td>\n",
       "      <td>0.017347</td>\n",
       "      <td>Sweet Cheeks 2012 Vintner's Reserve Wild Child...</td>\n",
       "    </tr>\n",
       "  </tbody>\n",
       "</table>\n",
       "</div>"
      ],
      "text/plain": [
       "          0         1         2         3         4         5         6  \\\n",
       "0  0.018764  0.018767  0.018764  0.018765  0.358768  0.018769  0.018764   \n",
       "1  0.020111  0.020112  0.020113  0.020111  0.020111  0.020112  0.020111   \n",
       "2  0.019678  0.019679  0.019681  0.019679  0.019678  0.019681  0.501384   \n",
       "3  0.017170  0.017171  0.017170  0.017170  0.017170  0.017171  0.017170   \n",
       "4  0.017347  0.017349  0.017348  0.017348  0.307971  0.221581  0.017347   \n",
       "\n",
       "          7         8         9        10  \\\n",
       "0  0.018764  0.018764  0.018766  0.472345   \n",
       "1  0.020111  0.677342  0.020112  0.141654   \n",
       "2  0.019679  0.019682  0.019679  0.321498   \n",
       "3  0.017170  0.017171  0.017171  0.828297   \n",
       "4  0.017352  0.017348  0.331662  0.017347   \n",
       "\n",
       "                                               title  \n",
       "0                  Nicosia 2013 Vulkà Bianco  (Etna)  \n",
       "1      Quinta dos Avidagos 2011 Avidagos Red (Douro)  \n",
       "2      Rainstorm 2013 Pinot Gris (Willamette Valley)  \n",
       "3  St. Julian 2013 Reserve Late Harvest Riesling ...  \n",
       "4  Sweet Cheeks 2012 Vintner's Reserve Wild Child...  "
      ]
     },
     "execution_count": 33,
     "metadata": {},
     "output_type": "execute_result"
    }
   ],
   "source": [
    "doc_topic_df.head()"
   ]
  },
  {
   "cell_type": "code",
   "execution_count": 34,
   "metadata": {},
   "outputs": [],
   "source": [
    "results = wine_df.merge(doc_topic_df, on=\"title\")"
   ]
  },
  {
   "cell_type": "code",
   "execution_count": 35,
   "metadata": {},
   "outputs": [
    {
     "data": {
      "text/html": [
       "<div>\n",
       "<style scoped>\n",
       "    .dataframe tbody tr th:only-of-type {\n",
       "        vertical-align: middle;\n",
       "    }\n",
       "\n",
       "    .dataframe tbody tr th {\n",
       "        vertical-align: top;\n",
       "    }\n",
       "\n",
       "    .dataframe thead th {\n",
       "        text-align: right;\n",
       "    }\n",
       "</style>\n",
       "<table border=\"1\" class=\"dataframe\">\n",
       "  <thead>\n",
       "    <tr style=\"text-align: right;\">\n",
       "      <th></th>\n",
       "      <th>description</th>\n",
       "      <th>tokens</th>\n",
       "    </tr>\n",
       "  </thead>\n",
       "  <tbody>\n",
       "    <tr>\n",
       "      <th>0</th>\n",
       "      <td>Aromas include tropical fruit, broom, brimston...</td>\n",
       "      <td>[aroma, includ, tropic, fruit, broom, brimston...</td>\n",
       "    </tr>\n",
       "    <tr>\n",
       "      <th>1</th>\n",
       "      <td>This is ripe and fruity, a wine that is smooth...</td>\n",
       "      <td>[ripe, fruiti, wine, smooth, structur, firm, t...</td>\n",
       "    </tr>\n",
       "    <tr>\n",
       "      <th>2</th>\n",
       "      <td>Tart and snappy, the flavors of lime flesh and...</td>\n",
       "      <td>[tart, snappi, flavor, lime, flesh, rind, domi...</td>\n",
       "    </tr>\n",
       "    <tr>\n",
       "      <th>3</th>\n",
       "      <td>Pineapple rind, lemon pith and orange blossom ...</td>\n",
       "      <td>[pineappl, rind, lemon, pith, orang, blossom, ...</td>\n",
       "    </tr>\n",
       "    <tr>\n",
       "      <th>4</th>\n",
       "      <td>Much like the regular bottling from 2012, this...</td>\n",
       "      <td>[like, regular, bottl, come, rough, tannic, ru...</td>\n",
       "    </tr>\n",
       "  </tbody>\n",
       "</table>\n",
       "</div>"
      ],
      "text/plain": [
       "                                         description  \\\n",
       "0  Aromas include tropical fruit, broom, brimston...   \n",
       "1  This is ripe and fruity, a wine that is smooth...   \n",
       "2  Tart and snappy, the flavors of lime flesh and...   \n",
       "3  Pineapple rind, lemon pith and orange blossom ...   \n",
       "4  Much like the regular bottling from 2012, this...   \n",
       "\n",
       "                                              tokens  \n",
       "0  [aroma, includ, tropic, fruit, broom, brimston...  \n",
       "1  [ripe, fruiti, wine, smooth, structur, firm, t...  \n",
       "2  [tart, snappi, flavor, lime, flesh, rind, domi...  \n",
       "3  [pineappl, rind, lemon, pith, orang, blossom, ...  \n",
       "4  [like, regular, bottl, come, rough, tannic, ru...  "
      ]
     },
     "execution_count": 35,
     "metadata": {},
     "output_type": "execute_result"
    }
   ],
   "source": [
    "results[['description', 'tokens']].head()"
   ]
  },
  {
   "cell_type": "code",
   "execution_count": 36,
   "metadata": {},
   "outputs": [],
   "source": [
    "results.to_csv(\"./data/wine_reviews_with_topic_distributions_clean.csv\", index=False)"
   ]
  },
  {
   "cell_type": "code",
   "execution_count": null,
   "metadata": {},
   "outputs": [],
   "source": []
  }
 ],
 "metadata": {
  "kernelspec": {
   "display_name": "Python 3",
   "language": "python",
   "name": "python3"
  },
  "language_info": {
   "codemirror_mode": {
    "name": "ipython",
    "version": 3
   },
   "file_extension": ".py",
   "mimetype": "text/x-python",
   "name": "python",
   "nbconvert_exporter": "python",
   "pygments_lexer": "ipython3",
   "version": "3.6.7"
  }
 },
 "nbformat": 4,
 "nbformat_minor": 2
}
