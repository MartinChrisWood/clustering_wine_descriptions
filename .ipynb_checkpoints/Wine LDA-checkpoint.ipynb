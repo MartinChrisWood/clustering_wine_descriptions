{
 "cells": [
  {
   "cell_type": "markdown",
   "metadata": {},
   "source": [
    "# Creating an LDA model of wine descriptions,\n",
    "# how many are there \"really\"?\n",
    "\n",
    "Sure, there's 130,000 reviews of wines from around the world expounding their diverse tastes and characters, but how many \"really\" exist?  How many supergroups of wines that are essentially similar can be identified, and what's a representative example of each?  Let's perform a gid search of a large number of LDA models and find that with the best coherence & perplexity scores!  And then we'll visualise the countries of origin and the keywords that most characterise the qualities of these supergroups."
   ]
  },
  {
   "cell_type": "code",
   "execution_count": 51,
   "metadata": {},
   "outputs": [],
   "source": [
    "import gensim\n",
    "import re\n",
    "import random\n",
    "\n",
    "import numpy as np\n",
    "import pandas as pd\n",
    "import seaborn as sns\n",
    "\n",
    "from gensim.models.ldamulticore import LdaModel\n",
    "\n",
    "from gensim.models.coherencemodel import CoherenceModel\n",
    "from gensim.utils import simple_preprocess\n",
    "from nltk.stem import SnowballStemmer\n",
    "from gensim.parsing.preprocessing import STOPWORDS\n",
    "from sklearn.model_selection import train_test_split\n",
    "\n",
    "from nltk.stem.porter import *\n",
    "\n",
    "# Define which stemmer to use in the pipeline later\n",
    "stemmer = PorterStemmer()\n",
    "\n",
    "%matplotlib inline"
   ]
  },
  {
   "cell_type": "code",
   "execution_count": 5,
   "metadata": {},
   "outputs": [],
   "source": [
    "wine_df = pd.read_csv(\"./data/wine-reviews/winemag-data-130k-v2.csv\")\n",
    "wine_df['desc_len'] = wine_df['description'].apply(len)"
   ]
  },
  {
   "cell_type": "markdown",
   "metadata": {},
   "source": [
    "## 1.  Data exploration (I'm not doing much!)"
   ]
  },
  {
   "cell_type": "code",
   "execution_count": 6,
   "metadata": {},
   "outputs": [
    {
     "data": {
      "text/plain": [
       "['Unnamed: 0',\n",
       " 'country',\n",
       " 'description',\n",
       " 'designation',\n",
       " 'points',\n",
       " 'price',\n",
       " 'province',\n",
       " 'region_1',\n",
       " 'region_2',\n",
       " 'taster_name',\n",
       " 'taster_twitter_handle',\n",
       " 'title',\n",
       " 'variety',\n",
       " 'winery',\n",
       " 'desc_len']"
      ]
     },
     "execution_count": 6,
     "metadata": {},
     "output_type": "execute_result"
    }
   ],
   "source": [
    "list(wine_df)"
   ]
  },
  {
   "cell_type": "code",
   "execution_count": 8,
   "metadata": {},
   "outputs": [
    {
     "data": {
      "text/html": [
       "<div>\n",
       "<style scoped>\n",
       "    .dataframe tbody tr th:only-of-type {\n",
       "        vertical-align: middle;\n",
       "    }\n",
       "\n",
       "    .dataframe tbody tr th {\n",
       "        vertical-align: top;\n",
       "    }\n",
       "\n",
       "    .dataframe thead th {\n",
       "        text-align: right;\n",
       "    }\n",
       "</style>\n",
       "<table border=\"1\" class=\"dataframe\">\n",
       "  <thead>\n",
       "    <tr style=\"text-align: right;\">\n",
       "      <th></th>\n",
       "      <th>description</th>\n",
       "      <th>country</th>\n",
       "      <th>taster_name</th>\n",
       "      <th>desc_len</th>\n",
       "    </tr>\n",
       "  </thead>\n",
       "  <tbody>\n",
       "    <tr>\n",
       "      <th>0</th>\n",
       "      <td>Aromas include tropical fruit, broom, brimston...</td>\n",
       "      <td>Italy</td>\n",
       "      <td>Kerin O’Keefe</td>\n",
       "      <td>172</td>\n",
       "    </tr>\n",
       "    <tr>\n",
       "      <th>1</th>\n",
       "      <td>This is ripe and fruity, a wine that is smooth...</td>\n",
       "      <td>Portugal</td>\n",
       "      <td>Roger Voss</td>\n",
       "      <td>227</td>\n",
       "    </tr>\n",
       "    <tr>\n",
       "      <th>2</th>\n",
       "      <td>Tart and snappy, the flavors of lime flesh and...</td>\n",
       "      <td>US</td>\n",
       "      <td>Paul Gregutt</td>\n",
       "      <td>186</td>\n",
       "    </tr>\n",
       "    <tr>\n",
       "      <th>3</th>\n",
       "      <td>Pineapple rind, lemon pith and orange blossom ...</td>\n",
       "      <td>US</td>\n",
       "      <td>Alexander Peartree</td>\n",
       "      <td>199</td>\n",
       "    </tr>\n",
       "    <tr>\n",
       "      <th>4</th>\n",
       "      <td>Much like the regular bottling from 2012, this...</td>\n",
       "      <td>US</td>\n",
       "      <td>Paul Gregutt</td>\n",
       "      <td>249</td>\n",
       "    </tr>\n",
       "  </tbody>\n",
       "</table>\n",
       "</div>"
      ],
      "text/plain": [
       "                                         description   country  \\\n",
       "0  Aromas include tropical fruit, broom, brimston...     Italy   \n",
       "1  This is ripe and fruity, a wine that is smooth...  Portugal   \n",
       "2  Tart and snappy, the flavors of lime flesh and...        US   \n",
       "3  Pineapple rind, lemon pith and orange blossom ...        US   \n",
       "4  Much like the regular bottling from 2012, this...        US   \n",
       "\n",
       "          taster_name  desc_len  \n",
       "0       Kerin O’Keefe       172  \n",
       "1          Roger Voss       227  \n",
       "2        Paul Gregutt       186  \n",
       "3  Alexander Peartree       199  \n",
       "4        Paul Gregutt       249  "
      ]
     },
     "execution_count": 8,
     "metadata": {},
     "output_type": "execute_result"
    }
   ],
   "source": [
    "wine_df[[\"description\", \"country\", \"taster_name\", \"desc_len\"]].head()"
   ]
  },
  {
   "cell_type": "markdown",
   "metadata": {},
   "source": [
    "# 2.  Data Preparation"
   ]
  },
  {
   "cell_type": "code",
   "execution_count": 10,
   "metadata": {},
   "outputs": [],
   "source": [
    "# A quick utility function to pre-process the text\n",
    "def preprocess_desc(description):\n",
    "    return( [stemmer.stem(token) for token in simple_preprocess(str(description)) if token not in STOPWORDS] )"
   ]
  },
  {
   "cell_type": "code",
   "execution_count": 11,
   "metadata": {},
   "outputs": [],
   "source": [
    "# NB;  This step could be improved through first filtering to words that are pronouns.\n",
    "wine_df['tokens'] = wine_df['description'].apply(preprocess_desc)"
   ]
  },
  {
   "cell_type": "code",
   "execution_count": 12,
   "metadata": {},
   "outputs": [
    {
     "data": {
      "text/html": [
       "<div>\n",
       "<style scoped>\n",
       "    .dataframe tbody tr th:only-of-type {\n",
       "        vertical-align: middle;\n",
       "    }\n",
       "\n",
       "    .dataframe tbody tr th {\n",
       "        vertical-align: top;\n",
       "    }\n",
       "\n",
       "    .dataframe thead th {\n",
       "        text-align: right;\n",
       "    }\n",
       "</style>\n",
       "<table border=\"1\" class=\"dataframe\">\n",
       "  <thead>\n",
       "    <tr style=\"text-align: right;\">\n",
       "      <th></th>\n",
       "      <th>description</th>\n",
       "      <th>country</th>\n",
       "      <th>taster_name</th>\n",
       "      <th>desc_len</th>\n",
       "      <th>tokens</th>\n",
       "    </tr>\n",
       "  </thead>\n",
       "  <tbody>\n",
       "    <tr>\n",
       "      <th>0</th>\n",
       "      <td>Aromas include tropical fruit, broom, brimston...</td>\n",
       "      <td>Italy</td>\n",
       "      <td>Kerin O’Keefe</td>\n",
       "      <td>172</td>\n",
       "      <td>[aroma, includ, tropic, fruit, broom, brimston...</td>\n",
       "    </tr>\n",
       "    <tr>\n",
       "      <th>1</th>\n",
       "      <td>This is ripe and fruity, a wine that is smooth...</td>\n",
       "      <td>Portugal</td>\n",
       "      <td>Roger Voss</td>\n",
       "      <td>227</td>\n",
       "      <td>[ripe, fruiti, wine, smooth, structur, firm, t...</td>\n",
       "    </tr>\n",
       "    <tr>\n",
       "      <th>2</th>\n",
       "      <td>Tart and snappy, the flavors of lime flesh and...</td>\n",
       "      <td>US</td>\n",
       "      <td>Paul Gregutt</td>\n",
       "      <td>186</td>\n",
       "      <td>[tart, snappi, flavor, lime, flesh, rind, domi...</td>\n",
       "    </tr>\n",
       "    <tr>\n",
       "      <th>3</th>\n",
       "      <td>Pineapple rind, lemon pith and orange blossom ...</td>\n",
       "      <td>US</td>\n",
       "      <td>Alexander Peartree</td>\n",
       "      <td>199</td>\n",
       "      <td>[pineappl, rind, lemon, pith, orang, blossom, ...</td>\n",
       "    </tr>\n",
       "    <tr>\n",
       "      <th>4</th>\n",
       "      <td>Much like the regular bottling from 2012, this...</td>\n",
       "      <td>US</td>\n",
       "      <td>Paul Gregutt</td>\n",
       "      <td>249</td>\n",
       "      <td>[like, regular, bottl, come, rough, tannic, ru...</td>\n",
       "    </tr>\n",
       "  </tbody>\n",
       "</table>\n",
       "</div>"
      ],
      "text/plain": [
       "                                         description   country  \\\n",
       "0  Aromas include tropical fruit, broom, brimston...     Italy   \n",
       "1  This is ripe and fruity, a wine that is smooth...  Portugal   \n",
       "2  Tart and snappy, the flavors of lime flesh and...        US   \n",
       "3  Pineapple rind, lemon pith and orange blossom ...        US   \n",
       "4  Much like the regular bottling from 2012, this...        US   \n",
       "\n",
       "          taster_name  desc_len  \\\n",
       "0       Kerin O’Keefe       172   \n",
       "1          Roger Voss       227   \n",
       "2        Paul Gregutt       186   \n",
       "3  Alexander Peartree       199   \n",
       "4        Paul Gregutt       249   \n",
       "\n",
       "                                              tokens  \n",
       "0  [aroma, includ, tropic, fruit, broom, brimston...  \n",
       "1  [ripe, fruiti, wine, smooth, structur, firm, t...  \n",
       "2  [tart, snappi, flavor, lime, flesh, rind, domi...  \n",
       "3  [pineappl, rind, lemon, pith, orang, blossom, ...  \n",
       "4  [like, regular, bottl, come, rough, tannic, ru...  "
      ]
     },
     "execution_count": 12,
     "metadata": {},
     "output_type": "execute_result"
    }
   ],
   "source": [
    "wine_df[[\"description\", \"country\", \"taster_name\", \"desc_len\", \"tokens\"]].head()"
   ]
  },
  {
   "cell_type": "markdown",
   "metadata": {},
   "source": [
    "## 3. Create TF-IDF representation"
   ]
  },
  {
   "cell_type": "code",
   "execution_count": 13,
   "metadata": {},
   "outputs": [],
   "source": [
    "# Create the vocabulary record\n",
    "dictionary = gensim.corpora.Dictionary(wine_df['tokens'])"
   ]
  },
  {
   "cell_type": "code",
   "execution_count": 14,
   "metadata": {},
   "outputs": [],
   "source": [
    "# Remove extreme values (words that are too rare, too common)\n",
    "dictionary.filter_extremes(no_below=5, no_above=0.5, keep_n=100000)"
   ]
  },
  {
   "cell_type": "code",
   "execution_count": 15,
   "metadata": {},
   "outputs": [],
   "source": [
    "# Create a BOW model\n",
    "bow_corpus = [dictionary.doc2bow(doc) for doc in wine_df['tokens']]"
   ]
  },
  {
   "cell_type": "code",
   "execution_count": 16,
   "metadata": {},
   "outputs": [],
   "source": [
    "# From that create the TF-IDF model\n",
    "tfidf = gensim.models.TfidfModel(bow_corpus)\n",
    "wine_df['corpus_tfidf'] = tfidf[bow_corpus]"
   ]
  },
  {
   "cell_type": "code",
   "execution_count": 17,
   "metadata": {},
   "outputs": [
    {
     "data": {
      "text/plain": [
       "0    [(0, 0.07160155708244689), (1, 0.1877195732633...\n",
       "1    [(0, 0.09083746481579533), (10, 0.063390218940...\n",
       "2    [(0, 0.07030752616398264), (33, 0.131602894540...\n",
       "3    [(3, 0.06051027977427229), (16, 0.064085312284...\n",
       "4    [(65, 0.129161659467362), (66, 0.2234435211947...\n",
       "Name: corpus_tfidf, dtype: object"
      ]
     },
     "execution_count": 17,
     "metadata": {},
     "output_type": "execute_result"
    }
   ],
   "source": [
    "wine_df['corpus_tfidf'].head()"
   ]
  },
  {
   "cell_type": "markdown",
   "metadata": {},
   "source": [
    "## 4.  Create LDA models (try a few!)\n",
    "I'm meant to test these on holdout datasets but I'm skipping that because this is a play model about wine.  I have better things to do!"
   ]
  },
  {
   "cell_type": "code",
   "execution_count": 52,
   "metadata": {},
   "outputs": [],
   "source": [
    "random.seed(7)\n",
    "trainset, testset = train_test_split(wine_df, test_size=0.15)"
   ]
  },
  {
   "cell_type": "code",
   "execution_count": 53,
   "metadata": {
    "scrolled": true
   },
   "outputs": [
    {
     "name": "stdout",
     "output_type": "stream",
     "text": [
      "tried 3 topics perplexity = -8.134159893306359 coherence = -2.0683865045577012\n",
      "tried 4 topics perplexity = -8.269554133873681 coherence = -2.0932255052976028\n",
      "tried 5 topics perplexity = -8.45754303160014 coherence = -2.146341883234046\n",
      "tried 6 topics perplexity = -8.621868042818727 coherence = -4.049721776884863\n",
      "tried 7 topics perplexity = -8.781977439839023 coherence = -2.1398669581777616\n",
      "tried 8 topics perplexity = -8.856188891809948 coherence = -7.743528954791789\n",
      "tried 9 topics perplexity = -9.016759790814767 coherence = -4.8888176384461985\n",
      "tried 10 topics perplexity = -9.17627224938949 coherence = -5.360438528111849\n",
      "tried 11 topics perplexity = -9.425007163344729 coherence = -5.035231079839597\n",
      "tried 12 topics perplexity = -9.725160330246982 coherence = -5.249061359865915\n",
      "tried 13 topics perplexity = -9.909611391295044 coherence = -10.670886791988334\n",
      "tried 14 topics perplexity = -10.102366778649392 coherence = -8.172530204728018\n",
      "tried 15 topics perplexity = -10.289885560148866 coherence = -7.208644765748473\n",
      "tried 16 topics perplexity = -10.407066241441182 coherence = -6.517426771919325\n",
      "tried 17 topics perplexity = -10.528655126902397 coherence = -7.411807650482453\n",
      "tried 18 topics perplexity = -10.649823036066884 coherence = -7.460578628021338\n",
      "tried 19 topics perplexity = -10.768096164740713 coherence = -8.95469960672008\n",
      "tried 20 topics perplexity = -10.90467098274927 coherence = -8.355104164885763\n",
      "tried 21 topics perplexity = -11.04004770270036 coherence = -8.490455057445276\n",
      "tried 22 topics perplexity = -11.14814725362634 coherence = -8.028826684745693\n",
      "tried 23 topics perplexity = -11.298303610366602 coherence = -8.18408191993139\n",
      "tried 24 topics perplexity = -11.389366547246532 coherence = -8.120578567626154\n",
      "tried 25 topics perplexity = -11.562511069829345 coherence = -8.034564989627679\n",
      "tried 26 topics perplexity = -11.67479371815767 coherence = -8.161491855675136\n",
      "tried 27 topics perplexity = -11.786690376420832 coherence = -9.403454263097178\n",
      "tried 28 topics perplexity = -11.866146972032174 coherence = -10.42575740844353\n",
      "tried 29 topics perplexity = -12.05207784904945 coherence = -8.538831304319258\n",
      "tried 30 topics perplexity = -12.125079864927088 coherence = -9.542633376323415\n",
      "tried 31 topics perplexity = -12.259949901827897 coherence = -9.686535573605623\n",
      "tried 32 topics perplexity = -12.384585684368805 coherence = -8.79367427713574\n",
      "tried 33 topics perplexity = -12.475166020977937 coherence = -9.673149716717809\n",
      "tried 34 topics perplexity = -12.60026314376418 coherence = -9.595798557373271\n",
      "tried 35 topics perplexity = -12.7408444153689 coherence = -10.769587973821869\n",
      "tried 36 topics perplexity = -12.806930897539642 coherence = -10.12652627047381\n",
      "tried 37 topics perplexity = -12.972536107303299 coherence = -9.840445091466927\n",
      "tried 38 topics perplexity = -13.0857982465871 coherence = -9.942040481167378\n",
      "tried 39 topics perplexity = -13.205889505901775 coherence = -10.377952869089594\n",
      "tried 40 topics perplexity = -13.308973562002373 coherence = -11.46249650227097\n",
      "tried 41 topics perplexity = -13.404838038979184 coherence = -10.298410718399202\n",
      "tried 42 topics perplexity = -13.60272330775742 coherence = -10.018630441805731\n",
      "tried 43 topics perplexity = -13.71541968926856 coherence = -10.076464129689219\n",
      "tried 44 topics perplexity = -13.813821926323184 coherence = -10.720150274532257\n",
      "tried 45 topics perplexity = -13.948540504282281 coherence = -11.762558946456368\n",
      "tried 46 topics perplexity = -14.120776646706483 coherence = -10.604349940293995\n",
      "tried 47 topics perplexity = -14.242878139379055 coherence = -11.175640033173908\n",
      "tried 48 topics perplexity = -14.45325691866399 coherence = -10.659799606890582\n",
      "tried 49 topics perplexity = -14.582484325455264 coherence = -11.076103997961397\n",
      "tried 50 topics perplexity = -14.801321444907364 coherence = -10.706020946445514\n"
     ]
    }
   ],
   "source": [
    "# Loop through a number of different topic model sizes\n",
    "\n",
    "results = pd.DataFrame()\n",
    "\n",
    "for num_topics in range(3, 51):\n",
    "\n",
    "    # Fit the lda model, with 10 topics\n",
    "    lda_model_tfidf = LdaModel(trainset['corpus_tfidf'],\n",
    "                               num_topics=num_topics,\n",
    "                               id2word=dictionary,\n",
    "                               passes=2)\n",
    "    \n",
    "    # Get the perplexity\n",
    "    perplexity = lda_model_tfidf.log_perplexity(testset['corpus_tfidf'])\n",
    "    \n",
    "    # Get the coherence\n",
    "    cm = CoherenceModel(model=lda_model_tfidf, corpus=testset['corpus_tfidf'], coherence='u_mass')\n",
    "    coherence = cm.get_coherence()\n",
    "    \n",
    "    # record\n",
    "    results = results.append({\"topics\":num_topics, \"perplexity\":perplexity, \"coherence\":coherence}, ignore_index=True)\n",
    "    \n",
    "    # Report for my convenience\n",
    "    print(\"tried {} topics\".format(num_topics), \"perplexity = {}\".format(perplexity), \"coherence = {}\".format(coherence))\n",
    "\n",
    "results.to_csv(\"tested_lda_stats.csv\")    "
   ]
  },
  {
   "cell_type": "code",
   "execution_count": 54,
   "metadata": {
    "scrolled": true
   },
   "outputs": [
    {
     "data": {
      "text/plain": [
       "<matplotlib.axes._subplots.AxesSubplot at 0x7ff80be65c88>"
      ]
     },
     "execution_count": 54,
     "metadata": {},
     "output_type": "execute_result"
    },
    {
     "data": {
      "image/png": "[encoded data removed]",
      "text/plain": [
       "<Figure size 432x288 with 1 Axes>"
      ]
     },
     "metadata": {},
     "output_type": "display_data"
    }
   ],
   "source": [
    "# plot the results\n",
    "sns.scatterplot(x=\"topics\", y=\"perplexity\", color=\"blue\", data=results)"
   ]
  },
  {
   "cell_type": "code",
   "execution_count": 55,
   "metadata": {},
   "outputs": [
    {
     "data": {
      "text/plain": [
       "<matplotlib.axes._subplots.AxesSubplot at 0x7ff820cc1668>"
      ]
     },
     "execution_count": 55,
     "metadata": {},
     "output_type": "execute_result"
    },
    {
     "data": {
      "image/png": "[encoded data removed]",
      "text/plain": [
       "<Figure size 432x288 with 1 Axes>"
      ]
     },
     "metadata": {},
     "output_type": "display_data"
    }
   ],
   "source": [
    "# plot the results\n",
    "sns.scatterplot(x=\"topics\", y=\"coherence\", color=\"red\", data=results)"
   ]
  },
  {
   "cell_type": "markdown",
   "metadata": {},
   "source": [
    "## 5. A quick look at the stats and build of the best-performing model"
   ]
  },
  {
   "cell_type": "code",
   "execution_count": 19,
   "metadata": {},
   "outputs": [
    {
     "name": "stdout",
     "output_type": "stream",
     "text": [
      "Topic: 0 Word: 0.013*\"cabernet\" + 0.008*\"oak\" + 0.008*\"blackberri\" + 0.008*\"cherri\" + 0.007*\"blend\" + 0.007*\"merlot\" + 0.007*\"petit\" + 0.007*\"sauvignon\" + 0.006*\"currant\" + 0.006*\"syrah\"\n",
      "Topic: 1 Word: 0.007*\"cherri\" + 0.007*\"pinot\" + 0.007*\"vineyard\" + 0.006*\"oak\" + 0.006*\"fruit\" + 0.005*\"bodi\" + 0.005*\"tannin\" + 0.005*\"black\" + 0.005*\"noir\" + 0.005*\"raspberri\"\n",
      "Topic: 2 Word: 0.015*\"age\" + 0.015*\"drink\" + 0.015*\"fruiti\" + 0.014*\"acid\" + 0.014*\"ripe\" + 0.013*\"fruit\" + 0.013*\"rich\" + 0.012*\"charact\" + 0.012*\"structur\" + 0.012*\"wood\"\n",
      "Topic: 3 Word: 0.009*\"pair\" + 0.007*\"bright\" + 0.006*\"color\" + 0.006*\"aroma\" + 0.006*\"spice\" + 0.006*\"tone\" + 0.006*\"mouthfeel\" + 0.005*\"almond\" + 0.005*\"express\" + 0.005*\"offer\"\n",
      "Topic: 4 Word: 0.011*\"nose\" + 0.008*\"black\" + 0.008*\"bottl\" + 0.007*\"palat\" + 0.006*\"cherri\" + 0.005*\"cranberri\" + 0.005*\"plum\" + 0.005*\"aroma\" + 0.005*\"blueberri\" + 0.005*\"pepper\"\n",
      "Topic: 5 Word: 0.005*\"cocktail\" + 0.005*\"santa\" + 0.005*\"chill\" + 0.004*\"meloni\" + 0.004*\"du\" + 0.004*\"vital\" + 0.004*\"picnic\" + 0.004*\"bodi\" + 0.004*\"seemingli\" + 0.004*\"peachi\"\n",
      "Topic: 6 Word: 0.012*\"appl\" + 0.011*\"lemon\" + 0.010*\"peach\" + 0.010*\"pear\" + 0.009*\"white\" + 0.009*\"citru\" + 0.008*\"lime\" + 0.008*\"fresh\" + 0.008*\"palat\" + 0.007*\"acid\"\n",
      "Topic: 7 Word: 0.012*\"finish\" + 0.011*\"feel\" + 0.011*\"berri\" + 0.010*\"aroma\" + 0.010*\"plum\" + 0.009*\"herbal\" + 0.007*\"tast\" + 0.007*\"palat\" + 0.006*\"oak\" + 0.006*\"note\"\n",
      "Topic: 8 Word: 0.014*\"black\" + 0.013*\"cherri\" + 0.013*\"tannin\" + 0.011*\"alongsid\" + 0.011*\"palat\" + 0.011*\"aroma\" + 0.009*\"offer\" + 0.009*\"berri\" + 0.009*\"spice\" + 0.009*\"pepper\"\n",
      "Topic: 9 Word: 0.006*\"grape\" + 0.005*\"port\" + 0.005*\"gentli\" + 0.005*\"jelli\" + 0.005*\"region\" + 0.005*\"produc\" + 0.005*\"premier\" + 0.005*\"verd\" + 0.005*\"vineyard\" + 0.004*\"vinho\"\n"
     ]
    }
   ],
   "source": [
    "# Let's take a quick look at the topics picked out\n",
    "for idx, topic in lda_model_tfidf.print_topics(-1):\n",
    "    print('Topic: {} Word: {}'.format(idx, topic))"
   ]
  },
  {
   "cell_type": "code",
   "execution_count": 23,
   "metadata": {},
   "outputs": [
    {
     "data": {
      "text/plain": [
       "-8.291350896629307"
      ]
     },
     "execution_count": 23,
     "metadata": {},
     "output_type": "execute_result"
    }
   ],
   "source": [
    "# Evaluate models\n"
   ]
  },
  {
   "cell_type": "code",
   "execution_count": 28,
   "metadata": {},
   "outputs": [
    {
     "data": {
      "text/plain": [
       "-3.7223832392930283"
      ]
     },
     "execution_count": 28,
     "metadata": {},
     "output_type": "execute_result"
    }
   ],
   "source": [
    "cm = CoherenceModel(model=lda_model_tfidf, corpus=wine_df['corpus_tfidf'], coherence='u_mass')\n",
    "cm.get_coherence()"
   ]
  },
  {
   "cell_type": "code",
   "execution_count": null,
   "metadata": {},
   "outputs": [],
   "source": []
  }
 ],
 "metadata": {
  "kernelspec": {
   "display_name": "Python 3",
   "language": "python",
   "name": "python3"
  },
  "language_info": {
   "codemirror_mode": {
    "name": "ipython",
    "version": 3
   },
   "file_extension": ".py",
   "mimetype": "text/x-python",
   "name": "python",
   "nbconvert_exporter": "python",
   "pygments_lexer": "ipython3",
   "version": "3.6.7"
  }
 },
 "nbformat": 4,
 "nbformat_minor": 2
}
